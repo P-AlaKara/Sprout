{
 "cells": [
  {
   "cell_type": "code",
   "execution_count": 2,
   "id": "f30d526c-4a01-4b2f-8762-08f83ba9a303",
   "metadata": {},
   "outputs": [],
   "source": [
    "import pandas as pd"
   ]
  },
  {
   "cell_type": "code",
   "execution_count": 6,
   "id": "ef4c4b9e-589a-4f34-8282-340c1354ffba",
   "metadata": {},
   "outputs": [
    {
     "data": {
      "text/plain": [
       "Index(['saleID', 'date', 'time', 'customerID', 'county', 'category',\n",
       "       'sub_category', 'price', 'payment_method', 'quantity'],\n",
       "      dtype='object')"
      ]
     },
     "execution_count": 6,
     "metadata": {},
     "output_type": "execute_result"
    }
   ],
   "source": [
    "df_sales = pd.read_csv('../modified_sales.csv')\n",
    "df_sales.drop(columns=['staff_no', 'staff_name', 'customer_name', 'age', 'segment', \n",
    "               'product_name', 'stock', 'profit', 'discount', 'productID'], inplace=True)\n",
    "df_sales.columns"
   ]
  },
  {
   "cell_type": "code",
   "execution_count": 8,
   "id": "188acfb1-0454-463e-a531-37fb6853ec02",
   "metadata": {},
   "outputs": [
    {
     "data": {
      "text/plain": [
       "Index(['productID', 'category', 'sub_category'], dtype='object')"
      ]
     },
     "execution_count": 8,
     "metadata": {},
     "output_type": "execute_result"
    }
   ],
   "source": [
    "df_products = pd.read_csv('../modified_sales.csv')\n",
    "df_products.drop(columns=['staff_no', 'staff_name', 'customer_name', 'age', 'segment',\n",
    "                  'stock', 'profit', 'product_name', 'discount','saleID','date', 'time', 'customerID', 'county',\n",
    "                  'price', 'payment_method', 'quantity'], inplace=True)\n",
    "df_products.columns"
   ]
  },
  {
   "cell_type": "raw",
   "id": "15cf4b4a-a3d0-46dd-b4ae-766321431fa6",
   "metadata": {},
   "source": [
    "import dash\n",
    "from dash import dcc, html, Input, Output\n",
    "import dash_ag_grid as dag\n",
    "import pandas as pd\n",
    "\n",
    "# Sample data\n",
    "sales_data = pd.DataFrame({\n",
    "    'Sale ID': [1, 2, 3],\n",
    "    'Amount': [100, 200, 150]\n",
    "})\n",
    "\n",
    "products_data = pd.DataFrame({\n",
    "    'Product ID': [1, 2, 3],\n",
    "    'Product Name': ['Product A', 'Product B', 'Product C']\n",
    "})\n",
    "\n",
    "customers_data = pd.DataFrame({\n",
    "    'Customer ID': [1, 2, 3],\n",
    "    'Customer Name': ['Customer A', 'Customer B', 'Customer C']\n",
    "})\n",
    "\n",
    "app = dash.Dash(__name__)\n",
    "\n",
    "app.layout = html.Div([\n",
    "    dcc.Tabs(id='tabs-example', value='tab-1', children=[\n",
    "        dcc.Tab(label='Sales', value='tab-1'),\n",
    "        dcc.Tab(label='Products', value='tab-2'),\n",
    "        dcc.Tab(label='Customers', value='tab-3'),\n",
    "    ]),\n",
    "    html.Div(id='tabs-content-example')\n",
    "])\n",
    "\n",
    "@app.callback(Output('tabs-content-example', 'children'),\n",
    "              Input('tabs-example', 'value'))\n",
    "def render_content(tab):\n",
    "    if tab == 'tab-1':\n",
    "        return dag.AgGrid(\n",
    "            id='sales-grid',\n",
    "            columnDefs=[{\"headerName\": i, \"field\": i} for i in sales_data.columns],\n",
    "            rowData=sales_data.to_dict('records'),\n",
    "        )\n",
    "    elif tab == 'tab-2':\n",
    "        return dag.AgGrid(\n",
    "            id='products-grid',\n",
    "            columnDefs=[{\"headerName\": i, \"field\": i} for i in products_data.columns],\n",
    "            rowData=products_data.to_dict('records'),\n",
    "        )\n",
    "    elif tab == 'tab-3':\n",
    "        return dag.AgGrid(\n",
    "            id='customers-grid',\n",
    "            columnDefs=[{\"headerName\": i, \"field\": i} for i in customers_data.columns],\n",
    "            rowData=customers_data.to_dict('records'),\n",
    "        )\n",
    "\n",
    "if __name__ == '__main__':\n",
    "    app.run_server(debug=True)\n"
   ]
  },
  {
   "cell_type": "markdown",
   "id": "58cb1de5-24c5-4dfd-b3a3-41a2276e352d",
   "metadata": {},
   "source": [
    "target = pd.read_csv('../sales_goals.csv')\n"
   ]
  },
  {
   "cell_type": "raw",
   "id": "c8871b2e-8986-43bb-b19b-93d65a498e4c",
   "metadata": {},
   "source": []
  },
  {
   "cell_type": "code",
   "execution_count": 2,
   "id": "c127fc37-eaca-4928-98b0-9c69ca74a1cb",
   "metadata": {},
   "outputs": [
    {
     "ename": "NameError",
     "evalue": "name 'go' is not defined",
     "output_type": "error",
     "traceback": [
      "\u001b[1;31m---------------------------------------------------------------------------\u001b[0m",
      "\u001b[1;31mNameError\u001b[0m                                 Traceback (most recent call last)",
      "Cell \u001b[1;32mIn[2], line 8\u001b[0m\n\u001b[0;32m      6\u001b[0m \u001b[38;5;66;03m#cust_vol_nairobi = grouped_cust.groupby('segment').get_group('Corporate')\u001b[39;00m\n\u001b[0;32m      7\u001b[0m fig \u001b[38;5;241m=\u001b[39m px\u001b[38;5;241m.\u001b[39mline(grouped_customers, x\u001b[38;5;241m=\u001b[39m\u001b[38;5;124m'\u001b[39m\u001b[38;5;124mDate Joined\u001b[39m\u001b[38;5;124m'\u001b[39m, y\u001b[38;5;241m=\u001b[39m\u001b[38;5;124m'\u001b[39m\u001b[38;5;124mvalue\u001b[39m\u001b[38;5;124m'\u001b[39m, line_shape\u001b[38;5;241m=\u001b[39m\u001b[38;5;124m'\u001b[39m\u001b[38;5;124mspline\u001b[39m\u001b[38;5;124m'\u001b[39m, title\u001b[38;5;241m=\u001b[39m\u001b[38;5;124m'\u001b[39m\u001b[38;5;124mNumber of Customers Acquired by Date\u001b[39m\u001b[38;5;124m'\u001b[39m)\n\u001b[1;32m----> 8\u001b[0m fig\u001b[38;5;241m.\u001b[39madd_trace(\u001b[43mgo\u001b[49m\u001b[38;5;241m.\u001b[39mScatter(\n\u001b[0;32m      9\u001b[0m     x\u001b[38;5;241m=\u001b[39mfig\u001b[38;5;241m.\u001b[39mdata[\u001b[38;5;241m0\u001b[39m]\u001b[38;5;241m.\u001b[39mx,  \u001b[38;5;66;03m# Use the same x-values as the original line\u001b[39;00m\n\u001b[0;32m     10\u001b[0m     y\u001b[38;5;241m=\u001b[39m[\u001b[38;5;241m100\u001b[39m] \u001b[38;5;241m*\u001b[39m \u001b[38;5;28mlen\u001b[39m(fig\u001b[38;5;241m.\u001b[39mdata[\u001b[38;5;241m0\u001b[39m]\u001b[38;5;241m.\u001b[39mx),  \u001b[38;5;66;03m# Create a list of target values\u001b[39;00m\n\u001b[0;32m     11\u001b[0m     mode\u001b[38;5;241m=\u001b[39m\u001b[38;5;124m'\u001b[39m\u001b[38;5;124mlines\u001b[39m\u001b[38;5;124m'\u001b[39m,\n\u001b[0;32m     12\u001b[0m     line\u001b[38;5;241m=\u001b[39m\u001b[38;5;28mdict\u001b[39m(color\u001b[38;5;241m=\u001b[39m\u001b[38;5;124m'\u001b[39m\u001b[38;5;124mred\u001b[39m\u001b[38;5;124m'\u001b[39m, dash\u001b[38;5;241m=\u001b[39m\u001b[38;5;124m'\u001b[39m\u001b[38;5;124mdash\u001b[39m\u001b[38;5;124m'\u001b[39m),  \u001b[38;5;66;03m# Set the line style\u001b[39;00m\n\u001b[0;32m     13\u001b[0m     name\u001b[38;5;241m=\u001b[39m\u001b[38;5;124m'\u001b[39m\u001b[38;5;124mTarget\u001b[39m\u001b[38;5;124m'\u001b[39m  \u001b[38;5;66;03m# Set the legend name\u001b[39;00m\n\u001b[0;32m     14\u001b[0m ))\n\u001b[0;32m     15\u001b[0m fig\u001b[38;5;241m.\u001b[39mshow()\n",
      "\u001b[1;31mNameError\u001b[0m: name 'go' is not defined"
     ]
    }
   ],
   "source": [
    "import plotly.express as px\n",
    "df_cust = pd.read_csv('../customers.csv')\n",
    "df_cust['Date Joined'] = pd.to_datetime(df_cust['Date Joined'], dayfirst=True)\n",
    "grouped_cust = df_cust.groupby(['segment','Date Joined']).agg(value=('customer_ID','count')).reset_index()\n",
    "grouped_customers = grouped_cust.groupby(pd.Grouper(key='Date Joined', freq='2QE'))['value'].sum().reset_index()\n",
    "#cust_vol_nairobi = grouped_cust.groupby('segment').get_group('Corporate')\n",
    "fig = px.line(grouped_customers, x='Date Joined', y='value', line_shape='spline', title='Number of Customers Acquired by Date')\n",
    "fig.add_trace(go.Scatter(\n",
    "    x=fig.data[0].x,  # Use the same x-values as the original line\n",
    "    y=[100] * len(fig.data[0].x),  # Create a list of target values\n",
    "    mode='lines',\n",
    "    line=dict(color='red', dash='dash'),  # Set the line style\n",
    "    name='Target'  # Set the legend name\n",
    "))\n",
    "fig.show()"
   ]
  },
  {
   "cell_type": "code",
   "execution_count": 3,
   "id": "9bcaace1-dbaf-482a-af2c-257daced2bee",
   "metadata": {},
   "outputs": [
    {
     "data": {
      "text/html": [
       "\n",
       "        <iframe\n",
       "            width=\"100%\"\n",
       "            height=\"650\"\n",
       "            src=\"http://127.0.0.1:8050/\"\n",
       "            frameborder=\"0\"\n",
       "            allowfullscreen\n",
       "            \n",
       "        ></iframe>\n",
       "        "
      ],
      "text/plain": [
       "<IPython.lib.display.IFrame at 0x19aa3d57510>"
      ]
     },
     "metadata": {},
     "output_type": "display_data"
    }
   ],
   "source": [
    "import dash\n",
    "from dash import dcc, html, Input, Output\n",
    "import dash_ag_grid as dag\n",
    "import pandas as pd\n",
    "\n",
    "# Sample data\n",
    "sales_data = pd.DataFrame({\n",
    "    'Sale ID': [1, 2, 3],\n",
    "    'Amount': [100, 200, 150]\n",
    "})\n",
    "\n",
    "products_data = pd.DataFrame({\n",
    "    'Product ID': [1, 2, 3],\n",
    "    'Product Name': ['Product A', 'Product B', 'Product C']\n",
    "})\n",
    "\n",
    "customers_data = pd.DataFrame({\n",
    "    'Customer ID': [1, 2, 3],\n",
    "    'Customer Name': ['Customer A', 'Customer B', 'Customer C']\n",
    "})\n",
    "\n",
    "app = dash.Dash(__name__)\n",
    "\n",
    "app.layout = \n",
    "html.Div([\n",
    "    dcc.Tabs(id='tabs-example', value='tab-1', children=[\n",
    "        dcc.Tab(label='Sales', value='tab-1'),\n",
    "        dcc.Tab(label='Products', value='tab-2'),\n",
    "        dcc.Tab(label='Customers', value='tab-3'),\n",
    "    ]),\n",
    "    html.Div(id='tabs-content-example')\n",
    "])\n",
    "\n",
    "@app.callback(Output('tabs-content-example', 'children'),\n",
    "              Input('tabs-example', 'value'))\n",
    "def render_content(tab):\n",
    "    if tab == 'tab-1':\n",
    "        return dag.AgGrid(\n",
    "            id='sales-grid',\n",
    "            columnDefs=[{\"headerName\": i, \"field\": i} for i in sales_data.columns],\n",
    "            rowData=sales_data.to_dict('records'),\n",
    "        )\n",
    "    elif tab == 'tab-2':\n",
    "        return dag.AgGrid(\n",
    "            id='products-grid',\n",
    "            columnDefs=[{\"headerName\": i, \"field\": i} for i in products_data.columns],\n",
    "            rowData=products_data.to_dict('records'),\n",
    "        )\n",
    "    elif tab == 'tab-3':\n",
    "        return dag.AgGrid(\n",
    "            id='customers-grid',\n",
    "            columnDefs=[{\"headerName\": i, \"field\": i} for i in customers_data.columns],\n",
    "            rowData=customers_data.to_dict('records'),\n",
    "        )\n",
    "\n",
    "if __name__ == '__main__':\n",
    "    app.run_server(debug=True)\n"
   ]
  },
  {
   "cell_type": "code",
   "execution_count": null,
   "id": "1e67dc06-bec3-4d69-ab22-516fc4f573f2",
   "metadata": {},
   "outputs": [],
   "source": []
  }
 ],
 "metadata": {
  "kernelspec": {
   "display_name": "Python 3 (ipykernel)",
   "language": "python",
   "name": "python3"
  },
  "language_info": {
   "codemirror_mode": {
    "name": "ipython",
    "version": 3
   },
   "file_extension": ".py",
   "mimetype": "text/x-python",
   "name": "python",
   "nbconvert_exporter": "python",
   "pygments_lexer": "ipython3",
   "version": "3.11.9"
  }
 },
 "nbformat": 4,
 "nbformat_minor": 5
}
