{
 "cells": [
  {
   "cell_type": "code",
   "execution_count": 25,
   "id": "bb2fb631-972d-43d5-858b-18d7ff7755ef",
   "metadata": {},
   "outputs": [],
   "source": [
    "import pandas as pd\n",
    "import plotly.express as px"
   ]
  },
  {
   "cell_type": "code",
   "execution_count": 4,
   "id": "7558b90b-1307-4fdb-91a6-33d88d85f2b5",
   "metadata": {},
   "outputs": [
    {
     "data": {
      "text/html": [
       "<div>\n",
       "<style scoped>\n",
       "    .dataframe tbody tr th:only-of-type {\n",
       "        vertical-align: middle;\n",
       "    }\n",
       "\n",
       "    .dataframe tbody tr th {\n",
       "        vertical-align: top;\n",
       "    }\n",
       "\n",
       "    .dataframe thead th {\n",
       "        text-align: right;\n",
       "    }\n",
       "</style>\n",
       "<table border=\"1\" class=\"dataframe\">\n",
       "  <thead>\n",
       "    <tr style=\"text-align: right;\">\n",
       "      <th></th>\n",
       "      <th>productID</th>\n",
       "      <th>category</th>\n",
       "      <th>sub_category</th>\n",
       "      <th>stock</th>\n",
       "      <th>price</th>\n",
       "    </tr>\n",
       "  </thead>\n",
       "  <tbody>\n",
       "    <tr>\n",
       "      <th>0</th>\n",
       "      <td>TEC-PH-10000702</td>\n",
       "      <td>Technology</td>\n",
       "      <td>Phones</td>\n",
       "      <td>58</td>\n",
       "      <td>79.920</td>\n",
       "    </tr>\n",
       "    <tr>\n",
       "      <th>1</th>\n",
       "      <td>FUR-FU-10001979</td>\n",
       "      <td>Furniture</td>\n",
       "      <td>Furnishings</td>\n",
       "      <td>133</td>\n",
       "      <td>32.776</td>\n",
       "    </tr>\n",
       "    <tr>\n",
       "      <th>2</th>\n",
       "      <td>OFF-AR-10002656</td>\n",
       "      <td>Office Supplies</td>\n",
       "      <td>Art</td>\n",
       "      <td>32</td>\n",
       "      <td>10.688</td>\n",
       "    </tr>\n",
       "    <tr>\n",
       "      <th>3</th>\n",
       "      <td>FUR-FU-10002937</td>\n",
       "      <td>Furniture</td>\n",
       "      <td>Furnishings</td>\n",
       "      <td>219</td>\n",
       "      <td>396.920</td>\n",
       "    </tr>\n",
       "    <tr>\n",
       "      <th>4</th>\n",
       "      <td>TEC-PH-10000895</td>\n",
       "      <td>Technology</td>\n",
       "      <td>Phones</td>\n",
       "      <td>195</td>\n",
       "      <td>1259.930</td>\n",
       "    </tr>\n",
       "    <tr>\n",
       "      <th>...</th>\n",
       "      <td>...</td>\n",
       "      <td>...</td>\n",
       "      <td>...</td>\n",
       "      <td>...</td>\n",
       "      <td>...</td>\n",
       "    </tr>\n",
       "    <tr>\n",
       "      <th>1857</th>\n",
       "      <td>TEC-MA-10001856</td>\n",
       "      <td>Office Supplies</td>\n",
       "      <td>Binders</td>\n",
       "      <td>229</td>\n",
       "      <td>104.184</td>\n",
       "    </tr>\n",
       "    <tr>\n",
       "      <th>1858</th>\n",
       "      <td>OFF-PA-10001450</td>\n",
       "      <td>Office Supplies</td>\n",
       "      <td>Paper</td>\n",
       "      <td>141</td>\n",
       "      <td>10.688</td>\n",
       "    </tr>\n",
       "    <tr>\n",
       "      <th>1859</th>\n",
       "      <td>TEC-MA-10003353</td>\n",
       "      <td>Office Supplies</td>\n",
       "      <td>Art</td>\n",
       "      <td>147</td>\n",
       "      <td>9.780</td>\n",
       "    </tr>\n",
       "    <tr>\n",
       "      <th>1860</th>\n",
       "      <td>OFF-AP-10001124</td>\n",
       "      <td>Office Supplies</td>\n",
       "      <td>Paper</td>\n",
       "      <td>153</td>\n",
       "      <td>32.400</td>\n",
       "    </tr>\n",
       "    <tr>\n",
       "      <th>1861</th>\n",
       "      <td>TEC-PH-10002075</td>\n",
       "      <td>Furniture</td>\n",
       "      <td>Chairs</td>\n",
       "      <td>120</td>\n",
       "      <td>230.280</td>\n",
       "    </tr>\n",
       "  </tbody>\n",
       "</table>\n",
       "<p>1862 rows × 5 columns</p>\n",
       "</div>"
      ],
      "text/plain": [
       "            productID         category sub_category  stock     price\n",
       "0     TEC-PH-10000702       Technology       Phones     58    79.920\n",
       "1     FUR-FU-10001979        Furniture  Furnishings    133    32.776\n",
       "2     OFF-AR-10002656  Office Supplies          Art     32    10.688\n",
       "3     FUR-FU-10002937        Furniture  Furnishings    219   396.920\n",
       "4     TEC-PH-10000895       Technology       Phones    195  1259.930\n",
       "...               ...              ...          ...    ...       ...\n",
       "1857  TEC-MA-10001856  Office Supplies      Binders    229   104.184\n",
       "1858  OFF-PA-10001450  Office Supplies        Paper    141    10.688\n",
       "1859  TEC-MA-10003353  Office Supplies          Art    147     9.780\n",
       "1860  OFF-AP-10001124  Office Supplies        Paper    153    32.400\n",
       "1861  TEC-PH-10002075        Furniture       Chairs    120   230.280\n",
       "\n",
       "[1862 rows x 5 columns]"
      ]
     },
     "execution_count": 4,
     "metadata": {},
     "output_type": "execute_result"
    }
   ],
   "source": [
    "df = pd.read_csv('inventory_table.csv')\n",
    "df"
   ]
  },
  {
   "cell_type": "code",
   "execution_count": 7,
   "id": "351f6cba-d251-4695-afed-88853aaa3dfa",
   "metadata": {},
   "outputs": [
    {
     "data": {
      "text/html": [
       "<div>\n",
       "<style scoped>\n",
       "    .dataframe tbody tr th:only-of-type {\n",
       "        vertical-align: middle;\n",
       "    }\n",
       "\n",
       "    .dataframe tbody tr th {\n",
       "        vertical-align: top;\n",
       "    }\n",
       "\n",
       "    .dataframe thead th {\n",
       "        text-align: right;\n",
       "    }\n",
       "</style>\n",
       "<table border=\"1\" class=\"dataframe\">\n",
       "  <thead>\n",
       "    <tr style=\"text-align: right;\">\n",
       "      <th></th>\n",
       "      <th>category</th>\n",
       "      <th>sub_category</th>\n",
       "      <th>stock</th>\n",
       "      <th>price</th>\n",
       "    </tr>\n",
       "  </thead>\n",
       "  <tbody>\n",
       "    <tr>\n",
       "      <th>0</th>\n",
       "      <td>Technology</td>\n",
       "      <td>Phones</td>\n",
       "      <td>58</td>\n",
       "      <td>79.920</td>\n",
       "    </tr>\n",
       "    <tr>\n",
       "      <th>1</th>\n",
       "      <td>Furniture</td>\n",
       "      <td>Furnishings</td>\n",
       "      <td>133</td>\n",
       "      <td>32.776</td>\n",
       "    </tr>\n",
       "    <tr>\n",
       "      <th>2</th>\n",
       "      <td>Office Supplies</td>\n",
       "      <td>Art</td>\n",
       "      <td>32</td>\n",
       "      <td>10.688</td>\n",
       "    </tr>\n",
       "    <tr>\n",
       "      <th>3</th>\n",
       "      <td>Furniture</td>\n",
       "      <td>Furnishings</td>\n",
       "      <td>219</td>\n",
       "      <td>396.920</td>\n",
       "    </tr>\n",
       "    <tr>\n",
       "      <th>4</th>\n",
       "      <td>Technology</td>\n",
       "      <td>Phones</td>\n",
       "      <td>195</td>\n",
       "      <td>1259.930</td>\n",
       "    </tr>\n",
       "    <tr>\n",
       "      <th>...</th>\n",
       "      <td>...</td>\n",
       "      <td>...</td>\n",
       "      <td>...</td>\n",
       "      <td>...</td>\n",
       "    </tr>\n",
       "    <tr>\n",
       "      <th>1857</th>\n",
       "      <td>Office Supplies</td>\n",
       "      <td>Binders</td>\n",
       "      <td>229</td>\n",
       "      <td>104.184</td>\n",
       "    </tr>\n",
       "    <tr>\n",
       "      <th>1858</th>\n",
       "      <td>Office Supplies</td>\n",
       "      <td>Paper</td>\n",
       "      <td>141</td>\n",
       "      <td>10.688</td>\n",
       "    </tr>\n",
       "    <tr>\n",
       "      <th>1859</th>\n",
       "      <td>Office Supplies</td>\n",
       "      <td>Art</td>\n",
       "      <td>147</td>\n",
       "      <td>9.780</td>\n",
       "    </tr>\n",
       "    <tr>\n",
       "      <th>1860</th>\n",
       "      <td>Office Supplies</td>\n",
       "      <td>Paper</td>\n",
       "      <td>153</td>\n",
       "      <td>32.400</td>\n",
       "    </tr>\n",
       "    <tr>\n",
       "      <th>1861</th>\n",
       "      <td>Furniture</td>\n",
       "      <td>Chairs</td>\n",
       "      <td>120</td>\n",
       "      <td>230.280</td>\n",
       "    </tr>\n",
       "  </tbody>\n",
       "</table>\n",
       "<p>1862 rows × 4 columns</p>\n",
       "</div>"
      ],
      "text/plain": [
       "             category sub_category  stock     price\n",
       "0          Technology       Phones     58    79.920\n",
       "1           Furniture  Furnishings    133    32.776\n",
       "2     Office Supplies          Art     32    10.688\n",
       "3           Furniture  Furnishings    219   396.920\n",
       "4          Technology       Phones    195  1259.930\n",
       "...               ...          ...    ...       ...\n",
       "1857  Office Supplies      Binders    229   104.184\n",
       "1858  Office Supplies        Paper    141    10.688\n",
       "1859  Office Supplies          Art    147     9.780\n",
       "1860  Office Supplies        Paper    153    32.400\n",
       "1861        Furniture       Chairs    120   230.280\n",
       "\n",
       "[1862 rows x 4 columns]"
      ]
     },
     "execution_count": 7,
     "metadata": {},
     "output_type": "execute_result"
    }
   ],
   "source": [
    "df.drop(columns=['productID'], inplace=True)\n",
    "df"
   ]
  },
  {
   "cell_type": "code",
   "execution_count": 8,
   "id": "3f32def8-3240-4306-a070-3bb4558b46e1",
   "metadata": {},
   "outputs": [
    {
     "data": {
      "text/plain": [
       "17"
      ]
     },
     "execution_count": 8,
     "metadata": {},
     "output_type": "execute_result"
    }
   ],
   "source": [
    "total_no_of_items = df['sub_category'].nunique()\n",
    "total_no_of_items"
   ]
  },
  {
   "cell_type": "code",
   "execution_count": 21,
   "id": "a7f641f3-daa8-44b1-b3a5-81ea595b2582",
   "metadata": {},
   "outputs": [
    {
     "data": {
      "text/plain": [
       "245288"
      ]
     },
     "execution_count": 21,
     "metadata": {},
     "output_type": "execute_result"
    }
   ],
   "source": [
    "total_stock = df['stock'].sum()\n",
    "total_stock"
   ]
  },
  {
   "cell_type": "code",
   "execution_count": 10,
   "id": "df3ff5c2-a15e-40c6-8647-c5f87c86454d",
   "metadata": {},
   "outputs": [
    {
     "data": {
      "text/plain": [
       "386319"
      ]
     },
     "execution_count": 10,
     "metadata": {},
     "output_type": "execute_result"
    }
   ],
   "source": [
    "total_price_of_items = round(df['price'].sum())\n",
    "total_price_of_items"
   ]
  },
  {
   "cell_type": "code",
   "execution_count": 15,
   "id": "8c65fa84-a24b-47bd-9b02-af9ec45f8fcb",
   "metadata": {},
   "outputs": [
    {
     "data": {
      "text/plain": [
       "3"
      ]
     },
     "execution_count": 15,
     "metadata": {},
     "output_type": "execute_result"
    }
   ],
   "source": [
    "total_no_categories = df['category'].nunique()\n",
    "total_no_categories"
   ]
  },
  {
   "cell_type": "code",
   "execution_count": 24,
   "id": "7021e9e4-4bfd-4cd1-b111-25ae3eb69252",
   "metadata": {},
   "outputs": [
    {
     "data": {
      "text/html": [
       "<div>\n",
       "<style scoped>\n",
       "    .dataframe tbody tr th:only-of-type {\n",
       "        vertical-align: middle;\n",
       "    }\n",
       "\n",
       "    .dataframe tbody tr th {\n",
       "        vertical-align: top;\n",
       "    }\n",
       "\n",
       "    .dataframe thead th {\n",
       "        text-align: right;\n",
       "    }\n",
       "</style>\n",
       "<table border=\"1\" class=\"dataframe\">\n",
       "  <thead>\n",
       "    <tr style=\"text-align: right;\">\n",
       "      <th></th>\n",
       "      <th>sub_category</th>\n",
       "      <th>price</th>\n",
       "      <th>stock</th>\n",
       "    </tr>\n",
       "  </thead>\n",
       "  <tbody>\n",
       "    <tr>\n",
       "      <th>13</th>\n",
       "      <td>Phones</td>\n",
       "      <td>74046.644</td>\n",
       "      <td>25122</td>\n",
       "    </tr>\n",
       "    <tr>\n",
       "      <th>5</th>\n",
       "      <td>Chairs</td>\n",
       "      <td>60660.846</td>\n",
       "      <td>15821</td>\n",
       "    </tr>\n",
       "    <tr>\n",
       "      <th>16</th>\n",
       "      <td>Tables</td>\n",
       "      <td>43734.835</td>\n",
       "      <td>9958</td>\n",
       "    </tr>\n",
       "    <tr>\n",
       "      <th>14</th>\n",
       "      <td>Storage</td>\n",
       "      <td>40659.862</td>\n",
       "      <td>18623</td>\n",
       "    </tr>\n",
       "    <tr>\n",
       "      <th>11</th>\n",
       "      <td>Machines</td>\n",
       "      <td>34025.011</td>\n",
       "      <td>2699</td>\n",
       "    </tr>\n",
       "  </tbody>\n",
       "</table>\n",
       "</div>"
      ],
      "text/plain": [
       "   sub_category      price  stock\n",
       "13       Phones  74046.644  25122\n",
       "5        Chairs  60660.846  15821\n",
       "16       Tables  43734.835   9958\n",
       "14      Storage  40659.862  18623\n",
       "11     Machines  34025.011   2699"
      ]
     },
     "execution_count": 24,
     "metadata": {},
     "output_type": "execute_result"
    }
   ],
   "source": [
    "highest_price = df.groupby('sub_category').agg(price=('price', 'sum'), \n",
    "                                               stock=('stock','sum')).reset_index().sort_values(by=['price'],ascending=False).head()\n",
    "highest_price"
   ]
  },
  {
   "cell_type": "code",
   "execution_count": 39,
   "id": "c33717e8-bd74-4c11-9cf0-083c157bf0ce",
   "metadata": {},
   "outputs": [
    {
     "data": {
      "application/vnd.plotly.v1+json": {
       "config": {
        "plotlyServerURL": "https://plot.ly"
       },
       "data": [
        {
         "alignmentgroup": "True",
         "hovertemplate": "category=%{x}<br>price=%{y}<extra></extra>",
         "legendgroup": "Furniture",
         "marker": {
          "color": "rgb(3, 3, 182)",
          "pattern": {
           "shape": ""
          }
         },
         "name": "Furniture",
         "offsetgroup": "Furniture",
         "orientation": "v",
         "showlegend": true,
         "textposition": "auto",
         "type": "bar",
         "x": [
          "Furniture"
         ],
         "xaxis": "x",
         "y": [
          323.95103380281694
         ],
         "yaxis": "y"
        },
        {
         "alignmentgroup": "True",
         "hovertemplate": "category=%{x}<br>price=%{y}<extra></extra>",
         "legendgroup": "Office Supplies",
         "marker": {
          "color": "rgb(1, 156, 1)",
          "pattern": {
           "shape": ""
          }
         },
         "name": "Office Supplies",
         "offsetgroup": "Office Supplies",
         "orientation": "v",
         "showlegend": true,
         "textposition": "auto",
         "type": "bar",
         "x": [
          "Office Supplies"
         ],
         "xaxis": "x",
         "y": [
          100.8536617375231
         ],
         "yaxis": "y"
        },
        {
         "alignmentgroup": "True",
         "hovertemplate": "category=%{x}<br>price=%{y}<extra></extra>",
         "legendgroup": "Technology",
         "marker": {
          "color": "rgb(178, 8, 8)",
          "pattern": {
           "shape": ""
          }
         },
         "name": "Technology",
         "offsetgroup": "Technology",
         "orientation": "v",
         "showlegend": true,
         "textposition": "auto",
         "type": "bar",
         "x": [
          "Technology"
         ],
         "xaxis": "x",
         "y": [
          393.19862994350285
         ],
         "yaxis": "y"
        }
       ],
       "layout": {
        "autosize": true,
        "barmode": "relative",
        "legend": {
         "title": {
          "text": "category"
         },
         "tracegroupgap": 0
        },
        "margin": {
         "t": 60
        },
        "template": {
         "data": {
          "bar": [
           {
            "error_x": {
             "color": "#2a3f5f"
            },
            "error_y": {
             "color": "#2a3f5f"
            },
            "marker": {
             "line": {
              "color": "#E5ECF6",
              "width": 0.5
             },
             "pattern": {
              "fillmode": "overlay",
              "size": 10,
              "solidity": 0.2
             }
            },
            "type": "bar"
           }
          ],
          "barpolar": [
           {
            "marker": {
             "line": {
              "color": "#E5ECF6",
              "width": 0.5
             },
             "pattern": {
              "fillmode": "overlay",
              "size": 10,
              "solidity": 0.2
             }
            },
            "type": "barpolar"
           }
          ],
          "carpet": [
           {
            "aaxis": {
             "endlinecolor": "#2a3f5f",
             "gridcolor": "white",
             "linecolor": "white",
             "minorgridcolor": "white",
             "startlinecolor": "#2a3f5f"
            },
            "baxis": {
             "endlinecolor": "#2a3f5f",
             "gridcolor": "white",
             "linecolor": "white",
             "minorgridcolor": "white",
             "startlinecolor": "#2a3f5f"
            },
            "type": "carpet"
           }
          ],
          "choropleth": [
           {
            "colorbar": {
             "outlinewidth": 0,
             "ticks": ""
            },
            "type": "choropleth"
           }
          ],
          "contour": [
           {
            "colorbar": {
             "outlinewidth": 0,
             "ticks": ""
            },
            "colorscale": [
             [
              0,
              "#0d0887"
             ],
             [
              0.1111111111111111,
              "#46039f"
             ],
             [
              0.2222222222222222,
              "#7201a8"
             ],
             [
              0.3333333333333333,
              "#9c179e"
             ],
             [
              0.4444444444444444,
              "#bd3786"
             ],
             [
              0.5555555555555556,
              "#d8576b"
             ],
             [
              0.6666666666666666,
              "#ed7953"
             ],
             [
              0.7777777777777778,
              "#fb9f3a"
             ],
             [
              0.8888888888888888,
              "#fdca26"
             ],
             [
              1,
              "#f0f921"
             ]
            ],
            "type": "contour"
           }
          ],
          "contourcarpet": [
           {
            "colorbar": {
             "outlinewidth": 0,
             "ticks": ""
            },
            "type": "contourcarpet"
           }
          ],
          "heatmap": [
           {
            "colorbar": {
             "outlinewidth": 0,
             "ticks": ""
            },
            "colorscale": [
             [
              0,
              "#0d0887"
             ],
             [
              0.1111111111111111,
              "#46039f"
             ],
             [
              0.2222222222222222,
              "#7201a8"
             ],
             [
              0.3333333333333333,
              "#9c179e"
             ],
             [
              0.4444444444444444,
              "#bd3786"
             ],
             [
              0.5555555555555556,
              "#d8576b"
             ],
             [
              0.6666666666666666,
              "#ed7953"
             ],
             [
              0.7777777777777778,
              "#fb9f3a"
             ],
             [
              0.8888888888888888,
              "#fdca26"
             ],
             [
              1,
              "#f0f921"
             ]
            ],
            "type": "heatmap"
           }
          ],
          "heatmapgl": [
           {
            "colorbar": {
             "outlinewidth": 0,
             "ticks": ""
            },
            "colorscale": [
             [
              0,
              "#0d0887"
             ],
             [
              0.1111111111111111,
              "#46039f"
             ],
             [
              0.2222222222222222,
              "#7201a8"
             ],
             [
              0.3333333333333333,
              "#9c179e"
             ],
             [
              0.4444444444444444,
              "#bd3786"
             ],
             [
              0.5555555555555556,
              "#d8576b"
             ],
             [
              0.6666666666666666,
              "#ed7953"
             ],
             [
              0.7777777777777778,
              "#fb9f3a"
             ],
             [
              0.8888888888888888,
              "#fdca26"
             ],
             [
              1,
              "#f0f921"
             ]
            ],
            "type": "heatmapgl"
           }
          ],
          "histogram": [
           {
            "marker": {
             "pattern": {
              "fillmode": "overlay",
              "size": 10,
              "solidity": 0.2
             }
            },
            "type": "histogram"
           }
          ],
          "histogram2d": [
           {
            "colorbar": {
             "outlinewidth": 0,
             "ticks": ""
            },
            "colorscale": [
             [
              0,
              "#0d0887"
             ],
             [
              0.1111111111111111,
              "#46039f"
             ],
             [
              0.2222222222222222,
              "#7201a8"
             ],
             [
              0.3333333333333333,
              "#9c179e"
             ],
             [
              0.4444444444444444,
              "#bd3786"
             ],
             [
              0.5555555555555556,
              "#d8576b"
             ],
             [
              0.6666666666666666,
              "#ed7953"
             ],
             [
              0.7777777777777778,
              "#fb9f3a"
             ],
             [
              0.8888888888888888,
              "#fdca26"
             ],
             [
              1,
              "#f0f921"
             ]
            ],
            "type": "histogram2d"
           }
          ],
          "histogram2dcontour": [
           {
            "colorbar": {
             "outlinewidth": 0,
             "ticks": ""
            },
            "colorscale": [
             [
              0,
              "#0d0887"
             ],
             [
              0.1111111111111111,
              "#46039f"
             ],
             [
              0.2222222222222222,
              "#7201a8"
             ],
             [
              0.3333333333333333,
              "#9c179e"
             ],
             [
              0.4444444444444444,
              "#bd3786"
             ],
             [
              0.5555555555555556,
              "#d8576b"
             ],
             [
              0.6666666666666666,
              "#ed7953"
             ],
             [
              0.7777777777777778,
              "#fb9f3a"
             ],
             [
              0.8888888888888888,
              "#fdca26"
             ],
             [
              1,
              "#f0f921"
             ]
            ],
            "type": "histogram2dcontour"
           }
          ],
          "mesh3d": [
           {
            "colorbar": {
             "outlinewidth": 0,
             "ticks": ""
            },
            "type": "mesh3d"
           }
          ],
          "parcoords": [
           {
            "line": {
             "colorbar": {
              "outlinewidth": 0,
              "ticks": ""
             }
            },
            "type": "parcoords"
           }
          ],
          "pie": [
           {
            "automargin": true,
            "type": "pie"
           }
          ],
          "scatter": [
           {
            "fillpattern": {
             "fillmode": "overlay",
             "size": 10,
             "solidity": 0.2
            },
            "type": "scatter"
           }
          ],
          "scatter3d": [
           {
            "line": {
             "colorbar": {
              "outlinewidth": 0,
              "ticks": ""
             }
            },
            "marker": {
             "colorbar": {
              "outlinewidth": 0,
              "ticks": ""
             }
            },
            "type": "scatter3d"
           }
          ],
          "scattercarpet": [
           {
            "marker": {
             "colorbar": {
              "outlinewidth": 0,
              "ticks": ""
             }
            },
            "type": "scattercarpet"
           }
          ],
          "scattergeo": [
           {
            "marker": {
             "colorbar": {
              "outlinewidth": 0,
              "ticks": ""
             }
            },
            "type": "scattergeo"
           }
          ],
          "scattergl": [
           {
            "marker": {
             "colorbar": {
              "outlinewidth": 0,
              "ticks": ""
             }
            },
            "type": "scattergl"
           }
          ],
          "scattermapbox": [
           {
            "marker": {
             "colorbar": {
              "outlinewidth": 0,
              "ticks": ""
             }
            },
            "type": "scattermapbox"
           }
          ],
          "scatterpolar": [
           {
            "marker": {
             "colorbar": {
              "outlinewidth": 0,
              "ticks": ""
             }
            },
            "type": "scatterpolar"
           }
          ],
          "scatterpolargl": [
           {
            "marker": {
             "colorbar": {
              "outlinewidth": 0,
              "ticks": ""
             }
            },
            "type": "scatterpolargl"
           }
          ],
          "scatterternary": [
           {
            "marker": {
             "colorbar": {
              "outlinewidth": 0,
              "ticks": ""
             }
            },
            "type": "scatterternary"
           }
          ],
          "surface": [
           {
            "colorbar": {
             "outlinewidth": 0,
             "ticks": ""
            },
            "colorscale": [
             [
              0,
              "#0d0887"
             ],
             [
              0.1111111111111111,
              "#46039f"
             ],
             [
              0.2222222222222222,
              "#7201a8"
             ],
             [
              0.3333333333333333,
              "#9c179e"
             ],
             [
              0.4444444444444444,
              "#bd3786"
             ],
             [
              0.5555555555555556,
              "#d8576b"
             ],
             [
              0.6666666666666666,
              "#ed7953"
             ],
             [
              0.7777777777777778,
              "#fb9f3a"
             ],
             [
              0.8888888888888888,
              "#fdca26"
             ],
             [
              1,
              "#f0f921"
             ]
            ],
            "type": "surface"
           }
          ],
          "table": [
           {
            "cells": {
             "fill": {
              "color": "#EBF0F8"
             },
             "line": {
              "color": "white"
             }
            },
            "header": {
             "fill": {
              "color": "#C8D4E3"
             },
             "line": {
              "color": "white"
             }
            },
            "type": "table"
           }
          ]
         },
         "layout": {
          "annotationdefaults": {
           "arrowcolor": "#2a3f5f",
           "arrowhead": 0,
           "arrowwidth": 1
          },
          "autotypenumbers": "strict",
          "coloraxis": {
           "colorbar": {
            "outlinewidth": 0,
            "ticks": ""
           }
          },
          "colorscale": {
           "diverging": [
            [
             0,
             "#8e0152"
            ],
            [
             0.1,
             "#c51b7d"
            ],
            [
             0.2,
             "#de77ae"
            ],
            [
             0.3,
             "#f1b6da"
            ],
            [
             0.4,
             "#fde0ef"
            ],
            [
             0.5,
             "#f7f7f7"
            ],
            [
             0.6,
             "#e6f5d0"
            ],
            [
             0.7,
             "#b8e186"
            ],
            [
             0.8,
             "#7fbc41"
            ],
            [
             0.9,
             "#4d9221"
            ],
            [
             1,
             "#276419"
            ]
           ],
           "sequential": [
            [
             0,
             "#0d0887"
            ],
            [
             0.1111111111111111,
             "#46039f"
            ],
            [
             0.2222222222222222,
             "#7201a8"
            ],
            [
             0.3333333333333333,
             "#9c179e"
            ],
            [
             0.4444444444444444,
             "#bd3786"
            ],
            [
             0.5555555555555556,
             "#d8576b"
            ],
            [
             0.6666666666666666,
             "#ed7953"
            ],
            [
             0.7777777777777778,
             "#fb9f3a"
            ],
            [
             0.8888888888888888,
             "#fdca26"
            ],
            [
             1,
             "#f0f921"
            ]
           ],
           "sequentialminus": [
            [
             0,
             "#0d0887"
            ],
            [
             0.1111111111111111,
             "#46039f"
            ],
            [
             0.2222222222222222,
             "#7201a8"
            ],
            [
             0.3333333333333333,
             "#9c179e"
            ],
            [
             0.4444444444444444,
             "#bd3786"
            ],
            [
             0.5555555555555556,
             "#d8576b"
            ],
            [
             0.6666666666666666,
             "#ed7953"
            ],
            [
             0.7777777777777778,
             "#fb9f3a"
            ],
            [
             0.8888888888888888,
             "#fdca26"
            ],
            [
             1,
             "#f0f921"
            ]
           ]
          },
          "colorway": [
           "#636efa",
           "#EF553B",
           "#00cc96",
           "#ab63fa",
           "#FFA15A",
           "#19d3f3",
           "#FF6692",
           "#B6E880",
           "#FF97FF",
           "#FECB52"
          ],
          "font": {
           "color": "#2a3f5f"
          },
          "geo": {
           "bgcolor": "white",
           "lakecolor": "white",
           "landcolor": "#E5ECF6",
           "showlakes": true,
           "showland": true,
           "subunitcolor": "white"
          },
          "hoverlabel": {
           "align": "left"
          },
          "hovermode": "closest",
          "mapbox": {
           "style": "light"
          },
          "paper_bgcolor": "white",
          "plot_bgcolor": "#E5ECF6",
          "polar": {
           "angularaxis": {
            "gridcolor": "white",
            "linecolor": "white",
            "ticks": ""
           },
           "bgcolor": "#E5ECF6",
           "radialaxis": {
            "gridcolor": "white",
            "linecolor": "white",
            "ticks": ""
           }
          },
          "scene": {
           "xaxis": {
            "backgroundcolor": "#E5ECF6",
            "gridcolor": "white",
            "gridwidth": 2,
            "linecolor": "white",
            "showbackground": true,
            "ticks": "",
            "zerolinecolor": "white"
           },
           "yaxis": {
            "backgroundcolor": "#E5ECF6",
            "gridcolor": "white",
            "gridwidth": 2,
            "linecolor": "white",
            "showbackground": true,
            "ticks": "",
            "zerolinecolor": "white"
           },
           "zaxis": {
            "backgroundcolor": "#E5ECF6",
            "gridcolor": "white",
            "gridwidth": 2,
            "linecolor": "white",
            "showbackground": true,
            "ticks": "",
            "zerolinecolor": "white"
           }
          },
          "shapedefaults": {
           "line": {
            "color": "#2a3f5f"
           }
          },
          "ternary": {
           "aaxis": {
            "gridcolor": "white",
            "linecolor": "white",
            "ticks": ""
           },
           "baxis": {
            "gridcolor": "white",
            "linecolor": "white",
            "ticks": ""
           },
           "bgcolor": "#E5ECF6",
           "caxis": {
            "gridcolor": "white",
            "linecolor": "white",
            "ticks": ""
           }
          },
          "title": {
           "x": 0.05
          },
          "xaxis": {
           "automargin": true,
           "gridcolor": "white",
           "linecolor": "white",
           "ticks": "",
           "title": {
            "standoff": 15
           },
           "zerolinecolor": "white",
           "zerolinewidth": 2
          },
          "yaxis": {
           "automargin": true,
           "gridcolor": "white",
           "linecolor": "white",
           "ticks": "",
           "title": {
            "standoff": 15
           },
           "zerolinecolor": "white",
           "zerolinewidth": 2
          }
         }
        },
        "xaxis": {
         "anchor": "y",
         "autorange": true,
         "categoryarray": [
          "Furniture",
          "Office Supplies",
          "Technology"
         ],
         "categoryorder": "array",
         "domain": [
          0,
          1
         ],
         "range": [
          -0.5,
          2.5
         ],
         "title": {
          "text": "category"
         },
         "type": "category"
        },
        "yaxis": {
         "anchor": "x",
         "autorange": true,
         "domain": [
          0,
          1
         ],
         "range": [
          0,
          413.89329467737144
         ],
         "title": {
          "text": "price"
         },
         "type": "linear"
        }
       }
      },
      "image/png": "[encoded data removed]",
      "text/html": [
       "<div>                            <div id=\"77aa1fac-e94b-436e-b52a-0523b62ba781\" class=\"plotly-graph-div\" style=\"height:525px; width:100%;\"></div>            <script type=\"text/javascript\">                require([\"plotly\"], function(Plotly) {                    window.PLOTLYENV=window.PLOTLYENV || {};                                    if (document.getElementById(\"77aa1fac-e94b-436e-b52a-0523b62ba781\")) {                    Plotly.newPlot(                        \"77aa1fac-e94b-436e-b52a-0523b62ba781\",                        [{\"alignmentgroup\":\"True\",\"hovertemplate\":\"category=%{x}\\u003cbr\\u003eprice=%{y}\\u003cextra\\u003e\\u003c\\u002fextra\\u003e\",\"legendgroup\":\"Furniture\",\"marker\":{\"color\":\"rgb(3, 3, 182)\",\"pattern\":{\"shape\":\"\"}},\"name\":\"Furniture\",\"offsetgroup\":\"Furniture\",\"orientation\":\"v\",\"showlegend\":true,\"textposition\":\"auto\",\"x\":[\"Furniture\"],\"xaxis\":\"x\",\"y\":[323.95103380281694],\"yaxis\":\"y\",\"type\":\"bar\"},{\"alignmentgroup\":\"True\",\"hovertemplate\":\"category=%{x}\\u003cbr\\u003eprice=%{y}\\u003cextra\\u003e\\u003c\\u002fextra\\u003e\",\"legendgroup\":\"Office Supplies\",\"marker\":{\"color\":\"rgb(1, 156, 1)\",\"pattern\":{\"shape\":\"\"}},\"name\":\"Office Supplies\",\"offsetgroup\":\"Office Supplies\",\"orientation\":\"v\",\"showlegend\":true,\"textposition\":\"auto\",\"x\":[\"Office Supplies\"],\"xaxis\":\"x\",\"y\":[100.8536617375231],\"yaxis\":\"y\",\"type\":\"bar\"},{\"alignmentgroup\":\"True\",\"hovertemplate\":\"category=%{x}\\u003cbr\\u003eprice=%{y}\\u003cextra\\u003e\\u003c\\u002fextra\\u003e\",\"legendgroup\":\"Technology\",\"marker\":{\"color\":\"rgb(178, 8, 8)\",\"pattern\":{\"shape\":\"\"}},\"name\":\"Technology\",\"offsetgroup\":\"Technology\",\"orientation\":\"v\",\"showlegend\":true,\"textposition\":\"auto\",\"x\":[\"Technology\"],\"xaxis\":\"x\",\"y\":[393.19862994350285],\"yaxis\":\"y\",\"type\":\"bar\"}],                        {\"template\":{\"data\":{\"histogram2dcontour\":[{\"type\":\"histogram2dcontour\",\"colorbar\":{\"outlinewidth\":0,\"ticks\":\"\"},\"colorscale\":[[0.0,\"#0d0887\"],[0.1111111111111111,\"#46039f\"],[0.2222222222222222,\"#7201a8\"],[0.3333333333333333,\"#9c179e\"],[0.4444444444444444,\"#bd3786\"],[0.5555555555555556,\"#d8576b\"],[0.6666666666666666,\"#ed7953\"],[0.7777777777777778,\"#fb9f3a\"],[0.8888888888888888,\"#fdca26\"],[1.0,\"#f0f921\"]]}],\"choropleth\":[{\"type\":\"choropleth\",\"colorbar\":{\"outlinewidth\":0,\"ticks\":\"\"}}],\"histogram2d\":[{\"type\":\"histogram2d\",\"colorbar\":{\"outlinewidth\":0,\"ticks\":\"\"},\"colorscale\":[[0.0,\"#0d0887\"],[0.1111111111111111,\"#46039f\"],[0.2222222222222222,\"#7201a8\"],[0.3333333333333333,\"#9c179e\"],[0.4444444444444444,\"#bd3786\"],[0.5555555555555556,\"#d8576b\"],[0.6666666666666666,\"#ed7953\"],[0.7777777777777778,\"#fb9f3a\"],[0.8888888888888888,\"#fdca26\"],[1.0,\"#f0f921\"]]}],\"heatmap\":[{\"type\":\"heatmap\",\"colorbar\":{\"outlinewidth\":0,\"ticks\":\"\"},\"colorscale\":[[0.0,\"#0d0887\"],[0.1111111111111111,\"#46039f\"],[0.2222222222222222,\"#7201a8\"],[0.3333333333333333,\"#9c179e\"],[0.4444444444444444,\"#bd3786\"],[0.5555555555555556,\"#d8576b\"],[0.6666666666666666,\"#ed7953\"],[0.7777777777777778,\"#fb9f3a\"],[0.8888888888888888,\"#fdca26\"],[1.0,\"#f0f921\"]]}],\"heatmapgl\":[{\"type\":\"heatmapgl\",\"colorbar\":{\"outlinewidth\":0,\"ticks\":\"\"},\"colorscale\":[[0.0,\"#0d0887\"],[0.1111111111111111,\"#46039f\"],[0.2222222222222222,\"#7201a8\"],[0.3333333333333333,\"#9c179e\"],[0.4444444444444444,\"#bd3786\"],[0.5555555555555556,\"#d8576b\"],[0.6666666666666666,\"#ed7953\"],[0.7777777777777778,\"#fb9f3a\"],[0.8888888888888888,\"#fdca26\"],[1.0,\"#f0f921\"]]}],\"contourcarpet\":[{\"type\":\"contourcarpet\",\"colorbar\":{\"outlinewidth\":0,\"ticks\":\"\"}}],\"contour\":[{\"type\":\"contour\",\"colorbar\":{\"outlinewidth\":0,\"ticks\":\"\"},\"colorscale\":[[0.0,\"#0d0887\"],[0.1111111111111111,\"#46039f\"],[0.2222222222222222,\"#7201a8\"],[0.3333333333333333,\"#9c179e\"],[0.4444444444444444,\"#bd3786\"],[0.5555555555555556,\"#d8576b\"],[0.6666666666666666,\"#ed7953\"],[0.7777777777777778,\"#fb9f3a\"],[0.8888888888888888,\"#fdca26\"],[1.0,\"#f0f921\"]]}],\"surface\":[{\"type\":\"surface\",\"colorbar\":{\"outlinewidth\":0,\"ticks\":\"\"},\"colorscale\":[[0.0,\"#0d0887\"],[0.1111111111111111,\"#46039f\"],[0.2222222222222222,\"#7201a8\"],[0.3333333333333333,\"#9c179e\"],[0.4444444444444444,\"#bd3786\"],[0.5555555555555556,\"#d8576b\"],[0.6666666666666666,\"#ed7953\"],[0.7777777777777778,\"#fb9f3a\"],[0.8888888888888888,\"#fdca26\"],[1.0,\"#f0f921\"]]}],\"mesh3d\":[{\"type\":\"mesh3d\",\"colorbar\":{\"outlinewidth\":0,\"ticks\":\"\"}}],\"scatter\":[{\"fillpattern\":{\"fillmode\":\"overlay\",\"size\":10,\"solidity\":0.2},\"type\":\"scatter\"}],\"parcoords\":[{\"type\":\"parcoords\",\"line\":{\"colorbar\":{\"outlinewidth\":0,\"ticks\":\"\"}}}],\"scatterpolargl\":[{\"type\":\"scatterpolargl\",\"marker\":{\"colorbar\":{\"outlinewidth\":0,\"ticks\":\"\"}}}],\"bar\":[{\"error_x\":{\"color\":\"#2a3f5f\"},\"error_y\":{\"color\":\"#2a3f5f\"},\"marker\":{\"line\":{\"color\":\"#E5ECF6\",\"width\":0.5},\"pattern\":{\"fillmode\":\"overlay\",\"size\":10,\"solidity\":0.2}},\"type\":\"bar\"}],\"scattergeo\":[{\"type\":\"scattergeo\",\"marker\":{\"colorbar\":{\"outlinewidth\":0,\"ticks\":\"\"}}}],\"scatterpolar\":[{\"type\":\"scatterpolar\",\"marker\":{\"colorbar\":{\"outlinewidth\":0,\"ticks\":\"\"}}}],\"histogram\":[{\"marker\":{\"pattern\":{\"fillmode\":\"overlay\",\"size\":10,\"solidity\":0.2}},\"type\":\"histogram\"}],\"scattergl\":[{\"type\":\"scattergl\",\"marker\":{\"colorbar\":{\"outlinewidth\":0,\"ticks\":\"\"}}}],\"scatter3d\":[{\"type\":\"scatter3d\",\"line\":{\"colorbar\":{\"outlinewidth\":0,\"ticks\":\"\"}},\"marker\":{\"colorbar\":{\"outlinewidth\":0,\"ticks\":\"\"}}}],\"scattermapbox\":[{\"type\":\"scattermapbox\",\"marker\":{\"colorbar\":{\"outlinewidth\":0,\"ticks\":\"\"}}}],\"scatterternary\":[{\"type\":\"scatterternary\",\"marker\":{\"colorbar\":{\"outlinewidth\":0,\"ticks\":\"\"}}}],\"scattercarpet\":[{\"type\":\"scattercarpet\",\"marker\":{\"colorbar\":{\"outlinewidth\":0,\"ticks\":\"\"}}}],\"carpet\":[{\"aaxis\":{\"endlinecolor\":\"#2a3f5f\",\"gridcolor\":\"white\",\"linecolor\":\"white\",\"minorgridcolor\":\"white\",\"startlinecolor\":\"#2a3f5f\"},\"baxis\":{\"endlinecolor\":\"#2a3f5f\",\"gridcolor\":\"white\",\"linecolor\":\"white\",\"minorgridcolor\":\"white\",\"startlinecolor\":\"#2a3f5f\"},\"type\":\"carpet\"}],\"table\":[{\"cells\":{\"fill\":{\"color\":\"#EBF0F8\"},\"line\":{\"color\":\"white\"}},\"header\":{\"fill\":{\"color\":\"#C8D4E3\"},\"line\":{\"color\":\"white\"}},\"type\":\"table\"}],\"barpolar\":[{\"marker\":{\"line\":{\"color\":\"#E5ECF6\",\"width\":0.5},\"pattern\":{\"fillmode\":\"overlay\",\"size\":10,\"solidity\":0.2}},\"type\":\"barpolar\"}],\"pie\":[{\"automargin\":true,\"type\":\"pie\"}]},\"layout\":{\"autotypenumbers\":\"strict\",\"colorway\":[\"#636efa\",\"#EF553B\",\"#00cc96\",\"#ab63fa\",\"#FFA15A\",\"#19d3f3\",\"#FF6692\",\"#B6E880\",\"#FF97FF\",\"#FECB52\"],\"font\":{\"color\":\"#2a3f5f\"},\"hovermode\":\"closest\",\"hoverlabel\":{\"align\":\"left\"},\"paper_bgcolor\":\"white\",\"plot_bgcolor\":\"#E5ECF6\",\"polar\":{\"bgcolor\":\"#E5ECF6\",\"angularaxis\":{\"gridcolor\":\"white\",\"linecolor\":\"white\",\"ticks\":\"\"},\"radialaxis\":{\"gridcolor\":\"white\",\"linecolor\":\"white\",\"ticks\":\"\"}},\"ternary\":{\"bgcolor\":\"#E5ECF6\",\"aaxis\":{\"gridcolor\":\"white\",\"linecolor\":\"white\",\"ticks\":\"\"},\"baxis\":{\"gridcolor\":\"white\",\"linecolor\":\"white\",\"ticks\":\"\"},\"caxis\":{\"gridcolor\":\"white\",\"linecolor\":\"white\",\"ticks\":\"\"}},\"coloraxis\":{\"colorbar\":{\"outlinewidth\":0,\"ticks\":\"\"}},\"colorscale\":{\"sequential\":[[0.0,\"#0d0887\"],[0.1111111111111111,\"#46039f\"],[0.2222222222222222,\"#7201a8\"],[0.3333333333333333,\"#9c179e\"],[0.4444444444444444,\"#bd3786\"],[0.5555555555555556,\"#d8576b\"],[0.6666666666666666,\"#ed7953\"],[0.7777777777777778,\"#fb9f3a\"],[0.8888888888888888,\"#fdca26\"],[1.0,\"#f0f921\"]],\"sequentialminus\":[[0.0,\"#0d0887\"],[0.1111111111111111,\"#46039f\"],[0.2222222222222222,\"#7201a8\"],[0.3333333333333333,\"#9c179e\"],[0.4444444444444444,\"#bd3786\"],[0.5555555555555556,\"#d8576b\"],[0.6666666666666666,\"#ed7953\"],[0.7777777777777778,\"#fb9f3a\"],[0.8888888888888888,\"#fdca26\"],[1.0,\"#f0f921\"]],\"diverging\":[[0,\"#8e0152\"],[0.1,\"#c51b7d\"],[0.2,\"#de77ae\"],[0.3,\"#f1b6da\"],[0.4,\"#fde0ef\"],[0.5,\"#f7f7f7\"],[0.6,\"#e6f5d0\"],[0.7,\"#b8e186\"],[0.8,\"#7fbc41\"],[0.9,\"#4d9221\"],[1,\"#276419\"]]},\"xaxis\":{\"gridcolor\":\"white\",\"linecolor\":\"white\",\"ticks\":\"\",\"title\":{\"standoff\":15},\"zerolinecolor\":\"white\",\"automargin\":true,\"zerolinewidth\":2},\"yaxis\":{\"gridcolor\":\"white\",\"linecolor\":\"white\",\"ticks\":\"\",\"title\":{\"standoff\":15},\"zerolinecolor\":\"white\",\"automargin\":true,\"zerolinewidth\":2},\"scene\":{\"xaxis\":{\"backgroundcolor\":\"#E5ECF6\",\"gridcolor\":\"white\",\"linecolor\":\"white\",\"showbackground\":true,\"ticks\":\"\",\"zerolinecolor\":\"white\",\"gridwidth\":2},\"yaxis\":{\"backgroundcolor\":\"#E5ECF6\",\"gridcolor\":\"white\",\"linecolor\":\"white\",\"showbackground\":true,\"ticks\":\"\",\"zerolinecolor\":\"white\",\"gridwidth\":2},\"zaxis\":{\"backgroundcolor\":\"#E5ECF6\",\"gridcolor\":\"white\",\"linecolor\":\"white\",\"showbackground\":true,\"ticks\":\"\",\"zerolinecolor\":\"white\",\"gridwidth\":2}},\"shapedefaults\":{\"line\":{\"color\":\"#2a3f5f\"}},\"annotationdefaults\":{\"arrowcolor\":\"#2a3f5f\",\"arrowhead\":0,\"arrowwidth\":1},\"geo\":{\"bgcolor\":\"white\",\"landcolor\":\"#E5ECF6\",\"subunitcolor\":\"white\",\"showland\":true,\"showlakes\":true,\"lakecolor\":\"white\"},\"title\":{\"x\":0.05},\"mapbox\":{\"style\":\"light\"}}},\"xaxis\":{\"anchor\":\"y\",\"domain\":[0.0,1.0],\"title\":{\"text\":\"category\"},\"categoryorder\":\"array\",\"categoryarray\":[\"Furniture\",\"Office Supplies\",\"Technology\"]},\"yaxis\":{\"anchor\":\"x\",\"domain\":[0.0,1.0],\"title\":{\"text\":\"price\"}},\"legend\":{\"title\":{\"text\":\"category\"},\"tracegroupgap\":0},\"margin\":{\"t\":60},\"barmode\":\"relative\"},                        {\"responsive\": true}                    ).then(function(){\n",
       "                            \n",
       "var gd = document.getElementById('77aa1fac-e94b-436e-b52a-0523b62ba781');\n",
       "var x = new MutationObserver(function (mutations, observer) {{\n",
       "        var display = window.getComputedStyle(gd).display;\n",
       "        if (!display || display === 'none') {{\n",
       "            console.log([gd, 'removed!']);\n",
       "            Plotly.purge(gd);\n",
       "            observer.disconnect();\n",
       "        }}\n",
       "}});\n",
       "\n",
       "// Listen for the removal of the full notebook cells\n",
       "var notebookContainer = gd.closest('#notebook-container');\n",
       "if (notebookContainer) {{\n",
       "    x.observe(notebookContainer, {childList: true});\n",
       "}}\n",
       "\n",
       "// Listen for the clearing of the current output cell\n",
       "var outputEl = gd.closest('.output');\n",
       "if (outputEl) {{\n",
       "    x.observe(outputEl, {childList: true});\n",
       "}}\n",
       "\n",
       "                        })                };                });            </script>        </div>"
      ]
     },
     "metadata": {},
     "output_type": "display_data"
    }
   ],
   "source": [
    "price_per_category = df.groupby('category').agg(price=('price','mean')).reset_index()\n",
    "fig_bar = px.bar(price_per_category, x='category', y='price', color='category', color_discrete_map={'Furniture' : 'rgb(3, 3, 182)', 'Office Supplies' : 'rgb(1, 156, 1)', 'Technology':'rgb(178, 8, 8)'})\n",
    "fig.show()"
   ]
  },
  {
   "cell_type": "code",
   "execution_count": 35,
   "id": "9a2d0089-c874-452e-b759-faadd1bd99df",
   "metadata": {},
   "outputs": [
    {
     "data": {
      "application/vnd.plotly.v1+json": {
       "config": {
        "plotlyServerURL": "https://plot.ly"
       },
       "data": [
        {
         "customdata": [
          [
           "Phones"
          ],
          [
           "Phones"
          ],
          [
           "Phones"
          ],
          [
           "Phones"
          ],
          [
           "Machines"
          ],
          [
           "Accessories"
          ],
          [
           "Accessories"
          ],
          [
           "Accessories"
          ],
          [
           "Phones"
          ],
          [
           "Phones"
          ],
          [
           "Phones"
          ],
          [
           "Phones"
          ],
          [
           "Accessories"
          ],
          [
           "Accessories"
          ],
          [
           "Phones"
          ],
          [
           "Phones"
          ],
          [
           "Accessories"
          ],
          [
           "Accessories"
          ],
          [
           "Phones"
          ],
          [
           "Phones"
          ],
          [
           "Phones"
          ],
          [
           "Accessories"
          ],
          [
           "Phones"
          ],
          [
           "Phones"
          ],
          [
           "Phones"
          ],
          [
           "Phones"
          ],
          [
           "Accessories"
          ],
          [
           "Accessories"
          ],
          [
           "Accessories"
          ],
          [
           "Phones"
          ],
          [
           "Phones"
          ],
          [
           "Accessories"
          ],
          [
           "Phones"
          ],
          [
           "Phones"
          ],
          [
           "Accessories"
          ],
          [
           "Phones"
          ],
          [
           "Phones"
          ],
          [
           "Accessories"
          ],
          [
           "Phones"
          ],
          [
           "Copiers"
          ],
          [
           "Phones"
          ],
          [
           "Phones"
          ],
          [
           "Accessories"
          ],
          [
           "Phones"
          ],
          [
           "Phones"
          ],
          [
           "Phones"
          ],
          [
           "Accessories"
          ],
          [
           "Phones"
          ],
          [
           "Phones"
          ],
          [
           "Phones"
          ],
          [
           "Copiers"
          ],
          [
           "Phones"
          ],
          [
           "Phones"
          ],
          [
           "Accessories"
          ],
          [
           "Phones"
          ],
          [
           "Accessories"
          ],
          [
           "Phones"
          ],
          [
           "Phones"
          ],
          [
           "Accessories"
          ],
          [
           "Phones"
          ],
          [
           "Phones"
          ],
          [
           "Phones"
          ],
          [
           "Machines"
          ],
          [
           "Phones"
          ],
          [
           "Accessories"
          ],
          [
           "Phones"
          ],
          [
           "Phones"
          ],
          [
           "Phones"
          ],
          [
           "Phones"
          ],
          [
           "Accessories"
          ],
          [
           "Accessories"
          ],
          [
           "Phones"
          ],
          [
           "Accessories"
          ],
          [
           "Accessories"
          ],
          [
           "Accessories"
          ],
          [
           "Machines"
          ],
          [
           "Machines"
          ],
          [
           "Accessories"
          ],
          [
           "Phones"
          ],
          [
           "Accessories"
          ],
          [
           "Accessories"
          ],
          [
           "Phones"
          ],
          [
           "Accessories"
          ],
          [
           "Accessories"
          ],
          [
           "Accessories"
          ],
          [
           "Accessories"
          ],
          [
           "Accessories"
          ],
          [
           "Accessories"
          ],
          [
           "Phones"
          ],
          [
           "Phones"
          ],
          [
           "Machines"
          ],
          [
           "Accessories"
          ],
          [
           "Accessories"
          ],
          [
           "Phones"
          ],
          [
           "Phones"
          ],
          [
           "Phones"
          ],
          [
           "Phones"
          ],
          [
           "Phones"
          ],
          [
           "Phones"
          ],
          [
           "Accessories"
          ],
          [
           "Accessories"
          ],
          [
           "Phones"
          ],
          [
           "Accessories"
          ],
          [
           "Phones"
          ],
          [
           "Phones"
          ],
          [
           "Accessories"
          ],
          [
           "Phones"
          ],
          [
           "Phones"
          ],
          [
           "Machines"
          ],
          [
           "Accessories"
          ],
          [
           "Phones"
          ],
          [
           "Phones"
          ],
          [
           "Accessories"
          ],
          [
           "Phones"
          ],
          [
           "Copiers"
          ],
          [
           "Machines"
          ],
          [
           "Phones"
          ],
          [
           "Phones"
          ],
          [
           "Machines"
          ],
          [
           "Accessories"
          ],
          [
           "Accessories"
          ],
          [
           "Accessories"
          ],
          [
           "Accessories"
          ],
          [
           "Phones"
          ],
          [
           "Accessories"
          ],
          [
           "Phones"
          ],
          [
           "Accessories"
          ],
          [
           "Phones"
          ],
          [
           "Phones"
          ],
          [
           "Phones"
          ],
          [
           "Phones"
          ],
          [
           "Accessories"
          ],
          [
           "Machines"
          ],
          [
           "Phones"
          ],
          [
           "Phones"
          ],
          [
           "Accessories"
          ],
          [
           "Phones"
          ],
          [
           "Phones"
          ],
          [
           "Accessories"
          ],
          [
           "Phones"
          ],
          [
           "Phones"
          ],
          [
           "Copiers"
          ],
          [
           "Accessories"
          ],
          [
           "Phones"
          ],
          [
           "Accessories"
          ],
          [
           "Phones"
          ],
          [
           "Phones"
          ],
          [
           "Phones"
          ],
          [
           "Phones"
          ],
          [
           "Machines"
          ],
          [
           "Phones"
          ],
          [
           "Accessories"
          ],
          [
           "Machines"
          ],
          [
           "Machines"
          ],
          [
           "Machines"
          ],
          [
           "Phones"
          ],
          [
           "Phones"
          ],
          [
           "Accessories"
          ],
          [
           "Phones"
          ],
          [
           "Phones"
          ],
          [
           "Phones"
          ],
          [
           "Accessories"
          ],
          [
           "Phones"
          ],
          [
           "Phones"
          ],
          [
           "Accessories"
          ],
          [
           "Accessories"
          ],
          [
           "Accessories"
          ],
          [
           "Machines"
          ],
          [
           "Phones"
          ],
          [
           "Accessories"
          ],
          [
           "Accessories"
          ],
          [
           "Phones"
          ],
          [
           "Phones"
          ],
          [
           "Accessories"
          ],
          [
           "Phones"
          ],
          [
           "Accessories"
          ],
          [
           "Accessories"
          ],
          [
           "Phones"
          ],
          [
           "Accessories"
          ],
          [
           "Phones"
          ],
          [
           "Accessories"
          ],
          [
           "Phones"
          ],
          [
           "Phones"
          ],
          [
           "Copiers"
          ],
          [
           "Accessories"
          ],
          [
           "Phones"
          ],
          [
           "Accessories"
          ],
          [
           "Accessories"
          ],
          [
           "Phones"
          ],
          [
           "Phones"
          ],
          [
           "Phones"
          ],
          [
           "Copiers"
          ],
          [
           "Phones"
          ],
          [
           "Phones"
          ],
          [
           "Accessories"
          ],
          [
           "Phones"
          ],
          [
           "Phones"
          ],
          [
           "Accessories"
          ],
          [
           "Accessories"
          ],
          [
           "Accessories"
          ],
          [
           "Phones"
          ],
          [
           "Accessories"
          ],
          [
           "Phones"
          ],
          [
           "Accessories"
          ],
          [
           "Accessories"
          ],
          [
           "Accessories"
          ],
          [
           "Accessories"
          ],
          [
           "Accessories"
          ],
          [
           "Phones"
          ],
          [
           "Phones"
          ],
          [
           "Phones"
          ],
          [
           "Phones"
          ],
          [
           "Phones"
          ],
          [
           "Accessories"
          ],
          [
           "Phones"
          ],
          [
           "Machines"
          ],
          [
           "Accessories"
          ],
          [
           "Phones"
          ],
          [
           "Phones"
          ],
          [
           "Phones"
          ],
          [
           "Accessories"
          ],
          [
           "Accessories"
          ],
          [
           "Accessories"
          ],
          [
           "Phones"
          ],
          [
           "Phones"
          ],
          [
           "Phones"
          ],
          [
           "Accessories"
          ],
          [
           "Phones"
          ],
          [
           "Phones"
          ],
          [
           "Phones"
          ],
          [
           "Accessories"
          ],
          [
           "Phones"
          ],
          [
           "Phones"
          ],
          [
           "Accessories"
          ],
          [
           "Machines"
          ],
          [
           "Accessories"
          ],
          [
           "Accessories"
          ],
          [
           "Phones"
          ],
          [
           "Phones"
          ],
          [
           "Phones"
          ],
          [
           "Phones"
          ],
          [
           "Accessories"
          ],
          [
           "Phones"
          ],
          [
           "Phones"
          ],
          [
           "Accessories"
          ],
          [
           "Accessories"
          ],
          [
           "Accessories"
          ],
          [
           "Phones"
          ],
          [
           "Phones"
          ],
          [
           "Phones"
          ],
          [
           "Phones"
          ],
          [
           "Phones"
          ],
          [
           "Machines"
          ],
          [
           "Phones"
          ],
          [
           "Accessories"
          ],
          [
           "Accessories"
          ],
          [
           "Accessories"
          ],
          [
           "Phones"
          ],
          [
           "Phones"
          ],
          [
           "Phones"
          ],
          [
           "Phones"
          ],
          [
           "Phones"
          ],
          [
           "Phones"
          ],
          [
           "Phones"
          ],
          [
           "Phones"
          ],
          [
           "Accessories"
          ],
          [
           "Phones"
          ],
          [
           "Accessories"
          ],
          [
           "Accessories"
          ],
          [
           "Phones"
          ],
          [
           "Machines"
          ],
          [
           "Phones"
          ],
          [
           "Accessories"
          ],
          [
           "Phones"
          ],
          [
           "Phones"
          ],
          [
           "Accessories"
          ],
          [
           "Phones"
          ],
          [
           "Phones"
          ],
          [
           "Accessories"
          ],
          [
           "Accessories"
          ],
          [
           "Accessories"
          ],
          [
           "Phones"
          ],
          [
           "Accessories"
          ],
          [
           "Accessories"
          ],
          [
           "Phones"
          ],
          [
           "Phones"
          ],
          [
           "Phones"
          ],
          [
           "Accessories"
          ],
          [
           "Accessories"
          ],
          [
           "Phones"
          ],
          [
           "Phones"
          ],
          [
           "Phones"
          ],
          [
           "Phones"
          ],
          [
           "Phones"
          ],
          [
           "Machines"
          ],
          [
           "Phones"
          ],
          [
           "Machines"
          ],
          [
           "Phones"
          ],
          [
           "Phones"
          ],
          [
           "Phones"
          ],
          [
           "Phones"
          ],
          [
           "Accessories"
          ],
          [
           "Accessories"
          ],
          [
           "Accessories"
          ],
          [
           "Phones"
          ],
          [
           "Accessories"
          ],
          [
           "Phones"
          ],
          [
           "Phones"
          ],
          [
           "Phones"
          ],
          [
           "Phones"
          ],
          [
           "Machines"
          ],
          [
           "Accessories"
          ],
          [
           "Accessories"
          ],
          [
           "Machines"
          ],
          [
           "Phones"
          ],
          [
           "Phones"
          ],
          [
           "Phones"
          ],
          [
           "Accessories"
          ],
          [
           "Phones"
          ],
          [
           "Accessories"
          ],
          [
           "Accessories"
          ],
          [
           "Phones"
          ],
          [
           "Phones"
          ],
          [
           "Phones"
          ],
          [
           "Accessories"
          ],
          [
           "Phones"
          ],
          [
           "Accessories"
          ],
          [
           "Accessories"
          ],
          [
           "Phones"
          ],
          [
           "Accessories"
          ],
          [
           "Accessories"
          ],
          [
           "Phones"
          ],
          [
           "Accessories"
          ],
          [
           "Machines"
          ],
          [
           "Phones"
          ],
          [
           "Accessories"
          ],
          [
           "Accessories"
          ],
          [
           "Phones"
          ],
          [
           "Accessories"
          ],
          [
           "Phones"
          ],
          [
           "Accessories"
          ],
          [
           "Accessories"
          ],
          [
           "Accessories"
          ],
          [
           "Phones"
          ],
          [
           "Accessories"
          ],
          [
           "Accessories"
          ],
          [
           "Accessories"
          ],
          [
           "Accessories"
          ],
          [
           "Accessories"
          ],
          [
           "Phones"
          ],
          [
           "Accessories"
          ],
          [
           "Phones"
          ],
          [
           "Phones"
          ],
          [
           "Accessories"
          ]
         ],
         "hovertemplate": "category=Technology<br>Stock Quantity=%{x}<br>Price (Ksh)=%{y}<br>sub_category=%{customdata[0]}<extra></extra>",
         "legendgroup": "Technology",
         "marker": {
          "color": "#636efa",
          "symbol": "circle"
         },
         "mode": "markers",
         "name": "Technology",
         "showlegend": true,
         "type": "scattergl",
         "x": [
          58,
          195,
          84,
          135,
          173,
          55,
          68,
          93,
          141,
          84,
          143,
          123,
          170,
          131,
          112,
          79,
          51,
          187,
          165,
          133,
          248,
          31,
          41,
          75,
          87,
          218,
          125,
          194,
          244,
          57,
          16,
          174,
          107,
          216,
          73,
          189,
          14,
          46,
          174,
          127,
          95,
          244,
          124,
          142,
          39,
          27,
          186,
          241,
          46,
          132,
          19,
          137,
          84,
          124,
          249,
          101,
          249,
          179,
          248,
          10,
          20,
          189,
          48,
          237,
          196,
          164,
          64,
          160,
          222,
          218,
          34,
          223,
          75,
          202,
          148,
          148,
          166,
          107,
          138,
          108,
          107,
          249,
          67,
          245,
          111,
          133,
          42,
          62,
          114,
          239,
          161,
          90,
          95,
          103,
          48,
          247,
          30,
          204,
          112,
          13,
          83,
          200,
          128,
          221,
          50,
          208,
          229,
          38,
          128,
          199,
          207,
          145,
          175,
          114,
          133,
          26,
          122,
          221,
          13,
          20,
          138,
          127,
          181,
          140,
          203,
          41,
          242,
          15,
          168,
          190,
          69,
          144,
          156,
          194,
          43,
          211,
          161,
          176,
          35,
          25,
          24,
          238,
          84,
          61,
          177,
          124,
          126,
          195,
          64,
          123,
          152,
          160,
          125,
          111,
          112,
          52,
          67,
          103,
          96,
          249,
          49,
          18,
          124,
          79,
          90,
          156,
          106,
          142,
          231,
          101,
          112,
          24,
          144,
          91,
          85,
          142,
          13,
          95,
          176,
          80,
          35,
          187,
          166,
          222,
          75,
          222,
          249,
          219,
          131,
          176,
          211,
          80,
          94,
          152,
          49,
          144,
          143,
          196,
          68,
          218,
          191,
          207,
          194,
          173,
          23,
          153,
          87,
          74,
          70,
          55,
          216,
          241,
          27,
          171,
          116,
          90,
          239,
          71,
          32,
          160,
          65,
          20,
          113,
          130,
          84,
          179,
          169,
          172,
          183,
          173,
          136,
          197,
          35,
          75,
          52,
          69,
          233,
          92,
          231,
          156,
          244,
          178,
          97,
          147,
          126,
          51,
          154,
          221,
          248,
          42,
          107,
          246,
          236,
          223,
          18,
          13,
          85,
          74,
          109,
          200,
          158,
          127,
          249,
          37,
          203,
          32,
          98,
          156,
          186,
          56,
          137,
          118,
          63,
          125,
          178,
          120,
          159,
          38,
          149,
          174,
          233,
          238,
          68,
          243,
          200,
          234,
          52,
          66,
          16,
          213,
          148,
          93,
          38,
          135,
          225,
          82,
          93,
          81,
          32,
          99,
          104,
          103,
          131,
          222,
          60,
          148,
          208,
          203,
          18,
          142,
          23,
          224,
          240,
          43,
          61,
          190,
          98,
          112,
          49,
          179,
          142,
          14,
          170,
          26,
          226,
          135,
          198,
          198,
          159,
          145,
          88,
          245,
          206,
          168,
          165,
          109,
          55,
          246,
          223,
          124,
          25,
          145,
          112,
          127,
          219,
          79,
          171,
          51,
          151,
          152,
          48,
          77,
          148,
          149
         ],
         "xaxis": "x",
         "y": [
          79.92,
          1259.93,
          377.97,
          87.96,
          821.3,
          22.704,
          89.97,
          47.976,
          258.528,
          110.352,
          131.88,
          239.9,
          349.95,
          254.97,
          279.96,
          627.168,
          37.6,
          119.85,
          329.584,
          15.984,
          32.7,
          90.57,
          2735.952,
          63.936,
          323.976,
          67.8,
          449.91,
          258.696,
          345,
          907.152,
          118.782,
          291.96,
          206.1,
          219.184,
          34.95,
          304.776,
          137.94,
          15.02,
          575.928,
          1119.984,
          689.408,
          1889.946,
          666.4,
          7.992,
          11.12,
          881.93,
          236,
          494.97,
          279.96,
          946.344,
          479.984,
          110.352,
          119.96,
          127.984,
          279.86,
          30.84,
          21.99,
          155.35,
          234.45,
          159.96,
          59.98,
          666.344,
          341.991,
          779.796,
          7.16,
          1212.848,
          1295.84,
          209.97,
          111.984,
          72,
          519.96,
          453.576,
          36.24,
          68.112,
          50.12,
          2321.9,
          447.968,
          47.53,
          361.376,
          284.97,
          99.98,
          153.584,
          252,
          227.976,
          431.136,
          25.98,
          357,
          103.12,
          140.736,
          377.97,
          3080,
          48.9,
          55.92,
          17.52,
          222.384,
          84.784,
          263.96,
          71.928,
          219.168,
          27.88,
          40.776,
          539.97,
          92.52,
          206.1,
          217.584,
          71.976,
          862.344,
          135.516,
          12.585,
          36.048,
          143.928,
          116.98,
          199.98,
          103.192,
          439.992,
          91.475,
          445.96,
          107.976,
          350.973,
          288,
          53.7,
          371.97,
          19.99,
          1871.88,
          27.96,
          73.568,
          44.784,
          122.382,
          269.982,
          1626.192,
          71.952,
          9.09,
          629.93,
          467.97,
          391.98,
          6.79,
          104.85,
          84.784,
          279.944,
          7.992,
          158.376,
          639.968,
          36.784,
          224.75,
          116.312,
          657.93,
          39.594,
          20.784,
          44.95,
          6999.96,
          438.336,
          50.88,
          30.345,
          120,
          265.475,
          668.16,
          115.136,
          2.97,
          201.584,
          1091.168,
          36.738,
          72.744,
          287.88,
          88.776,
          63.88,
          29.99,
          100,
          4499.985,
          107.982,
          227.976,
          118,
          149.95,
          15.588,
          479.97,
          57.594,
          113.97,
          843.9,
          1259.97,
          132.6,
          29.16,
          79.98,
          39.99,
          201.584,
          5399.91,
          95.968,
          281.97,
          9.096,
          29,
          1502.376,
          359.98,
          167.968,
          1199.976,
          469.99,
          149.97,
          389.97,
          26.982,
          187.98,
          174.95,
          47.976,
          104.88,
          126.56,
          527.92,
          419.944,
          57.584,
          36.24,
          151.2,
          82.8,
          2.97,
          131.98,
          1299.66,
          135.984,
          242.624,
          134.99,
          179.97,
          41.988,
          95.994,
          26,
          587.97,
          88.752,
          889.536,
          54.384,
          319.968,
          57.06,
          863.64,
          44.784,
          173.94,
          15.216,
          95.968,
          758.352,
          361.376,
          62.31,
          404.94,
          197.97,
          102.13,
          3059.982,
          239.97,
          99.6,
          119.94,
          369.544,
          728.946,
          45.99,
          82.95,
          269.98,
          110.376,
          45.98,
          252,
          59.98,
          119.96,
          29.56,
          604.752,
          61.542,
          1294.75,
          105.552,
          107.982,
          36.24,
          16.776,
          24.032,
          464,
          155.37,
          431.94,
          35.04,
          197.97,
          4158.912,
          158.99,
          629.958,
          102.336,
          49.616,
          272.61,
          20.97,
          164.792,
          600.53,
          359.976,
          90,
          406.368,
          5.94,
          319.96,
          226.2,
          328.776,
          59.97,
          36.51,
          93.98,
          50.97,
          619.95,
          431.976,
          38.24,
          471.92,
          137.94,
          199.98,
          45,
          99.98,
          90.48,
          302.376,
          358.2,
          911.424,
          399.54,
          1439.92,
          3357.6,
          29.16,
          211.168,
          328.224,
          444.768,
          239.976,
          248.85,
          36,
          197.97,
          11.672,
          773.94,
          100.792,
          180.96,
          321.552,
          3991.98,
          15.576,
          16.56,
          479.97,
          1363.96,
          344.704,
          39.96,
          499.98,
          239.976,
          255.968,
          619.95,
          14.78,
          119.02,
          28.99,
          119.98,
          251.964,
          63.96,
          98.16,
          471.92,
          159.984,
          160,
          371.168,
          83.976,
          1919.976,
          143.976,
          62.592,
          899.95,
          1394.95,
          447.944,
          449.97,
          36.32,
          599.97,
          263.88,
          2479.96,
          12.99,
          159.8,
          146.45,
          319.968,
          40.776,
          220.752,
          75,
          239.984,
          1439.968,
          31.984
         ],
         "yaxis": "y"
        },
        {
         "customdata": [
          [
           "Furnishings"
          ],
          [
           "Furnishings"
          ],
          [
           "Chairs"
          ],
          [
           "Furnishings"
          ],
          [
           "Furnishings"
          ],
          [
           "Furnishings"
          ],
          [
           "Bookcases"
          ],
          [
           "Bookcases"
          ],
          [
           "Furnishings"
          ],
          [
           "Furnishings"
          ],
          [
           "Chairs"
          ],
          [
           "Furnishings"
          ],
          [
           "Furnishings"
          ],
          [
           "Chairs"
          ],
          [
           "Chairs"
          ],
          [
           "Chairs"
          ],
          [
           "Chairs"
          ],
          [
           "Furnishings"
          ],
          [
           "Furnishings"
          ],
          [
           "Furnishings"
          ],
          [
           "Furnishings"
          ],
          [
           "Bookcases"
          ],
          [
           "Tables"
          ],
          [
           "Furnishings"
          ],
          [
           "Bookcases"
          ],
          [
           "Furnishings"
          ],
          [
           "Furnishings"
          ],
          [
           "Chairs"
          ],
          [
           "Bookcases"
          ],
          [
           "Chairs"
          ],
          [
           "Chairs"
          ],
          [
           "Furnishings"
          ],
          [
           "Bookcases"
          ],
          [
           "Tables"
          ],
          [
           "Tables"
          ],
          [
           "Furnishings"
          ],
          [
           "Chairs"
          ],
          [
           "Furnishings"
          ],
          [
           "Furnishings"
          ],
          [
           "Furnishings"
          ],
          [
           "Furnishings"
          ],
          [
           "Bookcases"
          ],
          [
           "Chairs"
          ],
          [
           "Chairs"
          ],
          [
           "Tables"
          ],
          [
           "Tables"
          ],
          [
           "Chairs"
          ],
          [
           "Tables"
          ],
          [
           "Furnishings"
          ],
          [
           "Tables"
          ],
          [
           "Furnishings"
          ],
          [
           "Furnishings"
          ],
          [
           "Chairs"
          ],
          [
           "Furnishings"
          ],
          [
           "Tables"
          ],
          [
           "Tables"
          ],
          [
           "Chairs"
          ],
          [
           "Chairs"
          ],
          [
           "Chairs"
          ],
          [
           "Chairs"
          ],
          [
           "Tables"
          ],
          [
           "Furnishings"
          ],
          [
           "Bookcases"
          ],
          [
           "Bookcases"
          ],
          [
           "Tables"
          ],
          [
           "Chairs"
          ],
          [
           "Tables"
          ],
          [
           "Furnishings"
          ],
          [
           "Furnishings"
          ],
          [
           "Bookcases"
          ],
          [
           "Furnishings"
          ],
          [
           "Chairs"
          ],
          [
           "Furnishings"
          ],
          [
           "Chairs"
          ],
          [
           "Furnishings"
          ],
          [
           "Furnishings"
          ],
          [
           "Furnishings"
          ],
          [
           "Chairs"
          ],
          [
           "Chairs"
          ],
          [
           "Furnishings"
          ],
          [
           "Furnishings"
          ],
          [
           "Furnishings"
          ],
          [
           "Furnishings"
          ],
          [
           "Chairs"
          ],
          [
           "Tables"
          ],
          [
           "Furnishings"
          ],
          [
           "Tables"
          ],
          [
           "Furnishings"
          ],
          [
           "Chairs"
          ],
          [
           "Bookcases"
          ],
          [
           "Chairs"
          ],
          [
           "Furnishings"
          ],
          [
           "Chairs"
          ],
          [
           "Chairs"
          ],
          [
           "Chairs"
          ],
          [
           "Chairs"
          ],
          [
           "Bookcases"
          ],
          [
           "Bookcases"
          ],
          [
           "Tables"
          ],
          [
           "Furnishings"
          ],
          [
           "Bookcases"
          ],
          [
           "Chairs"
          ],
          [
           "Chairs"
          ],
          [
           "Furnishings"
          ],
          [
           "Furnishings"
          ],
          [
           "Chairs"
          ],
          [
           "Chairs"
          ],
          [
           "Furnishings"
          ],
          [
           "Furnishings"
          ],
          [
           "Furnishings"
          ],
          [
           "Furnishings"
          ],
          [
           "Chairs"
          ],
          [
           "Furnishings"
          ],
          [
           "Furnishings"
          ],
          [
           "Furnishings"
          ],
          [
           "Chairs"
          ],
          [
           "Furnishings"
          ],
          [
           "Bookcases"
          ],
          [
           "Furnishings"
          ],
          [
           "Chairs"
          ],
          [
           "Furnishings"
          ],
          [
           "Furnishings"
          ],
          [
           "Chairs"
          ],
          [
           "Chairs"
          ],
          [
           "Chairs"
          ],
          [
           "Bookcases"
          ],
          [
           "Chairs"
          ],
          [
           "Furnishings"
          ],
          [
           "Chairs"
          ],
          [
           "Furnishings"
          ],
          [
           "Tables"
          ],
          [
           "Chairs"
          ],
          [
           "Chairs"
          ],
          [
           "Furnishings"
          ],
          [
           "Chairs"
          ],
          [
           "Tables"
          ],
          [
           "Bookcases"
          ],
          [
           "Tables"
          ],
          [
           "Tables"
          ],
          [
           "Chairs"
          ],
          [
           "Chairs"
          ],
          [
           "Chairs"
          ],
          [
           "Furnishings"
          ],
          [
           "Furnishings"
          ],
          [
           "Chairs"
          ],
          [
           "Chairs"
          ],
          [
           "Furnishings"
          ],
          [
           "Furnishings"
          ],
          [
           "Chairs"
          ],
          [
           "Chairs"
          ],
          [
           "Chairs"
          ],
          [
           "Chairs"
          ],
          [
           "Furnishings"
          ],
          [
           "Furnishings"
          ],
          [
           "Furnishings"
          ],
          [
           "Furnishings"
          ],
          [
           "Chairs"
          ],
          [
           "Chairs"
          ],
          [
           "Chairs"
          ],
          [
           "Chairs"
          ],
          [
           "Chairs"
          ],
          [
           "Furnishings"
          ],
          [
           "Chairs"
          ],
          [
           "Furnishings"
          ],
          [
           "Furnishings"
          ],
          [
           "Tables"
          ],
          [
           "Furnishings"
          ],
          [
           "Furnishings"
          ],
          [
           "Furnishings"
          ],
          [
           "Furnishings"
          ],
          [
           "Tables"
          ],
          [
           "Chairs"
          ],
          [
           "Furnishings"
          ],
          [
           "Furnishings"
          ],
          [
           "Chairs"
          ],
          [
           "Furnishings"
          ],
          [
           "Furnishings"
          ],
          [
           "Bookcases"
          ],
          [
           "Furnishings"
          ],
          [
           "Bookcases"
          ],
          [
           "Chairs"
          ],
          [
           "Furnishings"
          ],
          [
           "Bookcases"
          ],
          [
           "Furnishings"
          ],
          [
           "Chairs"
          ],
          [
           "Furnishings"
          ],
          [
           "Furnishings"
          ],
          [
           "Furnishings"
          ],
          [
           "Chairs"
          ],
          [
           "Bookcases"
          ],
          [
           "Tables"
          ],
          [
           "Furnishings"
          ],
          [
           "Tables"
          ],
          [
           "Furnishings"
          ],
          [
           "Furnishings"
          ],
          [
           "Bookcases"
          ],
          [
           "Tables"
          ],
          [
           "Bookcases"
          ],
          [
           "Furnishings"
          ],
          [
           "Tables"
          ],
          [
           "Tables"
          ],
          [
           "Furnishings"
          ],
          [
           "Furnishings"
          ],
          [
           "Furnishings"
          ],
          [
           "Tables"
          ],
          [
           "Tables"
          ],
          [
           "Tables"
          ],
          [
           "Bookcases"
          ],
          [
           "Tables"
          ],
          [
           "Chairs"
          ],
          [
           "Furnishings"
          ],
          [
           "Furnishings"
          ],
          [
           "Tables"
          ],
          [
           "Furnishings"
          ],
          [
           "Furnishings"
          ],
          [
           "Chairs"
          ],
          [
           "Furnishings"
          ],
          [
           "Chairs"
          ],
          [
           "Furnishings"
          ],
          [
           "Tables"
          ],
          [
           "Furnishings"
          ],
          [
           "Tables"
          ],
          [
           "Furnishings"
          ],
          [
           "Chairs"
          ],
          [
           "Tables"
          ],
          [
           "Furnishings"
          ],
          [
           "Chairs"
          ],
          [
           "Furnishings"
          ],
          [
           "Furnishings"
          ],
          [
           "Chairs"
          ],
          [
           "Tables"
          ],
          [
           "Furnishings"
          ],
          [
           "Chairs"
          ],
          [
           "Chairs"
          ],
          [
           "Bookcases"
          ],
          [
           "Tables"
          ],
          [
           "Tables"
          ],
          [
           "Tables"
          ],
          [
           "Chairs"
          ],
          [
           "Furnishings"
          ],
          [
           "Chairs"
          ],
          [
           "Furnishings"
          ],
          [
           "Furnishings"
          ],
          [
           "Furnishings"
          ],
          [
           "Tables"
          ],
          [
           "Chairs"
          ],
          [
           "Furnishings"
          ],
          [
           "Chairs"
          ],
          [
           "Tables"
          ],
          [
           "Chairs"
          ],
          [
           "Tables"
          ],
          [
           "Furnishings"
          ],
          [
           "Tables"
          ],
          [
           "Furnishings"
          ],
          [
           "Tables"
          ],
          [
           "Bookcases"
          ],
          [
           "Furnishings"
          ],
          [
           "Furnishings"
          ],
          [
           "Furnishings"
          ],
          [
           "Furnishings"
          ],
          [
           "Tables"
          ],
          [
           "Furnishings"
          ],
          [
           "Chairs"
          ],
          [
           "Bookcases"
          ],
          [
           "Tables"
          ],
          [
           "Bookcases"
          ],
          [
           "Tables"
          ],
          [
           "Bookcases"
          ],
          [
           "Chairs"
          ],
          [
           "Furnishings"
          ],
          [
           "Chairs"
          ],
          [
           "Furnishings"
          ],
          [
           "Tables"
          ],
          [
           "Furnishings"
          ],
          [
           "Furnishings"
          ],
          [
           "Chairs"
          ],
          [
           "Furnishings"
          ],
          [
           "Bookcases"
          ],
          [
           "Bookcases"
          ],
          [
           "Furnishings"
          ],
          [
           "Chairs"
          ],
          [
           "Bookcases"
          ],
          [
           "Furnishings"
          ],
          [
           "Furnishings"
          ],
          [
           "Chairs"
          ],
          [
           "Tables"
          ],
          [
           "Chairs"
          ],
          [
           "Tables"
          ],
          [
           "Chairs"
          ],
          [
           "Tables"
          ],
          [
           "Furnishings"
          ],
          [
           "Tables"
          ],
          [
           "Chairs"
          ],
          [
           "Chairs"
          ],
          [
           "Chairs"
          ],
          [
           "Furnishings"
          ],
          [
           "Furnishings"
          ],
          [
           "Furnishings"
          ],
          [
           "Furnishings"
          ],
          [
           "Furnishings"
          ],
          [
           "Furnishings"
          ],
          [
           "Furnishings"
          ],
          [
           "Tables"
          ],
          [
           "Chairs"
          ],
          [
           "Tables"
          ],
          [
           "Chairs"
          ],
          [
           "Tables"
          ],
          [
           "Tables"
          ],
          [
           "Tables"
          ],
          [
           "Furnishings"
          ],
          [
           "Chairs"
          ],
          [
           "Chairs"
          ],
          [
           "Furnishings"
          ],
          [
           "Chairs"
          ],
          [
           "Furnishings"
          ],
          [
           "Tables"
          ],
          [
           "Chairs"
          ],
          [
           "Tables"
          ],
          [
           "Furnishings"
          ],
          [
           "Furnishings"
          ],
          [
           "Bookcases"
          ],
          [
           "Chairs"
          ],
          [
           "Chairs"
          ],
          [
           "Furnishings"
          ],
          [
           "Chairs"
          ],
          [
           "Bookcases"
          ],
          [
           "Chairs"
          ],
          [
           "Furnishings"
          ],
          [
           "Tables"
          ],
          [
           "Furnishings"
          ],
          [
           "Furnishings"
          ],
          [
           "Furnishings"
          ],
          [
           "Furnishings"
          ],
          [
           "Tables"
          ],
          [
           "Chairs"
          ],
          [
           "Furnishings"
          ],
          [
           "Furnishings"
          ],
          [
           "Chairs"
          ],
          [
           "Furnishings"
          ],
          [
           "Chairs"
          ],
          [
           "Furnishings"
          ],
          [
           "Chairs"
          ],
          [
           "Furnishings"
          ],
          [
           "Chairs"
          ],
          [
           "Chairs"
          ],
          [
           "Furnishings"
          ],
          [
           "Furnishings"
          ],
          [
           "Furnishings"
          ],
          [
           "Furnishings"
          ],
          [
           "Furnishings"
          ],
          [
           "Furnishings"
          ],
          [
           "Tables"
          ],
          [
           "Chairs"
          ],
          [
           "Furnishings"
          ],
          [
           "Bookcases"
          ],
          [
           "Bookcases"
          ],
          [
           "Chairs"
          ],
          [
           "Furnishings"
          ],
          [
           "Chairs"
          ],
          [
           "Tables"
          ],
          [
           "Chairs"
          ],
          [
           "Furnishings"
          ],
          [
           "Tables"
          ],
          [
           "Chairs"
          ],
          [
           "Tables"
          ],
          [
           "Furnishings"
          ],
          [
           "Tables"
          ],
          [
           "Furnishings"
          ],
          [
           "Tables"
          ],
          [
           "Chairs"
          ],
          [
           "Bookcases"
          ],
          [
           "Furnishings"
          ],
          [
           "Furnishings"
          ],
          [
           "Tables"
          ],
          [
           "Furnishings"
          ],
          [
           "Furnishings"
          ],
          [
           "Furnishings"
          ],
          [
           "Chairs"
          ],
          [
           "Furnishings"
          ],
          [
           "Furnishings"
          ],
          [
           "Chairs"
          ],
          [
           "Furnishings"
          ],
          [
           "Chairs"
          ],
          [
           "Furnishings"
          ],
          [
           "Chairs"
          ],
          [
           "Furnishings"
          ],
          [
           "Chairs"
          ],
          [
           "Furnishings"
          ],
          [
           "Furnishings"
          ],
          [
           "Furnishings"
          ],
          [
           "Furnishings"
          ],
          [
           "Furnishings"
          ],
          [
           "Chairs"
          ],
          [
           "Furnishings"
          ],
          [
           "Furnishings"
          ],
          [
           "Furnishings"
          ],
          [
           "Tables"
          ],
          [
           "Chairs"
          ],
          [
           "Chairs"
          ],
          [
           "Tables"
          ],
          [
           "Furnishings"
          ],
          [
           "Chairs"
          ],
          [
           "Furnishings"
          ],
          [
           "Chairs"
          ],
          [
           "Furnishings"
          ],
          [
           "Furnishings"
          ],
          [
           "Furnishings"
          ],
          [
           "Furnishings"
          ],
          [
           "Furnishings"
          ],
          [
           "Furnishings"
          ],
          [
           "Chairs"
          ],
          [
           "Furnishings"
          ],
          [
           "Furnishings"
          ],
          [
           "Tables"
          ],
          [
           "Furnishings"
          ],
          [
           "Furnishings"
          ],
          [
           "Furnishings"
          ],
          [
           "Tables"
          ],
          [
           "Tables"
          ],
          [
           "Bookcases"
          ],
          [
           "Furnishings"
          ],
          [
           "Furnishings"
          ],
          [
           "Furnishings"
          ],
          [
           "Chairs"
          ],
          [
           "Tables"
          ],
          [
           "Chairs"
          ]
         ],
         "hovertemplate": "category=Furniture<br>Stock Quantity=%{x}<br>Price (Ksh)=%{y}<br>sub_category=%{customdata[0]}<extra></extra>",
         "legendgroup": "Furniture",
         "marker": {
          "color": "#EF553B",
          "symbol": "circle"
         },
         "mode": "markers",
         "name": "Furniture",
         "showlegend": true,
         "type": "scattergl",
         "x": [
          133,
          219,
          133,
          83,
          113,
          184,
          175,
          203,
          178,
          219,
          102,
          217,
          121,
          130,
          85,
          171,
          71,
          144,
          81,
          73,
          108,
          73,
          179,
          176,
          247,
          203,
          228,
          53,
          30,
          131,
          43,
          12,
          151,
          179,
          221,
          236,
          20,
          11,
          144,
          161,
          80,
          157,
          123,
          21,
          154,
          84,
          98,
          227,
          93,
          36,
          43,
          185,
          38,
          109,
          111,
          236,
          127,
          16,
          97,
          43,
          128,
          80,
          34,
          37,
          93,
          87,
          176,
          63,
          15,
          200,
          92,
          103,
          138,
          110,
          85,
          58,
          71,
          208,
          94,
          169,
          121,
          160,
          17,
          223,
          164,
          138,
          93,
          176,
          126,
          24,
          10,
          83,
          46,
          122,
          201,
          65,
          124,
          156,
          216,
          113,
          34,
          224,
          88,
          177,
          84,
          242,
          47,
          63,
          37,
          183,
          109,
          101,
          240,
          106,
          16,
          40,
          39,
          243,
          81,
          83,
          191,
          196,
          91,
          136,
          38,
          114,
          193,
          180,
          162,
          58,
          185,
          215,
          45,
          227,
          149,
          62,
          148,
          193,
          94,
          25,
          38,
          35,
          201,
          99,
          78,
          70,
          132,
          192,
          248,
          40,
          60,
          89,
          238,
          171,
          187,
          121,
          122,
          29,
          209,
          201,
          191,
          102,
          44,
          109,
          25,
          150,
          112,
          16,
          213,
          233,
          241,
          49,
          157,
          73,
          115,
          144,
          164,
          28,
          47,
          152,
          127,
          224,
          231,
          25,
          221,
          206,
          83,
          239,
          200,
          73,
          161,
          110,
          75,
          200,
          133,
          50,
          244,
          12,
          204,
          32,
          150,
          19,
          94,
          243,
          88,
          246,
          46,
          74,
          250,
          178,
          222,
          11,
          183,
          116,
          14,
          222,
          72,
          25,
          119,
          223,
          248,
          117,
          41,
          239,
          242,
          125,
          203,
          93,
          119,
          27,
          141,
          200,
          123,
          125,
          86,
          239,
          90,
          133,
          176,
          66,
          118,
          230,
          44,
          206,
          248,
          196,
          84,
          200,
          43,
          244,
          29,
          197,
          36,
          70,
          161,
          212,
          109,
          143,
          84,
          170,
          178,
          236,
          57,
          200,
          179,
          50,
          81,
          75,
          241,
          214,
          165,
          23,
          100,
          169,
          130,
          156,
          138,
          44,
          131,
          241,
          67,
          121,
          249,
          142,
          231,
          124,
          106,
          75,
          28,
          13,
          152,
          197,
          151,
          117,
          109,
          86,
          149,
          28,
          28,
          47,
          101,
          191,
          174,
          95,
          95,
          125,
          160,
          91,
          87,
          169,
          41,
          175,
          81,
          234,
          237,
          241,
          212,
          146,
          30,
          227,
          105,
          88,
          47,
          43,
          246,
          210,
          207,
          108,
          196,
          152,
          197,
          169,
          23,
          78,
          90,
          149,
          151,
          144,
          189,
          195,
          167,
          19,
          203,
          218,
          234,
          130,
          171,
          238,
          153,
          235,
          191,
          229,
          241,
          125,
          108,
          250,
          197,
          173,
          13,
          27,
          85,
          130,
          14,
          236,
          52,
          52,
          104,
          139,
          95,
          38,
          52,
          186,
          130,
          154,
          54,
          89,
          219,
          220,
          150,
          238,
          246,
          250,
          115,
          128,
          158,
          157,
          29,
          150,
          132,
          171,
          210,
          153,
          149,
          155,
          52,
          127,
          31,
          146,
          168,
          247,
          173,
          162,
          21,
          240,
          121,
          227,
          107,
          76,
          181,
          95,
          212,
          137,
          192,
          83,
          53,
          86,
          135,
          28,
          152,
          144,
          171,
          191,
          93,
          230,
          128,
          120
         ],
         "xaxis": "x",
         "y": [
          32.776,
          396.92,
          500.24,
          10.02,
          306.9,
          25.11,
          241.96,
          205.9992,
          127.95,
          41.6,
          563.43,
          29.78,
          14.56,
          63.882,
          638.288,
          182.94,
          1059.12,
          151.96,
          32.952,
          8.856,
          101.12,
          241.96,
          251.006,
          8.92,
          290.666,
          109.48,
          6.28,
          172.764,
          299.97,
          1487.04,
          191.058,
          20.04,
          1194.165,
          1053.164,
          154.764,
          282.84,
          302.67,
          69.008,
          58.36,
          77.952,
          36.672,
          198.272,
          149.9,
          327.996,
          172.11,
          1685.88,
          1448.82,
          328.59,
          40.784,
          698.352,
          135.3,
          35.28,
          383.607,
          157.74,
          171.288,
          286.85,
          872.94,
          104.784,
          899.43,
          319.41,
          161.28,
          529.9,
          155.456,
          353.568,
          918.785,
          392.94,
          626.352,
          102.36,
          79.76,
          1552.831,
          16.784,
          589.41,
          66.69,
          408.006,
          51.75,
          51.968,
          4.992,
          1125.488,
          230.28,
          18.84,
          53.2,
          20.32,
          12.56,
          386.68,
          171.288,
          56.328,
          241.568,
          87.54,
          458.43,
          145.764,
          1207.84,
          14.89,
          145.764,
          1424.9,
          577.764,
          192.186,
          328.3992,
          523.92,
          1044.63,
          211.84,
          231.92,
          368.97,
          770.352,
          21.936,
          38.6,
          512.358,
          1951.84,
          14.76,
          59.99,
          526.45,
          29.12,
          1282.41,
          15.168,
          20.24,
          169.568,
          281.372,
          327.76,
          198.744,
          276.69,
          1348.704,
          273.96,
          30.8,
          170.352,
          528.43,
          451.152,
          136.784,
          63.936,
          45.98,
          186.304,
          133.38,
          801.96,
          1121.568,
          63.686,
          24.7,
          161.568,
          464.292,
          127.764,
          609.98,
          393.165,
          191.079,
          85.246,
          60.74,
          182.352,
          82.8,
          436.704,
          327.564,
          23.88,
          19.3,
          317.058,
          83.136,
          150.98,
          135.882,
          19.52,
          38.97,
          128.9,
          91.032,
          388.704,
          1819.86,
          195.136,
          304.45,
          142.36,
          9.82,
          569.058,
          187.76,
          56.28,
          273.568,
          23.88,
          63.98,
          24.288,
          129.92,
          591.32,
          483.136,
          70.68,
          467.46,
          975.92,
          68.64,
          17.67,
          512.94,
          210.68,
          369.1992,
          605.88,
          66.112,
          46.384,
          65.424,
          518.272,
          339.136,
          14.56,
          7.712,
          1159.056,
          681.408,
          409.59,
          22.752,
          108.925,
          3.48,
          25.984,
          156.3728,
          253.176,
          359.058,
          6.96,
          233.86,
          815.292,
          206.112,
          51.264,
          10.56,
          653.55,
          401.59,
          787.53,
          120.98,
          145.98,
          275.058,
          74.76,
          629.64,
          626.1,
          13.96,
          77.952,
          1454.9,
          27.58,
          542.94,
          14.76,
          1421.664,
          8.544,
          328.59,
          96.53,
          51.96,
          376.866,
          289.8,
          271.764,
          88.02,
          39.96,
          350.98,
          452.94,
          14.82,
          458.43,
          181.986,
          102.018,
          446.068,
          550.431,
          853.092,
          854.94,
          34.79,
          517.5,
          29.328,
          86.45,
          59.92,
          2430.08,
          248.43,
          28.44,
          483.136,
          1018.104,
          239.358,
          177.225,
          254.744,
          73.915,
          6.24,
          521.96,
          212.94,
          29.22,
          62.72,
          35.92,
          13.4,
          512.19,
          64.96,
          253.764,
          301.96,
          35.544,
          141.96,
          206.962,
          314.352,
          445.802,
          28.272,
          290.98,
          332.832,
          692.94,
          43.12,
          44.46,
          242.352,
          8.128,
          4007.84,
          48.58,
          409.216,
          585.552,
          205.666,
          14,
          33.568,
          207.846,
          364.95,
          203.92,
          393.165,
          218.352,
          283.56,
          82.524,
          364.776,
          301.96,
          317.058,
          90.882,
          71.97,
          20.096,
          25.02,
          220.064,
          73.32,
          28.4,
          37.68,
          872.94,
          341.488,
          145.98,
          853.93,
          2348.82,
          1215.92,
          248.98,
          32.712,
          1267.53,
          643.136,
          79.92,
          26.64,
          77.952,
          171.96,
          273.552,
          934.956,
          45.568,
          20.9,
          359.499,
          117.882,
          1067.94,
          971.5,
          127.764,
          1336.829,
          242.352,
          60.72,
          429.9,
          60.288,
          7.04,
          127.88,
          137.54,
          455.1,
          542.94,
          30.56,
          20.104,
          179.886,
          18.84,
          579.136,
          14.76,
          207.846,
          4.044,
          364.41,
          215.544,
          6.984,
          199.9,
          15.4,
          4.712,
          8.28,
          20.94,
          344.22,
          1106.91,
          50.32,
          302.94,
          90.882,
          127.302,
          43.13,
          498.26,
          99.592,
          594.816,
          79.12,
          66.645,
          167.888,
          1184.72,
          25.4,
          292.1,
          14.98,
          1568.61,
          1526.56,
          81.94,
          10.476,
          14.56,
          562.2925,
          20.32,
          72.78,
          154.95,
          390.272,
          511.5,
          19.76,
          197.372,
          24.27,
          1458.65,
          8.736,
          122.352,
          47.12,
          321.568,
          82.26,
          27.46,
          9.94,
          107.53,
          43.31,
          191.968,
          103.936,
          26.25,
          83.952,
          1056.86,
          801.568,
          866.4,
          1441.3,
          30.768,
          398.972,
          96.96,
          47.516,
          6.096,
          127.88,
          20.32,
          139.86,
          310.88,
          8.92,
          242.136,
          1.892,
          66.36,
          892.136,
          373.08,
          82.26,
          18.84,
          262.11,
          620.6145,
          514.165,
          36.4,
          9.24,
          32.064,
          207,
          1478.272,
          230.28
         ],
         "yaxis": "y"
        },
        {
         "customdata": [
          [
           "Art"
          ],
          [
           "Art"
          ],
          [
           "Paper"
          ],
          [
           "Binders"
          ],
          [
           "Art"
          ],
          [
           "Labels"
          ],
          [
           "Fasteners"
          ],
          [
           "Binders"
          ],
          [
           "Binders"
          ],
          [
           "Envelopes"
          ],
          [
           "Binders"
          ],
          [
           "Envelopes"
          ],
          [
           "Appliances"
          ],
          [
           "Art"
          ],
          [
           "Binders"
          ],
          [
           "Paper"
          ],
          [
           "Binders"
          ],
          [
           "Paper"
          ],
          [
           "Paper"
          ],
          [
           "Paper"
          ],
          [
           "Paper"
          ],
          [
           "Art"
          ],
          [
           "Art"
          ],
          [
           "Binders"
          ],
          [
           "Appliances"
          ],
          [
           "Paper"
          ],
          [
           "Paper"
          ],
          [
           "Binders"
          ],
          [
           "Art"
          ],
          [
           "Labels"
          ],
          [
           "Envelopes"
          ],
          [
           "Storage"
          ],
          [
           "Paper"
          ],
          [
           "Binders"
          ],
          [
           "Art"
          ],
          [
           "Art"
          ],
          [
           "Paper"
          ],
          [
           "Appliances"
          ],
          [
           "Binders"
          ],
          [
           "Labels"
          ],
          [
           "Art"
          ],
          [
           "Storage"
          ],
          [
           "Binders"
          ],
          [
           "Art"
          ],
          [
           "Storage"
          ],
          [
           "Binders"
          ],
          [
           "Binders"
          ],
          [
           "Paper"
          ],
          [
           "Binders"
          ],
          [
           "Art"
          ],
          [
           "Appliances"
          ],
          [
           "Art"
          ],
          [
           "Binders"
          ],
          [
           "Binders"
          ],
          [
           "Storage"
          ],
          [
           "Paper"
          ],
          [
           "Storage"
          ],
          [
           "Art"
          ],
          [
           "Art"
          ],
          [
           "Binders"
          ],
          [
           "Art"
          ],
          [
           "Binders"
          ],
          [
           "Binders"
          ],
          [
           "Supplies"
          ],
          [
           "Binders"
          ],
          [
           "Paper"
          ],
          [
           "Paper"
          ],
          [
           "Art"
          ],
          [
           "Binders"
          ],
          [
           "Supplies"
          ],
          [
           "Envelopes"
          ],
          [
           "Paper"
          ],
          [
           "Storage"
          ],
          [
           "Paper"
          ],
          [
           "Binders"
          ],
          [
           "Appliances"
          ],
          [
           "Binders"
          ],
          [
           "Binders"
          ],
          [
           "Paper"
          ],
          [
           "Paper"
          ],
          [
           "Paper"
          ],
          [
           "Binders"
          ],
          [
           "Art"
          ],
          [
           "Binders"
          ],
          [
           "Appliances"
          ],
          [
           "Binders"
          ],
          [
           "Binders"
          ],
          [
           "Storage"
          ],
          [
           "Binders"
          ],
          [
           "Appliances"
          ],
          [
           "Paper"
          ],
          [
           "Appliances"
          ],
          [
           "Art"
          ],
          [
           "Storage"
          ],
          [
           "Paper"
          ],
          [
           "Art"
          ],
          [
           "Binders"
          ],
          [
           "Labels"
          ],
          [
           "Supplies"
          ],
          [
           "Art"
          ],
          [
           "Paper"
          ],
          [
           "Envelopes"
          ],
          [
           "Paper"
          ],
          [
           "Binders"
          ],
          [
           "Paper"
          ],
          [
           "Appliances"
          ],
          [
           "Art"
          ],
          [
           "Supplies"
          ],
          [
           "Paper"
          ],
          [
           "Fasteners"
          ],
          [
           "Art"
          ],
          [
           "Paper"
          ],
          [
           "Paper"
          ],
          [
           "Binders"
          ],
          [
           "Storage"
          ],
          [
           "Binders"
          ],
          [
           "Paper"
          ],
          [
           "Binders"
          ],
          [
           "Art"
          ],
          [
           "Art"
          ],
          [
           "Storage"
          ],
          [
           "Paper"
          ],
          [
           "Art"
          ],
          [
           "Labels"
          ],
          [
           "Appliances"
          ],
          [
           "Art"
          ],
          [
           "Paper"
          ],
          [
           "Storage"
          ],
          [
           "Paper"
          ],
          [
           "Appliances"
          ],
          [
           "Paper"
          ],
          [
           "Binders"
          ],
          [
           "Envelopes"
          ],
          [
           "Art"
          ],
          [
           "Binders"
          ],
          [
           "Art"
          ],
          [
           "Paper"
          ],
          [
           "Paper"
          ],
          [
           "Envelopes"
          ],
          [
           "Supplies"
          ],
          [
           "Paper"
          ],
          [
           "Paper"
          ],
          [
           "Binders"
          ],
          [
           "Paper"
          ],
          [
           "Storage"
          ],
          [
           "Storage"
          ],
          [
           "Labels"
          ],
          [
           "Binders"
          ],
          [
           "Paper"
          ],
          [
           "Appliances"
          ],
          [
           "Storage"
          ],
          [
           "Binders"
          ],
          [
           "Storage"
          ],
          [
           "Storage"
          ],
          [
           "Paper"
          ],
          [
           "Paper"
          ],
          [
           "Binders"
          ],
          [
           "Labels"
          ],
          [
           "Art"
          ],
          [
           "Binders"
          ],
          [
           "Storage"
          ],
          [
           "Binders"
          ],
          [
           "Binders"
          ],
          [
           "Appliances"
          ],
          [
           "Binders"
          ],
          [
           "Paper"
          ],
          [
           "Art"
          ],
          [
           "Paper"
          ],
          [
           "Art"
          ],
          [
           "Art"
          ],
          [
           "Paper"
          ],
          [
           "Fasteners"
          ],
          [
           "Envelopes"
          ],
          [
           "Envelopes"
          ],
          [
           "Binders"
          ],
          [
           "Binders"
          ],
          [
           "Paper"
          ],
          [
           "Envelopes"
          ],
          [
           "Labels"
          ],
          [
           "Art"
          ],
          [
           "Envelopes"
          ],
          [
           "Storage"
          ],
          [
           "Art"
          ],
          [
           "Paper"
          ],
          [
           "Binders"
          ],
          [
           "Envelopes"
          ],
          [
           "Binders"
          ],
          [
           "Storage"
          ],
          [
           "Binders"
          ],
          [
           "Paper"
          ],
          [
           "Paper"
          ],
          [
           "Binders"
          ],
          [
           "Storage"
          ],
          [
           "Binders"
          ],
          [
           "Binders"
          ],
          [
           "Paper"
          ],
          [
           "Binders"
          ],
          [
           "Storage"
          ],
          [
           "Appliances"
          ],
          [
           "Art"
          ],
          [
           "Binders"
          ],
          [
           "Binders"
          ],
          [
           "Binders"
          ],
          [
           "Fasteners"
          ],
          [
           "Storage"
          ],
          [
           "Paper"
          ],
          [
           "Binders"
          ],
          [
           "Binders"
          ],
          [
           "Appliances"
          ],
          [
           "Binders"
          ],
          [
           "Storage"
          ],
          [
           "Art"
          ],
          [
           "Storage"
          ],
          [
           "Paper"
          ],
          [
           "Binders"
          ],
          [
           "Binders"
          ],
          [
           "Appliances"
          ],
          [
           "Art"
          ],
          [
           "Fasteners"
          ],
          [
           "Art"
          ],
          [
           "Binders"
          ],
          [
           "Binders"
          ],
          [
           "Storage"
          ],
          [
           "Art"
          ],
          [
           "Binders"
          ],
          [
           "Binders"
          ],
          [
           "Storage"
          ],
          [
           "Binders"
          ],
          [
           "Binders"
          ],
          [
           "Storage"
          ],
          [
           "Paper"
          ],
          [
           "Art"
          ],
          [
           "Envelopes"
          ],
          [
           "Paper"
          ],
          [
           "Storage"
          ],
          [
           "Labels"
          ],
          [
           "Binders"
          ],
          [
           "Binders"
          ],
          [
           "Storage"
          ],
          [
           "Storage"
          ],
          [
           "Appliances"
          ],
          [
           "Appliances"
          ],
          [
           "Envelopes"
          ],
          [
           "Art"
          ],
          [
           "Envelopes"
          ],
          [
           "Envelopes"
          ],
          [
           "Art"
          ],
          [
           "Envelopes"
          ],
          [
           "Paper"
          ],
          [
           "Appliances"
          ],
          [
           "Storage"
          ],
          [
           "Storage"
          ],
          [
           "Binders"
          ],
          [
           "Appliances"
          ],
          [
           "Art"
          ],
          [
           "Appliances"
          ],
          [
           "Paper"
          ],
          [
           "Binders"
          ],
          [
           "Paper"
          ],
          [
           "Binders"
          ],
          [
           "Labels"
          ],
          [
           "Art"
          ],
          [
           "Paper"
          ],
          [
           "Supplies"
          ],
          [
           "Binders"
          ],
          [
           "Storage"
          ],
          [
           "Paper"
          ],
          [
           "Labels"
          ],
          [
           "Fasteners"
          ],
          [
           "Envelopes"
          ],
          [
           "Storage"
          ],
          [
           "Appliances"
          ],
          [
           "Paper"
          ],
          [
           "Labels"
          ],
          [
           "Appliances"
          ],
          [
           "Paper"
          ],
          [
           "Storage"
          ],
          [
           "Paper"
          ],
          [
           "Storage"
          ],
          [
           "Supplies"
          ],
          [
           "Paper"
          ],
          [
           "Binders"
          ],
          [
           "Labels"
          ],
          [
           "Binders"
          ],
          [
           "Storage"
          ],
          [
           "Binders"
          ],
          [
           "Binders"
          ],
          [
           "Paper"
          ],
          [
           "Paper"
          ],
          [
           "Binders"
          ],
          [
           "Paper"
          ],
          [
           "Binders"
          ],
          [
           "Binders"
          ],
          [
           "Envelopes"
          ],
          [
           "Appliances"
          ],
          [
           "Appliances"
          ],
          [
           "Storage"
          ],
          [
           "Paper"
          ],
          [
           "Storage"
          ],
          [
           "Labels"
          ],
          [
           "Appliances"
          ],
          [
           "Paper"
          ],
          [
           "Paper"
          ],
          [
           "Paper"
          ],
          [
           "Paper"
          ],
          [
           "Binders"
          ],
          [
           "Labels"
          ],
          [
           "Envelopes"
          ],
          [
           "Fasteners"
          ],
          [
           "Binders"
          ],
          [
           "Binders"
          ],
          [
           "Paper"
          ],
          [
           "Binders"
          ],
          [
           "Fasteners"
          ],
          [
           "Paper"
          ],
          [
           "Storage"
          ],
          [
           "Binders"
          ],
          [
           "Paper"
          ],
          [
           "Binders"
          ],
          [
           "Binders"
          ],
          [
           "Labels"
          ],
          [
           "Storage"
          ],
          [
           "Paper"
          ],
          [
           "Binders"
          ],
          [
           "Binders"
          ],
          [
           "Binders"
          ],
          [
           "Binders"
          ],
          [
           "Binders"
          ],
          [
           "Supplies"
          ],
          [
           "Envelopes"
          ],
          [
           "Labels"
          ],
          [
           "Binders"
          ],
          [
           "Binders"
          ],
          [
           "Binders"
          ],
          [
           "Art"
          ],
          [
           "Binders"
          ],
          [
           "Storage"
          ],
          [
           "Paper"
          ],
          [
           "Paper"
          ],
          [
           "Paper"
          ],
          [
           "Binders"
          ],
          [
           "Supplies"
          ],
          [
           "Storage"
          ],
          [
           "Storage"
          ],
          [
           "Paper"
          ],
          [
           "Storage"
          ],
          [
           "Storage"
          ],
          [
           "Storage"
          ],
          [
           "Storage"
          ],
          [
           "Storage"
          ],
          [
           "Paper"
          ],
          [
           "Paper"
          ],
          [
           "Labels"
          ],
          [
           "Appliances"
          ],
          [
           "Paper"
          ],
          [
           "Paper"
          ],
          [
           "Envelopes"
          ],
          [
           "Paper"
          ],
          [
           "Binders"
          ],
          [
           "Fasteners"
          ],
          [
           "Binders"
          ],
          [
           "Labels"
          ],
          [
           "Appliances"
          ],
          [
           "Storage"
          ],
          [
           "Binders"
          ],
          [
           "Paper"
          ],
          [
           "Paper"
          ],
          [
           "Binders"
          ],
          [
           "Paper"
          ],
          [
           "Paper"
          ],
          [
           "Binders"
          ],
          [
           "Paper"
          ],
          [
           "Storage"
          ],
          [
           "Art"
          ],
          [
           "Envelopes"
          ],
          [
           "Envelopes"
          ],
          [
           "Paper"
          ],
          [
           "Supplies"
          ],
          [
           "Paper"
          ],
          [
           "Appliances"
          ],
          [
           "Labels"
          ],
          [
           "Paper"
          ],
          [
           "Binders"
          ],
          [
           "Binders"
          ],
          [
           "Paper"
          ],
          [
           "Art"
          ],
          [
           "Storage"
          ],
          [
           "Art"
          ],
          [
           "Binders"
          ],
          [
           "Art"
          ],
          [
           "Appliances"
          ],
          [
           "Binders"
          ],
          [
           "Paper"
          ],
          [
           "Art"
          ],
          [
           "Supplies"
          ],
          [
           "Binders"
          ],
          [
           "Storage"
          ],
          [
           "Paper"
          ],
          [
           "Paper"
          ],
          [
           "Art"
          ],
          [
           "Binders"
          ],
          [
           "Binders"
          ],
          [
           "Supplies"
          ],
          [
           "Labels"
          ],
          [
           "Paper"
          ],
          [
           "Appliances"
          ],
          [
           "Paper"
          ],
          [
           "Envelopes"
          ],
          [
           "Paper"
          ],
          [
           "Binders"
          ],
          [
           "Fasteners"
          ],
          [
           "Paper"
          ],
          [
           "Art"
          ],
          [
           "Appliances"
          ],
          [
           "Storage"
          ],
          [
           "Envelopes"
          ],
          [
           "Fasteners"
          ],
          [
           "Binders"
          ],
          [
           "Paper"
          ],
          [
           "Storage"
          ],
          [
           "Storage"
          ],
          [
           "Binders"
          ],
          [
           "Art"
          ],
          [
           "Envelopes"
          ],
          [
           "Paper"
          ],
          [
           "Binders"
          ],
          [
           "Labels"
          ],
          [
           "Binders"
          ],
          [
           "Appliances"
          ],
          [
           "Binders"
          ],
          [
           "Appliances"
          ],
          [
           "Binders"
          ],
          [
           "Binders"
          ],
          [
           "Art"
          ],
          [
           "Binders"
          ],
          [
           "Binders"
          ],
          [
           "Paper"
          ],
          [
           "Storage"
          ],
          [
           "Paper"
          ],
          [
           "Labels"
          ],
          [
           "Supplies"
          ],
          [
           "Paper"
          ],
          [
           "Storage"
          ],
          [
           "Binders"
          ],
          [
           "Storage"
          ],
          [
           "Binders"
          ],
          [
           "Binders"
          ],
          [
           "Art"
          ],
          [
           "Binders"
          ],
          [
           "Paper"
          ],
          [
           "Storage"
          ],
          [
           "Binders"
          ],
          [
           "Binders"
          ],
          [
           "Paper"
          ],
          [
           "Binders"
          ],
          [
           "Binders"
          ],
          [
           "Storage"
          ],
          [
           "Storage"
          ],
          [
           "Fasteners"
          ],
          [
           "Paper"
          ],
          [
           "Art"
          ],
          [
           "Binders"
          ],
          [
           "Binders"
          ],
          [
           "Binders"
          ],
          [
           "Binders"
          ],
          [
           "Binders"
          ],
          [
           "Paper"
          ],
          [
           "Binders"
          ],
          [
           "Binders"
          ],
          [
           "Envelopes"
          ],
          [
           "Art"
          ],
          [
           "Art"
          ],
          [
           "Envelopes"
          ],
          [
           "Binders"
          ],
          [
           "Binders"
          ],
          [
           "Envelopes"
          ],
          [
           "Paper"
          ],
          [
           "Appliances"
          ],
          [
           "Art"
          ],
          [
           "Binders"
          ],
          [
           "Storage"
          ],
          [
           "Art"
          ],
          [
           "Art"
          ],
          [
           "Envelopes"
          ],
          [
           "Binders"
          ],
          [
           "Paper"
          ],
          [
           "Storage"
          ],
          [
           "Art"
          ],
          [
           "Binders"
          ],
          [
           "Paper"
          ],
          [
           "Storage"
          ],
          [
           "Paper"
          ],
          [
           "Art"
          ],
          [
           "Art"
          ],
          [
           "Binders"
          ],
          [
           "Binders"
          ],
          [
           "Binders"
          ],
          [
           "Binders"
          ],
          [
           "Art"
          ],
          [
           "Appliances"
          ],
          [
           "Storage"
          ],
          [
           "Storage"
          ],
          [
           "Paper"
          ],
          [
           "Storage"
          ],
          [
           "Storage"
          ],
          [
           "Binders"
          ],
          [
           "Paper"
          ],
          [
           "Binders"
          ],
          [
           "Binders"
          ],
          [
           "Binders"
          ],
          [
           "Fasteners"
          ],
          [
           "Labels"
          ],
          [
           "Paper"
          ],
          [
           "Art"
          ],
          [
           "Binders"
          ],
          [
           "Labels"
          ],
          [
           "Paper"
          ],
          [
           "Storage"
          ],
          [
           "Fasteners"
          ],
          [
           "Paper"
          ],
          [
           "Binders"
          ],
          [
           "Storage"
          ],
          [
           "Storage"
          ],
          [
           "Paper"
          ],
          [
           "Appliances"
          ],
          [
           "Appliances"
          ],
          [
           "Envelopes"
          ],
          [
           "Paper"
          ],
          [
           "Paper"
          ],
          [
           "Binders"
          ],
          [
           "Labels"
          ],
          [
           "Labels"
          ],
          [
           "Labels"
          ],
          [
           "Storage"
          ],
          [
           "Labels"
          ],
          [
           "Paper"
          ],
          [
           "Appliances"
          ],
          [
           "Paper"
          ],
          [
           "Art"
          ],
          [
           "Binders"
          ],
          [
           "Binders"
          ],
          [
           "Binders"
          ],
          [
           "Appliances"
          ],
          [
           "Art"
          ],
          [
           "Storage"
          ],
          [
           "Art"
          ],
          [
           "Appliances"
          ],
          [
           "Storage"
          ],
          [
           "Labels"
          ],
          [
           "Binders"
          ],
          [
           "Binders"
          ],
          [
           "Binders"
          ],
          [
           "Paper"
          ],
          [
           "Paper"
          ],
          [
           "Binders"
          ],
          [
           "Labels"
          ],
          [
           "Art"
          ],
          [
           "Paper"
          ],
          [
           "Binders"
          ],
          [
           "Art"
          ],
          [
           "Appliances"
          ],
          [
           "Envelopes"
          ],
          [
           "Storage"
          ],
          [
           "Appliances"
          ],
          [
           "Art"
          ],
          [
           "Art"
          ],
          [
           "Art"
          ],
          [
           "Binders"
          ],
          [
           "Binders"
          ],
          [
           "Supplies"
          ],
          [
           "Art"
          ],
          [
           "Storage"
          ],
          [
           "Art"
          ],
          [
           "Binders"
          ],
          [
           "Storage"
          ],
          [
           "Paper"
          ],
          [
           "Art"
          ],
          [
           "Supplies"
          ],
          [
           "Binders"
          ],
          [
           "Paper"
          ],
          [
           "Supplies"
          ],
          [
           "Art"
          ],
          [
           "Envelopes"
          ],
          [
           "Paper"
          ],
          [
           "Fasteners"
          ],
          [
           "Storage"
          ],
          [
           "Paper"
          ],
          [
           "Labels"
          ],
          [
           "Art"
          ],
          [
           "Paper"
          ],
          [
           "Binders"
          ],
          [
           "Storage"
          ],
          [
           "Art"
          ],
          [
           "Binders"
          ],
          [
           "Binders"
          ],
          [
           "Art"
          ],
          [
           "Art"
          ],
          [
           "Art"
          ],
          [
           "Paper"
          ],
          [
           "Appliances"
          ],
          [
           "Binders"
          ],
          [
           "Paper"
          ],
          [
           "Storage"
          ],
          [
           "Binders"
          ],
          [
           "Appliances"
          ],
          [
           "Labels"
          ],
          [
           "Storage"
          ],
          [
           "Binders"
          ],
          [
           "Labels"
          ],
          [
           "Paper"
          ],
          [
           "Storage"
          ],
          [
           "Binders"
          ],
          [
           "Paper"
          ],
          [
           "Appliances"
          ],
          [
           "Fasteners"
          ],
          [
           "Binders"
          ],
          [
           "Labels"
          ],
          [
           "Art"
          ],
          [
           "Art"
          ],
          [
           "Storage"
          ],
          [
           "Appliances"
          ],
          [
           "Paper"
          ],
          [
           "Envelopes"
          ],
          [
           "Envelopes"
          ],
          [
           "Paper"
          ],
          [
           "Paper"
          ],
          [
           "Appliances"
          ],
          [
           "Storage"
          ],
          [
           "Binders"
          ],
          [
           "Binders"
          ],
          [
           "Paper"
          ],
          [
           "Paper"
          ],
          [
           "Paper"
          ],
          [
           "Paper"
          ],
          [
           "Supplies"
          ],
          [
           "Binders"
          ],
          [
           "Paper"
          ],
          [
           "Binders"
          ],
          [
           "Binders"
          ],
          [
           "Paper"
          ],
          [
           "Binders"
          ],
          [
           "Labels"
          ],
          [
           "Supplies"
          ],
          [
           "Paper"
          ],
          [
           "Fasteners"
          ],
          [
           "Binders"
          ],
          [
           "Appliances"
          ],
          [
           "Storage"
          ],
          [
           "Storage"
          ],
          [
           "Art"
          ],
          [
           "Fasteners"
          ],
          [
           "Appliances"
          ],
          [
           "Paper"
          ],
          [
           "Paper"
          ],
          [
           "Storage"
          ],
          [
           "Binders"
          ],
          [
           "Binders"
          ],
          [
           "Art"
          ],
          [
           "Paper"
          ],
          [
           "Binders"
          ],
          [
           "Paper"
          ],
          [
           "Storage"
          ],
          [
           "Paper"
          ],
          [
           "Appliances"
          ],
          [
           "Storage"
          ],
          [
           "Paper"
          ],
          [
           "Binders"
          ],
          [
           "Fasteners"
          ],
          [
           "Paper"
          ],
          [
           "Appliances"
          ],
          [
           "Envelopes"
          ],
          [
           "Binders"
          ],
          [
           "Art"
          ],
          [
           "Art"
          ],
          [
           "Binders"
          ],
          [
           "Appliances"
          ],
          [
           "Binders"
          ],
          [
           "Paper"
          ],
          [
           "Binders"
          ],
          [
           "Binders"
          ],
          [
           "Storage"
          ],
          [
           "Labels"
          ],
          [
           "Binders"
          ],
          [
           "Binders"
          ],
          [
           "Labels"
          ],
          [
           "Binders"
          ],
          [
           "Appliances"
          ],
          [
           "Binders"
          ],
          [
           "Paper"
          ],
          [
           "Paper"
          ],
          [
           "Art"
          ],
          [
           "Appliances"
          ],
          [
           "Paper"
          ],
          [
           "Paper"
          ],
          [
           "Binders"
          ],
          [
           "Binders"
          ],
          [
           "Paper"
          ],
          [
           "Binders"
          ],
          [
           "Storage"
          ],
          [
           "Binders"
          ],
          [
           "Supplies"
          ],
          [
           "Paper"
          ],
          [
           "Storage"
          ],
          [
           "Binders"
          ],
          [
           "Paper"
          ],
          [
           "Binders"
          ],
          [
           "Binders"
          ],
          [
           "Storage"
          ],
          [
           "Binders"
          ],
          [
           "Binders"
          ],
          [
           "Envelopes"
          ],
          [
           "Labels"
          ],
          [
           "Storage"
          ],
          [
           "Storage"
          ],
          [
           "Envelopes"
          ],
          [
           "Art"
          ],
          [
           "Art"
          ],
          [
           "Storage"
          ],
          [
           "Paper"
          ],
          [
           "Labels"
          ],
          [
           "Paper"
          ],
          [
           "Art"
          ],
          [
           "Binders"
          ],
          [
           "Art"
          ],
          [
           "Art"
          ],
          [
           "Binders"
          ],
          [
           "Fasteners"
          ],
          [
           "Binders"
          ],
          [
           "Paper"
          ],
          [
           "Binders"
          ],
          [
           "Paper"
          ],
          [
           "Appliances"
          ],
          [
           "Art"
          ],
          [
           "Art"
          ],
          [
           "Paper"
          ],
          [
           "Paper"
          ],
          [
           "Paper"
          ],
          [
           "Fasteners"
          ],
          [
           "Paper"
          ],
          [
           "Binders"
          ],
          [
           "Binders"
          ],
          [
           "Binders"
          ],
          [
           "Storage"
          ],
          [
           "Art"
          ],
          [
           "Binders"
          ],
          [
           "Envelopes"
          ],
          [
           "Art"
          ],
          [
           "Envelopes"
          ],
          [
           "Storage"
          ],
          [
           "Binders"
          ],
          [
           "Fasteners"
          ],
          [
           "Art"
          ],
          [
           "Paper"
          ],
          [
           "Paper"
          ],
          [
           "Art"
          ],
          [
           "Art"
          ],
          [
           "Storage"
          ],
          [
           "Paper"
          ],
          [
           "Art"
          ],
          [
           "Storage"
          ],
          [
           "Storage"
          ],
          [
           "Fasteners"
          ],
          [
           "Storage"
          ],
          [
           "Binders"
          ],
          [
           "Storage"
          ],
          [
           "Storage"
          ],
          [
           "Binders"
          ],
          [
           "Paper"
          ],
          [
           "Storage"
          ],
          [
           "Paper"
          ],
          [
           "Paper"
          ],
          [
           "Labels"
          ],
          [
           "Paper"
          ],
          [
           "Art"
          ],
          [
           "Appliances"
          ],
          [
           "Storage"
          ],
          [
           "Storage"
          ],
          [
           "Envelopes"
          ],
          [
           "Art"
          ],
          [
           "Supplies"
          ],
          [
           "Binders"
          ],
          [
           "Labels"
          ],
          [
           "Binders"
          ],
          [
           "Art"
          ],
          [
           "Binders"
          ],
          [
           "Paper"
          ],
          [
           "Appliances"
          ],
          [
           "Storage"
          ],
          [
           "Binders"
          ],
          [
           "Envelopes"
          ],
          [
           "Labels"
          ],
          [
           "Paper"
          ],
          [
           "Fasteners"
          ],
          [
           "Storage"
          ],
          [
           "Binders"
          ],
          [
           "Binders"
          ],
          [
           "Binders"
          ],
          [
           "Art"
          ],
          [
           "Paper"
          ],
          [
           "Binders"
          ],
          [
           "Binders"
          ],
          [
           "Paper"
          ],
          [
           "Binders"
          ],
          [
           "Appliances"
          ],
          [
           "Appliances"
          ],
          [
           "Paper"
          ],
          [
           "Fasteners"
          ],
          [
           "Art"
          ],
          [
           "Art"
          ],
          [
           "Labels"
          ],
          [
           "Storage"
          ],
          [
           "Fasteners"
          ],
          [
           "Art"
          ],
          [
           "Paper"
          ],
          [
           "Labels"
          ],
          [
           "Paper"
          ],
          [
           "Binders"
          ],
          [
           "Appliances"
          ],
          [
           "Storage"
          ],
          [
           "Binders"
          ],
          [
           "Paper"
          ],
          [
           "Art"
          ],
          [
           "Paper"
          ],
          [
           "Art"
          ],
          [
           "Appliances"
          ],
          [
           "Binders"
          ],
          [
           "Storage"
          ],
          [
           "Storage"
          ],
          [
           "Storage"
          ],
          [
           "Storage"
          ],
          [
           "Paper"
          ],
          [
           "Art"
          ],
          [
           "Binders"
          ],
          [
           "Art"
          ],
          [
           "Envelopes"
          ],
          [
           "Art"
          ],
          [
           "Paper"
          ],
          [
           "Paper"
          ],
          [
           "Storage"
          ],
          [
           "Labels"
          ],
          [
           "Binders"
          ],
          [
           "Paper"
          ],
          [
           "Paper"
          ],
          [
           "Art"
          ],
          [
           "Fasteners"
          ],
          [
           "Art"
          ],
          [
           "Paper"
          ],
          [
           "Paper"
          ],
          [
           "Binders"
          ],
          [
           "Storage"
          ],
          [
           "Storage"
          ],
          [
           "Appliances"
          ],
          [
           "Paper"
          ],
          [
           "Binders"
          ],
          [
           "Art"
          ],
          [
           "Art"
          ],
          [
           "Storage"
          ],
          [
           "Binders"
          ],
          [
           "Paper"
          ],
          [
           "Appliances"
          ],
          [
           "Paper"
          ],
          [
           "Paper"
          ],
          [
           "Paper"
          ],
          [
           "Paper"
          ],
          [
           "Art"
          ],
          [
           "Paper"
          ],
          [
           "Labels"
          ],
          [
           "Binders"
          ],
          [
           "Paper"
          ],
          [
           "Binders"
          ],
          [
           "Binders"
          ],
          [
           "Storage"
          ],
          [
           "Labels"
          ],
          [
           "Art"
          ],
          [
           "Paper"
          ],
          [
           "Paper"
          ],
          [
           "Art"
          ],
          [
           "Supplies"
          ],
          [
           "Paper"
          ],
          [
           "Binders"
          ],
          [
           "Paper"
          ],
          [
           "Paper"
          ],
          [
           "Binders"
          ],
          [
           "Binders"
          ],
          [
           "Binders"
          ],
          [
           "Binders"
          ],
          [
           "Binders"
          ],
          [
           "Binders"
          ],
          [
           "Binders"
          ],
          [
           "Fasteners"
          ],
          [
           "Paper"
          ],
          [
           "Art"
          ],
          [
           "Binders"
          ],
          [
           "Appliances"
          ],
          [
           "Paper"
          ],
          [
           "Appliances"
          ],
          [
           "Storage"
          ],
          [
           "Art"
          ],
          [
           "Paper"
          ],
          [
           "Binders"
          ],
          [
           "Appliances"
          ],
          [
           "Envelopes"
          ],
          [
           "Paper"
          ],
          [
           "Art"
          ],
          [
           "Fasteners"
          ],
          [
           "Art"
          ],
          [
           "Binders"
          ],
          [
           "Envelopes"
          ],
          [
           "Paper"
          ],
          [
           "Envelopes"
          ],
          [
           "Labels"
          ],
          [
           "Paper"
          ],
          [
           "Storage"
          ],
          [
           "Art"
          ],
          [
           "Labels"
          ],
          [
           "Paper"
          ],
          [
           "Labels"
          ],
          [
           "Binders"
          ],
          [
           "Storage"
          ],
          [
           "Storage"
          ],
          [
           "Art"
          ],
          [
           "Binders"
          ],
          [
           "Binders"
          ],
          [
           "Paper"
          ],
          [
           "Binders"
          ],
          [
           "Paper"
          ],
          [
           "Envelopes"
          ],
          [
           "Paper"
          ],
          [
           "Binders"
          ],
          [
           "Binders"
          ],
          [
           "Paper"
          ],
          [
           "Paper"
          ],
          [
           "Binders"
          ],
          [
           "Binders"
          ],
          [
           "Envelopes"
          ],
          [
           "Binders"
          ],
          [
           "Paper"
          ],
          [
           "Art"
          ],
          [
           "Paper"
          ],
          [
           "Paper"
          ],
          [
           "Art"
          ],
          [
           "Storage"
          ],
          [
           "Storage"
          ],
          [
           "Fasteners"
          ],
          [
           "Binders"
          ],
          [
           "Paper"
          ],
          [
           "Binders"
          ],
          [
           "Fasteners"
          ],
          [
           "Paper"
          ],
          [
           "Envelopes"
          ],
          [
           "Storage"
          ],
          [
           "Envelopes"
          ],
          [
           "Envelopes"
          ],
          [
           "Paper"
          ],
          [
           "Paper"
          ],
          [
           "Binders"
          ],
          [
           "Paper"
          ],
          [
           "Fasteners"
          ],
          [
           "Art"
          ],
          [
           "Storage"
          ],
          [
           "Storage"
          ],
          [
           "Binders"
          ],
          [
           "Binders"
          ],
          [
           "Paper"
          ],
          [
           "Binders"
          ],
          [
           "Binders"
          ],
          [
           "Envelopes"
          ],
          [
           "Paper"
          ],
          [
           "Labels"
          ],
          [
           "Binders"
          ],
          [
           "Binders"
          ],
          [
           "Fasteners"
          ],
          [
           "Paper"
          ],
          [
           "Appliances"
          ],
          [
           "Paper"
          ],
          [
           "Binders"
          ],
          [
           "Paper"
          ],
          [
           "Art"
          ],
          [
           "Storage"
          ],
          [
           "Storage"
          ],
          [
           "Art"
          ],
          [
           "Paper"
          ],
          [
           "Storage"
          ],
          [
           "Binders"
          ],
          [
           "Storage"
          ],
          [
           "Storage"
          ],
          [
           "Binders"
          ],
          [
           "Binders"
          ],
          [
           "Supplies"
          ],
          [
           "Labels"
          ],
          [
           "Binders"
          ],
          [
           "Art"
          ],
          [
           "Binders"
          ],
          [
           "Binders"
          ],
          [
           "Art"
          ],
          [
           "Paper"
          ],
          [
           "Paper"
          ],
          [
           "Paper"
          ],
          [
           "Appliances"
          ],
          [
           "Art"
          ],
          [
           "Labels"
          ],
          [
           "Fasteners"
          ],
          [
           "Storage"
          ],
          [
           "Appliances"
          ],
          [
           "Art"
          ],
          [
           "Paper"
          ],
          [
           "Fasteners"
          ],
          [
           "Paper"
          ],
          [
           "Storage"
          ],
          [
           "Binders"
          ],
          [
           "Fasteners"
          ],
          [
           "Paper"
          ],
          [
           "Paper"
          ],
          [
           "Paper"
          ],
          [
           "Paper"
          ],
          [
           "Art"
          ],
          [
           "Paper"
          ],
          [
           "Appliances"
          ],
          [
           "Paper"
          ],
          [
           "Appliances"
          ],
          [
           "Art"
          ],
          [
           "Binders"
          ],
          [
           "Paper"
          ],
          [
           "Paper"
          ],
          [
           "Storage"
          ],
          [
           "Art"
          ],
          [
           "Labels"
          ],
          [
           "Storage"
          ],
          [
           "Supplies"
          ],
          [
           "Labels"
          ],
          [
           "Binders"
          ],
          [
           "Paper"
          ],
          [
           "Fasteners"
          ],
          [
           "Binders"
          ],
          [
           "Binders"
          ],
          [
           "Binders"
          ],
          [
           "Binders"
          ],
          [
           "Art"
          ],
          [
           "Supplies"
          ],
          [
           "Binders"
          ],
          [
           "Art"
          ],
          [
           "Storage"
          ],
          [
           "Labels"
          ],
          [
           "Binders"
          ],
          [
           "Binders"
          ],
          [
           "Paper"
          ],
          [
           "Appliances"
          ],
          [
           "Art"
          ],
          [
           "Paper"
          ],
          [
           "Envelopes"
          ],
          [
           "Art"
          ],
          [
           "Appliances"
          ],
          [
           "Paper"
          ],
          [
           "Art"
          ],
          [
           "Appliances"
          ],
          [
           "Binders"
          ],
          [
           "Appliances"
          ],
          [
           "Paper"
          ],
          [
           "Storage"
          ],
          [
           "Art"
          ],
          [
           "Labels"
          ],
          [
           "Binders"
          ],
          [
           "Art"
          ],
          [
           "Appliances"
          ],
          [
           "Storage"
          ],
          [
           "Art"
          ],
          [
           "Art"
          ],
          [
           "Art"
          ],
          [
           "Labels"
          ],
          [
           "Labels"
          ],
          [
           "Storage"
          ],
          [
           "Binders"
          ],
          [
           "Appliances"
          ],
          [
           "Art"
          ],
          [
           "Binders"
          ],
          [
           "Envelopes"
          ],
          [
           "Paper"
          ],
          [
           "Binders"
          ],
          [
           "Binders"
          ],
          [
           "Paper"
          ],
          [
           "Art"
          ],
          [
           "Paper"
          ]
         ],
         "hovertemplate": "category=Office Supplies<br>Stock Quantity=%{x}<br>Price (Ksh)=%{y}<br>sub_category=%{customdata[0]}<extra></extra>",
         "legendgroup": "Office Supplies",
         "marker": {
          "color": "#00cc96",
          "symbol": "circle"
         },
         "mode": "markers",
         "name": "Office Supplies",
         "showlegend": true,
         "type": "scattergl",
         "x": [
          32,
          12,
          127,
          140,
          103,
          247,
          146,
          169,
          62,
          128,
          165,
          53,
          239,
          129,
          225,
          21,
          55,
          177,
          169,
          104,
          218,
          124,
          182,
          216,
          199,
          159,
          200,
          99,
          104,
          145,
          153,
          87,
          209,
          242,
          14,
          207,
          90,
          107,
          217,
          182,
          69,
          20,
          80,
          91,
          138,
          47,
          88,
          36,
          126,
          169,
          154,
          89,
          30,
          249,
          160,
          144,
          76,
          66,
          248,
          248,
          25,
          188,
          239,
          198,
          91,
          217,
          164,
          15,
          90,
          205,
          131,
          36,
          234,
          155,
          80,
          233,
          211,
          165,
          202,
          91,
          13,
          88,
          186,
          102,
          223,
          198,
          94,
          234,
          235,
          131,
          187,
          117,
          122,
          213,
          121,
          218,
          118,
          74,
          15,
          95,
          199,
          206,
          90,
          120,
          10,
          73,
          136,
          34,
          46,
          169,
          188,
          189,
          115,
          109,
          100,
          222,
          101,
          117,
          214,
          122,
          176,
          128,
          147,
          51,
          156,
          223,
          148,
          39,
          125,
          248,
          117,
          131,
          15,
          103,
          183,
          101,
          148,
          180,
          189,
          242,
          204,
          181,
          19,
          29,
          62,
          230,
          75,
          177,
          238,
          21,
          92,
          184,
          188,
          101,
          193,
          151,
          221,
          222,
          54,
          84,
          54,
          217,
          249,
          136,
          39,
          22,
          236,
          243,
          111,
          196,
          11,
          186,
          44,
          241,
          113,
          143,
          185,
          69,
          224,
          81,
          13,
          198,
          236,
          96,
          238,
          53,
          205,
          143,
          47,
          65,
          141,
          213,
          102,
          162,
          71,
          88,
          14,
          14,
          35,
          35,
          154,
          223,
          85,
          51,
          250,
          244,
          137,
          153,
          156,
          116,
          21,
          163,
          196,
          228,
          78,
          91,
          155,
          116,
          112,
          73,
          179,
          116,
          15,
          63,
          61,
          240,
          37,
          220,
          148,
          214,
          39,
          196,
          224,
          207,
          21,
          208,
          88,
          213,
          35,
          223,
          65,
          150,
          114,
          232,
          46,
          47,
          126,
          52,
          220,
          239,
          49,
          85,
          105,
          224,
          108,
          61,
          183,
          31,
          69,
          163,
          127,
          214,
          211,
          151,
          230,
          52,
          241,
          102,
          88,
          82,
          63,
          250,
          233,
          129,
          19,
          14,
          88,
          140,
          24,
          15,
          34,
          72,
          239,
          43,
          194,
          244,
          74,
          218,
          23,
          163,
          158,
          249,
          40,
          111,
          65,
          240,
          225,
          167,
          90,
          21,
          132,
          239,
          241,
          59,
          206,
          89,
          17,
          157,
          76,
          56,
          244,
          51,
          44,
          138,
          69,
          100,
          153,
          119,
          113,
          21,
          58,
          176,
          221,
          149,
          52,
          190,
          87,
          231,
          49,
          219,
          72,
          133,
          155,
          17,
          163,
          170,
          147,
          75,
          150,
          188,
          32,
          95,
          192,
          216,
          106,
          146,
          204,
          227,
          78,
          20,
          47,
          212,
          145,
          94,
          92,
          161,
          166,
          50,
          200,
          191,
          144,
          93,
          233,
          53,
          31,
          203,
          172,
          174,
          63,
          229,
          79,
          168,
          101,
          147,
          51,
          144,
          22,
          109,
          81,
          202,
          17,
          241,
          88,
          212,
          194,
          171,
          69,
          170,
          30,
          115,
          48,
          46,
          207,
          32,
          77,
          120,
          62,
          50,
          97,
          187,
          28,
          223,
          236,
          152,
          212,
          220,
          233,
          85,
          92,
          26,
          195,
          180,
          103,
          200,
          229,
          26,
          48,
          16,
          24,
          237,
          77,
          51,
          203,
          172,
          183,
          121,
          71,
          104,
          87,
          156,
          120,
          101,
          87,
          46,
          185,
          174,
          133,
          21,
          56,
          245,
          18,
          110,
          105,
          141,
          220,
          47,
          200,
          34,
          240,
          199,
          232,
          159,
          235,
          34,
          249,
          153,
          164,
          229,
          199,
          136,
          114,
          72,
          193,
          25,
          105,
          92,
          211,
          213,
          128,
          50,
          69,
          133,
          223,
          35,
          214,
          212,
          132,
          152,
          210,
          66,
          215,
          218,
          192,
          216,
          147,
          128,
          197,
          98,
          240,
          218,
          218,
          89,
          150,
          62,
          62,
          238,
          25,
          129,
          64,
          12,
          129,
          119,
          184,
          197,
          120,
          31,
          155,
          235,
          96,
          89,
          132,
          221,
          160,
          213,
          132,
          197,
          20,
          128,
          43,
          129,
          110,
          152,
          132,
          108,
          85,
          76,
          207,
          141,
          172,
          194,
          166,
          63,
          195,
          47,
          192,
          72,
          243,
          113,
          244,
          180,
          109,
          210,
          206,
          85,
          19,
          137,
          163,
          73,
          110,
          249,
          103,
          121,
          88,
          53,
          165,
          125,
          195,
          66,
          26,
          100,
          111,
          180,
          232,
          80,
          79,
          211,
          147,
          228,
          94,
          123,
          133,
          41,
          179,
          136,
          87,
          116,
          224,
          20,
          245,
          24,
          107,
          244,
          93,
          123,
          219,
          231,
          12,
          95,
          135,
          142,
          161,
          109,
          106,
          102,
          21,
          113,
          39,
          144,
          134,
          193,
          182,
          243,
          25,
          154,
          69,
          133,
          150,
          36,
          76,
          109,
          94,
          248,
          120,
          68,
          110,
          106,
          248,
          194,
          231,
          36,
          249,
          149,
          128,
          48,
          117,
          201,
          184,
          202,
          61,
          36,
          39,
          201,
          137,
          104,
          205,
          119,
          249,
          23,
          209,
          235,
          143,
          154,
          183,
          12,
          142,
          169,
          195,
          117,
          87,
          37,
          75,
          89,
          94,
          180,
          107,
          187,
          93,
          238,
          239,
          225,
          144,
          173,
          150,
          44,
          196,
          79,
          136,
          48,
          237,
          118,
          18,
          151,
          176,
          91,
          76,
          183,
          117,
          15,
          143,
          177,
          159,
          36,
          235,
          230,
          141,
          246,
          123,
          52,
          194,
          46,
          125,
          147,
          15,
          80,
          11,
          182,
          113,
          146,
          84,
          75,
          197,
          134,
          159,
          230,
          207,
          141,
          74,
          99,
          189,
          71,
          171,
          137,
          106,
          207,
          95,
          137,
          182,
          158,
          215,
          174,
          83,
          65,
          178,
          123,
          199,
          216,
          162,
          235,
          209,
          89,
          130,
          138,
          10,
          63,
          238,
          86,
          45,
          34,
          72,
          155,
          235,
          85,
          227,
          180,
          228,
          108,
          192,
          24,
          125,
          92,
          168,
          224,
          30,
          187,
          230,
          100,
          126,
          26,
          152,
          177,
          95,
          229,
          127,
          90,
          238,
          11,
          72,
          55,
          240,
          194,
          47,
          146,
          204,
          236,
          203,
          188,
          92,
          115,
          116,
          86,
          141,
          165,
          123,
          156,
          224,
          157,
          27,
          129,
          144,
          65,
          136,
          84,
          220,
          62,
          130,
          82,
          250,
          239,
          157,
          21,
          70,
          78,
          42,
          191,
          55,
          184,
          72,
          222,
          121,
          154,
          80,
          79,
          23,
          239,
          143,
          181,
          151,
          182,
          77,
          97,
          194,
          150,
          67,
          212,
          159,
          116,
          82,
          124,
          76,
          72,
          154,
          155,
          225,
          220,
          188,
          149,
          53,
          204,
          237,
          108,
          226,
          242,
          245,
          49,
          167,
          184,
          109,
          195,
          139,
          185,
          65,
          111,
          146,
          57,
          139,
          40,
          214,
          229,
          38,
          228,
          44,
          170,
          233,
          122,
          189,
          157,
          46,
          79,
          56,
          65,
          39,
          111,
          20,
          171,
          147,
          135,
          52,
          127,
          68,
          214,
          161,
          68,
          71,
          13,
          25,
          71,
          149,
          247,
          61,
          189,
          108,
          73,
          227,
          244,
          222,
          85,
          69,
          21,
          30,
          111,
          66,
          84,
          184,
          109,
          219,
          172,
          182,
          138,
          102,
          79,
          218,
          72,
          207,
          42,
          239,
          19,
          11,
          110,
          170,
          168,
          167,
          159,
          200,
          43,
          239,
          71,
          86,
          40,
          45,
          68,
          51,
          58,
          90,
          69,
          133,
          213,
          244,
          195,
          88,
          92,
          158,
          70,
          13,
          126,
          35,
          10,
          35,
          122,
          201,
          220,
          222,
          34,
          119,
          200,
          221,
          82,
          94,
          233,
          185,
          207,
          203,
          173,
          156,
          223,
          11,
          49,
          105,
          139,
          72,
          191,
          178,
          36,
          25,
          236,
          206,
          48,
          111,
          122,
          234,
          171,
          129,
          240,
          133,
          143,
          85,
          187,
          241,
          53,
          97,
          205,
          26,
          159,
          86,
          129,
          101,
          73,
          105,
          47,
          78,
          151,
          215,
          188,
          202,
          209,
          101,
          170,
          10,
          155,
          128,
          107,
          195,
          33,
          215,
          86,
          198,
          30,
          232,
          162,
          148,
          112,
          236,
          216,
          14,
          107,
          218,
          142,
          179,
          17,
          167,
          177,
          190,
          108,
          183,
          212,
          14,
          161,
          250,
          217,
          56,
          19,
          67,
          190,
          118,
          152,
          224,
          175,
          14,
          246,
          161,
          141,
          181,
          37,
          76,
          188,
          159,
          94,
          15,
          109,
          52,
          204,
          27,
          91,
          225,
          23,
          15,
          89,
          129,
          103,
          175,
          13,
          49,
          248,
          232,
          238,
          114,
          212,
          22,
          17,
          229,
          141,
          147,
          153
         ],
         "xaxis": "x",
         "y": [
          10.688,
          8.34,
          10.272,
          4.812,
          23.32,
          491.55,
          14.432,
          447.86,
          14.304,
          186.69,
          34.5,
          17.48,
          334.88,
          18.656,
          49.632,
          31.104,
          14.352,
          42.28,
          23.92,
          10.16,
          4.36,
          17.97,
          13.89,
          271.984,
          4.356,
          12.192,
          14.94,
          34.5,
          9.552,
          16.52,
          11.36,
          344.91,
          447.84,
          58.408,
          7.872,
          14.592,
          6.58,
          179.94,
          14.256,
          4.608,
          29.95,
          31.16,
          2.934,
          29.79,
          281.424,
          2.08,
          1.641,
          28.14,
          30.84,
          181.86,
          35.91,
          5.248,
          6.216,
          5.238,
          66.96,
          11.36,
          155.82,
          36.96,
          3.912,
          13.208,
          4.368,
          9.612,
          6.46,
          49.5,
          33.552,
          13.872,
          74.352,
          181.86,
          43.176,
          10.95,
          137.25,
          295.456,
          342.864,
          143.7,
          14.28,
          167.292,
          18.288,
          3.882,
          64.704,
          47.952,
          114.2,
          38.16,
          42.048,
          81.088,
          58.924,
          50.997,
          43.19,
          129.552,
          35.808,
          176.04,
          45.68,
          48.632,
          17.52,
          25.424,
          10.368,
          6.368,
          13.194,
          33.12,
          17.584,
          12.96,
          44.384,
          18.336,
          104.85,
          33.568,
          185.88,
          25.96,
          16.464,
          231.72,
          21.98,
          3.96,
          46.2,
          45.056,
          8.56,
          8.226,
          88.8,
          8.595,
          31.008,
          11.088,
          140.736,
          18.688,
          33.488,
          38.88,
          5.16,
          3.69,
          7.9,
          5.56,
          25.92,
          1325.85,
          17.04,
          541.44,
          32.896,
          762.594,
          12.24,
          4.672,
          17.96,
          88.04,
          12.96,
          13.36,
          115.02,
          35.06,
          22.96,
          19.44,
          19.968,
          5.184,
          540.048,
          21.36,
          14.62,
          95.648,
          32.04,
          62.92,
          31.92,
          1.234,
          92.52,
          27.44,
          88.768,
          18,
          590.352,
          11.952,
          16.4,
          90.48,
          828.84,
          3.592,
          136.96,
          2625.12,
          36.024,
          97.82,
          35.216,
          17.472,
          161.82,
          4.368,
          62.016,
          35,
          8.928,
          158.13,
          8.608,
          39.624,
          14.62,
          135.9,
          24.64,
          37.84,
          17.48,
          454.9,
          9.84,
          12.96,
          33.088,
          130.464,
          5.742,
          77.952,
          4.923,
          47.9,
          40.032,
          43.41,
          51.168,
          1.344,
          33.282,
          15.84,
          8.76,
          134.8,
          1158.12,
          21.4,
          18.16,
          17.52,
          67.194,
          22.55,
          95.616,
          38.016,
          17.248,
          49.848,
          254.9,
          11.088,
          511.056,
          27.384,
          77.55,
          73.008,
          4.086,
          18.088,
          20.768,
          8.26,
          4.344,
          5.16,
          74.76,
          8.134,
          428.68,
          13.9,
          16.784,
          29.12,
          111.672,
          4.312,
          22.45,
          725.84,
          108.336,
          19.56,
          158.13,
          33.488,
          37.76,
          629.184,
          5.64,
          5.984,
          14.97,
          44.672,
          241.44,
          39.48,
          15.84,
          13.36,
          251.58,
          56.064,
          19.456,
          95.952,
          116.28,
          61.44,
          194.94,
          42.76,
          2.772,
          2.264,
          16.4,
          23.696,
          62.192,
          2690.97,
          29.96,
          2.043,
          6.16,
          7.98,
          38.88,
          3.104,
          29.52,
          535.41,
          20.736,
          16.52,
          5.67,
          26.22,
          17.94,
          79.47,
          109.92,
          11.07,
          262.24,
          11.56,
          64.784,
          25.92,
          35.952,
          25.5,
          45.36,
          3.882,
          12.39,
          7.536,
          92.52,
          55.424,
          85.232,
          26.38,
          12.96,
          18.192,
          15.552,
          841.568,
          7.96,
          2.896,
          7.96,
          706.86,
          52.4,
          10.48,
          23.92,
          50.4,
          73.164,
          10.56,
          14.94,
          4.624,
          34.02,
          25.824,
          14.4,
          43.7,
          4.96,
          39.879,
          8.272,
          4.98,
          69.888,
          35,
          9.408,
          83.7,
          15.92,
          44.75,
          68.48,
          2715.93,
          4.98,
          137.352,
          19.98,
          5.728,
          12.3,
          39.872,
          36.56,
          27.496,
          29.7,
          149.352,
          4.608,
          9.296,
          45.24,
          102.93,
          8.82,
          29.7,
          229.94,
          15.552,
          40.24,
          11.952,
          18.94,
          1.744,
          94.6,
          259.136,
          23.92,
          1117.92,
          454.86,
          306.2,
          1006.056,
          489.92,
          105.52,
          76.64,
          3.15,
          36.27,
          78.304,
          35.88,
          15.28,
          51.84,
          14.592,
          27.552,
          90.06,
          122.12,
          195.68,
          30.016,
          2.946,
          12.96,
          25.92,
          1.996,
          15.552,
          6.69,
          563.024,
          33.36,
          158.9,
          5.46,
          15.28,
          51.12,
          38.88,
          7.76,
          36.4,
          24.18,
          44.4,
          15.552,
          33.568,
          11.76,
          113.82,
          8.8,
          26.96,
          10.272,
          57.504,
          3.008,
          90.86,
          28.782,
          10.368,
          119.04,
          2.92,
          3.366,
          998.82,
          10.368,
          22.72,
          23.84,
          38.52,
          327.84,
          21.96,
          61.06,
          8.448,
          77.88,
          32.4,
          40.752,
          53.82,
          1.524,
          13.02,
          31.104,
          8.82,
          93.032,
          228.92,
          57.576,
          14.82,
          5.193,
          45.36,
          46.51,
          714.3,
          30.44,
          2.816,
          7.072,
          111.96,
          4.662,
          19.824,
          11.808,
          32.67,
          51.8,
          208.44,
          2.655,
          14.67,
          6.63,
          4.626,
          276.784,
          244.55,
          269.36,
          29.664,
          58.48,
          185.376,
          39.9,
          220.776,
          6.294,
          720.76,
          276.784,
          2.992,
          35.96,
          6.368,
          54.816,
          45.248,
          3.564,
          6.858,
          60.048,
          13.904,
          22.638,
          1085.42,
          11.21,
          3.488,
          15.984,
          151.92,
          6.368,
          254.058,
          1141.47,
          46.24,
          364.8,
          12.96,
          10.776,
          14.112,
          55.936,
          174.95,
          11.12,
          79.96,
          16.2,
          5.28,
          24.4,
          9.568,
          434.352,
          185.88,
          3.576,
          66.58,
          20.96,
          11.264,
          182.94,
          3.64,
          10.368,
          102.336,
          3.36,
          106.05,
          58.32,
          17.15,
          193.8,
          8.016,
          11.68,
          44.91,
          7.488,
          38.82,
          21.36,
          7.04,
          186.15,
          93.06,
          77.88,
          10.368,
          169.68,
          535.41,
          7.23,
          25.68,
          146.688,
          23.88,
          5.607,
          3.96,
          17.544,
          80.88,
          7.872,
          72.588,
          9.82,
          21.4,
          18.936,
          10.824,
          7.3,
          34.24,
          23.968,
          31.44,
          52.76,
          465.16,
          21.78,
          23.472,
          164.88,
          7.61,
          3.856,
          4.608,
          29.6,
          12,
          64.96,
          133.2,
          10.56,
          88.832,
          34.02,
          99.136,
          407.976,
          14.301,
          12.39,
          942.784,
          13.12,
          501.81,
          6.848,
          206.43,
          54.224,
          11.52,
          17.712,
          15.92,
          11.416,
          62.65,
          31.08,
          12.201,
          18.75,
          45.04,
          51.84,
          186.144,
          10.272,
          154.9,
          50.94,
          193.95,
          286.256,
          15.48,
          67.92,
          14.67,
          4.554,
          14.016,
          110.11,
          5.248,
          265.17,
          70.368,
          137.24,
          46.53,
          175.872,
          23.832,
          185.376,
          20.856,
          22.48,
          65.88,
          10.75,
          325.86,
          24.56,
          31.56,
          50.136,
          6.54,
          55.44,
          19.9,
          10.95,
          38.28,
          24.224,
          11.68,
          2.742,
          100.704,
          3.52,
          5.56,
          24.78,
          45.36,
          41.376,
          182.994,
          40.032,
          39.296,
          26.432,
          163.44,
          41.4,
          81.4,
          19.296,
          24.84,
          10.368,
          67.78,
          3.168,
          17.64,
          68.94,
          9.45,
          6.096,
          15.936,
          35.4,
          23.128,
          344.91,
          9.324,
          9.248,
          12.536,
          26.55,
          13.76,
          38.88,
          170.88,
          61.792,
          68.541,
          51.312,
          111.96,
          79.14,
          14.352,
          20.928,
          40.712,
          64.12,
          419.4,
          64.14,
          6.9,
          11.56,
          79.056,
          4.608,
          347.58,
          22.68,
          9.432,
          18.588,
          15.224,
          330.4,
          1676.88,
          5.248,
          7.56,
          98.112,
          31.872,
          81.54,
          1606.23,
          35.88,
          9.648,
          5.68,
          12.96,
          12.294,
          19.44,
          704.76,
          61.96,
          43.584,
          1350.12,
          8.56,
          1793.98,
          6.976,
          47.952,
          137.62,
          11.36,
          17.22,
          37.312,
          16.52,
          334.768,
          471.9,
          4.158,
          8.96,
          13.92,
          13.76,
          237.096,
          87.71,
          32.34,
          3.828,
          5.22,
          6.24,
          23.696,
          10.78,
          32.4,
          167.94,
          21.3,
          17.24,
          6.48,
          15.552,
          76.776,
          5.8,
          12.96,
          6.888,
          29.79,
          3.564,
          16.9,
          75.88,
          36.63,
          9.42,
          25.92,
          296.712,
          41.904,
          443.92,
          4.984,
          447.86,
          11.8,
          29.24,
          48.86,
          59.712,
          10.64,
          29.2,
          19.9,
          552.56,
          5.184,
          5.04,
          15.7,
          18.24,
          24.192,
          19.728,
          32.4,
          9.584,
          18.368,
          4.338,
          38.88,
          2.214,
          106.32,
          61.44,
          7.98,
          6.63,
          132.79,
          217.056,
          184.66,
          21.48,
          146.82,
          59.808,
          7.764,
          22.75,
          87.92,
          13.12,
          46.44,
          7.92,
          91.96,
          348.488,
          286.29,
          13.904,
          13.16,
          32.064,
          30.96,
          11.94,
          9.728,
          37.17,
          60.416,
          29.472,
          38.52,
          33.63,
          15.58,
          17.9,
          59.92,
          59.808,
          141.552,
          129.552,
          7.752,
          23.12,
          360.38,
          70.08,
          211.04,
          4.928,
          139.86,
          8.04,
          25.86,
          93.68,
          118.25,
          16.56,
          18.24,
          35.52,
          92.96,
          25.06,
          3.564,
          107.94,
          1.908,
          26.76,
          236.88,
          362.92,
          69.456,
          23.99,
          9,
          71.28,
          8.376,
          85.52,
          26.336,
          6.336,
          67.86,
          2.624,
          122.97,
          88.752,
          20.724,
          21.744,
          54.9,
          7.77,
          43.68,
          212.64,
          2.632,
          4.17,
          34.65,
          4.91,
          82.368,
          5.43,
          6.63,
          85.056,
          18.9,
          45.68,
          15.192,
          45.96,
          540.048,
          3.036,
          114.2,
          12.264,
          93.248,
          2.21,
          161.568,
          31.36,
          53.92,
          559.62,
          76.792,
          84.96,
          37.94,
          125.93,
          32.088,
          101.94,
          16.98,
          87.92,
          19.44,
          5.184,
          81.36,
          9.24,
          1.908,
          32.4,
          3.38,
          6.99,
          3.62,
          18.704,
          32.792,
          12.84,
          9.264,
          1297.368,
          332.704,
          7.78,
          17.64,
          3.444,
          56.3,
          33.92,
          26.632,
          11.568,
          49.12,
          28.08,
          219.84,
          59.94,
          24.784,
          43.44,
          19.152,
          19.44,
          75.18,
          29.372,
          46.35,
          196.704,
          9.912,
          237.096,
          41.4,
          2.224,
          29.9,
          12.96,
          63.488,
          25.71,
          22.704,
          24.448,
          7.42,
          163.96,
          25.32,
          8.6,
          8.88,
          4.304,
          3.928,
          0.876,
          2.946,
          12.032,
          20.016,
          5.76,
          42.616,
          1040.8,
          166.44,
          11.67,
          132.696,
          209.94,
          74.352,
          76.176,
          1640.7,
          12.768,
          36.288,
          13.392,
          3.488,
          67.56,
          20.724,
          13.392,
          55.48,
          81.54,
          27.888,
          12.84,
          34.05,
          8.56,
          3,
          96.08,
          60.144,
          11.952,
          20.86,
          78.256,
          11.52,
          14.301,
          3.132,
          40.99,
          3.136,
          106.32,
          47.01,
          15.552,
          2.896,
          21.3,
          9.68,
          30.18,
          6.096,
          13.92,
          14.76,
          46.72,
          16.272,
          7.872,
          75.88,
          28.352,
          10.496,
          22.512,
          53.424,
          11.62,
          17.43,
          110.96,
          17.46,
          31.12,
          15.552,
          125.36,
          232.55,
          23.472,
          7.824,
          56.07,
          13.08,
          12.222,
          160.72,
          3.76,
          5.472,
          243.384,
          1325.85,
          25.584,
          37.425,
          11.76,
          673.568,
          13.128,
          21.34,
          153.728,
          2.61,
          58.05,
          135.09,
          52.29,
          25.92,
          35.91,
          11.648,
          1.788,
          48.87,
          113.22,
          32.592,
          2934.33,
          3.64,
          629.1,
          43.28,
          40.98,
          65.12,
          81.96,
          3.798,
          56.82,
          5.84,
          44.4,
          7.712,
          6.672,
          17.38,
          3.204,
          1.344,
          25.92,
          37.52,
          10.56,
          243.88,
          19.456,
          29.46,
          10.9,
          84.784,
          453.6,
          14.576,
          27.15,
          7.16,
          10.688,
          509.488,
          13.896,
          45.92,
          10.368,
          25.344,
          15.552,
          32.4,
          4.224,
          40.08,
          35.04,
          10.368,
          152.94,
          31.744,
          33.74,
          23.52,
          15.552,
          728.82,
          21.4,
          14.94,
          99.488,
          10.95,
          18.9,
          2.88,
          32.064,
          22.96,
          19.152,
          1.872,
          9.81,
          2.286,
          219.9,
          695.16,
          45.48,
          19.46,
          70.26,
          5.78,
          41.28,
          287.92,
          17.94,
          129.92,
          17.856,
          11.56,
          180.96,
          11.76,
          40.54,
          18.496,
          121.536,
          81.96,
          896.99,
          26.49,
          19.44,
          1633.14,
          2.816,
          56.7,
          14.94,
          3.76,
          644.076,
          56.45,
          11.12,
          16.4,
          5.04,
          5.76,
          2.952,
          25.984,
          2.934,
          272.048,
          46.2,
          125.76,
          62.28,
          10.368,
          23.912,
          104.184,
          10.688,
          9.78,
          32.4
         ],
         "yaxis": "y"
        }
       ],
       "layout": {
        "autosize": true,
        "legend": {
         "title": {
          "text": "category"
         },
         "tracegroupgap": 0
        },
        "template": {
         "data": {
          "bar": [
           {
            "error_x": {
             "color": "#2a3f5f"
            },
            "error_y": {
             "color": "#2a3f5f"
            },
            "marker": {
             "line": {
              "color": "#E5ECF6",
              "width": 0.5
             },
             "pattern": {
              "fillmode": "overlay",
              "size": 10,
              "solidity": 0.2
             }
            },
            "type": "bar"
           }
          ],
          "barpolar": [
           {
            "marker": {
             "line": {
              "color": "#E5ECF6",
              "width": 0.5
             },
             "pattern": {
              "fillmode": "overlay",
              "size": 10,
              "solidity": 0.2
             }
            },
            "type": "barpolar"
           }
          ],
          "carpet": [
           {
            "aaxis": {
             "endlinecolor": "#2a3f5f",
             "gridcolor": "white",
             "linecolor": "white",
             "minorgridcolor": "white",
             "startlinecolor": "#2a3f5f"
            },
            "baxis": {
             "endlinecolor": "#2a3f5f",
             "gridcolor": "white",
             "linecolor": "white",
             "minorgridcolor": "white",
             "startlinecolor": "#2a3f5f"
            },
            "type": "carpet"
           }
          ],
          "choropleth": [
           {
            "colorbar": {
             "outlinewidth": 0,
             "ticks": ""
            },
            "type": "choropleth"
           }
          ],
          "contour": [
           {
            "colorbar": {
             "outlinewidth": 0,
             "ticks": ""
            },
            "colorscale": [
             [
              0,
              "#0d0887"
             ],
             [
              0.1111111111111111,
              "#46039f"
             ],
             [
              0.2222222222222222,
              "#7201a8"
             ],
             [
              0.3333333333333333,
              "#9c179e"
             ],
             [
              0.4444444444444444,
              "#bd3786"
             ],
             [
              0.5555555555555556,
              "#d8576b"
             ],
             [
              0.6666666666666666,
              "#ed7953"
             ],
             [
              0.7777777777777778,
              "#fb9f3a"
             ],
             [
              0.8888888888888888,
              "#fdca26"
             ],
             [
              1,
              "#f0f921"
             ]
            ],
            "type": "contour"
           }
          ],
          "contourcarpet": [
           {
            "colorbar": {
             "outlinewidth": 0,
             "ticks": ""
            },
            "type": "contourcarpet"
           }
          ],
          "heatmap": [
           {
            "colorbar": {
             "outlinewidth": 0,
             "ticks": ""
            },
            "colorscale": [
             [
              0,
              "#0d0887"
             ],
             [
              0.1111111111111111,
              "#46039f"
             ],
             [
              0.2222222222222222,
              "#7201a8"
             ],
             [
              0.3333333333333333,
              "#9c179e"
             ],
             [
              0.4444444444444444,
              "#bd3786"
             ],
             [
              0.5555555555555556,
              "#d8576b"
             ],
             [
              0.6666666666666666,
              "#ed7953"
             ],
             [
              0.7777777777777778,
              "#fb9f3a"
             ],
             [
              0.8888888888888888,
              "#fdca26"
             ],
             [
              1,
              "#f0f921"
             ]
            ],
            "type": "heatmap"
           }
          ],
          "heatmapgl": [
           {
            "colorbar": {
             "outlinewidth": 0,
             "ticks": ""
            },
            "colorscale": [
             [
              0,
              "#0d0887"
             ],
             [
              0.1111111111111111,
              "#46039f"
             ],
             [
              0.2222222222222222,
              "#7201a8"
             ],
             [
              0.3333333333333333,
              "#9c179e"
             ],
             [
              0.4444444444444444,
              "#bd3786"
             ],
             [
              0.5555555555555556,
              "#d8576b"
             ],
             [
              0.6666666666666666,
              "#ed7953"
             ],
             [
              0.7777777777777778,
              "#fb9f3a"
             ],
             [
              0.8888888888888888,
              "#fdca26"
             ],
             [
              1,
              "#f0f921"
             ]
            ],
            "type": "heatmapgl"
           }
          ],
          "histogram": [
           {
            "marker": {
             "pattern": {
              "fillmode": "overlay",
              "size": 10,
              "solidity": 0.2
             }
            },
            "type": "histogram"
           }
          ],
          "histogram2d": [
           {
            "colorbar": {
             "outlinewidth": 0,
             "ticks": ""
            },
            "colorscale": [
             [
              0,
              "#0d0887"
             ],
             [
              0.1111111111111111,
              "#46039f"
             ],
             [
              0.2222222222222222,
              "#7201a8"
             ],
             [
              0.3333333333333333,
              "#9c179e"
             ],
             [
              0.4444444444444444,
              "#bd3786"
             ],
             [
              0.5555555555555556,
              "#d8576b"
             ],
             [
              0.6666666666666666,
              "#ed7953"
             ],
             [
              0.7777777777777778,
              "#fb9f3a"
             ],
             [
              0.8888888888888888,
              "#fdca26"
             ],
             [
              1,
              "#f0f921"
             ]
            ],
            "type": "histogram2d"
           }
          ],
          "histogram2dcontour": [
           {
            "colorbar": {
             "outlinewidth": 0,
             "ticks": ""
            },
            "colorscale": [
             [
              0,
              "#0d0887"
             ],
             [
              0.1111111111111111,
              "#46039f"
             ],
             [
              0.2222222222222222,
              "#7201a8"
             ],
             [
              0.3333333333333333,
              "#9c179e"
             ],
             [
              0.4444444444444444,
              "#bd3786"
             ],
             [
              0.5555555555555556,
              "#d8576b"
             ],
             [
              0.6666666666666666,
              "#ed7953"
             ],
             [
              0.7777777777777778,
              "#fb9f3a"
             ],
             [
              0.8888888888888888,
              "#fdca26"
             ],
             [
              1,
              "#f0f921"
             ]
            ],
            "type": "histogram2dcontour"
           }
          ],
          "mesh3d": [
           {
            "colorbar": {
             "outlinewidth": 0,
             "ticks": ""
            },
            "type": "mesh3d"
           }
          ],
          "parcoords": [
           {
            "line": {
             "colorbar": {
              "outlinewidth": 0,
              "ticks": ""
             }
            },
            "type": "parcoords"
           }
          ],
          "pie": [
           {
            "automargin": true,
            "type": "pie"
           }
          ],
          "scatter": [
           {
            "fillpattern": {
             "fillmode": "overlay",
             "size": 10,
             "solidity": 0.2
            },
            "type": "scatter"
           }
          ],
          "scatter3d": [
           {
            "line": {
             "colorbar": {
              "outlinewidth": 0,
              "ticks": ""
             }
            },
            "marker": {
             "colorbar": {
              "outlinewidth": 0,
              "ticks": ""
             }
            },
            "type": "scatter3d"
           }
          ],
          "scattercarpet": [
           {
            "marker": {
             "colorbar": {
              "outlinewidth": 0,
              "ticks": ""
             }
            },
            "type": "scattercarpet"
           }
          ],
          "scattergeo": [
           {
            "marker": {
             "colorbar": {
              "outlinewidth": 0,
              "ticks": ""
             }
            },
            "type": "scattergeo"
           }
          ],
          "scattergl": [
           {
            "marker": {
             "colorbar": {
              "outlinewidth": 0,
              "ticks": ""
             }
            },
            "type": "scattergl"
           }
          ],
          "scattermapbox": [
           {
            "marker": {
             "colorbar": {
              "outlinewidth": 0,
              "ticks": ""
             }
            },
            "type": "scattermapbox"
           }
          ],
          "scatterpolar": [
           {
            "marker": {
             "colorbar": {
              "outlinewidth": 0,
              "ticks": ""
             }
            },
            "type": "scatterpolar"
           }
          ],
          "scatterpolargl": [
           {
            "marker": {
             "colorbar": {
              "outlinewidth": 0,
              "ticks": ""
             }
            },
            "type": "scatterpolargl"
           }
          ],
          "scatterternary": [
           {
            "marker": {
             "colorbar": {
              "outlinewidth": 0,
              "ticks": ""
             }
            },
            "type": "scatterternary"
           }
          ],
          "surface": [
           {
            "colorbar": {
             "outlinewidth": 0,
             "ticks": ""
            },
            "colorscale": [
             [
              0,
              "#0d0887"
             ],
             [
              0.1111111111111111,
              "#46039f"
             ],
             [
              0.2222222222222222,
              "#7201a8"
             ],
             [
              0.3333333333333333,
              "#9c179e"
             ],
             [
              0.4444444444444444,
              "#bd3786"
             ],
             [
              0.5555555555555556,
              "#d8576b"
             ],
             [
              0.6666666666666666,
              "#ed7953"
             ],
             [
              0.7777777777777778,
              "#fb9f3a"
             ],
             [
              0.8888888888888888,
              "#fdca26"
             ],
             [
              1,
              "#f0f921"
             ]
            ],
            "type": "surface"
           }
          ],
          "table": [
           {
            "cells": {
             "fill": {
              "color": "#EBF0F8"
             },
             "line": {
              "color": "white"
             }
            },
            "header": {
             "fill": {
              "color": "#C8D4E3"
             },
             "line": {
              "color": "white"
             }
            },
            "type": "table"
           }
          ]
         },
         "layout": {
          "annotationdefaults": {
           "arrowcolor": "#2a3f5f",
           "arrowhead": 0,
           "arrowwidth": 1
          },
          "autotypenumbers": "strict",
          "coloraxis": {
           "colorbar": {
            "outlinewidth": 0,
            "ticks": ""
           }
          },
          "colorscale": {
           "diverging": [
            [
             0,
             "#8e0152"
            ],
            [
             0.1,
             "#c51b7d"
            ],
            [
             0.2,
             "#de77ae"
            ],
            [
             0.3,
             "#f1b6da"
            ],
            [
             0.4,
             "#fde0ef"
            ],
            [
             0.5,
             "#f7f7f7"
            ],
            [
             0.6,
             "#e6f5d0"
            ],
            [
             0.7,
             "#b8e186"
            ],
            [
             0.8,
             "#7fbc41"
            ],
            [
             0.9,
             "#4d9221"
            ],
            [
             1,
             "#276419"
            ]
           ],
           "sequential": [
            [
             0,
             "#0d0887"
            ],
            [
             0.1111111111111111,
             "#46039f"
            ],
            [
             0.2222222222222222,
             "#7201a8"
            ],
            [
             0.3333333333333333,
             "#9c179e"
            ],
            [
             0.4444444444444444,
             "#bd3786"
            ],
            [
             0.5555555555555556,
             "#d8576b"
            ],
            [
             0.6666666666666666,
             "#ed7953"
            ],
            [
             0.7777777777777778,
             "#fb9f3a"
            ],
            [
             0.8888888888888888,
             "#fdca26"
            ],
            [
             1,
             "#f0f921"
            ]
           ],
           "sequentialminus": [
            [
             0,
             "#0d0887"
            ],
            [
             0.1111111111111111,
             "#46039f"
            ],
            [
             0.2222222222222222,
             "#7201a8"
            ],
            [
             0.3333333333333333,
             "#9c179e"
            ],
            [
             0.4444444444444444,
             "#bd3786"
            ],
            [
             0.5555555555555556,
             "#d8576b"
            ],
            [
             0.6666666666666666,
             "#ed7953"
            ],
            [
             0.7777777777777778,
             "#fb9f3a"
            ],
            [
             0.8888888888888888,
             "#fdca26"
            ],
            [
             1,
             "#f0f921"
            ]
           ]
          },
          "colorway": [
           "#636efa",
           "#EF553B",
           "#00cc96",
           "#ab63fa",
           "#FFA15A",
           "#19d3f3",
           "#FF6692",
           "#B6E880",
           "#FF97FF",
           "#FECB52"
          ],
          "font": {
           "color": "#2a3f5f"
          },
          "geo": {
           "bgcolor": "white",
           "lakecolor": "white",
           "landcolor": "#E5ECF6",
           "showlakes": true,
           "showland": true,
           "subunitcolor": "white"
          },
          "hoverlabel": {
           "align": "left"
          },
          "hovermode": "closest",
          "mapbox": {
           "style": "light"
          },
          "paper_bgcolor": "white",
          "plot_bgcolor": "#E5ECF6",
          "polar": {
           "angularaxis": {
            "gridcolor": "white",
            "linecolor": "white",
            "ticks": ""
           },
           "bgcolor": "#E5ECF6",
           "radialaxis": {
            "gridcolor": "white",
            "linecolor": "white",
            "ticks": ""
           }
          },
          "scene": {
           "xaxis": {
            "backgroundcolor": "#E5ECF6",
            "gridcolor": "white",
            "gridwidth": 2,
            "linecolor": "white",
            "showbackground": true,
            "ticks": "",
            "zerolinecolor": "white"
           },
           "yaxis": {
            "backgroundcolor": "#E5ECF6",
            "gridcolor": "white",
            "gridwidth": 2,
            "linecolor": "white",
            "showbackground": true,
            "ticks": "",
            "zerolinecolor": "white"
           },
           "zaxis": {
            "backgroundcolor": "#E5ECF6",
            "gridcolor": "white",
            "gridwidth": 2,
            "linecolor": "white",
            "showbackground": true,
            "ticks": "",
            "zerolinecolor": "white"
           }
          },
          "shapedefaults": {
           "line": {
            "color": "#2a3f5f"
           }
          },
          "ternary": {
           "aaxis": {
            "gridcolor": "white",
            "linecolor": "white",
            "ticks": ""
           },
           "baxis": {
            "gridcolor": "white",
            "linecolor": "white",
            "ticks": ""
           },
           "bgcolor": "#E5ECF6",
           "caxis": {
            "gridcolor": "white",
            "linecolor": "white",
            "ticks": ""
           }
          },
          "title": {
           "x": 0.05
          },
          "xaxis": {
           "automargin": true,
           "gridcolor": "white",
           "linecolor": "white",
           "ticks": "",
           "title": {
            "standoff": 15
           },
           "zerolinecolor": "white",
           "zerolinewidth": 2
          },
          "yaxis": {
           "automargin": true,
           "gridcolor": "white",
           "linecolor": "white",
           "ticks": "",
           "title": {
            "standoff": 15
           },
           "zerolinecolor": "white",
           "zerolinewidth": 2
          }
         }
        },
        "title": {
         "text": "Product Stock vs Price"
        },
        "xaxis": {
         "anchor": "y",
         "autorange": true,
         "domain": [
          0,
          1
         ],
         "range": [
          -4.64257659073056,
          264.6425765907306
         ],
         "title": {
          "text": "Stock Quantity"
         },
         "type": "linear"
        },
        "yaxis": {
         "anchor": "x",
         "autorange": true,
         "domain": [
          0,
          1
         ],
         "range": [
          -576.7183106796116,
          7577.554310679611
         ],
         "title": {
          "text": "Price (Ksh)"
         },
         "type": "linear"
        }
       }
      },
      "image/png": "[encoded data removed]",
      "text/html": [
       "<div>                            <div id=\"efa8bfed-9ec2-4e57-8352-a4c19ec0dc8e\" class=\"plotly-graph-div\" style=\"height:525px; width:100%;\"></div>            <script type=\"text/javascript\">                require([\"plotly\"], function(Plotly) {                    window.PLOTLYENV=window.PLOTLYENV || {};                                    if (document.getElementById(\"efa8bfed-9ec2-4e57-8352-a4c19ec0dc8e\")) {                    Plotly.newPlot(                        \"efa8bfed-9ec2-4e57-8352-a4c19ec0dc8e\",                        [{\"customdata\":[[\"Phones\"],[\"Phones\"],[\"Phones\"],[\"Phones\"],[\"Machines\"],[\"Accessories\"],[\"Accessories\"],[\"Accessories\"],[\"Phones\"],[\"Phones\"],[\"Phones\"],[\"Phones\"],[\"Accessories\"],[\"Accessories\"],[\"Phones\"],[\"Phones\"],[\"Accessories\"],[\"Accessories\"],[\"Phones\"],[\"Phones\"],[\"Phones\"],[\"Accessories\"],[\"Phones\"],[\"Phones\"],[\"Phones\"],[\"Phones\"],[\"Accessories\"],[\"Accessories\"],[\"Accessories\"],[\"Phones\"],[\"Phones\"],[\"Accessories\"],[\"Phones\"],[\"Phones\"],[\"Accessories\"],[\"Phones\"],[\"Phones\"],[\"Accessories\"],[\"Phones\"],[\"Copiers\"],[\"Phones\"],[\"Phones\"],[\"Accessories\"],[\"Phones\"],[\"Phones\"],[\"Phones\"],[\"Accessories\"],[\"Phones\"],[\"Phones\"],[\"Phones\"],[\"Copiers\"],[\"Phones\"],[\"Phones\"],[\"Accessories\"],[\"Phones\"],[\"Accessories\"],[\"Phones\"],[\"Phones\"],[\"Accessories\"],[\"Phones\"],[\"Phones\"],[\"Phones\"],[\"Machines\"],[\"Phones\"],[\"Accessories\"],[\"Phones\"],[\"Phones\"],[\"Phones\"],[\"Phones\"],[\"Accessories\"],[\"Accessories\"],[\"Phones\"],[\"Accessories\"],[\"Accessories\"],[\"Accessories\"],[\"Machines\"],[\"Machines\"],[\"Accessories\"],[\"Phones\"],[\"Accessories\"],[\"Accessories\"],[\"Phones\"],[\"Accessories\"],[\"Accessories\"],[\"Accessories\"],[\"Accessories\"],[\"Accessories\"],[\"Accessories\"],[\"Phones\"],[\"Phones\"],[\"Machines\"],[\"Accessories\"],[\"Accessories\"],[\"Phones\"],[\"Phones\"],[\"Phones\"],[\"Phones\"],[\"Phones\"],[\"Phones\"],[\"Accessories\"],[\"Accessories\"],[\"Phones\"],[\"Accessories\"],[\"Phones\"],[\"Phones\"],[\"Accessories\"],[\"Phones\"],[\"Phones\"],[\"Machines\"],[\"Accessories\"],[\"Phones\"],[\"Phones\"],[\"Accessories\"],[\"Phones\"],[\"Copiers\"],[\"Machines\"],[\"Phones\"],[\"Phones\"],[\"Machines\"],[\"Accessories\"],[\"Accessories\"],[\"Accessories\"],[\"Accessories\"],[\"Phones\"],[\"Accessories\"],[\"Phones\"],[\"Accessories\"],[\"Phones\"],[\"Phones\"],[\"Phones\"],[\"Phones\"],[\"Accessories\"],[\"Machines\"],[\"Phones\"],[\"Phones\"],[\"Accessories\"],[\"Phones\"],[\"Phones\"],[\"Accessories\"],[\"Phones\"],[\"Phones\"],[\"Copiers\"],[\"Accessories\"],[\"Phones\"],[\"Accessories\"],[\"Phones\"],[\"Phones\"],[\"Phones\"],[\"Phones\"],[\"Machines\"],[\"Phones\"],[\"Accessories\"],[\"Machines\"],[\"Machines\"],[\"Machines\"],[\"Phones\"],[\"Phones\"],[\"Accessories\"],[\"Phones\"],[\"Phones\"],[\"Phones\"],[\"Accessories\"],[\"Phones\"],[\"Phones\"],[\"Accessories\"],[\"Accessories\"],[\"Accessories\"],[\"Machines\"],[\"Phones\"],[\"Accessories\"],[\"Accessories\"],[\"Phones\"],[\"Phones\"],[\"Accessories\"],[\"Phones\"],[\"Accessories\"],[\"Accessories\"],[\"Phones\"],[\"Accessories\"],[\"Phones\"],[\"Accessories\"],[\"Phones\"],[\"Phones\"],[\"Copiers\"],[\"Accessories\"],[\"Phones\"],[\"Accessories\"],[\"Accessories\"],[\"Phones\"],[\"Phones\"],[\"Phones\"],[\"Copiers\"],[\"Phones\"],[\"Phones\"],[\"Accessories\"],[\"Phones\"],[\"Phones\"],[\"Accessories\"],[\"Accessories\"],[\"Accessories\"],[\"Phones\"],[\"Accessories\"],[\"Phones\"],[\"Accessories\"],[\"Accessories\"],[\"Accessories\"],[\"Accessories\"],[\"Accessories\"],[\"Phones\"],[\"Phones\"],[\"Phones\"],[\"Phones\"],[\"Phones\"],[\"Accessories\"],[\"Phones\"],[\"Machines\"],[\"Accessories\"],[\"Phones\"],[\"Phones\"],[\"Phones\"],[\"Accessories\"],[\"Accessories\"],[\"Accessories\"],[\"Phones\"],[\"Phones\"],[\"Phones\"],[\"Accessories\"],[\"Phones\"],[\"Phones\"],[\"Phones\"],[\"Accessories\"],[\"Phones\"],[\"Phones\"],[\"Accessories\"],[\"Machines\"],[\"Accessories\"],[\"Accessories\"],[\"Phones\"],[\"Phones\"],[\"Phones\"],[\"Phones\"],[\"Accessories\"],[\"Phones\"],[\"Phones\"],[\"Accessories\"],[\"Accessories\"],[\"Accessories\"],[\"Phones\"],[\"Phones\"],[\"Phones\"],[\"Phones\"],[\"Phones\"],[\"Machines\"],[\"Phones\"],[\"Accessories\"],[\"Accessories\"],[\"Accessories\"],[\"Phones\"],[\"Phones\"],[\"Phones\"],[\"Phones\"],[\"Phones\"],[\"Phones\"],[\"Phones\"],[\"Phones\"],[\"Accessories\"],[\"Phones\"],[\"Accessories\"],[\"Accessories\"],[\"Phones\"],[\"Machines\"],[\"Phones\"],[\"Accessories\"],[\"Phones\"],[\"Phones\"],[\"Accessories\"],[\"Phones\"],[\"Phones\"],[\"Accessories\"],[\"Accessories\"],[\"Accessories\"],[\"Phones\"],[\"Accessories\"],[\"Accessories\"],[\"Phones\"],[\"Phones\"],[\"Phones\"],[\"Accessories\"],[\"Accessories\"],[\"Phones\"],[\"Phones\"],[\"Phones\"],[\"Phones\"],[\"Phones\"],[\"Machines\"],[\"Phones\"],[\"Machines\"],[\"Phones\"],[\"Phones\"],[\"Phones\"],[\"Phones\"],[\"Accessories\"],[\"Accessories\"],[\"Accessories\"],[\"Phones\"],[\"Accessories\"],[\"Phones\"],[\"Phones\"],[\"Phones\"],[\"Phones\"],[\"Machines\"],[\"Accessories\"],[\"Accessories\"],[\"Machines\"],[\"Phones\"],[\"Phones\"],[\"Phones\"],[\"Accessories\"],[\"Phones\"],[\"Accessories\"],[\"Accessories\"],[\"Phones\"],[\"Phones\"],[\"Phones\"],[\"Accessories\"],[\"Phones\"],[\"Accessories\"],[\"Accessories\"],[\"Phones\"],[\"Accessories\"],[\"Accessories\"],[\"Phones\"],[\"Accessories\"],[\"Machines\"],[\"Phones\"],[\"Accessories\"],[\"Accessories\"],[\"Phones\"],[\"Accessories\"],[\"Phones\"],[\"Accessories\"],[\"Accessories\"],[\"Accessories\"],[\"Phones\"],[\"Accessories\"],[\"Accessories\"],[\"Accessories\"],[\"Accessories\"],[\"Accessories\"],[\"Phones\"],[\"Accessories\"],[\"Phones\"],[\"Phones\"],[\"Accessories\"]],\"hovertemplate\":\"category=Technology\\u003cbr\\u003eStock Quantity=%{x}\\u003cbr\\u003ePrice (Ksh)=%{y}\\u003cbr\\u003esub_category=%{customdata[0]}\\u003cextra\\u003e\\u003c\\u002fextra\\u003e\",\"legendgroup\":\"Technology\",\"marker\":{\"color\":\"#636efa\",\"symbol\":\"circle\"},\"mode\":\"markers\",\"name\":\"Technology\",\"showlegend\":true,\"x\":[58,195,84,135,173,55,68,93,141,84,143,123,170,131,112,79,51,187,165,133,248,31,41,75,87,218,125,194,244,57,16,174,107,216,73,189,14,46,174,127,95,244,124,142,39,27,186,241,46,132,19,137,84,124,249,101,249,179,248,10,20,189,48,237,196,164,64,160,222,218,34,223,75,202,148,148,166,107,138,108,107,249,67,245,111,133,42,62,114,239,161,90,95,103,48,247,30,204,112,13,83,200,128,221,50,208,229,38,128,199,207,145,175,114,133,26,122,221,13,20,138,127,181,140,203,41,242,15,168,190,69,144,156,194,43,211,161,176,35,25,24,238,84,61,177,124,126,195,64,123,152,160,125,111,112,52,67,103,96,249,49,18,124,79,90,156,106,142,231,101,112,24,144,91,85,142,13,95,176,80,35,187,166,222,75,222,249,219,131,176,211,80,94,152,49,144,143,196,68,218,191,207,194,173,23,153,87,74,70,55,216,241,27,171,116,90,239,71,32,160,65,20,113,130,84,179,169,172,183,173,136,197,35,75,52,69,233,92,231,156,244,178,97,147,126,51,154,221,248,42,107,246,236,223,18,13,85,74,109,200,158,127,249,37,203,32,98,156,186,56,137,118,63,125,178,120,159,38,149,174,233,238,68,243,200,234,52,66,16,213,148,93,38,135,225,82,93,81,32,99,104,103,131,222,60,148,208,203,18,142,23,224,240,43,61,190,98,112,49,179,142,14,170,26,226,135,198,198,159,145,88,245,206,168,165,109,55,246,223,124,25,145,112,127,219,79,171,51,151,152,48,77,148,149],\"xaxis\":\"x\",\"y\":[79.92,1259.93,377.97,87.96,821.3,22.704,89.97,47.976,258.528,110.352,131.88,239.9,349.95,254.97,279.96,627.168,37.6,119.85,329.584,15.984,32.7,90.57,2735.952,63.936,323.976,67.8,449.91,258.696,345.0,907.152,118.782,291.96,206.1,219.184,34.95,304.776,137.94,15.02,575.928,1119.984,689.408,1889.946,666.4,7.992,11.12,881.93,236.0,494.97,279.96,946.344,479.984,110.352,119.96,127.984,279.86,30.84,21.99,155.35,234.45,159.96,59.98,666.344,341.991,779.796,7.16,1212.848,1295.84,209.97,111.984,72.0,519.96,453.576,36.24,68.112,50.12,2321.9,447.968,47.53,361.376,284.97,99.98,153.584,252.0,227.976,431.136,25.98,357.0,103.12,140.736,377.97,3080.0,48.9,55.92,17.52,222.384,84.784,263.96,71.928,219.168,27.88,40.776,539.97,92.52,206.1,217.584,71.976,862.344,135.516,12.585,36.048,143.928,116.98,199.98,103.192,439.992,91.475,445.96,107.976,350.973,288.0,53.7,371.97,19.99,1871.88,27.96,73.568,44.784,122.382,269.982,1626.192,71.952,9.09,629.93,467.97,391.98,6.79,104.85,84.784,279.944,7.992,158.376,639.968,36.784,224.75,116.312,657.93,39.594,20.784,44.95,6999.96,438.336,50.88,30.345,120.0,265.475,668.16,115.136,2.97,201.584,1091.168,36.738,72.744,287.88,88.776,63.88,29.99,100.0,4499.985,107.982,227.976,118.0,149.95,15.588,479.97,57.594,113.97,843.9,1259.97,132.6,29.16,79.98,39.99,201.584,5399.91,95.968,281.97,9.096,29.0,1502.376,359.98,167.968,1199.976,469.99,149.97,389.97,26.982,187.98,174.95,47.976,104.88,126.56,527.92,419.944,57.584,36.24,151.2,82.8,2.97,131.98,1299.66,135.984,242.624,134.99,179.97,41.988,95.994,26.0,587.97,88.752,889.536,54.384,319.968,57.06,863.64,44.784,173.94,15.216,95.968,758.352,361.376,62.31,404.94,197.97,102.13,3059.982,239.97,99.6,119.94,369.544,728.946,45.99,82.95,269.98,110.376,45.98,252.0,59.98,119.96,29.56,604.752,61.542,1294.75,105.552,107.982,36.24,16.776,24.032,464.0,155.37,431.94,35.04,197.97,4158.912,158.99,629.958,102.336,49.616,272.61,20.97,164.792,600.53,359.976,90.0,406.368,5.94,319.96,226.2,328.776,59.97,36.51,93.98,50.97,619.95,431.976,38.24,471.92,137.94,199.98,45.0,99.98,90.48,302.376,358.2,911.424,399.54,1439.92,3357.6,29.16,211.168,328.224,444.768,239.976,248.85,36.0,197.97,11.672,773.94,100.792,180.96,321.552,3991.98,15.576,16.56,479.97,1363.96,344.704,39.96,499.98,239.976,255.968,619.95,14.78,119.02,28.99,119.98,251.964,63.96,98.16,471.92,159.984,160.0,371.168,83.976,1919.976,143.976,62.592,899.95,1394.95,447.944,449.97,36.32,599.97,263.88,2479.96,12.99,159.8,146.45,319.968,40.776,220.752,75.0,239.984,1439.968,31.984],\"yaxis\":\"y\",\"type\":\"scattergl\"},{\"customdata\":[[\"Furnishings\"],[\"Furnishings\"],[\"Chairs\"],[\"Furnishings\"],[\"Furnishings\"],[\"Furnishings\"],[\"Bookcases\"],[\"Bookcases\"],[\"Furnishings\"],[\"Furnishings\"],[\"Chairs\"],[\"Furnishings\"],[\"Furnishings\"],[\"Chairs\"],[\"Chairs\"],[\"Chairs\"],[\"Chairs\"],[\"Furnishings\"],[\"Furnishings\"],[\"Furnishings\"],[\"Furnishings\"],[\"Bookcases\"],[\"Tables\"],[\"Furnishings\"],[\"Bookcases\"],[\"Furnishings\"],[\"Furnishings\"],[\"Chairs\"],[\"Bookcases\"],[\"Chairs\"],[\"Chairs\"],[\"Furnishings\"],[\"Bookcases\"],[\"Tables\"],[\"Tables\"],[\"Furnishings\"],[\"Chairs\"],[\"Furnishings\"],[\"Furnishings\"],[\"Furnishings\"],[\"Furnishings\"],[\"Bookcases\"],[\"Chairs\"],[\"Chairs\"],[\"Tables\"],[\"Tables\"],[\"Chairs\"],[\"Tables\"],[\"Furnishings\"],[\"Tables\"],[\"Furnishings\"],[\"Furnishings\"],[\"Chairs\"],[\"Furnishings\"],[\"Tables\"],[\"Tables\"],[\"Chairs\"],[\"Chairs\"],[\"Chairs\"],[\"Chairs\"],[\"Tables\"],[\"Furnishings\"],[\"Bookcases\"],[\"Bookcases\"],[\"Tables\"],[\"Chairs\"],[\"Tables\"],[\"Furnishings\"],[\"Furnishings\"],[\"Bookcases\"],[\"Furnishings\"],[\"Chairs\"],[\"Furnishings\"],[\"Chairs\"],[\"Furnishings\"],[\"Furnishings\"],[\"Furnishings\"],[\"Chairs\"],[\"Chairs\"],[\"Furnishings\"],[\"Furnishings\"],[\"Furnishings\"],[\"Furnishings\"],[\"Chairs\"],[\"Tables\"],[\"Furnishings\"],[\"Tables\"],[\"Furnishings\"],[\"Chairs\"],[\"Bookcases\"],[\"Chairs\"],[\"Furnishings\"],[\"Chairs\"],[\"Chairs\"],[\"Chairs\"],[\"Chairs\"],[\"Bookcases\"],[\"Bookcases\"],[\"Tables\"],[\"Furnishings\"],[\"Bookcases\"],[\"Chairs\"],[\"Chairs\"],[\"Furnishings\"],[\"Furnishings\"],[\"Chairs\"],[\"Chairs\"],[\"Furnishings\"],[\"Furnishings\"],[\"Furnishings\"],[\"Furnishings\"],[\"Chairs\"],[\"Furnishings\"],[\"Furnishings\"],[\"Furnishings\"],[\"Chairs\"],[\"Furnishings\"],[\"Bookcases\"],[\"Furnishings\"],[\"Chairs\"],[\"Furnishings\"],[\"Furnishings\"],[\"Chairs\"],[\"Chairs\"],[\"Chairs\"],[\"Bookcases\"],[\"Chairs\"],[\"Furnishings\"],[\"Chairs\"],[\"Furnishings\"],[\"Tables\"],[\"Chairs\"],[\"Chairs\"],[\"Furnishings\"],[\"Chairs\"],[\"Tables\"],[\"Bookcases\"],[\"Tables\"],[\"Tables\"],[\"Chairs\"],[\"Chairs\"],[\"Chairs\"],[\"Furnishings\"],[\"Furnishings\"],[\"Chairs\"],[\"Chairs\"],[\"Furnishings\"],[\"Furnishings\"],[\"Chairs\"],[\"Chairs\"],[\"Chairs\"],[\"Chairs\"],[\"Furnishings\"],[\"Furnishings\"],[\"Furnishings\"],[\"Furnishings\"],[\"Chairs\"],[\"Chairs\"],[\"Chairs\"],[\"Chairs\"],[\"Chairs\"],[\"Furnishings\"],[\"Chairs\"],[\"Furnishings\"],[\"Furnishings\"],[\"Tables\"],[\"Furnishings\"],[\"Furnishings\"],[\"Furnishings\"],[\"Furnishings\"],[\"Tables\"],[\"Chairs\"],[\"Furnishings\"],[\"Furnishings\"],[\"Chairs\"],[\"Furnishings\"],[\"Furnishings\"],[\"Bookcases\"],[\"Furnishings\"],[\"Bookcases\"],[\"Chairs\"],[\"Furnishings\"],[\"Bookcases\"],[\"Furnishings\"],[\"Chairs\"],[\"Furnishings\"],[\"Furnishings\"],[\"Furnishings\"],[\"Chairs\"],[\"Bookcases\"],[\"Tables\"],[\"Furnishings\"],[\"Tables\"],[\"Furnishings\"],[\"Furnishings\"],[\"Bookcases\"],[\"Tables\"],[\"Bookcases\"],[\"Furnishings\"],[\"Tables\"],[\"Tables\"],[\"Furnishings\"],[\"Furnishings\"],[\"Furnishings\"],[\"Tables\"],[\"Tables\"],[\"Tables\"],[\"Bookcases\"],[\"Tables\"],[\"Chairs\"],[\"Furnishings\"],[\"Furnishings\"],[\"Tables\"],[\"Furnishings\"],[\"Furnishings\"],[\"Chairs\"],[\"Furnishings\"],[\"Chairs\"],[\"Furnishings\"],[\"Tables\"],[\"Furnishings\"],[\"Tables\"],[\"Furnishings\"],[\"Chairs\"],[\"Tables\"],[\"Furnishings\"],[\"Chairs\"],[\"Furnishings\"],[\"Furnishings\"],[\"Chairs\"],[\"Tables\"],[\"Furnishings\"],[\"Chairs\"],[\"Chairs\"],[\"Bookcases\"],[\"Tables\"],[\"Tables\"],[\"Tables\"],[\"Chairs\"],[\"Furnishings\"],[\"Chairs\"],[\"Furnishings\"],[\"Furnishings\"],[\"Furnishings\"],[\"Tables\"],[\"Chairs\"],[\"Furnishings\"],[\"Chairs\"],[\"Tables\"],[\"Chairs\"],[\"Tables\"],[\"Furnishings\"],[\"Tables\"],[\"Furnishings\"],[\"Tables\"],[\"Bookcases\"],[\"Furnishings\"],[\"Furnishings\"],[\"Furnishings\"],[\"Furnishings\"],[\"Tables\"],[\"Furnishings\"],[\"Chairs\"],[\"Bookcases\"],[\"Tables\"],[\"Bookcases\"],[\"Tables\"],[\"Bookcases\"],[\"Chairs\"],[\"Furnishings\"],[\"Chairs\"],[\"Furnishings\"],[\"Tables\"],[\"Furnishings\"],[\"Furnishings\"],[\"Chairs\"],[\"Furnishings\"],[\"Bookcases\"],[\"Bookcases\"],[\"Furnishings\"],[\"Chairs\"],[\"Bookcases\"],[\"Furnishings\"],[\"Furnishings\"],[\"Chairs\"],[\"Tables\"],[\"Chairs\"],[\"Tables\"],[\"Chairs\"],[\"Tables\"],[\"Furnishings\"],[\"Tables\"],[\"Chairs\"],[\"Chairs\"],[\"Chairs\"],[\"Furnishings\"],[\"Furnishings\"],[\"Furnishings\"],[\"Furnishings\"],[\"Furnishings\"],[\"Furnishings\"],[\"Furnishings\"],[\"Tables\"],[\"Chairs\"],[\"Tables\"],[\"Chairs\"],[\"Tables\"],[\"Tables\"],[\"Tables\"],[\"Furnishings\"],[\"Chairs\"],[\"Chairs\"],[\"Furnishings\"],[\"Chairs\"],[\"Furnishings\"],[\"Tables\"],[\"Chairs\"],[\"Tables\"],[\"Furnishings\"],[\"Furnishings\"],[\"Bookcases\"],[\"Chairs\"],[\"Chairs\"],[\"Furnishings\"],[\"Chairs\"],[\"Bookcases\"],[\"Chairs\"],[\"Furnishings\"],[\"Tables\"],[\"Furnishings\"],[\"Furnishings\"],[\"Furnishings\"],[\"Furnishings\"],[\"Tables\"],[\"Chairs\"],[\"Furnishings\"],[\"Furnishings\"],[\"Chairs\"],[\"Furnishings\"],[\"Chairs\"],[\"Furnishings\"],[\"Chairs\"],[\"Furnishings\"],[\"Chairs\"],[\"Chairs\"],[\"Furnishings\"],[\"Furnishings\"],[\"Furnishings\"],[\"Furnishings\"],[\"Furnishings\"],[\"Furnishings\"],[\"Tables\"],[\"Chairs\"],[\"Furnishings\"],[\"Bookcases\"],[\"Bookcases\"],[\"Chairs\"],[\"Furnishings\"],[\"Chairs\"],[\"Tables\"],[\"Chairs\"],[\"Furnishings\"],[\"Tables\"],[\"Chairs\"],[\"Tables\"],[\"Furnishings\"],[\"Tables\"],[\"Furnishings\"],[\"Tables\"],[\"Chairs\"],[\"Bookcases\"],[\"Furnishings\"],[\"Furnishings\"],[\"Tables\"],[\"Furnishings\"],[\"Furnishings\"],[\"Furnishings\"],[\"Chairs\"],[\"Furnishings\"],[\"Furnishings\"],[\"Chairs\"],[\"Furnishings\"],[\"Chairs\"],[\"Furnishings\"],[\"Chairs\"],[\"Furnishings\"],[\"Chairs\"],[\"Furnishings\"],[\"Furnishings\"],[\"Furnishings\"],[\"Furnishings\"],[\"Furnishings\"],[\"Chairs\"],[\"Furnishings\"],[\"Furnishings\"],[\"Furnishings\"],[\"Tables\"],[\"Chairs\"],[\"Chairs\"],[\"Tables\"],[\"Furnishings\"],[\"Chairs\"],[\"Furnishings\"],[\"Chairs\"],[\"Furnishings\"],[\"Furnishings\"],[\"Furnishings\"],[\"Furnishings\"],[\"Furnishings\"],[\"Furnishings\"],[\"Chairs\"],[\"Furnishings\"],[\"Furnishings\"],[\"Tables\"],[\"Furnishings\"],[\"Furnishings\"],[\"Furnishings\"],[\"Tables\"],[\"Tables\"],[\"Bookcases\"],[\"Furnishings\"],[\"Furnishings\"],[\"Furnishings\"],[\"Chairs\"],[\"Tables\"],[\"Chairs\"]],\"hovertemplate\":\"category=Furniture\\u003cbr\\u003eStock Quantity=%{x}\\u003cbr\\u003ePrice (Ksh)=%{y}\\u003cbr\\u003esub_category=%{customdata[0]}\\u003cextra\\u003e\\u003c\\u002fextra\\u003e\",\"legendgroup\":\"Furniture\",\"marker\":{\"color\":\"#EF553B\",\"symbol\":\"circle\"},\"mode\":\"markers\",\"name\":\"Furniture\",\"showlegend\":true,\"x\":[133,219,133,83,113,184,175,203,178,219,102,217,121,130,85,171,71,144,81,73,108,73,179,176,247,203,228,53,30,131,43,12,151,179,221,236,20,11,144,161,80,157,123,21,154,84,98,227,93,36,43,185,38,109,111,236,127,16,97,43,128,80,34,37,93,87,176,63,15,200,92,103,138,110,85,58,71,208,94,169,121,160,17,223,164,138,93,176,126,24,10,83,46,122,201,65,124,156,216,113,34,224,88,177,84,242,47,63,37,183,109,101,240,106,16,40,39,243,81,83,191,196,91,136,38,114,193,180,162,58,185,215,45,227,149,62,148,193,94,25,38,35,201,99,78,70,132,192,248,40,60,89,238,171,187,121,122,29,209,201,191,102,44,109,25,150,112,16,213,233,241,49,157,73,115,144,164,28,47,152,127,224,231,25,221,206,83,239,200,73,161,110,75,200,133,50,244,12,204,32,150,19,94,243,88,246,46,74,250,178,222,11,183,116,14,222,72,25,119,223,248,117,41,239,242,125,203,93,119,27,141,200,123,125,86,239,90,133,176,66,118,230,44,206,248,196,84,200,43,244,29,197,36,70,161,212,109,143,84,170,178,236,57,200,179,50,81,75,241,214,165,23,100,169,130,156,138,44,131,241,67,121,249,142,231,124,106,75,28,13,152,197,151,117,109,86,149,28,28,47,101,191,174,95,95,125,160,91,87,169,41,175,81,234,237,241,212,146,30,227,105,88,47,43,246,210,207,108,196,152,197,169,23,78,90,149,151,144,189,195,167,19,203,218,234,130,171,238,153,235,191,229,241,125,108,250,197,173,13,27,85,130,14,236,52,52,104,139,95,38,52,186,130,154,54,89,219,220,150,238,246,250,115,128,158,157,29,150,132,171,210,153,149,155,52,127,31,146,168,247,173,162,21,240,121,227,107,76,181,95,212,137,192,83,53,86,135,28,152,144,171,191,93,230,128,120],\"xaxis\":\"x\",\"y\":[32.776,396.92,500.24,10.02,306.9,25.11,241.96,205.9992,127.95,41.6,563.43,29.78,14.56,63.882,638.288,182.94,1059.12,151.96,32.952,8.856,101.12,241.96,251.006,8.92,290.666,109.48,6.28,172.764,299.97,1487.04,191.058,20.04,1194.165,1053.164,154.764,282.84,302.67,69.008,58.36,77.952,36.672,198.272,149.9,327.996,172.11,1685.88,1448.82,328.59,40.784,698.352,135.3,35.28,383.607,157.74,171.288,286.85,872.94,104.784,899.43,319.41,161.28,529.9,155.456,353.568,918.785,392.94,626.352,102.36,79.76,1552.831,16.784,589.41,66.69,408.006,51.75,51.968,4.992,1125.488,230.28,18.84,53.2,20.32,12.56,386.68,171.288,56.328,241.568,87.54,458.43,145.764,1207.84,14.89,145.764,1424.9,577.764,192.186,328.3992,523.92,1044.63,211.84,231.92,368.97,770.352,21.936,38.6,512.358,1951.84,14.76,59.99,526.45,29.12,1282.41,15.168,20.24,169.568,281.372,327.76,198.744,276.69,1348.704,273.96,30.8,170.352,528.43,451.152,136.784,63.936,45.98,186.304,133.38,801.96,1121.568,63.686,24.7,161.568,464.292,127.764,609.98,393.165,191.079,85.246,60.74,182.352,82.8,436.704,327.564,23.88,19.3,317.058,83.136,150.98,135.882,19.52,38.97,128.9,91.032,388.704,1819.86,195.136,304.45,142.36,9.82,569.058,187.76,56.28,273.568,23.88,63.98,24.288,129.92,591.32,483.136,70.68,467.46,975.92,68.64,17.67,512.94,210.68,369.1992,605.88,66.112,46.384,65.424,518.272,339.136,14.56,7.712,1159.056,681.408,409.59,22.752,108.925,3.48,25.984,156.3728,253.176,359.058,6.96,233.86,815.292,206.112,51.264,10.56,653.55,401.59,787.53,120.98,145.98,275.058,74.76,629.64,626.1,13.96,77.952,1454.9,27.58,542.94,14.76,1421.664,8.544,328.59,96.53,51.96,376.866,289.8,271.764,88.02,39.96,350.98,452.94,14.82,458.43,181.986,102.018,446.068,550.431,853.092,854.94,34.79,517.5,29.328,86.45,59.92,2430.08,248.43,28.44,483.136,1018.104,239.358,177.225,254.744,73.915,6.24,521.96,212.94,29.22,62.72,35.92,13.4,512.19,64.96,253.764,301.96,35.544,141.96,206.962,314.352,445.802,28.272,290.98,332.832,692.94,43.12,44.46,242.352,8.128,4007.84,48.58,409.216,585.552,205.666,14.0,33.568,207.846,364.95,203.92,393.165,218.352,283.56,82.524,364.776,301.96,317.058,90.882,71.97,20.096,25.02,220.064,73.32,28.4,37.68,872.94,341.488,145.98,853.93,2348.82,1215.92,248.98,32.712,1267.53,643.136,79.92,26.64,77.952,171.96,273.552,934.956,45.568,20.9,359.499,117.882,1067.94,971.5,127.764,1336.829,242.352,60.72,429.9,60.288,7.04,127.88,137.54,455.1,542.94,30.56,20.104,179.886,18.84,579.136,14.76,207.846,4.044,364.41,215.544,6.984,199.9,15.4,4.712,8.28,20.94,344.22,1106.91,50.32,302.94,90.882,127.302,43.13,498.26,99.592,594.816,79.12,66.645,167.888,1184.72,25.4,292.1,14.98,1568.61,1526.56,81.94,10.476,14.56,562.2925,20.32,72.78,154.95,390.272,511.5,19.76,197.372,24.27,1458.65,8.736,122.352,47.12,321.568,82.26,27.46,9.94,107.53,43.31,191.968,103.936,26.25,83.952,1056.86,801.568,866.4,1441.3,30.768,398.972,96.96,47.516,6.096,127.88,20.32,139.86,310.88,8.92,242.136,1.892,66.36,892.136,373.08,82.26,18.84,262.11,620.6145,514.165,36.4,9.24,32.064,207.0,1478.272,230.28],\"yaxis\":\"y\",\"type\":\"scattergl\"},{\"customdata\":[[\"Art\"],[\"Art\"],[\"Paper\"],[\"Binders\"],[\"Art\"],[\"Labels\"],[\"Fasteners\"],[\"Binders\"],[\"Binders\"],[\"Envelopes\"],[\"Binders\"],[\"Envelopes\"],[\"Appliances\"],[\"Art\"],[\"Binders\"],[\"Paper\"],[\"Binders\"],[\"Paper\"],[\"Paper\"],[\"Paper\"],[\"Paper\"],[\"Art\"],[\"Art\"],[\"Binders\"],[\"Appliances\"],[\"Paper\"],[\"Paper\"],[\"Binders\"],[\"Art\"],[\"Labels\"],[\"Envelopes\"],[\"Storage\"],[\"Paper\"],[\"Binders\"],[\"Art\"],[\"Art\"],[\"Paper\"],[\"Appliances\"],[\"Binders\"],[\"Labels\"],[\"Art\"],[\"Storage\"],[\"Binders\"],[\"Art\"],[\"Storage\"],[\"Binders\"],[\"Binders\"],[\"Paper\"],[\"Binders\"],[\"Art\"],[\"Appliances\"],[\"Art\"],[\"Binders\"],[\"Binders\"],[\"Storage\"],[\"Paper\"],[\"Storage\"],[\"Art\"],[\"Art\"],[\"Binders\"],[\"Art\"],[\"Binders\"],[\"Binders\"],[\"Supplies\"],[\"Binders\"],[\"Paper\"],[\"Paper\"],[\"Art\"],[\"Binders\"],[\"Supplies\"],[\"Envelopes\"],[\"Paper\"],[\"Storage\"],[\"Paper\"],[\"Binders\"],[\"Appliances\"],[\"Binders\"],[\"Binders\"],[\"Paper\"],[\"Paper\"],[\"Paper\"],[\"Binders\"],[\"Art\"],[\"Binders\"],[\"Appliances\"],[\"Binders\"],[\"Binders\"],[\"Storage\"],[\"Binders\"],[\"Appliances\"],[\"Paper\"],[\"Appliances\"],[\"Art\"],[\"Storage\"],[\"Paper\"],[\"Art\"],[\"Binders\"],[\"Labels\"],[\"Supplies\"],[\"Art\"],[\"Paper\"],[\"Envelopes\"],[\"Paper\"],[\"Binders\"],[\"Paper\"],[\"Appliances\"],[\"Art\"],[\"Supplies\"],[\"Paper\"],[\"Fasteners\"],[\"Art\"],[\"Paper\"],[\"Paper\"],[\"Binders\"],[\"Storage\"],[\"Binders\"],[\"Paper\"],[\"Binders\"],[\"Art\"],[\"Art\"],[\"Storage\"],[\"Paper\"],[\"Art\"],[\"Labels\"],[\"Appliances\"],[\"Art\"],[\"Paper\"],[\"Storage\"],[\"Paper\"],[\"Appliances\"],[\"Paper\"],[\"Binders\"],[\"Envelopes\"],[\"Art\"],[\"Binders\"],[\"Art\"],[\"Paper\"],[\"Paper\"],[\"Envelopes\"],[\"Supplies\"],[\"Paper\"],[\"Paper\"],[\"Binders\"],[\"Paper\"],[\"Storage\"],[\"Storage\"],[\"Labels\"],[\"Binders\"],[\"Paper\"],[\"Appliances\"],[\"Storage\"],[\"Binders\"],[\"Storage\"],[\"Storage\"],[\"Paper\"],[\"Paper\"],[\"Binders\"],[\"Labels\"],[\"Art\"],[\"Binders\"],[\"Storage\"],[\"Binders\"],[\"Binders\"],[\"Appliances\"],[\"Binders\"],[\"Paper\"],[\"Art\"],[\"Paper\"],[\"Art\"],[\"Art\"],[\"Paper\"],[\"Fasteners\"],[\"Envelopes\"],[\"Envelopes\"],[\"Binders\"],[\"Binders\"],[\"Paper\"],[\"Envelopes\"],[\"Labels\"],[\"Art\"],[\"Envelopes\"],[\"Storage\"],[\"Art\"],[\"Paper\"],[\"Binders\"],[\"Envelopes\"],[\"Binders\"],[\"Storage\"],[\"Binders\"],[\"Paper\"],[\"Paper\"],[\"Binders\"],[\"Storage\"],[\"Binders\"],[\"Binders\"],[\"Paper\"],[\"Binders\"],[\"Storage\"],[\"Appliances\"],[\"Art\"],[\"Binders\"],[\"Binders\"],[\"Binders\"],[\"Fasteners\"],[\"Storage\"],[\"Paper\"],[\"Binders\"],[\"Binders\"],[\"Appliances\"],[\"Binders\"],[\"Storage\"],[\"Art\"],[\"Storage\"],[\"Paper\"],[\"Binders\"],[\"Binders\"],[\"Appliances\"],[\"Art\"],[\"Fasteners\"],[\"Art\"],[\"Binders\"],[\"Binders\"],[\"Storage\"],[\"Art\"],[\"Binders\"],[\"Binders\"],[\"Storage\"],[\"Binders\"],[\"Binders\"],[\"Storage\"],[\"Paper\"],[\"Art\"],[\"Envelopes\"],[\"Paper\"],[\"Storage\"],[\"Labels\"],[\"Binders\"],[\"Binders\"],[\"Storage\"],[\"Storage\"],[\"Appliances\"],[\"Appliances\"],[\"Envelopes\"],[\"Art\"],[\"Envelopes\"],[\"Envelopes\"],[\"Art\"],[\"Envelopes\"],[\"Paper\"],[\"Appliances\"],[\"Storage\"],[\"Storage\"],[\"Binders\"],[\"Appliances\"],[\"Art\"],[\"Appliances\"],[\"Paper\"],[\"Binders\"],[\"Paper\"],[\"Binders\"],[\"Labels\"],[\"Art\"],[\"Paper\"],[\"Supplies\"],[\"Binders\"],[\"Storage\"],[\"Paper\"],[\"Labels\"],[\"Fasteners\"],[\"Envelopes\"],[\"Storage\"],[\"Appliances\"],[\"Paper\"],[\"Labels\"],[\"Appliances\"],[\"Paper\"],[\"Storage\"],[\"Paper\"],[\"Storage\"],[\"Supplies\"],[\"Paper\"],[\"Binders\"],[\"Labels\"],[\"Binders\"],[\"Storage\"],[\"Binders\"],[\"Binders\"],[\"Paper\"],[\"Paper\"],[\"Binders\"],[\"Paper\"],[\"Binders\"],[\"Binders\"],[\"Envelopes\"],[\"Appliances\"],[\"Appliances\"],[\"Storage\"],[\"Paper\"],[\"Storage\"],[\"Labels\"],[\"Appliances\"],[\"Paper\"],[\"Paper\"],[\"Paper\"],[\"Paper\"],[\"Binders\"],[\"Labels\"],[\"Envelopes\"],[\"Fasteners\"],[\"Binders\"],[\"Binders\"],[\"Paper\"],[\"Binders\"],[\"Fasteners\"],[\"Paper\"],[\"Storage\"],[\"Binders\"],[\"Paper\"],[\"Binders\"],[\"Binders\"],[\"Labels\"],[\"Storage\"],[\"Paper\"],[\"Binders\"],[\"Binders\"],[\"Binders\"],[\"Binders\"],[\"Binders\"],[\"Supplies\"],[\"Envelopes\"],[\"Labels\"],[\"Binders\"],[\"Binders\"],[\"Binders\"],[\"Art\"],[\"Binders\"],[\"Storage\"],[\"Paper\"],[\"Paper\"],[\"Paper\"],[\"Binders\"],[\"Supplies\"],[\"Storage\"],[\"Storage\"],[\"Paper\"],[\"Storage\"],[\"Storage\"],[\"Storage\"],[\"Storage\"],[\"Storage\"],[\"Paper\"],[\"Paper\"],[\"Labels\"],[\"Appliances\"],[\"Paper\"],[\"Paper\"],[\"Envelopes\"],[\"Paper\"],[\"Binders\"],[\"Fasteners\"],[\"Binders\"],[\"Labels\"],[\"Appliances\"],[\"Storage\"],[\"Binders\"],[\"Paper\"],[\"Paper\"],[\"Binders\"],[\"Paper\"],[\"Paper\"],[\"Binders\"],[\"Paper\"],[\"Storage\"],[\"Art\"],[\"Envelopes\"],[\"Envelopes\"],[\"Paper\"],[\"Supplies\"],[\"Paper\"],[\"Appliances\"],[\"Labels\"],[\"Paper\"],[\"Binders\"],[\"Binders\"],[\"Paper\"],[\"Art\"],[\"Storage\"],[\"Art\"],[\"Binders\"],[\"Art\"],[\"Appliances\"],[\"Binders\"],[\"Paper\"],[\"Art\"],[\"Supplies\"],[\"Binders\"],[\"Storage\"],[\"Paper\"],[\"Paper\"],[\"Art\"],[\"Binders\"],[\"Binders\"],[\"Supplies\"],[\"Labels\"],[\"Paper\"],[\"Appliances\"],[\"Paper\"],[\"Envelopes\"],[\"Paper\"],[\"Binders\"],[\"Fasteners\"],[\"Paper\"],[\"Art\"],[\"Appliances\"],[\"Storage\"],[\"Envelopes\"],[\"Fasteners\"],[\"Binders\"],[\"Paper\"],[\"Storage\"],[\"Storage\"],[\"Binders\"],[\"Art\"],[\"Envelopes\"],[\"Paper\"],[\"Binders\"],[\"Labels\"],[\"Binders\"],[\"Appliances\"],[\"Binders\"],[\"Appliances\"],[\"Binders\"],[\"Binders\"],[\"Art\"],[\"Binders\"],[\"Binders\"],[\"Paper\"],[\"Storage\"],[\"Paper\"],[\"Labels\"],[\"Supplies\"],[\"Paper\"],[\"Storage\"],[\"Binders\"],[\"Storage\"],[\"Binders\"],[\"Binders\"],[\"Art\"],[\"Binders\"],[\"Paper\"],[\"Storage\"],[\"Binders\"],[\"Binders\"],[\"Paper\"],[\"Binders\"],[\"Binders\"],[\"Storage\"],[\"Storage\"],[\"Fasteners\"],[\"Paper\"],[\"Art\"],[\"Binders\"],[\"Binders\"],[\"Binders\"],[\"Binders\"],[\"Binders\"],[\"Paper\"],[\"Binders\"],[\"Binders\"],[\"Envelopes\"],[\"Art\"],[\"Art\"],[\"Envelopes\"],[\"Binders\"],[\"Binders\"],[\"Envelopes\"],[\"Paper\"],[\"Appliances\"],[\"Art\"],[\"Binders\"],[\"Storage\"],[\"Art\"],[\"Art\"],[\"Envelopes\"],[\"Binders\"],[\"Paper\"],[\"Storage\"],[\"Art\"],[\"Binders\"],[\"Paper\"],[\"Storage\"],[\"Paper\"],[\"Art\"],[\"Art\"],[\"Binders\"],[\"Binders\"],[\"Binders\"],[\"Binders\"],[\"Art\"],[\"Appliances\"],[\"Storage\"],[\"Storage\"],[\"Paper\"],[\"Storage\"],[\"Storage\"],[\"Binders\"],[\"Paper\"],[\"Binders\"],[\"Binders\"],[\"Binders\"],[\"Fasteners\"],[\"Labels\"],[\"Paper\"],[\"Art\"],[\"Binders\"],[\"Labels\"],[\"Paper\"],[\"Storage\"],[\"Fasteners\"],[\"Paper\"],[\"Binders\"],[\"Storage\"],[\"Storage\"],[\"Paper\"],[\"Appliances\"],[\"Appliances\"],[\"Envelopes\"],[\"Paper\"],[\"Paper\"],[\"Binders\"],[\"Labels\"],[\"Labels\"],[\"Labels\"],[\"Storage\"],[\"Labels\"],[\"Paper\"],[\"Appliances\"],[\"Paper\"],[\"Art\"],[\"Binders\"],[\"Binders\"],[\"Binders\"],[\"Appliances\"],[\"Art\"],[\"Storage\"],[\"Art\"],[\"Appliances\"],[\"Storage\"],[\"Labels\"],[\"Binders\"],[\"Binders\"],[\"Binders\"],[\"Paper\"],[\"Paper\"],[\"Binders\"],[\"Labels\"],[\"Art\"],[\"Paper\"],[\"Binders\"],[\"Art\"],[\"Appliances\"],[\"Envelopes\"],[\"Storage\"],[\"Appliances\"],[\"Art\"],[\"Art\"],[\"Art\"],[\"Binders\"],[\"Binders\"],[\"Supplies\"],[\"Art\"],[\"Storage\"],[\"Art\"],[\"Binders\"],[\"Storage\"],[\"Paper\"],[\"Art\"],[\"Supplies\"],[\"Binders\"],[\"Paper\"],[\"Supplies\"],[\"Art\"],[\"Envelopes\"],[\"Paper\"],[\"Fasteners\"],[\"Storage\"],[\"Paper\"],[\"Labels\"],[\"Art\"],[\"Paper\"],[\"Binders\"],[\"Storage\"],[\"Art\"],[\"Binders\"],[\"Binders\"],[\"Art\"],[\"Art\"],[\"Art\"],[\"Paper\"],[\"Appliances\"],[\"Binders\"],[\"Paper\"],[\"Storage\"],[\"Binders\"],[\"Appliances\"],[\"Labels\"],[\"Storage\"],[\"Binders\"],[\"Labels\"],[\"Paper\"],[\"Storage\"],[\"Binders\"],[\"Paper\"],[\"Appliances\"],[\"Fasteners\"],[\"Binders\"],[\"Labels\"],[\"Art\"],[\"Art\"],[\"Storage\"],[\"Appliances\"],[\"Paper\"],[\"Envelopes\"],[\"Envelopes\"],[\"Paper\"],[\"Paper\"],[\"Appliances\"],[\"Storage\"],[\"Binders\"],[\"Binders\"],[\"Paper\"],[\"Paper\"],[\"Paper\"],[\"Paper\"],[\"Supplies\"],[\"Binders\"],[\"Paper\"],[\"Binders\"],[\"Binders\"],[\"Paper\"],[\"Binders\"],[\"Labels\"],[\"Supplies\"],[\"Paper\"],[\"Fasteners\"],[\"Binders\"],[\"Appliances\"],[\"Storage\"],[\"Storage\"],[\"Art\"],[\"Fasteners\"],[\"Appliances\"],[\"Paper\"],[\"Paper\"],[\"Storage\"],[\"Binders\"],[\"Binders\"],[\"Art\"],[\"Paper\"],[\"Binders\"],[\"Paper\"],[\"Storage\"],[\"Paper\"],[\"Appliances\"],[\"Storage\"],[\"Paper\"],[\"Binders\"],[\"Fasteners\"],[\"Paper\"],[\"Appliances\"],[\"Envelopes\"],[\"Binders\"],[\"Art\"],[\"Art\"],[\"Binders\"],[\"Appliances\"],[\"Binders\"],[\"Paper\"],[\"Binders\"],[\"Binders\"],[\"Storage\"],[\"Labels\"],[\"Binders\"],[\"Binders\"],[\"Labels\"],[\"Binders\"],[\"Appliances\"],[\"Binders\"],[\"Paper\"],[\"Paper\"],[\"Art\"],[\"Appliances\"],[\"Paper\"],[\"Paper\"],[\"Binders\"],[\"Binders\"],[\"Paper\"],[\"Binders\"],[\"Storage\"],[\"Binders\"],[\"Supplies\"],[\"Paper\"],[\"Storage\"],[\"Binders\"],[\"Paper\"],[\"Binders\"],[\"Binders\"],[\"Storage\"],[\"Binders\"],[\"Binders\"],[\"Envelopes\"],[\"Labels\"],[\"Storage\"],[\"Storage\"],[\"Envelopes\"],[\"Art\"],[\"Art\"],[\"Storage\"],[\"Paper\"],[\"Labels\"],[\"Paper\"],[\"Art\"],[\"Binders\"],[\"Art\"],[\"Art\"],[\"Binders\"],[\"Fasteners\"],[\"Binders\"],[\"Paper\"],[\"Binders\"],[\"Paper\"],[\"Appliances\"],[\"Art\"],[\"Art\"],[\"Paper\"],[\"Paper\"],[\"Paper\"],[\"Fasteners\"],[\"Paper\"],[\"Binders\"],[\"Binders\"],[\"Binders\"],[\"Storage\"],[\"Art\"],[\"Binders\"],[\"Envelopes\"],[\"Art\"],[\"Envelopes\"],[\"Storage\"],[\"Binders\"],[\"Fasteners\"],[\"Art\"],[\"Paper\"],[\"Paper\"],[\"Art\"],[\"Art\"],[\"Storage\"],[\"Paper\"],[\"Art\"],[\"Storage\"],[\"Storage\"],[\"Fasteners\"],[\"Storage\"],[\"Binders\"],[\"Storage\"],[\"Storage\"],[\"Binders\"],[\"Paper\"],[\"Storage\"],[\"Paper\"],[\"Paper\"],[\"Labels\"],[\"Paper\"],[\"Art\"],[\"Appliances\"],[\"Storage\"],[\"Storage\"],[\"Envelopes\"],[\"Art\"],[\"Supplies\"],[\"Binders\"],[\"Labels\"],[\"Binders\"],[\"Art\"],[\"Binders\"],[\"Paper\"],[\"Appliances\"],[\"Storage\"],[\"Binders\"],[\"Envelopes\"],[\"Labels\"],[\"Paper\"],[\"Fasteners\"],[\"Storage\"],[\"Binders\"],[\"Binders\"],[\"Binders\"],[\"Art\"],[\"Paper\"],[\"Binders\"],[\"Binders\"],[\"Paper\"],[\"Binders\"],[\"Appliances\"],[\"Appliances\"],[\"Paper\"],[\"Fasteners\"],[\"Art\"],[\"Art\"],[\"Labels\"],[\"Storage\"],[\"Fasteners\"],[\"Art\"],[\"Paper\"],[\"Labels\"],[\"Paper\"],[\"Binders\"],[\"Appliances\"],[\"Storage\"],[\"Binders\"],[\"Paper\"],[\"Art\"],[\"Paper\"],[\"Art\"],[\"Appliances\"],[\"Binders\"],[\"Storage\"],[\"Storage\"],[\"Storage\"],[\"Storage\"],[\"Paper\"],[\"Art\"],[\"Binders\"],[\"Art\"],[\"Envelopes\"],[\"Art\"],[\"Paper\"],[\"Paper\"],[\"Storage\"],[\"Labels\"],[\"Binders\"],[\"Paper\"],[\"Paper\"],[\"Art\"],[\"Fasteners\"],[\"Art\"],[\"Paper\"],[\"Paper\"],[\"Binders\"],[\"Storage\"],[\"Storage\"],[\"Appliances\"],[\"Paper\"],[\"Binders\"],[\"Art\"],[\"Art\"],[\"Storage\"],[\"Binders\"],[\"Paper\"],[\"Appliances\"],[\"Paper\"],[\"Paper\"],[\"Paper\"],[\"Paper\"],[\"Art\"],[\"Paper\"],[\"Labels\"],[\"Binders\"],[\"Paper\"],[\"Binders\"],[\"Binders\"],[\"Storage\"],[\"Labels\"],[\"Art\"],[\"Paper\"],[\"Paper\"],[\"Art\"],[\"Supplies\"],[\"Paper\"],[\"Binders\"],[\"Paper\"],[\"Paper\"],[\"Binders\"],[\"Binders\"],[\"Binders\"],[\"Binders\"],[\"Binders\"],[\"Binders\"],[\"Binders\"],[\"Fasteners\"],[\"Paper\"],[\"Art\"],[\"Binders\"],[\"Appliances\"],[\"Paper\"],[\"Appliances\"],[\"Storage\"],[\"Art\"],[\"Paper\"],[\"Binders\"],[\"Appliances\"],[\"Envelopes\"],[\"Paper\"],[\"Art\"],[\"Fasteners\"],[\"Art\"],[\"Binders\"],[\"Envelopes\"],[\"Paper\"],[\"Envelopes\"],[\"Labels\"],[\"Paper\"],[\"Storage\"],[\"Art\"],[\"Labels\"],[\"Paper\"],[\"Labels\"],[\"Binders\"],[\"Storage\"],[\"Storage\"],[\"Art\"],[\"Binders\"],[\"Binders\"],[\"Paper\"],[\"Binders\"],[\"Paper\"],[\"Envelopes\"],[\"Paper\"],[\"Binders\"],[\"Binders\"],[\"Paper\"],[\"Paper\"],[\"Binders\"],[\"Binders\"],[\"Envelopes\"],[\"Binders\"],[\"Paper\"],[\"Art\"],[\"Paper\"],[\"Paper\"],[\"Art\"],[\"Storage\"],[\"Storage\"],[\"Fasteners\"],[\"Binders\"],[\"Paper\"],[\"Binders\"],[\"Fasteners\"],[\"Paper\"],[\"Envelopes\"],[\"Storage\"],[\"Envelopes\"],[\"Envelopes\"],[\"Paper\"],[\"Paper\"],[\"Binders\"],[\"Paper\"],[\"Fasteners\"],[\"Art\"],[\"Storage\"],[\"Storage\"],[\"Binders\"],[\"Binders\"],[\"Paper\"],[\"Binders\"],[\"Binders\"],[\"Envelopes\"],[\"Paper\"],[\"Labels\"],[\"Binders\"],[\"Binders\"],[\"Fasteners\"],[\"Paper\"],[\"Appliances\"],[\"Paper\"],[\"Binders\"],[\"Paper\"],[\"Art\"],[\"Storage\"],[\"Storage\"],[\"Art\"],[\"Paper\"],[\"Storage\"],[\"Binders\"],[\"Storage\"],[\"Storage\"],[\"Binders\"],[\"Binders\"],[\"Supplies\"],[\"Labels\"],[\"Binders\"],[\"Art\"],[\"Binders\"],[\"Binders\"],[\"Art\"],[\"Paper\"],[\"Paper\"],[\"Paper\"],[\"Appliances\"],[\"Art\"],[\"Labels\"],[\"Fasteners\"],[\"Storage\"],[\"Appliances\"],[\"Art\"],[\"Paper\"],[\"Fasteners\"],[\"Paper\"],[\"Storage\"],[\"Binders\"],[\"Fasteners\"],[\"Paper\"],[\"Paper\"],[\"Paper\"],[\"Paper\"],[\"Art\"],[\"Paper\"],[\"Appliances\"],[\"Paper\"],[\"Appliances\"],[\"Art\"],[\"Binders\"],[\"Paper\"],[\"Paper\"],[\"Storage\"],[\"Art\"],[\"Labels\"],[\"Storage\"],[\"Supplies\"],[\"Labels\"],[\"Binders\"],[\"Paper\"],[\"Fasteners\"],[\"Binders\"],[\"Binders\"],[\"Binders\"],[\"Binders\"],[\"Art\"],[\"Supplies\"],[\"Binders\"],[\"Art\"],[\"Storage\"],[\"Labels\"],[\"Binders\"],[\"Binders\"],[\"Paper\"],[\"Appliances\"],[\"Art\"],[\"Paper\"],[\"Envelopes\"],[\"Art\"],[\"Appliances\"],[\"Paper\"],[\"Art\"],[\"Appliances\"],[\"Binders\"],[\"Appliances\"],[\"Paper\"],[\"Storage\"],[\"Art\"],[\"Labels\"],[\"Binders\"],[\"Art\"],[\"Appliances\"],[\"Storage\"],[\"Art\"],[\"Art\"],[\"Art\"],[\"Labels\"],[\"Labels\"],[\"Storage\"],[\"Binders\"],[\"Appliances\"],[\"Art\"],[\"Binders\"],[\"Envelopes\"],[\"Paper\"],[\"Binders\"],[\"Binders\"],[\"Paper\"],[\"Art\"],[\"Paper\"]],\"hovertemplate\":\"category=Office Supplies\\u003cbr\\u003eStock Quantity=%{x}\\u003cbr\\u003ePrice (Ksh)=%{y}\\u003cbr\\u003esub_category=%{customdata[0]}\\u003cextra\\u003e\\u003c\\u002fextra\\u003e\",\"legendgroup\":\"Office Supplies\",\"marker\":{\"color\":\"#00cc96\",\"symbol\":\"circle\"},\"mode\":\"markers\",\"name\":\"Office Supplies\",\"showlegend\":true,\"x\":[32,12,127,140,103,247,146,169,62,128,165,53,239,129,225,21,55,177,169,104,218,124,182,216,199,159,200,99,104,145,153,87,209,242,14,207,90,107,217,182,69,20,80,91,138,47,88,36,126,169,154,89,30,249,160,144,76,66,248,248,25,188,239,198,91,217,164,15,90,205,131,36,234,155,80,233,211,165,202,91,13,88,186,102,223,198,94,234,235,131,187,117,122,213,121,218,118,74,15,95,199,206,90,120,10,73,136,34,46,169,188,189,115,109,100,222,101,117,214,122,176,128,147,51,156,223,148,39,125,248,117,131,15,103,183,101,148,180,189,242,204,181,19,29,62,230,75,177,238,21,92,184,188,101,193,151,221,222,54,84,54,217,249,136,39,22,236,243,111,196,11,186,44,241,113,143,185,69,224,81,13,198,236,96,238,53,205,143,47,65,141,213,102,162,71,88,14,14,35,35,154,223,85,51,250,244,137,153,156,116,21,163,196,228,78,91,155,116,112,73,179,116,15,63,61,240,37,220,148,214,39,196,224,207,21,208,88,213,35,223,65,150,114,232,46,47,126,52,220,239,49,85,105,224,108,61,183,31,69,163,127,214,211,151,230,52,241,102,88,82,63,250,233,129,19,14,88,140,24,15,34,72,239,43,194,244,74,218,23,163,158,249,40,111,65,240,225,167,90,21,132,239,241,59,206,89,17,157,76,56,244,51,44,138,69,100,153,119,113,21,58,176,221,149,52,190,87,231,49,219,72,133,155,17,163,170,147,75,150,188,32,95,192,216,106,146,204,227,78,20,47,212,145,94,92,161,166,50,200,191,144,93,233,53,31,203,172,174,63,229,79,168,101,147,51,144,22,109,81,202,17,241,88,212,194,171,69,170,30,115,48,46,207,32,77,120,62,50,97,187,28,223,236,152,212,220,233,85,92,26,195,180,103,200,229,26,48,16,24,237,77,51,203,172,183,121,71,104,87,156,120,101,87,46,185,174,133,21,56,245,18,110,105,141,220,47,200,34,240,199,232,159,235,34,249,153,164,229,199,136,114,72,193,25,105,92,211,213,128,50,69,133,223,35,214,212,132,152,210,66,215,218,192,216,147,128,197,98,240,218,218,89,150,62,62,238,25,129,64,12,129,119,184,197,120,31,155,235,96,89,132,221,160,213,132,197,20,128,43,129,110,152,132,108,85,76,207,141,172,194,166,63,195,47,192,72,243,113,244,180,109,210,206,85,19,137,163,73,110,249,103,121,88,53,165,125,195,66,26,100,111,180,232,80,79,211,147,228,94,123,133,41,179,136,87,116,224,20,245,24,107,244,93,123,219,231,12,95,135,142,161,109,106,102,21,113,39,144,134,193,182,243,25,154,69,133,150,36,76,109,94,248,120,68,110,106,248,194,231,36,249,149,128,48,117,201,184,202,61,36,39,201,137,104,205,119,249,23,209,235,143,154,183,12,142,169,195,117,87,37,75,89,94,180,107,187,93,238,239,225,144,173,150,44,196,79,136,48,237,118,18,151,176,91,76,183,117,15,143,177,159,36,235,230,141,246,123,52,194,46,125,147,15,80,11,182,113,146,84,75,197,134,159,230,207,141,74,99,189,71,171,137,106,207,95,137,182,158,215,174,83,65,178,123,199,216,162,235,209,89,130,138,10,63,238,86,45,34,72,155,235,85,227,180,228,108,192,24,125,92,168,224,30,187,230,100,126,26,152,177,95,229,127,90,238,11,72,55,240,194,47,146,204,236,203,188,92,115,116,86,141,165,123,156,224,157,27,129,144,65,136,84,220,62,130,82,250,239,157,21,70,78,42,191,55,184,72,222,121,154,80,79,23,239,143,181,151,182,77,97,194,150,67,212,159,116,82,124,76,72,154,155,225,220,188,149,53,204,237,108,226,242,245,49,167,184,109,195,139,185,65,111,146,57,139,40,214,229,38,228,44,170,233,122,189,157,46,79,56,65,39,111,20,171,147,135,52,127,68,214,161,68,71,13,25,71,149,247,61,189,108,73,227,244,222,85,69,21,30,111,66,84,184,109,219,172,182,138,102,79,218,72,207,42,239,19,11,110,170,168,167,159,200,43,239,71,86,40,45,68,51,58,90,69,133,213,244,195,88,92,158,70,13,126,35,10,35,122,201,220,222,34,119,200,221,82,94,233,185,207,203,173,156,223,11,49,105,139,72,191,178,36,25,236,206,48,111,122,234,171,129,240,133,143,85,187,241,53,97,205,26,159,86,129,101,73,105,47,78,151,215,188,202,209,101,170,10,155,128,107,195,33,215,86,198,30,232,162,148,112,236,216,14,107,218,142,179,17,167,177,190,108,183,212,14,161,250,217,56,19,67,190,118,152,224,175,14,246,161,141,181,37,76,188,159,94,15,109,52,204,27,91,225,23,15,89,129,103,175,13,49,248,232,238,114,212,22,17,229,141,147,153],\"xaxis\":\"x\",\"y\":[10.688,8.34,10.272,4.812,23.32,491.55,14.432,447.86,14.304,186.69,34.5,17.48,334.88,18.656,49.632,31.104,14.352,42.28,23.92,10.16,4.36,17.97,13.89,271.984,4.356,12.192,14.94,34.5,9.552,16.52,11.36,344.91,447.84,58.408,7.872,14.592,6.58,179.94,14.256,4.608,29.95,31.16,2.934,29.79,281.424,2.08,1.641,28.14,30.84,181.86,35.91,5.248,6.216,5.238,66.96,11.36,155.82,36.96,3.912,13.208,4.368,9.612,6.46,49.5,33.552,13.872,74.352,181.86,43.176,10.95,137.25,295.456,342.864,143.7,14.28,167.292,18.288,3.882,64.704,47.952,114.2,38.16,42.048,81.088,58.924,50.997,43.19,129.552,35.808,176.04,45.68,48.632,17.52,25.424,10.368,6.368,13.194,33.12,17.584,12.96,44.384,18.336,104.85,33.568,185.88,25.96,16.464,231.72,21.98,3.96,46.2,45.056,8.56,8.226,88.8,8.595,31.008,11.088,140.736,18.688,33.488,38.88,5.16,3.69,7.9,5.56,25.92,1325.85,17.04,541.44,32.896,762.594,12.24,4.672,17.96,88.04,12.96,13.36,115.02,35.06,22.96,19.44,19.968,5.184,540.048,21.36,14.62,95.648,32.04,62.92,31.92,1.234,92.52,27.44,88.768,18.0,590.352,11.952,16.4,90.48,828.84,3.592,136.96,2625.12,36.024,97.82,35.216,17.472,161.82,4.368,62.016,35.0,8.928,158.13,8.608,39.624,14.62,135.9,24.64,37.84,17.48,454.9,9.84,12.96,33.088,130.464,5.742,77.952,4.923,47.9,40.032,43.41,51.168,1.344,33.282,15.84,8.76,134.8,1158.12,21.4,18.16,17.52,67.194,22.55,95.616,38.016,17.248,49.848,254.9,11.088,511.056,27.384,77.55,73.008,4.086,18.088,20.768,8.26,4.344,5.16,74.76,8.134,428.68,13.9,16.784,29.12,111.672,4.312,22.45,725.84,108.336,19.56,158.13,33.488,37.76,629.184,5.64,5.984,14.97,44.672,241.44,39.48,15.84,13.36,251.58,56.064,19.456,95.952,116.28,61.44,194.94,42.76,2.772,2.264,16.4,23.696,62.192,2690.97,29.96,2.043,6.16,7.98,38.88,3.104,29.52,535.41,20.736,16.52,5.67,26.22,17.94,79.47,109.92,11.07,262.24,11.56,64.784,25.92,35.952,25.5,45.36,3.882,12.39,7.536,92.52,55.424,85.232,26.38,12.96,18.192,15.552,841.568,7.96,2.896,7.96,706.86,52.4,10.48,23.92,50.4,73.164,10.56,14.94,4.624,34.02,25.824,14.4,43.7,4.96,39.879,8.272,4.98,69.888,35.0,9.408,83.7,15.92,44.75,68.48,2715.93,4.98,137.352,19.98,5.728,12.3,39.872,36.56,27.496,29.7,149.352,4.608,9.296,45.24,102.93,8.82,29.7,229.94,15.552,40.24,11.952,18.94,1.744,94.6,259.136,23.92,1117.92,454.86,306.2,1006.056,489.92,105.52,76.64,3.15,36.27,78.304,35.88,15.28,51.84,14.592,27.552,90.06,122.12,195.68,30.016,2.946,12.96,25.92,1.996,15.552,6.69,563.024,33.36,158.9,5.46,15.28,51.12,38.88,7.76,36.4,24.18,44.4,15.552,33.568,11.76,113.82,8.8,26.96,10.272,57.504,3.008,90.86,28.782,10.368,119.04,2.92,3.366,998.82,10.368,22.72,23.84,38.52,327.84,21.96,61.06,8.448,77.88,32.4,40.752,53.82,1.524,13.02,31.104,8.82,93.032,228.92,57.576,14.82,5.193,45.36,46.51,714.3,30.44,2.816,7.072,111.96,4.662,19.824,11.808,32.67,51.8,208.44,2.655,14.67,6.63,4.626,276.784,244.55,269.36,29.664,58.48,185.376,39.9,220.776,6.294,720.76,276.784,2.992,35.96,6.368,54.816,45.248,3.564,6.858,60.048,13.904,22.638,1085.42,11.21,3.488,15.984,151.92,6.368,254.058,1141.47,46.24,364.8,12.96,10.776,14.112,55.936,174.95,11.12,79.96,16.2,5.28,24.4,9.568,434.352,185.88,3.576,66.58,20.96,11.264,182.94,3.64,10.368,102.336,3.36,106.05,58.32,17.15,193.8,8.016,11.68,44.91,7.488,38.82,21.36,7.04,186.15,93.06,77.88,10.368,169.68,535.41,7.23,25.68,146.688,23.88,5.607,3.96,17.544,80.88,7.872,72.588,9.82,21.4,18.936,10.824,7.3,34.24,23.968,31.44,52.76,465.16,21.78,23.472,164.88,7.61,3.856,4.608,29.6,12.0,64.96,133.2,10.56,88.832,34.02,99.136,407.976,14.301,12.39,942.784,13.12,501.81,6.848,206.43,54.224,11.52,17.712,15.92,11.416,62.65,31.08,12.201,18.75,45.04,51.84,186.144,10.272,154.9,50.94,193.95,286.256,15.48,67.92,14.67,4.554,14.016,110.11,5.248,265.17,70.368,137.24,46.53,175.872,23.832,185.376,20.856,22.48,65.88,10.75,325.86,24.56,31.56,50.136,6.54,55.44,19.9,10.95,38.28,24.224,11.68,2.742,100.704,3.52,5.56,24.78,45.36,41.376,182.994,40.032,39.296,26.432,163.44,41.4,81.4,19.296,24.84,10.368,67.78,3.168,17.64,68.94,9.45,6.096,15.936,35.4,23.128,344.91,9.324,9.248,12.536,26.55,13.76,38.88,170.88,61.792,68.541,51.312,111.96,79.14,14.352,20.928,40.712,64.12,419.4,64.14,6.9,11.56,79.056,4.608,347.58,22.68,9.432,18.588,15.224,330.4,1676.88,5.248,7.56,98.112,31.872,81.54,1606.23,35.88,9.648,5.68,12.96,12.294,19.44,704.76,61.96,43.584,1350.12,8.56,1793.98,6.976,47.952,137.62,11.36,17.22,37.312,16.52,334.768,471.9,4.158,8.96,13.92,13.76,237.096,87.71,32.34,3.828,5.22,6.24,23.696,10.78,32.4,167.94,21.3,17.24,6.48,15.552,76.776,5.8,12.96,6.888,29.79,3.564,16.9,75.88,36.63,9.42,25.92,296.712,41.904,443.92,4.984,447.86,11.8,29.24,48.86,59.712,10.64,29.2,19.9,552.56,5.184,5.04,15.7,18.24,24.192,19.728,32.4,9.584,18.368,4.338,38.88,2.214,106.32,61.44,7.98,6.63,132.79,217.056,184.66,21.48,146.82,59.808,7.764,22.75,87.92,13.12,46.44,7.92,91.96,348.488,286.29,13.904,13.16,32.064,30.96,11.94,9.728,37.17,60.416,29.472,38.52,33.63,15.58,17.9,59.92,59.808,141.552,129.552,7.752,23.12,360.38,70.08,211.04,4.928,139.86,8.04,25.86,93.68,118.25,16.56,18.24,35.52,92.96,25.06,3.564,107.94,1.908,26.76,236.88,362.92,69.456,23.99,9.0,71.28,8.376,85.52,26.336,6.336,67.86,2.624,122.97,88.752,20.724,21.744,54.9,7.77,43.68,212.64,2.632,4.17,34.65,4.91,82.368,5.43,6.63,85.056,18.9,45.68,15.192,45.96,540.048,3.036,114.2,12.264,93.248,2.21,161.568,31.36,53.92,559.62,76.792,84.96,37.94,125.93,32.088,101.94,16.98,87.92,19.44,5.184,81.36,9.24,1.908,32.4,3.38,6.99,3.62,18.704,32.792,12.84,9.264,1297.368,332.704,7.78,17.64,3.444,56.3,33.92,26.632,11.568,49.12,28.08,219.84,59.94,24.784,43.44,19.152,19.44,75.18,29.372,46.35,196.704,9.912,237.096,41.4,2.224,29.9,12.96,63.488,25.71,22.704,24.448,7.42,163.96,25.32,8.6,8.88,4.304,3.928,0.876,2.946,12.032,20.016,5.76,42.616,1040.8,166.44,11.67,132.696,209.94,74.352,76.176,1640.7,12.768,36.288,13.392,3.488,67.56,20.724,13.392,55.48,81.54,27.888,12.84,34.05,8.56,3.0,96.08,60.144,11.952,20.86,78.256,11.52,14.301,3.132,40.99,3.136,106.32,47.01,15.552,2.896,21.3,9.68,30.18,6.096,13.92,14.76,46.72,16.272,7.872,75.88,28.352,10.496,22.512,53.424,11.62,17.43,110.96,17.46,31.12,15.552,125.36,232.55,23.472,7.824,56.07,13.08,12.222,160.72,3.76,5.472,243.384,1325.85,25.584,37.425,11.76,673.568,13.128,21.34,153.728,2.61,58.05,135.09,52.29,25.92,35.91,11.648,1.788,48.87,113.22,32.592,2934.33,3.64,629.1,43.28,40.98,65.12,81.96,3.798,56.82,5.84,44.4,7.712,6.672,17.38,3.204,1.344,25.92,37.52,10.56,243.88,19.456,29.46,10.9,84.784,453.6,14.576,27.15,7.16,10.688,509.488,13.896,45.92,10.368,25.344,15.552,32.4,4.224,40.08,35.04,10.368,152.94,31.744,33.74,23.52,15.552,728.82,21.4,14.94,99.488,10.95,18.9,2.88,32.064,22.96,19.152,1.872,9.81,2.286,219.9,695.16,45.48,19.46,70.26,5.78,41.28,287.92,17.94,129.92,17.856,11.56,180.96,11.76,40.54,18.496,121.536,81.96,896.99,26.49,19.44,1633.14,2.816,56.7,14.94,3.76,644.076,56.45,11.12,16.4,5.04,5.76,2.952,25.984,2.934,272.048,46.2,125.76,62.28,10.368,23.912,104.184,10.688,9.78,32.4],\"yaxis\":\"y\",\"type\":\"scattergl\"}],                        {\"template\":{\"data\":{\"histogram2dcontour\":[{\"type\":\"histogram2dcontour\",\"colorbar\":{\"outlinewidth\":0,\"ticks\":\"\"},\"colorscale\":[[0.0,\"#0d0887\"],[0.1111111111111111,\"#46039f\"],[0.2222222222222222,\"#7201a8\"],[0.3333333333333333,\"#9c179e\"],[0.4444444444444444,\"#bd3786\"],[0.5555555555555556,\"#d8576b\"],[0.6666666666666666,\"#ed7953\"],[0.7777777777777778,\"#fb9f3a\"],[0.8888888888888888,\"#fdca26\"],[1.0,\"#f0f921\"]]}],\"choropleth\":[{\"type\":\"choropleth\",\"colorbar\":{\"outlinewidth\":0,\"ticks\":\"\"}}],\"histogram2d\":[{\"type\":\"histogram2d\",\"colorbar\":{\"outlinewidth\":0,\"ticks\":\"\"},\"colorscale\":[[0.0,\"#0d0887\"],[0.1111111111111111,\"#46039f\"],[0.2222222222222222,\"#7201a8\"],[0.3333333333333333,\"#9c179e\"],[0.4444444444444444,\"#bd3786\"],[0.5555555555555556,\"#d8576b\"],[0.6666666666666666,\"#ed7953\"],[0.7777777777777778,\"#fb9f3a\"],[0.8888888888888888,\"#fdca26\"],[1.0,\"#f0f921\"]]}],\"heatmap\":[{\"type\":\"heatmap\",\"colorbar\":{\"outlinewidth\":0,\"ticks\":\"\"},\"colorscale\":[[0.0,\"#0d0887\"],[0.1111111111111111,\"#46039f\"],[0.2222222222222222,\"#7201a8\"],[0.3333333333333333,\"#9c179e\"],[0.4444444444444444,\"#bd3786\"],[0.5555555555555556,\"#d8576b\"],[0.6666666666666666,\"#ed7953\"],[0.7777777777777778,\"#fb9f3a\"],[0.8888888888888888,\"#fdca26\"],[1.0,\"#f0f921\"]]}],\"heatmapgl\":[{\"type\":\"heatmapgl\",\"colorbar\":{\"outlinewidth\":0,\"ticks\":\"\"},\"colorscale\":[[0.0,\"#0d0887\"],[0.1111111111111111,\"#46039f\"],[0.2222222222222222,\"#7201a8\"],[0.3333333333333333,\"#9c179e\"],[0.4444444444444444,\"#bd3786\"],[0.5555555555555556,\"#d8576b\"],[0.6666666666666666,\"#ed7953\"],[0.7777777777777778,\"#fb9f3a\"],[0.8888888888888888,\"#fdca26\"],[1.0,\"#f0f921\"]]}],\"contourcarpet\":[{\"type\":\"contourcarpet\",\"colorbar\":{\"outlinewidth\":0,\"ticks\":\"\"}}],\"contour\":[{\"type\":\"contour\",\"colorbar\":{\"outlinewidth\":0,\"ticks\":\"\"},\"colorscale\":[[0.0,\"#0d0887\"],[0.1111111111111111,\"#46039f\"],[0.2222222222222222,\"#7201a8\"],[0.3333333333333333,\"#9c179e\"],[0.4444444444444444,\"#bd3786\"],[0.5555555555555556,\"#d8576b\"],[0.6666666666666666,\"#ed7953\"],[0.7777777777777778,\"#fb9f3a\"],[0.8888888888888888,\"#fdca26\"],[1.0,\"#f0f921\"]]}],\"surface\":[{\"type\":\"surface\",\"colorbar\":{\"outlinewidth\":0,\"ticks\":\"\"},\"colorscale\":[[0.0,\"#0d0887\"],[0.1111111111111111,\"#46039f\"],[0.2222222222222222,\"#7201a8\"],[0.3333333333333333,\"#9c179e\"],[0.4444444444444444,\"#bd3786\"],[0.5555555555555556,\"#d8576b\"],[0.6666666666666666,\"#ed7953\"],[0.7777777777777778,\"#fb9f3a\"],[0.8888888888888888,\"#fdca26\"],[1.0,\"#f0f921\"]]}],\"mesh3d\":[{\"type\":\"mesh3d\",\"colorbar\":{\"outlinewidth\":0,\"ticks\":\"\"}}],\"scatter\":[{\"fillpattern\":{\"fillmode\":\"overlay\",\"size\":10,\"solidity\":0.2},\"type\":\"scatter\"}],\"parcoords\":[{\"type\":\"parcoords\",\"line\":{\"colorbar\":{\"outlinewidth\":0,\"ticks\":\"\"}}}],\"scatterpolargl\":[{\"type\":\"scatterpolargl\",\"marker\":{\"colorbar\":{\"outlinewidth\":0,\"ticks\":\"\"}}}],\"bar\":[{\"error_x\":{\"color\":\"#2a3f5f\"},\"error_y\":{\"color\":\"#2a3f5f\"},\"marker\":{\"line\":{\"color\":\"#E5ECF6\",\"width\":0.5},\"pattern\":{\"fillmode\":\"overlay\",\"size\":10,\"solidity\":0.2}},\"type\":\"bar\"}],\"scattergeo\":[{\"type\":\"scattergeo\",\"marker\":{\"colorbar\":{\"outlinewidth\":0,\"ticks\":\"\"}}}],\"scatterpolar\":[{\"type\":\"scatterpolar\",\"marker\":{\"colorbar\":{\"outlinewidth\":0,\"ticks\":\"\"}}}],\"histogram\":[{\"marker\":{\"pattern\":{\"fillmode\":\"overlay\",\"size\":10,\"solidity\":0.2}},\"type\":\"histogram\"}],\"scattergl\":[{\"type\":\"scattergl\",\"marker\":{\"colorbar\":{\"outlinewidth\":0,\"ticks\":\"\"}}}],\"scatter3d\":[{\"type\":\"scatter3d\",\"line\":{\"colorbar\":{\"outlinewidth\":0,\"ticks\":\"\"}},\"marker\":{\"colorbar\":{\"outlinewidth\":0,\"ticks\":\"\"}}}],\"scattermapbox\":[{\"type\":\"scattermapbox\",\"marker\":{\"colorbar\":{\"outlinewidth\":0,\"ticks\":\"\"}}}],\"scatterternary\":[{\"type\":\"scatterternary\",\"marker\":{\"colorbar\":{\"outlinewidth\":0,\"ticks\":\"\"}}}],\"scattercarpet\":[{\"type\":\"scattercarpet\",\"marker\":{\"colorbar\":{\"outlinewidth\":0,\"ticks\":\"\"}}}],\"carpet\":[{\"aaxis\":{\"endlinecolor\":\"#2a3f5f\",\"gridcolor\":\"white\",\"linecolor\":\"white\",\"minorgridcolor\":\"white\",\"startlinecolor\":\"#2a3f5f\"},\"baxis\":{\"endlinecolor\":\"#2a3f5f\",\"gridcolor\":\"white\",\"linecolor\":\"white\",\"minorgridcolor\":\"white\",\"startlinecolor\":\"#2a3f5f\"},\"type\":\"carpet\"}],\"table\":[{\"cells\":{\"fill\":{\"color\":\"#EBF0F8\"},\"line\":{\"color\":\"white\"}},\"header\":{\"fill\":{\"color\":\"#C8D4E3\"},\"line\":{\"color\":\"white\"}},\"type\":\"table\"}],\"barpolar\":[{\"marker\":{\"line\":{\"color\":\"#E5ECF6\",\"width\":0.5},\"pattern\":{\"fillmode\":\"overlay\",\"size\":10,\"solidity\":0.2}},\"type\":\"barpolar\"}],\"pie\":[{\"automargin\":true,\"type\":\"pie\"}]},\"layout\":{\"autotypenumbers\":\"strict\",\"colorway\":[\"#636efa\",\"#EF553B\",\"#00cc96\",\"#ab63fa\",\"#FFA15A\",\"#19d3f3\",\"#FF6692\",\"#B6E880\",\"#FF97FF\",\"#FECB52\"],\"font\":{\"color\":\"#2a3f5f\"},\"hovermode\":\"closest\",\"hoverlabel\":{\"align\":\"left\"},\"paper_bgcolor\":\"white\",\"plot_bgcolor\":\"#E5ECF6\",\"polar\":{\"bgcolor\":\"#E5ECF6\",\"angularaxis\":{\"gridcolor\":\"white\",\"linecolor\":\"white\",\"ticks\":\"\"},\"radialaxis\":{\"gridcolor\":\"white\",\"linecolor\":\"white\",\"ticks\":\"\"}},\"ternary\":{\"bgcolor\":\"#E5ECF6\",\"aaxis\":{\"gridcolor\":\"white\",\"linecolor\":\"white\",\"ticks\":\"\"},\"baxis\":{\"gridcolor\":\"white\",\"linecolor\":\"white\",\"ticks\":\"\"},\"caxis\":{\"gridcolor\":\"white\",\"linecolor\":\"white\",\"ticks\":\"\"}},\"coloraxis\":{\"colorbar\":{\"outlinewidth\":0,\"ticks\":\"\"}},\"colorscale\":{\"sequential\":[[0.0,\"#0d0887\"],[0.1111111111111111,\"#46039f\"],[0.2222222222222222,\"#7201a8\"],[0.3333333333333333,\"#9c179e\"],[0.4444444444444444,\"#bd3786\"],[0.5555555555555556,\"#d8576b\"],[0.6666666666666666,\"#ed7953\"],[0.7777777777777778,\"#fb9f3a\"],[0.8888888888888888,\"#fdca26\"],[1.0,\"#f0f921\"]],\"sequentialminus\":[[0.0,\"#0d0887\"],[0.1111111111111111,\"#46039f\"],[0.2222222222222222,\"#7201a8\"],[0.3333333333333333,\"#9c179e\"],[0.4444444444444444,\"#bd3786\"],[0.5555555555555556,\"#d8576b\"],[0.6666666666666666,\"#ed7953\"],[0.7777777777777778,\"#fb9f3a\"],[0.8888888888888888,\"#fdca26\"],[1.0,\"#f0f921\"]],\"diverging\":[[0,\"#8e0152\"],[0.1,\"#c51b7d\"],[0.2,\"#de77ae\"],[0.3,\"#f1b6da\"],[0.4,\"#fde0ef\"],[0.5,\"#f7f7f7\"],[0.6,\"#e6f5d0\"],[0.7,\"#b8e186\"],[0.8,\"#7fbc41\"],[0.9,\"#4d9221\"],[1,\"#276419\"]]},\"xaxis\":{\"gridcolor\":\"white\",\"linecolor\":\"white\",\"ticks\":\"\",\"title\":{\"standoff\":15},\"zerolinecolor\":\"white\",\"automargin\":true,\"zerolinewidth\":2},\"yaxis\":{\"gridcolor\":\"white\",\"linecolor\":\"white\",\"ticks\":\"\",\"title\":{\"standoff\":15},\"zerolinecolor\":\"white\",\"automargin\":true,\"zerolinewidth\":2},\"scene\":{\"xaxis\":{\"backgroundcolor\":\"#E5ECF6\",\"gridcolor\":\"white\",\"linecolor\":\"white\",\"showbackground\":true,\"ticks\":\"\",\"zerolinecolor\":\"white\",\"gridwidth\":2},\"yaxis\":{\"backgroundcolor\":\"#E5ECF6\",\"gridcolor\":\"white\",\"linecolor\":\"white\",\"showbackground\":true,\"ticks\":\"\",\"zerolinecolor\":\"white\",\"gridwidth\":2},\"zaxis\":{\"backgroundcolor\":\"#E5ECF6\",\"gridcolor\":\"white\",\"linecolor\":\"white\",\"showbackground\":true,\"ticks\":\"\",\"zerolinecolor\":\"white\",\"gridwidth\":2}},\"shapedefaults\":{\"line\":{\"color\":\"#2a3f5f\"}},\"annotationdefaults\":{\"arrowcolor\":\"#2a3f5f\",\"arrowhead\":0,\"arrowwidth\":1},\"geo\":{\"bgcolor\":\"white\",\"landcolor\":\"#E5ECF6\",\"subunitcolor\":\"white\",\"showland\":true,\"showlakes\":true,\"lakecolor\":\"white\"},\"title\":{\"x\":0.05},\"mapbox\":{\"style\":\"light\"}}},\"xaxis\":{\"anchor\":\"y\",\"domain\":[0.0,1.0],\"title\":{\"text\":\"Stock Quantity\"}},\"yaxis\":{\"anchor\":\"x\",\"domain\":[0.0,1.0],\"title\":{\"text\":\"Price (Ksh)\"}},\"legend\":{\"title\":{\"text\":\"category\"},\"tracegroupgap\":0},\"title\":{\"text\":\"Product Stock vs Price\"}},                        {\"responsive\": true}                    ).then(function(){\n",
       "                            \n",
       "var gd = document.getElementById('efa8bfed-9ec2-4e57-8352-a4c19ec0dc8e');\n",
       "var x = new MutationObserver(function (mutations, observer) {{\n",
       "        var display = window.getComputedStyle(gd).display;\n",
       "        if (!display || display === 'none') {{\n",
       "            console.log([gd, 'removed!']);\n",
       "            Plotly.purge(gd);\n",
       "            observer.disconnect();\n",
       "        }}\n",
       "}});\n",
       "\n",
       "// Listen for the removal of the full notebook cells\n",
       "var notebookContainer = gd.closest('#notebook-container');\n",
       "if (notebookContainer) {{\n",
       "    x.observe(notebookContainer, {childList: true});\n",
       "}}\n",
       "\n",
       "// Listen for the clearing of the current output cell\n",
       "var outputEl = gd.closest('.output');\n",
       "if (outputEl) {{\n",
       "    x.observe(outputEl, {childList: true});\n",
       "}}\n",
       "\n",
       "                        })                };                });            </script>        </div>"
      ]
     },
     "metadata": {},
     "output_type": "display_data"
    }
   ],
   "source": [
    "fig = px.scatter(df, x='stock', y='price',\n",
    "                 title='Product Stock vs Price',\n",
    "                 labels={'stock': 'Stock Quantity', 'price': 'Price (Ksh)'},\n",
    "                 color='category',  # Color-code points by category\n",
    "                 hover_data=['sub_category'])  \n",
    "fig.show()"
   ]
  },
  {
   "cell_type": "code",
   "execution_count": null,
   "id": "7b43aeb9-094a-4932-b960-d1bea681e7f5",
   "metadata": {},
   "outputs": [],
   "source": []
  }
 ],
 "metadata": {
  "kernelspec": {
   "display_name": "Python 3 (ipykernel)",
   "language": "python",
   "name": "python3"
  },
  "language_info": {
   "codemirror_mode": {
    "name": "ipython",
    "version": 3
   },
   "file_extension": ".py",
   "mimetype": "text/x-python",
   "name": "python",
   "nbconvert_exporter": "python",
   "pygments_lexer": "ipython3",
   "version": "3.11.9"
  }
 },
 "nbformat": 4,
 "nbformat_minor": 5
}
