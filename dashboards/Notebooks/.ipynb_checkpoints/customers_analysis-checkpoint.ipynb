{
 "cells": [
  {
   "cell_type": "code",
   "execution_count": 32,
   "id": "a07753ed-e1fc-4f62-8623-004872a24c44",
   "metadata": {},
   "outputs": [],
   "source": [
    "import pandas as pd\n",
    "from datetime import datetime\n",
    "import plotly.express as px"
   ]
  },
  {
   "cell_type": "code",
   "execution_count": 33,
   "id": "2c0026ab-d41a-415e-8de3-b8ab3b95a312",
   "metadata": {},
   "outputs": [
    {
     "data": {
      "text/html": [
       "<div>\n",
       "<style scoped>\n",
       "    .dataframe tbody tr th:only-of-type {\n",
       "        vertical-align: middle;\n",
       "    }\n",
       "\n",
       "    .dataframe tbody tr th {\n",
       "        vertical-align: top;\n",
       "    }\n",
       "\n",
       "    .dataframe thead th {\n",
       "        text-align: right;\n",
       "    }\n",
       "</style>\n",
       "<table border=\"1\" class=\"dataframe\">\n",
       "  <thead>\n",
       "    <tr style=\"text-align: right;\">\n",
       "      <th></th>\n",
       "      <th>date</th>\n",
       "      <th>customerID</th>\n",
       "      <th>customer_name</th>\n",
       "      <th>age</th>\n",
       "      <th>segment</th>\n",
       "      <th>county</th>\n",
       "      <th>category</th>\n",
       "      <th>sub_category</th>\n",
       "      <th>price</th>\n",
       "      <th>payment_method</th>\n",
       "      <th>quantity</th>\n",
       "      <th>profit</th>\n",
       "    </tr>\n",
       "  </thead>\n",
       "  <tbody>\n",
       "    <tr>\n",
       "      <th>0</th>\n",
       "      <td>30/12/2019</td>\n",
       "      <td>CG-12520</td>\n",
       "      <td>Claire Gute</td>\n",
       "      <td>19</td>\n",
       "      <td>Consumer</td>\n",
       "      <td>Nairobi</td>\n",
       "      <td>Furniture</td>\n",
       "      <td>Bookcases</td>\n",
       "      <td>261.9600</td>\n",
       "      <td>Mpesa</td>\n",
       "      <td>2</td>\n",
       "      <td>41.9136</td>\n",
       "    </tr>\n",
       "    <tr>\n",
       "      <th>1</th>\n",
       "      <td>29/12/2019</td>\n",
       "      <td>CG-12520</td>\n",
       "      <td>Claire Gute</td>\n",
       "      <td>21</td>\n",
       "      <td>Consumer</td>\n",
       "      <td>Nairobi</td>\n",
       "      <td>Furniture</td>\n",
       "      <td>Chairs</td>\n",
       "      <td>731.9400</td>\n",
       "      <td>Cash</td>\n",
       "      <td>3</td>\n",
       "      <td>219.5820</td>\n",
       "    </tr>\n",
       "    <tr>\n",
       "      <th>2</th>\n",
       "      <td>12/12/2019</td>\n",
       "      <td>DV-13045</td>\n",
       "      <td>Darrin Van Huff</td>\n",
       "      <td>20</td>\n",
       "      <td>Corporate</td>\n",
       "      <td>Nairobi</td>\n",
       "      <td>Office Supplies</td>\n",
       "      <td>Labels</td>\n",
       "      <td>14.6200</td>\n",
       "      <td>Credit card</td>\n",
       "      <td>2</td>\n",
       "      <td>6.8714</td>\n",
       "    </tr>\n",
       "    <tr>\n",
       "      <th>3</th>\n",
       "      <td>22/12/2019</td>\n",
       "      <td>SO-20335</td>\n",
       "      <td>Sean O'Donnell</td>\n",
       "      <td>23</td>\n",
       "      <td>Consumer</td>\n",
       "      <td>Nairobi</td>\n",
       "      <td>Furniture</td>\n",
       "      <td>Tables</td>\n",
       "      <td>957.5775</td>\n",
       "      <td>Mpesa</td>\n",
       "      <td>5</td>\n",
       "      <td>-383.0310</td>\n",
       "    </tr>\n",
       "    <tr>\n",
       "      <th>4</th>\n",
       "      <td>18/12/2019</td>\n",
       "      <td>SO-20335</td>\n",
       "      <td>Sean O'Donnell</td>\n",
       "      <td>31</td>\n",
       "      <td>Consumer</td>\n",
       "      <td>Nairobi</td>\n",
       "      <td>Office Supplies</td>\n",
       "      <td>Storage</td>\n",
       "      <td>22.3680</td>\n",
       "      <td>Mpesa</td>\n",
       "      <td>2</td>\n",
       "      <td>2.5164</td>\n",
       "    </tr>\n",
       "  </tbody>\n",
       "</table>\n",
       "</div>"
      ],
      "text/plain": [
       "         date customerID    customer_name  age    segment   county  \\\n",
       "0  30/12/2019   CG-12520      Claire Gute   19   Consumer  Nairobi   \n",
       "1  29/12/2019   CG-12520      Claire Gute   21   Consumer  Nairobi   \n",
       "2  12/12/2019   DV-13045  Darrin Van Huff   20  Corporate  Nairobi   \n",
       "3  22/12/2019   SO-20335   Sean O'Donnell   23   Consumer  Nairobi   \n",
       "4  18/12/2019   SO-20335   Sean O'Donnell   31   Consumer  Nairobi   \n",
       "\n",
       "          category sub_category     price payment_method  quantity    profit  \n",
       "0        Furniture    Bookcases  261.9600          Mpesa         2   41.9136  \n",
       "1        Furniture       Chairs  731.9400           Cash         3  219.5820  \n",
       "2  Office Supplies       Labels   14.6200    Credit card         2    6.8714  \n",
       "3        Furniture       Tables  957.5775          Mpesa         5 -383.0310  \n",
       "4  Office Supplies      Storage   22.3680          Mpesa         2    2.5164  "
      ]
     },
     "execution_count": 33,
     "metadata": {},
     "output_type": "execute_result"
    }
   ],
   "source": [
    "df = pd.read_csv('modified_sales.csv')\n",
    "df.drop(columns=['saleID', 'time', 'staff_no', 'staff_name',\n",
    "                 'productID', 'product_name', 'stock', 'discount'], inplace=True)\n",
    "df.head()"
   ]
  },
  {
   "cell_type": "code",
   "execution_count": 34,
   "id": "aa3799e7-eabe-4eb7-8397-6e16ea2796a7",
   "metadata": {},
   "outputs": [
    {
     "data": {
      "text/html": [
       "<div>\n",
       "<style scoped>\n",
       "    .dataframe tbody tr th:only-of-type {\n",
       "        vertical-align: middle;\n",
       "    }\n",
       "\n",
       "    .dataframe tbody tr th {\n",
       "        vertical-align: top;\n",
       "    }\n",
       "\n",
       "    .dataframe thead th {\n",
       "        text-align: right;\n",
       "    }\n",
       "</style>\n",
       "<table border=\"1\" class=\"dataframe\">\n",
       "  <thead>\n",
       "    <tr style=\"text-align: right;\">\n",
       "      <th></th>\n",
       "      <th>customer_ID</th>\n",
       "      <th>customer_name</th>\n",
       "      <th>age</th>\n",
       "      <th>segment</th>\n",
       "      <th>Date Joined</th>\n",
       "    </tr>\n",
       "  </thead>\n",
       "  <tbody>\n",
       "    <tr>\n",
       "      <th>0</th>\n",
       "      <td>CG-12520</td>\n",
       "      <td>Claire Gute</td>\n",
       "      <td>19</td>\n",
       "      <td>Consumer</td>\n",
       "      <td>28/11/2022</td>\n",
       "    </tr>\n",
       "    <tr>\n",
       "      <th>1</th>\n",
       "      <td>DV-13045</td>\n",
       "      <td>Claire Gute</td>\n",
       "      <td>21</td>\n",
       "      <td>Consumer</td>\n",
       "      <td>23/04/2022</td>\n",
       "    </tr>\n",
       "    <tr>\n",
       "      <th>2</th>\n",
       "      <td>SO-20335</td>\n",
       "      <td>Darrin Van Huff</td>\n",
       "      <td>20</td>\n",
       "      <td>Corporate</td>\n",
       "      <td>10/12/2022</td>\n",
       "    </tr>\n",
       "    <tr>\n",
       "      <th>3</th>\n",
       "      <td>BH-11710</td>\n",
       "      <td>Sean O'Donnell</td>\n",
       "      <td>23</td>\n",
       "      <td>Consumer</td>\n",
       "      <td>24/04/2021</td>\n",
       "    </tr>\n",
       "    <tr>\n",
       "      <th>4</th>\n",
       "      <td>AA-10480</td>\n",
       "      <td>Sean O'Donnell</td>\n",
       "      <td>31</td>\n",
       "      <td>Consumer</td>\n",
       "      <td>23/04/2020</td>\n",
       "    </tr>\n",
       "  </tbody>\n",
       "</table>\n",
       "</div>"
      ],
      "text/plain": [
       "  customer_ID    customer_name  age    segment Date Joined\n",
       "0    CG-12520      Claire Gute   19   Consumer  28/11/2022\n",
       "1    DV-13045      Claire Gute   21   Consumer  23/04/2022\n",
       "2    SO-20335  Darrin Van Huff   20  Corporate  10/12/2022\n",
       "3    BH-11710   Sean O'Donnell   23   Consumer  24/04/2021\n",
       "4    AA-10480   Sean O'Donnell   31   Consumer  23/04/2020"
      ]
     },
     "execution_count": 34,
     "metadata": {},
     "output_type": "execute_result"
    }
   ],
   "source": [
    "df_customers = pd.read_csv('customers.csv')\n",
    "df_customers.head()"
   ]
  },
  {
   "cell_type": "code",
   "execution_count": 35,
   "id": "da3011b6-75d5-46f3-ab4d-3497959382f8",
   "metadata": {},
   "outputs": [
    {
     "data": {
      "text/plain": [
       "793"
      ]
     },
     "execution_count": 35,
     "metadata": {},
     "output_type": "execute_result"
    }
   ],
   "source": [
    "total_customers = df['customerID'].nunique()\n",
    "total_customers"
   ]
  },
  {
   "cell_type": "code",
   "execution_count": 36,
   "id": "41ee20a8-300b-4d4f-9132-667758ddd8ea",
   "metadata": {},
   "outputs": [
    {
     "data": {
      "text/plain": [
       "52"
      ]
     },
     "execution_count": 36,
     "metadata": {},
     "output_type": "execute_result"
    }
   ],
   "source": [
    "avg_age = round(df['age'].mean())\n",
    "avg_age"
   ]
  },
  {
   "cell_type": "code",
   "execution_count": 37,
   "id": "17ca0dd9-274d-4cf7-a6ae-d32a9dcfff5b",
   "metadata": {},
   "outputs": [
    {
     "data": {
      "text/plain": [
       "14487"
      ]
     },
     "execution_count": 37,
     "metadata": {},
     "output_type": "execute_result"
    }
   ],
   "source": [
    "df['total_amount'] = df['price'] * df['quantity']\n",
    "customer_totals = df.groupby('customerID')['total_amount'].sum()\n",
    "average_spend = round(customer_totals.mean())\n",
    "average_spend"
   ]
  },
  {
   "cell_type": "code",
   "execution_count": 38,
   "id": "9c66a587-42ee-43be-9aa0-2510c728b1e4",
   "metadata": {},
   "outputs": [
    {
     "data": {
      "text/plain": [
       "27"
      ]
     },
     "execution_count": 38,
     "metadata": {},
     "output_type": "execute_result"
    }
   ],
   "source": [
    "#customer retention(months)\n",
    "df_customers['join_date'] = pd.to_datetime(df_customers['Date Joined'], dayfirst=True)\n",
    "today = pd.Timestamp(datetime.now().date())\n",
    "df_customers['age_in_days'] = (today - df_customers['join_date']) / pd.Timedelta(days=1)\n",
    "df_customers['age_in_months'] = (df_customers['age_in_days'] / 30.4375).apply(lambda x: int(x))\n",
    "average_customer_age_months = round(df_customers['age_in_months'].mean())\n",
    "average_customer_age_months"
   ]
  },
  {
   "cell_type": "code",
   "execution_count": 39,
   "id": "6fb9439f-c175-42bd-b6fa-d11d356754eb",
   "metadata": {},
   "outputs": [
    {
     "data": {
      "text/html": [
       "<div>\n",
       "<style scoped>\n",
       "    .dataframe tbody tr th:only-of-type {\n",
       "        vertical-align: middle;\n",
       "    }\n",
       "\n",
       "    .dataframe tbody tr th {\n",
       "        vertical-align: top;\n",
       "    }\n",
       "\n",
       "    .dataframe thead th {\n",
       "        text-align: right;\n",
       "    }\n",
       "</style>\n",
       "<table border=\"1\" class=\"dataframe\">\n",
       "  <thead>\n",
       "    <tr style=\"text-align: right;\">\n",
       "      <th></th>\n",
       "      <th>revenue</th>\n",
       "    </tr>\n",
       "    <tr>\n",
       "      <th>segment</th>\n",
       "      <th></th>\n",
       "    </tr>\n",
       "  </thead>\n",
       "  <tbody>\n",
       "    <tr>\n",
       "      <th>Consumer</th>\n",
       "      <td>1.161401e+06</td>\n",
       "    </tr>\n",
       "    <tr>\n",
       "      <th>Corporate</th>\n",
       "      <td>7.061464e+05</td>\n",
       "    </tr>\n",
       "    <tr>\n",
       "      <th>Home Office</th>\n",
       "      <td>4.296531e+05</td>\n",
       "    </tr>\n",
       "  </tbody>\n",
       "</table>\n",
       "</div>"
      ],
      "text/plain": [
       "                  revenue\n",
       "segment                  \n",
       "Consumer     1.161401e+06\n",
       "Corporate    7.061464e+05\n",
       "Home Office  4.296531e+05"
      ]
     },
     "execution_count": 39,
     "metadata": {},
     "output_type": "execute_result"
    }
   ],
   "source": [
    "df_segment_revenue = df.groupby('segment').agg(revenue = ('price','sum'))\n",
    "df_segment_revenue"
   ]
  },
  {
   "cell_type": "code",
   "execution_count": 40,
   "id": "e16130ea-c4e5-45da-b8d3-d3bba76e9da4",
   "metadata": {},
   "outputs": [
    {
     "data": {
      "text/plain": [
       "[1, 52, 50, 51, 49, 48]"
      ]
     },
     "execution_count": 40,
     "metadata": {},
     "output_type": "execute_result"
    }
   ],
   "source": [
    "#get weeks\n",
    "df['date'] = pd.to_datetime(df['date'], format='%d/%m/%Y')\n",
    "weeks = df['date'].dt.isocalendar().week.unique()\n",
    "weeks_list = list(weeks)\n",
    "weeks_list"
   ]
  },
  {
   "cell_type": "code",
   "execution_count": 41,
   "id": "86deb00e-dda2-41e2-89d5-0236f2eca764",
   "metadata": {},
   "outputs": [],
   "source": [
    "import dash\n",
    "from dash import dcc\n",
    "import dash_html_components as html\n",
    "from dash.dependencies import Input, Output\n",
    "\n",
    "# Assuming you have a DataFrame named 'df' with columns 'segment', 'price', and 'date'\n",
    "df['date'] = pd.to_datetime(df['date'], format='%d/%m/%Y')\n",
    "\n",
    "app = dash.Dash(__name__)\n",
    "\n",
    "# Create the date range picker\n",
    "date_range_picker = dcc.DatePickerRange(\n",
    "    id='date-range-picker',\n",
    "    start_date=df['date'].min(),\n",
    "    end_date=df['date'].max(),\n",
    "    display_format='DD/MM/YYYY'\n",
    ")\n",
    "\n",
    "# Create the bar chart\n",
    "bar_chart = dcc.Graph(id='bar-chart')\n",
    "\n",
    "# Define the layout\n",
    "app.layout = html.Div([\n",
    "    html.H1('Customer Spending Analysis'),\n",
    "    html.Div([\n",
    "        html.Label('Select Date Range:'),\n",
    "        date_range_picker\n",
    "    ]),\n",
    "    bar_chart\n",
    "])\n",
    "\n",
    "# Define the callback function\n",
    "@app.callback(\n",
    "    Output('bar-chart', 'figure'),\n",
    "    [Input('date-range-picker', 'start_date'),\n",
    "     Input('date-range-picker', 'end_date')]\n",
    ")\n",
    "def update_bar_chart(start_date, end_date):\n",
    "    # Filter the DataFrame for the selected date range\n",
    "    filtered_df = df[(df['date'] >= start_date) & (df['date'] <= end_date)]\n",
    "\n",
    "    # Group the data by segment and calculate the revenue\n",
    "    segment_revenue = filtered_df.groupby(['date', 'segment'])['price'].sum().reset_index()\n",
    "\n",
    "    # Create the bar chart\n",
    "    fig = px.bar(segment_revenue, x='date', y='price', color='segment', barmode='group', title=f'Revenue by Segment ({start_date} - {end_date})')\n",
    "    #fig.update_layout(xaxis_tickangle=-45)\n",
    "    \n",
    "    return fig\n"
   ]
  },
  {
   "cell_type": "code",
   "execution_count": 42,
   "id": "d5e943dd-a189-4142-97f9-4c3972579c23",
   "metadata": {},
   "outputs": [
    {
     "data": {
      "text/html": [
       "<div>\n",
       "<style scoped>\n",
       "    .dataframe tbody tr th:only-of-type {\n",
       "        vertical-align: middle;\n",
       "    }\n",
       "\n",
       "    .dataframe tbody tr th {\n",
       "        vertical-align: top;\n",
       "    }\n",
       "\n",
       "    .dataframe thead th {\n",
       "        text-align: right;\n",
       "    }\n",
       "</style>\n",
       "<table border=\"1\" class=\"dataframe\">\n",
       "  <thead>\n",
       "    <tr style=\"text-align: right;\">\n",
       "      <th></th>\n",
       "      <th>revenue</th>\n",
       "      <th>profit</th>\n",
       "    </tr>\n",
       "    <tr>\n",
       "      <th>customer_name</th>\n",
       "      <th></th>\n",
       "      <th></th>\n",
       "    </tr>\n",
       "  </thead>\n",
       "  <tbody>\n",
       "    <tr>\n",
       "      <th>Tamara Chand</th>\n",
       "      <td>19052.22</td>\n",
       "      <td>748.44</td>\n",
       "    </tr>\n",
       "    <tr>\n",
       "      <th>Mitch Willingham</th>\n",
       "      <td>5253.88</td>\n",
       "      <td>555.17</td>\n",
       "    </tr>\n",
       "    <tr>\n",
       "      <th>Hunter Lopez</th>\n",
       "      <td>12873.30</td>\n",
       "      <td>511.13</td>\n",
       "    </tr>\n",
       "    <tr>\n",
       "      <th>Tom Ashbrook</th>\n",
       "      <td>14595.62</td>\n",
       "      <td>470.38</td>\n",
       "    </tr>\n",
       "    <tr>\n",
       "      <th>Christopher Martinez</th>\n",
       "      <td>8954.02</td>\n",
       "      <td>389.99</td>\n",
       "    </tr>\n",
       "  </tbody>\n",
       "</table>\n",
       "</div>"
      ],
      "text/plain": [
       "                       revenue  profit\n",
       "customer_name                         \n",
       "Tamara Chand          19052.22  748.44\n",
       "Mitch Willingham       5253.88  555.17\n",
       "Hunter Lopez          12873.30  511.13\n",
       "Tom Ashbrook          14595.62  470.38\n",
       "Christopher Martinez   8954.02  389.99"
      ]
     },
     "execution_count": 42,
     "metadata": {},
     "output_type": "execute_result"
    }
   ],
   "source": [
    "top_customers = df.groupby('customer_name').agg(revenue=('price','sum'), profit=('profit','mean')).sort_values(by='profit', ascending=False).round(2)\n",
    "top_customers.head()"
   ]
  },
  {
   "cell_type": "code",
   "execution_count": 43,
   "id": "b5a34461-06d4-4767-9e95-6c767a6f8aa7",
   "metadata": {},
   "outputs": [
    {
     "name": "stderr",
     "output_type": "stream",
     "text": [
      "C:\\Users\\hp\\AppData\\Local\\Temp\\ipykernel_22372\\3773495927.py:4: FutureWarning:\n",
      "\n",
      "The default of observed=False is deprecated and will be changed to True in a future version of pandas. Pass observed=False to retain current behavior or observed=True to adopt the future default and silence this warning.\n",
      "\n"
     ]
    },
    {
     "data": {
      "application/vnd.plotly.v1+json": {
       "config": {
        "plotlyServerURL": "https://plot.ly"
       },
       "data": [
        {
         "alignmentgroup": "True",
         "hovertemplate": "age_group=%{x}<br>price=%{y}<extra></extra>",
         "legendgroup": "",
         "marker": {
          "color": "#636efa",
          "pattern": {
           "shape": ""
          }
         },
         "name": "",
         "offsetgroup": "",
         "orientation": "v",
         "showlegend": false,
         "textposition": "auto",
         "type": "bar",
         "x": [
          "0-17",
          "18-24",
          "25-34",
          "35-44",
          "45-54",
          "55-64",
          "65+"
         ],
         "xaxis": "x",
         "y": [
          210434.7063,
          185613.5108,
          310025.7806,
          372196.7695,
          246921.23320000002,
          271884.2624,
          700124.5975
         ],
         "yaxis": "y"
        }
       ],
       "layout": {
        "autosize": true,
        "barmode": "relative",
        "legend": {
         "tracegroupgap": 0
        },
        "template": {
         "data": {
          "bar": [
           {
            "error_x": {
             "color": "#2a3f5f"
            },
            "error_y": {
             "color": "#2a3f5f"
            },
            "marker": {
             "line": {
              "color": "#E5ECF6",
              "width": 0.5
             },
             "pattern": {
              "fillmode": "overlay",
              "size": 10,
              "solidity": 0.2
             }
            },
            "type": "bar"
           }
          ],
          "barpolar": [
           {
            "marker": {
             "line": {
              "color": "#E5ECF6",
              "width": 0.5
             },
             "pattern": {
              "fillmode": "overlay",
              "size": 10,
              "solidity": 0.2
             }
            },
            "type": "barpolar"
           }
          ],
          "carpet": [
           {
            "aaxis": {
             "endlinecolor": "#2a3f5f",
             "gridcolor": "white",
             "linecolor": "white",
             "minorgridcolor": "white",
             "startlinecolor": "#2a3f5f"
            },
            "baxis": {
             "endlinecolor": "#2a3f5f",
             "gridcolor": "white",
             "linecolor": "white",
             "minorgridcolor": "white",
             "startlinecolor": "#2a3f5f"
            },
            "type": "carpet"
           }
          ],
          "choropleth": [
           {
            "colorbar": {
             "outlinewidth": 0,
             "ticks": ""
            },
            "type": "choropleth"
           }
          ],
          "contour": [
           {
            "colorbar": {
             "outlinewidth": 0,
             "ticks": ""
            },
            "colorscale": [
             [
              0,
              "#0d0887"
             ],
             [
              0.1111111111111111,
              "#46039f"
             ],
             [
              0.2222222222222222,
              "#7201a8"
             ],
             [
              0.3333333333333333,
              "#9c179e"
             ],
             [
              0.4444444444444444,
              "#bd3786"
             ],
             [
              0.5555555555555556,
              "#d8576b"
             ],
             [
              0.6666666666666666,
              "#ed7953"
             ],
             [
              0.7777777777777778,
              "#fb9f3a"
             ],
             [
              0.8888888888888888,
              "#fdca26"
             ],
             [
              1,
              "#f0f921"
             ]
            ],
            "type": "contour"
           }
          ],
          "contourcarpet": [
           {
            "colorbar": {
             "outlinewidth": 0,
             "ticks": ""
            },
            "type": "contourcarpet"
           }
          ],
          "heatmap": [
           {
            "colorbar": {
             "outlinewidth": 0,
             "ticks": ""
            },
            "colorscale": [
             [
              0,
              "#0d0887"
             ],
             [
              0.1111111111111111,
              "#46039f"
             ],
             [
              0.2222222222222222,
              "#7201a8"
             ],
             [
              0.3333333333333333,
              "#9c179e"
             ],
             [
              0.4444444444444444,
              "#bd3786"
             ],
             [
              0.5555555555555556,
              "#d8576b"
             ],
             [
              0.6666666666666666,
              "#ed7953"
             ],
             [
              0.7777777777777778,
              "#fb9f3a"
             ],
             [
              0.8888888888888888,
              "#fdca26"
             ],
             [
              1,
              "#f0f921"
             ]
            ],
            "type": "heatmap"
           }
          ],
          "heatmapgl": [
           {
            "colorbar": {
             "outlinewidth": 0,
             "ticks": ""
            },
            "colorscale": [
             [
              0,
              "#0d0887"
             ],
             [
              0.1111111111111111,
              "#46039f"
             ],
             [
              0.2222222222222222,
              "#7201a8"
             ],
             [
              0.3333333333333333,
              "#9c179e"
             ],
             [
              0.4444444444444444,
              "#bd3786"
             ],
             [
              0.5555555555555556,
              "#d8576b"
             ],
             [
              0.6666666666666666,
              "#ed7953"
             ],
             [
              0.7777777777777778,
              "#fb9f3a"
             ],
             [
              0.8888888888888888,
              "#fdca26"
             ],
             [
              1,
              "#f0f921"
             ]
            ],
            "type": "heatmapgl"
           }
          ],
          "histogram": [
           {
            "marker": {
             "pattern": {
              "fillmode": "overlay",
              "size": 10,
              "solidity": 0.2
             }
            },
            "type": "histogram"
           }
          ],
          "histogram2d": [
           {
            "colorbar": {
             "outlinewidth": 0,
             "ticks": ""
            },
            "colorscale": [
             [
              0,
              "#0d0887"
             ],
             [
              0.1111111111111111,
              "#46039f"
             ],
             [
              0.2222222222222222,
              "#7201a8"
             ],
             [
              0.3333333333333333,
              "#9c179e"
             ],
             [
              0.4444444444444444,
              "#bd3786"
             ],
             [
              0.5555555555555556,
              "#d8576b"
             ],
             [
              0.6666666666666666,
              "#ed7953"
             ],
             [
              0.7777777777777778,
              "#fb9f3a"
             ],
             [
              0.8888888888888888,
              "#fdca26"
             ],
             [
              1,
              "#f0f921"
             ]
            ],
            "type": "histogram2d"
           }
          ],
          "histogram2dcontour": [
           {
            "colorbar": {
             "outlinewidth": 0,
             "ticks": ""
            },
            "colorscale": [
             [
              0,
              "#0d0887"
             ],
             [
              0.1111111111111111,
              "#46039f"
             ],
             [
              0.2222222222222222,
              "#7201a8"
             ],
             [
              0.3333333333333333,
              "#9c179e"
             ],
             [
              0.4444444444444444,
              "#bd3786"
             ],
             [
              0.5555555555555556,
              "#d8576b"
             ],
             [
              0.6666666666666666,
              "#ed7953"
             ],
             [
              0.7777777777777778,
              "#fb9f3a"
             ],
             [
              0.8888888888888888,
              "#fdca26"
             ],
             [
              1,
              "#f0f921"
             ]
            ],
            "type": "histogram2dcontour"
           }
          ],
          "mesh3d": [
           {
            "colorbar": {
             "outlinewidth": 0,
             "ticks": ""
            },
            "type": "mesh3d"
           }
          ],
          "parcoords": [
           {
            "line": {
             "colorbar": {
              "outlinewidth": 0,
              "ticks": ""
             }
            },
            "type": "parcoords"
           }
          ],
          "pie": [
           {
            "automargin": true,
            "type": "pie"
           }
          ],
          "scatter": [
           {
            "fillpattern": {
             "fillmode": "overlay",
             "size": 10,
             "solidity": 0.2
            },
            "type": "scatter"
           }
          ],
          "scatter3d": [
           {
            "line": {
             "colorbar": {
              "outlinewidth": 0,
              "ticks": ""
             }
            },
            "marker": {
             "colorbar": {
              "outlinewidth": 0,
              "ticks": ""
             }
            },
            "type": "scatter3d"
           }
          ],
          "scattercarpet": [
           {
            "marker": {
             "colorbar": {
              "outlinewidth": 0,
              "ticks": ""
             }
            },
            "type": "scattercarpet"
           }
          ],
          "scattergeo": [
           {
            "marker": {
             "colorbar": {
              "outlinewidth": 0,
              "ticks": ""
             }
            },
            "type": "scattergeo"
           }
          ],
          "scattergl": [
           {
            "marker": {
             "colorbar": {
              "outlinewidth": 0,
              "ticks": ""
             }
            },
            "type": "scattergl"
           }
          ],
          "scattermapbox": [
           {
            "marker": {
             "colorbar": {
              "outlinewidth": 0,
              "ticks": ""
             }
            },
            "type": "scattermapbox"
           }
          ],
          "scatterpolar": [
           {
            "marker": {
             "colorbar": {
              "outlinewidth": 0,
              "ticks": ""
             }
            },
            "type": "scatterpolar"
           }
          ],
          "scatterpolargl": [
           {
            "marker": {
             "colorbar": {
              "outlinewidth": 0,
              "ticks": ""
             }
            },
            "type": "scatterpolargl"
           }
          ],
          "scatterternary": [
           {
            "marker": {
             "colorbar": {
              "outlinewidth": 0,
              "ticks": ""
             }
            },
            "type": "scatterternary"
           }
          ],
          "surface": [
           {
            "colorbar": {
             "outlinewidth": 0,
             "ticks": ""
            },
            "colorscale": [
             [
              0,
              "#0d0887"
             ],
             [
              0.1111111111111111,
              "#46039f"
             ],
             [
              0.2222222222222222,
              "#7201a8"
             ],
             [
              0.3333333333333333,
              "#9c179e"
             ],
             [
              0.4444444444444444,
              "#bd3786"
             ],
             [
              0.5555555555555556,
              "#d8576b"
             ],
             [
              0.6666666666666666,
              "#ed7953"
             ],
             [
              0.7777777777777778,
              "#fb9f3a"
             ],
             [
              0.8888888888888888,
              "#fdca26"
             ],
             [
              1,
              "#f0f921"
             ]
            ],
            "type": "surface"
           }
          ],
          "table": [
           {
            "cells": {
             "fill": {
              "color": "#EBF0F8"
             },
             "line": {
              "color": "white"
             }
            },
            "header": {
             "fill": {
              "color": "#C8D4E3"
             },
             "line": {
              "color": "white"
             }
            },
            "type": "table"
           }
          ]
         },
         "layout": {
          "annotationdefaults": {
           "arrowcolor": "#2a3f5f",
           "arrowhead": 0,
           "arrowwidth": 1
          },
          "autotypenumbers": "strict",
          "coloraxis": {
           "colorbar": {
            "outlinewidth": 0,
            "ticks": ""
           }
          },
          "colorscale": {
           "diverging": [
            [
             0,
             "#8e0152"
            ],
            [
             0.1,
             "#c51b7d"
            ],
            [
             0.2,
             "#de77ae"
            ],
            [
             0.3,
             "#f1b6da"
            ],
            [
             0.4,
             "#fde0ef"
            ],
            [
             0.5,
             "#f7f7f7"
            ],
            [
             0.6,
             "#e6f5d0"
            ],
            [
             0.7,
             "#b8e186"
            ],
            [
             0.8,
             "#7fbc41"
            ],
            [
             0.9,
             "#4d9221"
            ],
            [
             1,
             "#276419"
            ]
           ],
           "sequential": [
            [
             0,
             "#0d0887"
            ],
            [
             0.1111111111111111,
             "#46039f"
            ],
            [
             0.2222222222222222,
             "#7201a8"
            ],
            [
             0.3333333333333333,
             "#9c179e"
            ],
            [
             0.4444444444444444,
             "#bd3786"
            ],
            [
             0.5555555555555556,
             "#d8576b"
            ],
            [
             0.6666666666666666,
             "#ed7953"
            ],
            [
             0.7777777777777778,
             "#fb9f3a"
            ],
            [
             0.8888888888888888,
             "#fdca26"
            ],
            [
             1,
             "#f0f921"
            ]
           ],
           "sequentialminus": [
            [
             0,
             "#0d0887"
            ],
            [
             0.1111111111111111,
             "#46039f"
            ],
            [
             0.2222222222222222,
             "#7201a8"
            ],
            [
             0.3333333333333333,
             "#9c179e"
            ],
            [
             0.4444444444444444,
             "#bd3786"
            ],
            [
             0.5555555555555556,
             "#d8576b"
            ],
            [
             0.6666666666666666,
             "#ed7953"
            ],
            [
             0.7777777777777778,
             "#fb9f3a"
            ],
            [
             0.8888888888888888,
             "#fdca26"
            ],
            [
             1,
             "#f0f921"
            ]
           ]
          },
          "colorway": [
           "#636efa",
           "#EF553B",
           "#00cc96",
           "#ab63fa",
           "#FFA15A",
           "#19d3f3",
           "#FF6692",
           "#B6E880",
           "#FF97FF",
           "#FECB52"
          ],
          "font": {
           "color": "#2a3f5f"
          },
          "geo": {
           "bgcolor": "white",
           "lakecolor": "white",
           "landcolor": "#E5ECF6",
           "showlakes": true,
           "showland": true,
           "subunitcolor": "white"
          },
          "hoverlabel": {
           "align": "left"
          },
          "hovermode": "closest",
          "mapbox": {
           "style": "light"
          },
          "paper_bgcolor": "white",
          "plot_bgcolor": "#E5ECF6",
          "polar": {
           "angularaxis": {
            "gridcolor": "white",
            "linecolor": "white",
            "ticks": ""
           },
           "bgcolor": "#E5ECF6",
           "radialaxis": {
            "gridcolor": "white",
            "linecolor": "white",
            "ticks": ""
           }
          },
          "scene": {
           "xaxis": {
            "backgroundcolor": "#E5ECF6",
            "gridcolor": "white",
            "gridwidth": 2,
            "linecolor": "white",
            "showbackground": true,
            "ticks": "",
            "zerolinecolor": "white"
           },
           "yaxis": {
            "backgroundcolor": "#E5ECF6",
            "gridcolor": "white",
            "gridwidth": 2,
            "linecolor": "white",
            "showbackground": true,
            "ticks": "",
            "zerolinecolor": "white"
           },
           "zaxis": {
            "backgroundcolor": "#E5ECF6",
            "gridcolor": "white",
            "gridwidth": 2,
            "linecolor": "white",
            "showbackground": true,
            "ticks": "",
            "zerolinecolor": "white"
           }
          },
          "shapedefaults": {
           "line": {
            "color": "#2a3f5f"
           }
          },
          "ternary": {
           "aaxis": {
            "gridcolor": "white",
            "linecolor": "white",
            "ticks": ""
           },
           "baxis": {
            "gridcolor": "white",
            "linecolor": "white",
            "ticks": ""
           },
           "bgcolor": "#E5ECF6",
           "caxis": {
            "gridcolor": "white",
            "linecolor": "white",
            "ticks": ""
           }
          },
          "title": {
           "x": 0.05
          },
          "xaxis": {
           "automargin": true,
           "gridcolor": "white",
           "linecolor": "white",
           "ticks": "",
           "title": {
            "standoff": 15
           },
           "zerolinecolor": "white",
           "zerolinewidth": 2
          },
          "yaxis": {
           "automargin": true,
           "gridcolor": "white",
           "linecolor": "white",
           "ticks": "",
           "title": {
            "standoff": 15
           },
           "zerolinecolor": "white",
           "zerolinewidth": 2
          }
         }
        },
        "title": {
         "text": "Total Revenue by Age Group"
        },
        "xaxis": {
         "anchor": "y",
         "autorange": true,
         "domain": [
          0,
          1
         ],
         "range": [
          -0.5,
          6.5
         ],
         "title": {
          "text": "age_group"
         },
         "type": "category"
        },
        "yaxis": {
         "anchor": "x",
         "autorange": true,
         "domain": [
          0,
          1
         ],
         "range": [
          0,
          736973.2605263158
         ],
         "title": {
          "text": "price"
         },
         "type": "linear"
        }
       }
      },
      "image/png": "[encoded data removed]",
      "text/html": [
       "<div>                            <div id=\"9489e282-e5aa-43f7-a30d-67a545f8e75d\" class=\"plotly-graph-div\" style=\"height:525px; width:100%;\"></div>            <script type=\"text/javascript\">                require([\"plotly\"], function(Plotly) {                    window.PLOTLYENV=window.PLOTLYENV || {};                                    if (document.getElementById(\"9489e282-e5aa-43f7-a30d-67a545f8e75d\")) {                    Plotly.newPlot(                        \"9489e282-e5aa-43f7-a30d-67a545f8e75d\",                        [{\"alignmentgroup\":\"True\",\"hovertemplate\":\"age_group=%{x}\\u003cbr\\u003eprice=%{y}\\u003cextra\\u003e\\u003c\\u002fextra\\u003e\",\"legendgroup\":\"\",\"marker\":{\"color\":\"#636efa\",\"pattern\":{\"shape\":\"\"}},\"name\":\"\",\"offsetgroup\":\"\",\"orientation\":\"v\",\"showlegend\":false,\"textposition\":\"auto\",\"x\":[\"0-17\",\"18-24\",\"25-34\",\"35-44\",\"45-54\",\"55-64\",\"65+\"],\"xaxis\":\"x\",\"y\":[210434.7063,185613.5108,310025.7806,372196.7695,246921.23320000002,271884.2624,700124.5975],\"yaxis\":\"y\",\"type\":\"bar\"}],                        {\"template\":{\"data\":{\"histogram2dcontour\":[{\"type\":\"histogram2dcontour\",\"colorbar\":{\"outlinewidth\":0,\"ticks\":\"\"},\"colorscale\":[[0.0,\"#0d0887\"],[0.1111111111111111,\"#46039f\"],[0.2222222222222222,\"#7201a8\"],[0.3333333333333333,\"#9c179e\"],[0.4444444444444444,\"#bd3786\"],[0.5555555555555556,\"#d8576b\"],[0.6666666666666666,\"#ed7953\"],[0.7777777777777778,\"#fb9f3a\"],[0.8888888888888888,\"#fdca26\"],[1.0,\"#f0f921\"]]}],\"choropleth\":[{\"type\":\"choropleth\",\"colorbar\":{\"outlinewidth\":0,\"ticks\":\"\"}}],\"histogram2d\":[{\"type\":\"histogram2d\",\"colorbar\":{\"outlinewidth\":0,\"ticks\":\"\"},\"colorscale\":[[0.0,\"#0d0887\"],[0.1111111111111111,\"#46039f\"],[0.2222222222222222,\"#7201a8\"],[0.3333333333333333,\"#9c179e\"],[0.4444444444444444,\"#bd3786\"],[0.5555555555555556,\"#d8576b\"],[0.6666666666666666,\"#ed7953\"],[0.7777777777777778,\"#fb9f3a\"],[0.8888888888888888,\"#fdca26\"],[1.0,\"#f0f921\"]]}],\"heatmap\":[{\"type\":\"heatmap\",\"colorbar\":{\"outlinewidth\":0,\"ticks\":\"\"},\"colorscale\":[[0.0,\"#0d0887\"],[0.1111111111111111,\"#46039f\"],[0.2222222222222222,\"#7201a8\"],[0.3333333333333333,\"#9c179e\"],[0.4444444444444444,\"#bd3786\"],[0.5555555555555556,\"#d8576b\"],[0.6666666666666666,\"#ed7953\"],[0.7777777777777778,\"#fb9f3a\"],[0.8888888888888888,\"#fdca26\"],[1.0,\"#f0f921\"]]}],\"heatmapgl\":[{\"type\":\"heatmapgl\",\"colorbar\":{\"outlinewidth\":0,\"ticks\":\"\"},\"colorscale\":[[0.0,\"#0d0887\"],[0.1111111111111111,\"#46039f\"],[0.2222222222222222,\"#7201a8\"],[0.3333333333333333,\"#9c179e\"],[0.4444444444444444,\"#bd3786\"],[0.5555555555555556,\"#d8576b\"],[0.6666666666666666,\"#ed7953\"],[0.7777777777777778,\"#fb9f3a\"],[0.8888888888888888,\"#fdca26\"],[1.0,\"#f0f921\"]]}],\"contourcarpet\":[{\"type\":\"contourcarpet\",\"colorbar\":{\"outlinewidth\":0,\"ticks\":\"\"}}],\"contour\":[{\"type\":\"contour\",\"colorbar\":{\"outlinewidth\":0,\"ticks\":\"\"},\"colorscale\":[[0.0,\"#0d0887\"],[0.1111111111111111,\"#46039f\"],[0.2222222222222222,\"#7201a8\"],[0.3333333333333333,\"#9c179e\"],[0.4444444444444444,\"#bd3786\"],[0.5555555555555556,\"#d8576b\"],[0.6666666666666666,\"#ed7953\"],[0.7777777777777778,\"#fb9f3a\"],[0.8888888888888888,\"#fdca26\"],[1.0,\"#f0f921\"]]}],\"surface\":[{\"type\":\"surface\",\"colorbar\":{\"outlinewidth\":0,\"ticks\":\"\"},\"colorscale\":[[0.0,\"#0d0887\"],[0.1111111111111111,\"#46039f\"],[0.2222222222222222,\"#7201a8\"],[0.3333333333333333,\"#9c179e\"],[0.4444444444444444,\"#bd3786\"],[0.5555555555555556,\"#d8576b\"],[0.6666666666666666,\"#ed7953\"],[0.7777777777777778,\"#fb9f3a\"],[0.8888888888888888,\"#fdca26\"],[1.0,\"#f0f921\"]]}],\"mesh3d\":[{\"type\":\"mesh3d\",\"colorbar\":{\"outlinewidth\":0,\"ticks\":\"\"}}],\"scatter\":[{\"fillpattern\":{\"fillmode\":\"overlay\",\"size\":10,\"solidity\":0.2},\"type\":\"scatter\"}],\"parcoords\":[{\"type\":\"parcoords\",\"line\":{\"colorbar\":{\"outlinewidth\":0,\"ticks\":\"\"}}}],\"scatterpolargl\":[{\"type\":\"scatterpolargl\",\"marker\":{\"colorbar\":{\"outlinewidth\":0,\"ticks\":\"\"}}}],\"bar\":[{\"error_x\":{\"color\":\"#2a3f5f\"},\"error_y\":{\"color\":\"#2a3f5f\"},\"marker\":{\"line\":{\"color\":\"#E5ECF6\",\"width\":0.5},\"pattern\":{\"fillmode\":\"overlay\",\"size\":10,\"solidity\":0.2}},\"type\":\"bar\"}],\"scattergeo\":[{\"type\":\"scattergeo\",\"marker\":{\"colorbar\":{\"outlinewidth\":0,\"ticks\":\"\"}}}],\"scatterpolar\":[{\"type\":\"scatterpolar\",\"marker\":{\"colorbar\":{\"outlinewidth\":0,\"ticks\":\"\"}}}],\"histogram\":[{\"marker\":{\"pattern\":{\"fillmode\":\"overlay\",\"size\":10,\"solidity\":0.2}},\"type\":\"histogram\"}],\"scattergl\":[{\"type\":\"scattergl\",\"marker\":{\"colorbar\":{\"outlinewidth\":0,\"ticks\":\"\"}}}],\"scatter3d\":[{\"type\":\"scatter3d\",\"line\":{\"colorbar\":{\"outlinewidth\":0,\"ticks\":\"\"}},\"marker\":{\"colorbar\":{\"outlinewidth\":0,\"ticks\":\"\"}}}],\"scattermapbox\":[{\"type\":\"scattermapbox\",\"marker\":{\"colorbar\":{\"outlinewidth\":0,\"ticks\":\"\"}}}],\"scatterternary\":[{\"type\":\"scatterternary\",\"marker\":{\"colorbar\":{\"outlinewidth\":0,\"ticks\":\"\"}}}],\"scattercarpet\":[{\"type\":\"scattercarpet\",\"marker\":{\"colorbar\":{\"outlinewidth\":0,\"ticks\":\"\"}}}],\"carpet\":[{\"aaxis\":{\"endlinecolor\":\"#2a3f5f\",\"gridcolor\":\"white\",\"linecolor\":\"white\",\"minorgridcolor\":\"white\",\"startlinecolor\":\"#2a3f5f\"},\"baxis\":{\"endlinecolor\":\"#2a3f5f\",\"gridcolor\":\"white\",\"linecolor\":\"white\",\"minorgridcolor\":\"white\",\"startlinecolor\":\"#2a3f5f\"},\"type\":\"carpet\"}],\"table\":[{\"cells\":{\"fill\":{\"color\":\"#EBF0F8\"},\"line\":{\"color\":\"white\"}},\"header\":{\"fill\":{\"color\":\"#C8D4E3\"},\"line\":{\"color\":\"white\"}},\"type\":\"table\"}],\"barpolar\":[{\"marker\":{\"line\":{\"color\":\"#E5ECF6\",\"width\":0.5},\"pattern\":{\"fillmode\":\"overlay\",\"size\":10,\"solidity\":0.2}},\"type\":\"barpolar\"}],\"pie\":[{\"automargin\":true,\"type\":\"pie\"}]},\"layout\":{\"autotypenumbers\":\"strict\",\"colorway\":[\"#636efa\",\"#EF553B\",\"#00cc96\",\"#ab63fa\",\"#FFA15A\",\"#19d3f3\",\"#FF6692\",\"#B6E880\",\"#FF97FF\",\"#FECB52\"],\"font\":{\"color\":\"#2a3f5f\"},\"hovermode\":\"closest\",\"hoverlabel\":{\"align\":\"left\"},\"paper_bgcolor\":\"white\",\"plot_bgcolor\":\"#E5ECF6\",\"polar\":{\"bgcolor\":\"#E5ECF6\",\"angularaxis\":{\"gridcolor\":\"white\",\"linecolor\":\"white\",\"ticks\":\"\"},\"radialaxis\":{\"gridcolor\":\"white\",\"linecolor\":\"white\",\"ticks\":\"\"}},\"ternary\":{\"bgcolor\":\"#E5ECF6\",\"aaxis\":{\"gridcolor\":\"white\",\"linecolor\":\"white\",\"ticks\":\"\"},\"baxis\":{\"gridcolor\":\"white\",\"linecolor\":\"white\",\"ticks\":\"\"},\"caxis\":{\"gridcolor\":\"white\",\"linecolor\":\"white\",\"ticks\":\"\"}},\"coloraxis\":{\"colorbar\":{\"outlinewidth\":0,\"ticks\":\"\"}},\"colorscale\":{\"sequential\":[[0.0,\"#0d0887\"],[0.1111111111111111,\"#46039f\"],[0.2222222222222222,\"#7201a8\"],[0.3333333333333333,\"#9c179e\"],[0.4444444444444444,\"#bd3786\"],[0.5555555555555556,\"#d8576b\"],[0.6666666666666666,\"#ed7953\"],[0.7777777777777778,\"#fb9f3a\"],[0.8888888888888888,\"#fdca26\"],[1.0,\"#f0f921\"]],\"sequentialminus\":[[0.0,\"#0d0887\"],[0.1111111111111111,\"#46039f\"],[0.2222222222222222,\"#7201a8\"],[0.3333333333333333,\"#9c179e\"],[0.4444444444444444,\"#bd3786\"],[0.5555555555555556,\"#d8576b\"],[0.6666666666666666,\"#ed7953\"],[0.7777777777777778,\"#fb9f3a\"],[0.8888888888888888,\"#fdca26\"],[1.0,\"#f0f921\"]],\"diverging\":[[0,\"#8e0152\"],[0.1,\"#c51b7d\"],[0.2,\"#de77ae\"],[0.3,\"#f1b6da\"],[0.4,\"#fde0ef\"],[0.5,\"#f7f7f7\"],[0.6,\"#e6f5d0\"],[0.7,\"#b8e186\"],[0.8,\"#7fbc41\"],[0.9,\"#4d9221\"],[1,\"#276419\"]]},\"xaxis\":{\"gridcolor\":\"white\",\"linecolor\":\"white\",\"ticks\":\"\",\"title\":{\"standoff\":15},\"zerolinecolor\":\"white\",\"automargin\":true,\"zerolinewidth\":2},\"yaxis\":{\"gridcolor\":\"white\",\"linecolor\":\"white\",\"ticks\":\"\",\"title\":{\"standoff\":15},\"zerolinecolor\":\"white\",\"automargin\":true,\"zerolinewidth\":2},\"scene\":{\"xaxis\":{\"backgroundcolor\":\"#E5ECF6\",\"gridcolor\":\"white\",\"linecolor\":\"white\",\"showbackground\":true,\"ticks\":\"\",\"zerolinecolor\":\"white\",\"gridwidth\":2},\"yaxis\":{\"backgroundcolor\":\"#E5ECF6\",\"gridcolor\":\"white\",\"linecolor\":\"white\",\"showbackground\":true,\"ticks\":\"\",\"zerolinecolor\":\"white\",\"gridwidth\":2},\"zaxis\":{\"backgroundcolor\":\"#E5ECF6\",\"gridcolor\":\"white\",\"linecolor\":\"white\",\"showbackground\":true,\"ticks\":\"\",\"zerolinecolor\":\"white\",\"gridwidth\":2}},\"shapedefaults\":{\"line\":{\"color\":\"#2a3f5f\"}},\"annotationdefaults\":{\"arrowcolor\":\"#2a3f5f\",\"arrowhead\":0,\"arrowwidth\":1},\"geo\":{\"bgcolor\":\"white\",\"landcolor\":\"#E5ECF6\",\"subunitcolor\":\"white\",\"showland\":true,\"showlakes\":true,\"lakecolor\":\"white\"},\"title\":{\"x\":0.05},\"mapbox\":{\"style\":\"light\"}}},\"xaxis\":{\"anchor\":\"y\",\"domain\":[0.0,1.0],\"title\":{\"text\":\"age_group\"}},\"yaxis\":{\"anchor\":\"x\",\"domain\":[0.0,1.0],\"title\":{\"text\":\"price\"}},\"legend\":{\"tracegroupgap\":0},\"title\":{\"text\":\"Total Revenue by Age Group\"},\"barmode\":\"relative\"},                        {\"responsive\": true}                    ).then(function(){\n",
       "                            \n",
       "var gd = document.getElementById('9489e282-e5aa-43f7-a30d-67a545f8e75d');\n",
       "var x = new MutationObserver(function (mutations, observer) {{\n",
       "        var display = window.getComputedStyle(gd).display;\n",
       "        if (!display || display === 'none') {{\n",
       "            console.log([gd, 'removed!']);\n",
       "            Plotly.purge(gd);\n",
       "            observer.disconnect();\n",
       "        }}\n",
       "}});\n",
       "\n",
       "// Listen for the removal of the full notebook cells\n",
       "var notebookContainer = gd.closest('#notebook-container');\n",
       "if (notebookContainer) {{\n",
       "    x.observe(notebookContainer, {childList: true});\n",
       "}}\n",
       "\n",
       "// Listen for the clearing of the current output cell\n",
       "var outputEl = gd.closest('.output');\n",
       "if (outputEl) {{\n",
       "    x.observe(outputEl, {childList: true});\n",
       "}}\n",
       "\n",
       "                        })                };                });            </script>        </div>"
      ]
     },
     "metadata": {},
     "output_type": "display_data"
    }
   ],
   "source": [
    "age_bins = [0, 18, 25, 35, 45, 55, 65, 100]\n",
    "age_labels = ['0-17', '18-24', '25-34', '35-44', '45-54', '55-64', '65+']\n",
    "df['age_group'] = pd.cut(df['age'], bins=age_bins, labels=age_labels, include_lowest=True)\n",
    "revenue_by_age_group = df.groupby('age_group')['price'].sum().reset_index()\n",
    "fig = px.bar(revenue_by_age_group, x='age_group', y='price', title='Total Revenue by Age Group')\n",
    "fig.show()"
   ]
  },
  {
   "cell_type": "code",
   "execution_count": 44,
   "id": "4363aae0-649d-496c-9188-7e3258b03295",
   "metadata": {},
   "outputs": [
    {
     "data": {
      "application/vnd.plotly.v1+json": {
       "config": {
        "plotlyServerURL": "https://plot.ly"
       },
       "data": [
        {
         "domain": {
          "x": [
           0,
           1
          ],
          "y": [
           0,
           1
          ]
         },
         "hole": 0.2,
         "hovertemplate": "segment=%{label}<br>revenue=%{value}<extra></extra>",
         "labels": [
          "Consumer",
          "Corporate",
          "Home Office"
         ],
         "legendgroup": "",
         "name": "",
         "showlegend": true,
         "type": "pie",
         "values": [
          1161401.345,
          706146.3668,
          429653.1485
         ]
        }
       ],
       "layout": {
        "autosize": true,
        "legend": {
         "tracegroupgap": 0
        },
        "margin": {
         "t": 60
        },
        "template": {
         "data": {
          "bar": [
           {
            "error_x": {
             "color": "#2a3f5f"
            },
            "error_y": {
             "color": "#2a3f5f"
            },
            "marker": {
             "line": {
              "color": "#E5ECF6",
              "width": 0.5
             },
             "pattern": {
              "fillmode": "overlay",
              "size": 10,
              "solidity": 0.2
             }
            },
            "type": "bar"
           }
          ],
          "barpolar": [
           {
            "marker": {
             "line": {
              "color": "#E5ECF6",
              "width": 0.5
             },
             "pattern": {
              "fillmode": "overlay",
              "size": 10,
              "solidity": 0.2
             }
            },
            "type": "barpolar"
           }
          ],
          "carpet": [
           {
            "aaxis": {
             "endlinecolor": "#2a3f5f",
             "gridcolor": "white",
             "linecolor": "white",
             "minorgridcolor": "white",
             "startlinecolor": "#2a3f5f"
            },
            "baxis": {
             "endlinecolor": "#2a3f5f",
             "gridcolor": "white",
             "linecolor": "white",
             "minorgridcolor": "white",
             "startlinecolor": "#2a3f5f"
            },
            "type": "carpet"
           }
          ],
          "choropleth": [
           {
            "colorbar": {
             "outlinewidth": 0,
             "ticks": ""
            },
            "type": "choropleth"
           }
          ],
          "contour": [
           {
            "colorbar": {
             "outlinewidth": 0,
             "ticks": ""
            },
            "colorscale": [
             [
              0,
              "#0d0887"
             ],
             [
              0.1111111111111111,
              "#46039f"
             ],
             [
              0.2222222222222222,
              "#7201a8"
             ],
             [
              0.3333333333333333,
              "#9c179e"
             ],
             [
              0.4444444444444444,
              "#bd3786"
             ],
             [
              0.5555555555555556,
              "#d8576b"
             ],
             [
              0.6666666666666666,
              "#ed7953"
             ],
             [
              0.7777777777777778,
              "#fb9f3a"
             ],
             [
              0.8888888888888888,
              "#fdca26"
             ],
             [
              1,
              "#f0f921"
             ]
            ],
            "type": "contour"
           }
          ],
          "contourcarpet": [
           {
            "colorbar": {
             "outlinewidth": 0,
             "ticks": ""
            },
            "type": "contourcarpet"
           }
          ],
          "heatmap": [
           {
            "colorbar": {
             "outlinewidth": 0,
             "ticks": ""
            },
            "colorscale": [
             [
              0,
              "#0d0887"
             ],
             [
              0.1111111111111111,
              "#46039f"
             ],
             [
              0.2222222222222222,
              "#7201a8"
             ],
             [
              0.3333333333333333,
              "#9c179e"
             ],
             [
              0.4444444444444444,
              "#bd3786"
             ],
             [
              0.5555555555555556,
              "#d8576b"
             ],
             [
              0.6666666666666666,
              "#ed7953"
             ],
             [
              0.7777777777777778,
              "#fb9f3a"
             ],
             [
              0.8888888888888888,
              "#fdca26"
             ],
             [
              1,
              "#f0f921"
             ]
            ],
            "type": "heatmap"
           }
          ],
          "heatmapgl": [
           {
            "colorbar": {
             "outlinewidth": 0,
             "ticks": ""
            },
            "colorscale": [
             [
              0,
              "#0d0887"
             ],
             [
              0.1111111111111111,
              "#46039f"
             ],
             [
              0.2222222222222222,
              "#7201a8"
             ],
             [
              0.3333333333333333,
              "#9c179e"
             ],
             [
              0.4444444444444444,
              "#bd3786"
             ],
             [
              0.5555555555555556,
              "#d8576b"
             ],
             [
              0.6666666666666666,
              "#ed7953"
             ],
             [
              0.7777777777777778,
              "#fb9f3a"
             ],
             [
              0.8888888888888888,
              "#fdca26"
             ],
             [
              1,
              "#f0f921"
             ]
            ],
            "type": "heatmapgl"
           }
          ],
          "histogram": [
           {
            "marker": {
             "pattern": {
              "fillmode": "overlay",
              "size": 10,
              "solidity": 0.2
             }
            },
            "type": "histogram"
           }
          ],
          "histogram2d": [
           {
            "colorbar": {
             "outlinewidth": 0,
             "ticks": ""
            },
            "colorscale": [
             [
              0,
              "#0d0887"
             ],
             [
              0.1111111111111111,
              "#46039f"
             ],
             [
              0.2222222222222222,
              "#7201a8"
             ],
             [
              0.3333333333333333,
              "#9c179e"
             ],
             [
              0.4444444444444444,
              "#bd3786"
             ],
             [
              0.5555555555555556,
              "#d8576b"
             ],
             [
              0.6666666666666666,
              "#ed7953"
             ],
             [
              0.7777777777777778,
              "#fb9f3a"
             ],
             [
              0.8888888888888888,
              "#fdca26"
             ],
             [
              1,
              "#f0f921"
             ]
            ],
            "type": "histogram2d"
           }
          ],
          "histogram2dcontour": [
           {
            "colorbar": {
             "outlinewidth": 0,
             "ticks": ""
            },
            "colorscale": [
             [
              0,
              "#0d0887"
             ],
             [
              0.1111111111111111,
              "#46039f"
             ],
             [
              0.2222222222222222,
              "#7201a8"
             ],
             [
              0.3333333333333333,
              "#9c179e"
             ],
             [
              0.4444444444444444,
              "#bd3786"
             ],
             [
              0.5555555555555556,
              "#d8576b"
             ],
             [
              0.6666666666666666,
              "#ed7953"
             ],
             [
              0.7777777777777778,
              "#fb9f3a"
             ],
             [
              0.8888888888888888,
              "#fdca26"
             ],
             [
              1,
              "#f0f921"
             ]
            ],
            "type": "histogram2dcontour"
           }
          ],
          "mesh3d": [
           {
            "colorbar": {
             "outlinewidth": 0,
             "ticks": ""
            },
            "type": "mesh3d"
           }
          ],
          "parcoords": [
           {
            "line": {
             "colorbar": {
              "outlinewidth": 0,
              "ticks": ""
             }
            },
            "type": "parcoords"
           }
          ],
          "pie": [
           {
            "automargin": true,
            "type": "pie"
           }
          ],
          "scatter": [
           {
            "fillpattern": {
             "fillmode": "overlay",
             "size": 10,
             "solidity": 0.2
            },
            "type": "scatter"
           }
          ],
          "scatter3d": [
           {
            "line": {
             "colorbar": {
              "outlinewidth": 0,
              "ticks": ""
             }
            },
            "marker": {
             "colorbar": {
              "outlinewidth": 0,
              "ticks": ""
             }
            },
            "type": "scatter3d"
           }
          ],
          "scattercarpet": [
           {
            "marker": {
             "colorbar": {
              "outlinewidth": 0,
              "ticks": ""
             }
            },
            "type": "scattercarpet"
           }
          ],
          "scattergeo": [
           {
            "marker": {
             "colorbar": {
              "outlinewidth": 0,
              "ticks": ""
             }
            },
            "type": "scattergeo"
           }
          ],
          "scattergl": [
           {
            "marker": {
             "colorbar": {
              "outlinewidth": 0,
              "ticks": ""
             }
            },
            "type": "scattergl"
           }
          ],
          "scattermapbox": [
           {
            "marker": {
             "colorbar": {
              "outlinewidth": 0,
              "ticks": ""
             }
            },
            "type": "scattermapbox"
           }
          ],
          "scatterpolar": [
           {
            "marker": {
             "colorbar": {
              "outlinewidth": 0,
              "ticks": ""
             }
            },
            "type": "scatterpolar"
           }
          ],
          "scatterpolargl": [
           {
            "marker": {
             "colorbar": {
              "outlinewidth": 0,
              "ticks": ""
             }
            },
            "type": "scatterpolargl"
           }
          ],
          "scatterternary": [
           {
            "marker": {
             "colorbar": {
              "outlinewidth": 0,
              "ticks": ""
             }
            },
            "type": "scatterternary"
           }
          ],
          "surface": [
           {
            "colorbar": {
             "outlinewidth": 0,
             "ticks": ""
            },
            "colorscale": [
             [
              0,
              "#0d0887"
             ],
             [
              0.1111111111111111,
              "#46039f"
             ],
             [
              0.2222222222222222,
              "#7201a8"
             ],
             [
              0.3333333333333333,
              "#9c179e"
             ],
             [
              0.4444444444444444,
              "#bd3786"
             ],
             [
              0.5555555555555556,
              "#d8576b"
             ],
             [
              0.6666666666666666,
              "#ed7953"
             ],
             [
              0.7777777777777778,
              "#fb9f3a"
             ],
             [
              0.8888888888888888,
              "#fdca26"
             ],
             [
              1,
              "#f0f921"
             ]
            ],
            "type": "surface"
           }
          ],
          "table": [
           {
            "cells": {
             "fill": {
              "color": "#EBF0F8"
             },
             "line": {
              "color": "white"
             }
            },
            "header": {
             "fill": {
              "color": "#C8D4E3"
             },
             "line": {
              "color": "white"
             }
            },
            "type": "table"
           }
          ]
         },
         "layout": {
          "annotationdefaults": {
           "arrowcolor": "#2a3f5f",
           "arrowhead": 0,
           "arrowwidth": 1
          },
          "autotypenumbers": "strict",
          "coloraxis": {
           "colorbar": {
            "outlinewidth": 0,
            "ticks": ""
           }
          },
          "colorscale": {
           "diverging": [
            [
             0,
             "#8e0152"
            ],
            [
             0.1,
             "#c51b7d"
            ],
            [
             0.2,
             "#de77ae"
            ],
            [
             0.3,
             "#f1b6da"
            ],
            [
             0.4,
             "#fde0ef"
            ],
            [
             0.5,
             "#f7f7f7"
            ],
            [
             0.6,
             "#e6f5d0"
            ],
            [
             0.7,
             "#b8e186"
            ],
            [
             0.8,
             "#7fbc41"
            ],
            [
             0.9,
             "#4d9221"
            ],
            [
             1,
             "#276419"
            ]
           ],
           "sequential": [
            [
             0,
             "#0d0887"
            ],
            [
             0.1111111111111111,
             "#46039f"
            ],
            [
             0.2222222222222222,
             "#7201a8"
            ],
            [
             0.3333333333333333,
             "#9c179e"
            ],
            [
             0.4444444444444444,
             "#bd3786"
            ],
            [
             0.5555555555555556,
             "#d8576b"
            ],
            [
             0.6666666666666666,
             "#ed7953"
            ],
            [
             0.7777777777777778,
             "#fb9f3a"
            ],
            [
             0.8888888888888888,
             "#fdca26"
            ],
            [
             1,
             "#f0f921"
            ]
           ],
           "sequentialminus": [
            [
             0,
             "#0d0887"
            ],
            [
             0.1111111111111111,
             "#46039f"
            ],
            [
             0.2222222222222222,
             "#7201a8"
            ],
            [
             0.3333333333333333,
             "#9c179e"
            ],
            [
             0.4444444444444444,
             "#bd3786"
            ],
            [
             0.5555555555555556,
             "#d8576b"
            ],
            [
             0.6666666666666666,
             "#ed7953"
            ],
            [
             0.7777777777777778,
             "#fb9f3a"
            ],
            [
             0.8888888888888888,
             "#fdca26"
            ],
            [
             1,
             "#f0f921"
            ]
           ]
          },
          "colorway": [
           "#636efa",
           "#EF553B",
           "#00cc96",
           "#ab63fa",
           "#FFA15A",
           "#19d3f3",
           "#FF6692",
           "#B6E880",
           "#FF97FF",
           "#FECB52"
          ],
          "font": {
           "color": "#2a3f5f"
          },
          "geo": {
           "bgcolor": "white",
           "lakecolor": "white",
           "landcolor": "#E5ECF6",
           "showlakes": true,
           "showland": true,
           "subunitcolor": "white"
          },
          "hoverlabel": {
           "align": "left"
          },
          "hovermode": "closest",
          "mapbox": {
           "style": "light"
          },
          "paper_bgcolor": "white",
          "plot_bgcolor": "#E5ECF6",
          "polar": {
           "angularaxis": {
            "gridcolor": "white",
            "linecolor": "white",
            "ticks": ""
           },
           "bgcolor": "#E5ECF6",
           "radialaxis": {
            "gridcolor": "white",
            "linecolor": "white",
            "ticks": ""
           }
          },
          "scene": {
           "xaxis": {
            "backgroundcolor": "#E5ECF6",
            "gridcolor": "white",
            "gridwidth": 2,
            "linecolor": "white",
            "showbackground": true,
            "ticks": "",
            "zerolinecolor": "white"
           },
           "yaxis": {
            "backgroundcolor": "#E5ECF6",
            "gridcolor": "white",
            "gridwidth": 2,
            "linecolor": "white",
            "showbackground": true,
            "ticks": "",
            "zerolinecolor": "white"
           },
           "zaxis": {
            "backgroundcolor": "#E5ECF6",
            "gridcolor": "white",
            "gridwidth": 2,
            "linecolor": "white",
            "showbackground": true,
            "ticks": "",
            "zerolinecolor": "white"
           }
          },
          "shapedefaults": {
           "line": {
            "color": "#2a3f5f"
           }
          },
          "ternary": {
           "aaxis": {
            "gridcolor": "white",
            "linecolor": "white",
            "ticks": ""
           },
           "baxis": {
            "gridcolor": "white",
            "linecolor": "white",
            "ticks": ""
           },
           "bgcolor": "#E5ECF6",
           "caxis": {
            "gridcolor": "white",
            "linecolor": "white",
            "ticks": ""
           }
          },
          "title": {
           "x": 0.05
          },
          "xaxis": {
           "automargin": true,
           "gridcolor": "white",
           "linecolor": "white",
           "ticks": "",
           "title": {
            "standoff": 15
           },
           "zerolinecolor": "white",
           "zerolinewidth": 2
          },
          "yaxis": {
           "automargin": true,
           "gridcolor": "white",
           "linecolor": "white",
           "ticks": "",
           "title": {
            "standoff": 15
           },
           "zerolinecolor": "white",
           "zerolinewidth": 2
          }
         }
        }
       }
      },
      "image/png": "[encoded data removed]",
      "text/html": [
       "<div>                            <div id=\"fd95a83e-6c28-46d0-bef6-c900b550dc8f\" class=\"plotly-graph-div\" style=\"height:525px; width:100%;\"></div>            <script type=\"text/javascript\">                require([\"plotly\"], function(Plotly) {                    window.PLOTLYENV=window.PLOTLYENV || {};                                    if (document.getElementById(\"fd95a83e-6c28-46d0-bef6-c900b550dc8f\")) {                    Plotly.newPlot(                        \"fd95a83e-6c28-46d0-bef6-c900b550dc8f\",                        [{\"domain\":{\"x\":[0.0,1.0],\"y\":[0.0,1.0]},\"hole\":0.2,\"hovertemplate\":\"segment=%{label}\\u003cbr\\u003erevenue=%{value}\\u003cextra\\u003e\\u003c\\u002fextra\\u003e\",\"labels\":[\"Consumer\",\"Corporate\",\"Home Office\"],\"legendgroup\":\"\",\"name\":\"\",\"showlegend\":true,\"values\":[1161401.345,706146.3668,429653.1485],\"type\":\"pie\"}],                        {\"template\":{\"data\":{\"histogram2dcontour\":[{\"type\":\"histogram2dcontour\",\"colorbar\":{\"outlinewidth\":0,\"ticks\":\"\"},\"colorscale\":[[0.0,\"#0d0887\"],[0.1111111111111111,\"#46039f\"],[0.2222222222222222,\"#7201a8\"],[0.3333333333333333,\"#9c179e\"],[0.4444444444444444,\"#bd3786\"],[0.5555555555555556,\"#d8576b\"],[0.6666666666666666,\"#ed7953\"],[0.7777777777777778,\"#fb9f3a\"],[0.8888888888888888,\"#fdca26\"],[1.0,\"#f0f921\"]]}],\"choropleth\":[{\"type\":\"choropleth\",\"colorbar\":{\"outlinewidth\":0,\"ticks\":\"\"}}],\"histogram2d\":[{\"type\":\"histogram2d\",\"colorbar\":{\"outlinewidth\":0,\"ticks\":\"\"},\"colorscale\":[[0.0,\"#0d0887\"],[0.1111111111111111,\"#46039f\"],[0.2222222222222222,\"#7201a8\"],[0.3333333333333333,\"#9c179e\"],[0.4444444444444444,\"#bd3786\"],[0.5555555555555556,\"#d8576b\"],[0.6666666666666666,\"#ed7953\"],[0.7777777777777778,\"#fb9f3a\"],[0.8888888888888888,\"#fdca26\"],[1.0,\"#f0f921\"]]}],\"heatmap\":[{\"type\":\"heatmap\",\"colorbar\":{\"outlinewidth\":0,\"ticks\":\"\"},\"colorscale\":[[0.0,\"#0d0887\"],[0.1111111111111111,\"#46039f\"],[0.2222222222222222,\"#7201a8\"],[0.3333333333333333,\"#9c179e\"],[0.4444444444444444,\"#bd3786\"],[0.5555555555555556,\"#d8576b\"],[0.6666666666666666,\"#ed7953\"],[0.7777777777777778,\"#fb9f3a\"],[0.8888888888888888,\"#fdca26\"],[1.0,\"#f0f921\"]]}],\"heatmapgl\":[{\"type\":\"heatmapgl\",\"colorbar\":{\"outlinewidth\":0,\"ticks\":\"\"},\"colorscale\":[[0.0,\"#0d0887\"],[0.1111111111111111,\"#46039f\"],[0.2222222222222222,\"#7201a8\"],[0.3333333333333333,\"#9c179e\"],[0.4444444444444444,\"#bd3786\"],[0.5555555555555556,\"#d8576b\"],[0.6666666666666666,\"#ed7953\"],[0.7777777777777778,\"#fb9f3a\"],[0.8888888888888888,\"#fdca26\"],[1.0,\"#f0f921\"]]}],\"contourcarpet\":[{\"type\":\"contourcarpet\",\"colorbar\":{\"outlinewidth\":0,\"ticks\":\"\"}}],\"contour\":[{\"type\":\"contour\",\"colorbar\":{\"outlinewidth\":0,\"ticks\":\"\"},\"colorscale\":[[0.0,\"#0d0887\"],[0.1111111111111111,\"#46039f\"],[0.2222222222222222,\"#7201a8\"],[0.3333333333333333,\"#9c179e\"],[0.4444444444444444,\"#bd3786\"],[0.5555555555555556,\"#d8576b\"],[0.6666666666666666,\"#ed7953\"],[0.7777777777777778,\"#fb9f3a\"],[0.8888888888888888,\"#fdca26\"],[1.0,\"#f0f921\"]]}],\"surface\":[{\"type\":\"surface\",\"colorbar\":{\"outlinewidth\":0,\"ticks\":\"\"},\"colorscale\":[[0.0,\"#0d0887\"],[0.1111111111111111,\"#46039f\"],[0.2222222222222222,\"#7201a8\"],[0.3333333333333333,\"#9c179e\"],[0.4444444444444444,\"#bd3786\"],[0.5555555555555556,\"#d8576b\"],[0.6666666666666666,\"#ed7953\"],[0.7777777777777778,\"#fb9f3a\"],[0.8888888888888888,\"#fdca26\"],[1.0,\"#f0f921\"]]}],\"mesh3d\":[{\"type\":\"mesh3d\",\"colorbar\":{\"outlinewidth\":0,\"ticks\":\"\"}}],\"scatter\":[{\"fillpattern\":{\"fillmode\":\"overlay\",\"size\":10,\"solidity\":0.2},\"type\":\"scatter\"}],\"parcoords\":[{\"type\":\"parcoords\",\"line\":{\"colorbar\":{\"outlinewidth\":0,\"ticks\":\"\"}}}],\"scatterpolargl\":[{\"type\":\"scatterpolargl\",\"marker\":{\"colorbar\":{\"outlinewidth\":0,\"ticks\":\"\"}}}],\"bar\":[{\"error_x\":{\"color\":\"#2a3f5f\"},\"error_y\":{\"color\":\"#2a3f5f\"},\"marker\":{\"line\":{\"color\":\"#E5ECF6\",\"width\":0.5},\"pattern\":{\"fillmode\":\"overlay\",\"size\":10,\"solidity\":0.2}},\"type\":\"bar\"}],\"scattergeo\":[{\"type\":\"scattergeo\",\"marker\":{\"colorbar\":{\"outlinewidth\":0,\"ticks\":\"\"}}}],\"scatterpolar\":[{\"type\":\"scatterpolar\",\"marker\":{\"colorbar\":{\"outlinewidth\":0,\"ticks\":\"\"}}}],\"histogram\":[{\"marker\":{\"pattern\":{\"fillmode\":\"overlay\",\"size\":10,\"solidity\":0.2}},\"type\":\"histogram\"}],\"scattergl\":[{\"type\":\"scattergl\",\"marker\":{\"colorbar\":{\"outlinewidth\":0,\"ticks\":\"\"}}}],\"scatter3d\":[{\"type\":\"scatter3d\",\"line\":{\"colorbar\":{\"outlinewidth\":0,\"ticks\":\"\"}},\"marker\":{\"colorbar\":{\"outlinewidth\":0,\"ticks\":\"\"}}}],\"scattermapbox\":[{\"type\":\"scattermapbox\",\"marker\":{\"colorbar\":{\"outlinewidth\":0,\"ticks\":\"\"}}}],\"scatterternary\":[{\"type\":\"scatterternary\",\"marker\":{\"colorbar\":{\"outlinewidth\":0,\"ticks\":\"\"}}}],\"scattercarpet\":[{\"type\":\"scattercarpet\",\"marker\":{\"colorbar\":{\"outlinewidth\":0,\"ticks\":\"\"}}}],\"carpet\":[{\"aaxis\":{\"endlinecolor\":\"#2a3f5f\",\"gridcolor\":\"white\",\"linecolor\":\"white\",\"minorgridcolor\":\"white\",\"startlinecolor\":\"#2a3f5f\"},\"baxis\":{\"endlinecolor\":\"#2a3f5f\",\"gridcolor\":\"white\",\"linecolor\":\"white\",\"minorgridcolor\":\"white\",\"startlinecolor\":\"#2a3f5f\"},\"type\":\"carpet\"}],\"table\":[{\"cells\":{\"fill\":{\"color\":\"#EBF0F8\"},\"line\":{\"color\":\"white\"}},\"header\":{\"fill\":{\"color\":\"#C8D4E3\"},\"line\":{\"color\":\"white\"}},\"type\":\"table\"}],\"barpolar\":[{\"marker\":{\"line\":{\"color\":\"#E5ECF6\",\"width\":0.5},\"pattern\":{\"fillmode\":\"overlay\",\"size\":10,\"solidity\":0.2}},\"type\":\"barpolar\"}],\"pie\":[{\"automargin\":true,\"type\":\"pie\"}]},\"layout\":{\"autotypenumbers\":\"strict\",\"colorway\":[\"#636efa\",\"#EF553B\",\"#00cc96\",\"#ab63fa\",\"#FFA15A\",\"#19d3f3\",\"#FF6692\",\"#B6E880\",\"#FF97FF\",\"#FECB52\"],\"font\":{\"color\":\"#2a3f5f\"},\"hovermode\":\"closest\",\"hoverlabel\":{\"align\":\"left\"},\"paper_bgcolor\":\"white\",\"plot_bgcolor\":\"#E5ECF6\",\"polar\":{\"bgcolor\":\"#E5ECF6\",\"angularaxis\":{\"gridcolor\":\"white\",\"linecolor\":\"white\",\"ticks\":\"\"},\"radialaxis\":{\"gridcolor\":\"white\",\"linecolor\":\"white\",\"ticks\":\"\"}},\"ternary\":{\"bgcolor\":\"#E5ECF6\",\"aaxis\":{\"gridcolor\":\"white\",\"linecolor\":\"white\",\"ticks\":\"\"},\"baxis\":{\"gridcolor\":\"white\",\"linecolor\":\"white\",\"ticks\":\"\"},\"caxis\":{\"gridcolor\":\"white\",\"linecolor\":\"white\",\"ticks\":\"\"}},\"coloraxis\":{\"colorbar\":{\"outlinewidth\":0,\"ticks\":\"\"}},\"colorscale\":{\"sequential\":[[0.0,\"#0d0887\"],[0.1111111111111111,\"#46039f\"],[0.2222222222222222,\"#7201a8\"],[0.3333333333333333,\"#9c179e\"],[0.4444444444444444,\"#bd3786\"],[0.5555555555555556,\"#d8576b\"],[0.6666666666666666,\"#ed7953\"],[0.7777777777777778,\"#fb9f3a\"],[0.8888888888888888,\"#fdca26\"],[1.0,\"#f0f921\"]],\"sequentialminus\":[[0.0,\"#0d0887\"],[0.1111111111111111,\"#46039f\"],[0.2222222222222222,\"#7201a8\"],[0.3333333333333333,\"#9c179e\"],[0.4444444444444444,\"#bd3786\"],[0.5555555555555556,\"#d8576b\"],[0.6666666666666666,\"#ed7953\"],[0.7777777777777778,\"#fb9f3a\"],[0.8888888888888888,\"#fdca26\"],[1.0,\"#f0f921\"]],\"diverging\":[[0,\"#8e0152\"],[0.1,\"#c51b7d\"],[0.2,\"#de77ae\"],[0.3,\"#f1b6da\"],[0.4,\"#fde0ef\"],[0.5,\"#f7f7f7\"],[0.6,\"#e6f5d0\"],[0.7,\"#b8e186\"],[0.8,\"#7fbc41\"],[0.9,\"#4d9221\"],[1,\"#276419\"]]},\"xaxis\":{\"gridcolor\":\"white\",\"linecolor\":\"white\",\"ticks\":\"\",\"title\":{\"standoff\":15},\"zerolinecolor\":\"white\",\"automargin\":true,\"zerolinewidth\":2},\"yaxis\":{\"gridcolor\":\"white\",\"linecolor\":\"white\",\"ticks\":\"\",\"title\":{\"standoff\":15},\"zerolinecolor\":\"white\",\"automargin\":true,\"zerolinewidth\":2},\"scene\":{\"xaxis\":{\"backgroundcolor\":\"#E5ECF6\",\"gridcolor\":\"white\",\"linecolor\":\"white\",\"showbackground\":true,\"ticks\":\"\",\"zerolinecolor\":\"white\",\"gridwidth\":2},\"yaxis\":{\"backgroundcolor\":\"#E5ECF6\",\"gridcolor\":\"white\",\"linecolor\":\"white\",\"showbackground\":true,\"ticks\":\"\",\"zerolinecolor\":\"white\",\"gridwidth\":2},\"zaxis\":{\"backgroundcolor\":\"#E5ECF6\",\"gridcolor\":\"white\",\"linecolor\":\"white\",\"showbackground\":true,\"ticks\":\"\",\"zerolinecolor\":\"white\",\"gridwidth\":2}},\"shapedefaults\":{\"line\":{\"color\":\"#2a3f5f\"}},\"annotationdefaults\":{\"arrowcolor\":\"#2a3f5f\",\"arrowhead\":0,\"arrowwidth\":1},\"geo\":{\"bgcolor\":\"white\",\"landcolor\":\"#E5ECF6\",\"subunitcolor\":\"white\",\"showland\":true,\"showlakes\":true,\"lakecolor\":\"white\"},\"title\":{\"x\":0.05},\"mapbox\":{\"style\":\"light\"}}},\"legend\":{\"tracegroupgap\":0},\"margin\":{\"t\":60}},                        {\"responsive\": true}                    ).then(function(){\n",
       "                            \n",
       "var gd = document.getElementById('fd95a83e-6c28-46d0-bef6-c900b550dc8f');\n",
       "var x = new MutationObserver(function (mutations, observer) {{\n",
       "        var display = window.getComputedStyle(gd).display;\n",
       "        if (!display || display === 'none') {{\n",
       "            console.log([gd, 'removed!']);\n",
       "            Plotly.purge(gd);\n",
       "            observer.disconnect();\n",
       "        }}\n",
       "}});\n",
       "\n",
       "// Listen for the removal of the full notebook cells\n",
       "var notebookContainer = gd.closest('#notebook-container');\n",
       "if (notebookContainer) {{\n",
       "    x.observe(notebookContainer, {childList: true});\n",
       "}}\n",
       "\n",
       "// Listen for the clearing of the current output cell\n",
       "var outputEl = gd.closest('.output');\n",
       "if (outputEl) {{\n",
       "    x.observe(outputEl, {childList: true});\n",
       "}}\n",
       "\n",
       "                        })                };                });            </script>        </div>"
      ]
     },
     "metadata": {},
     "output_type": "display_data"
    }
   ],
   "source": [
    "corporate_consumer = df.groupby('segment').agg(revenue=('price','sum')).reset_index()\n",
    "fig_pie = px.pie(corporate_consumer, names='segment', values='revenue', hole=0.2)\n",
    "fig_pie.show()"
   ]
  },
  {
   "cell_type": "code",
   "execution_count": 66,
   "id": "b56c1f88-a758-4e90-89e0-357d577c1923",
   "metadata": {},
   "outputs": [
    {
     "data": {
      "application/vnd.plotly.v1+json": {
       "config": {
        "plotlyServerURL": "https://plot.ly"
       },
       "data": [
        {
         "hovertemplate": "county=Nairobi<br>segment=%{x}<br>revenue=%{y}<br>age=%{marker.size}<extra></extra>",
         "legendgroup": "Nairobi",
         "marker": {
          "color": "#636efa",
          "size": [
           5,
           6,
           10,
           11,
           12,
           13,
           14,
           15,
           16,
           17,
           18,
           19,
           20,
           21,
           22,
           23,
           24,
           25,
           26,
           27,
           28,
           29,
           30,
           31,
           32,
           33,
           34,
           35,
           36,
           37,
           38,
           39,
           40,
           41,
           42,
           43,
           44,
           45,
           46,
           47,
           48,
           49,
           50,
           51,
           52,
           53,
           54,
           55,
           56,
           57,
           58,
           59,
           60,
           61,
           62,
           63,
           64,
           65,
           66,
           67,
           68,
           69,
           70,
           71,
           72,
           73,
           74,
           75,
           76,
           77,
           78,
           79,
           80,
           81,
           82,
           83,
           84,
           85,
           86,
           87,
           88,
           89,
           90,
           91,
           92,
           93,
           94,
           95,
           96,
           97,
           98,
           99,
           5,
           6,
           10,
           11,
           12,
           13,
           14,
           15,
           16,
           17,
           18,
           19,
           20,
           21,
           22,
           23,
           24,
           25,
           26,
           27,
           28,
           29,
           30,
           31,
           32,
           33,
           34,
           35,
           36,
           37,
           38,
           39,
           40,
           41,
           42,
           43,
           44,
           45,
           46,
           47,
           48,
           49,
           50,
           51,
           52,
           53,
           54,
           55,
           56,
           57,
           58,
           59,
           60,
           61,
           62,
           63,
           64,
           65,
           66,
           67,
           68,
           69,
           70,
           71,
           72,
           73,
           74,
           75,
           76,
           77,
           78,
           79,
           80,
           81,
           82,
           83,
           84,
           85,
           86,
           87,
           88,
           89,
           90,
           91,
           92,
           93,
           94,
           95,
           96,
           97,
           98,
           99,
           10,
           11,
           12,
           13,
           14,
           15,
           16,
           17,
           18,
           19,
           20,
           21,
           22,
           23,
           24,
           25,
           26,
           27,
           28,
           29,
           30,
           31,
           32,
           33,
           34,
           35,
           36,
           37,
           38,
           39,
           40,
           41,
           42,
           43,
           44,
           45,
           46,
           47,
           48,
           49,
           50,
           51,
           52,
           53,
           54,
           55,
           56,
           57,
           58,
           59,
           60,
           61,
           62,
           63,
           64,
           65,
           66,
           67,
           68,
           69,
           70,
           71,
           72,
           73,
           74,
           75,
           76,
           77,
           78,
           79,
           80,
           81,
           82,
           83,
           84,
           85,
           86,
           87,
           88,
           89,
           90,
           91,
           92,
           93,
           94,
           95,
           96,
           97,
           98,
           99
          ],
          "sizemode": "area",
          "sizeref": 0.0275,
          "symbol": "circle"
         },
         "mode": "markers",
         "name": "Nairobi",
         "orientation": "v",
         "showlegend": true,
         "type": "scatter",
         "x": [
          "Consumer",
          "Consumer",
          "Consumer",
          "Consumer",
          "Consumer",
          "Consumer",
          "Consumer",
          "Consumer",
          "Consumer",
          "Consumer",
          "Consumer",
          "Consumer",
          "Consumer",
          "Consumer",
          "Consumer",
          "Consumer",
          "Consumer",
          "Consumer",
          "Consumer",
          "Consumer",
          "Consumer",
          "Consumer",
          "Consumer",
          "Consumer",
          "Consumer",
          "Consumer",
          "Consumer",
          "Consumer",
          "Consumer",
          "Consumer",
          "Consumer",
          "Consumer",
          "Consumer",
          "Consumer",
          "Consumer",
          "Consumer",
          "Consumer",
          "Consumer",
          "Consumer",
          "Consumer",
          "Consumer",
          "Consumer",
          "Consumer",
          "Consumer",
          "Consumer",
          "Consumer",
          "Consumer",
          "Consumer",
          "Consumer",
          "Consumer",
          "Consumer",
          "Consumer",
          "Consumer",
          "Consumer",
          "Consumer",
          "Consumer",
          "Consumer",
          "Consumer",
          "Consumer",
          "Consumer",
          "Consumer",
          "Consumer",
          "Consumer",
          "Consumer",
          "Consumer",
          "Consumer",
          "Consumer",
          "Consumer",
          "Consumer",
          "Consumer",
          "Consumer",
          "Consumer",
          "Consumer",
          "Consumer",
          "Consumer",
          "Consumer",
          "Consumer",
          "Consumer",
          "Consumer",
          "Consumer",
          "Consumer",
          "Consumer",
          "Consumer",
          "Consumer",
          "Consumer",
          "Consumer",
          "Consumer",
          "Consumer",
          "Consumer",
          "Consumer",
          "Consumer",
          "Consumer",
          "Corporate",
          "Corporate",
          "Corporate",
          "Corporate",
          "Corporate",
          "Corporate",
          "Corporate",
          "Corporate",
          "Corporate",
          "Corporate",
          "Corporate",
          "Corporate",
          "Corporate",
          "Corporate",
          "Corporate",
          "Corporate",
          "Corporate",
          "Corporate",
          "Corporate",
          "Corporate",
          "Corporate",
          "Corporate",
          "Corporate",
          "Corporate",
          "Corporate",
          "Corporate",
          "Corporate",
          "Corporate",
          "Corporate",
          "Corporate",
          "Corporate",
          "Corporate",
          "Corporate",
          "Corporate",
          "Corporate",
          "Corporate",
          "Corporate",
          "Corporate",
          "Corporate",
          "Corporate",
          "Corporate",
          "Corporate",
          "Corporate",
          "Corporate",
          "Corporate",
          "Corporate",
          "Corporate",
          "Corporate",
          "Corporate",
          "Corporate",
          "Corporate",
          "Corporate",
          "Corporate",
          "Corporate",
          "Corporate",
          "Corporate",
          "Corporate",
          "Corporate",
          "Corporate",
          "Corporate",
          "Corporate",
          "Corporate",
          "Corporate",
          "Corporate",
          "Corporate",
          "Corporate",
          "Corporate",
          "Corporate",
          "Corporate",
          "Corporate",
          "Corporate",
          "Corporate",
          "Corporate",
          "Corporate",
          "Corporate",
          "Corporate",
          "Corporate",
          "Corporate",
          "Corporate",
          "Corporate",
          "Corporate",
          "Corporate",
          "Corporate",
          "Corporate",
          "Corporate",
          "Corporate",
          "Corporate",
          "Corporate",
          "Corporate",
          "Corporate",
          "Corporate",
          "Corporate",
          "Home Office",
          "Home Office",
          "Home Office",
          "Home Office",
          "Home Office",
          "Home Office",
          "Home Office",
          "Home Office",
          "Home Office",
          "Home Office",
          "Home Office",
          "Home Office",
          "Home Office",
          "Home Office",
          "Home Office",
          "Home Office",
          "Home Office",
          "Home Office",
          "Home Office",
          "Home Office",
          "Home Office",
          "Home Office",
          "Home Office",
          "Home Office",
          "Home Office",
          "Home Office",
          "Home Office",
          "Home Office",
          "Home Office",
          "Home Office",
          "Home Office",
          "Home Office",
          "Home Office",
          "Home Office",
          "Home Office",
          "Home Office",
          "Home Office",
          "Home Office",
          "Home Office",
          "Home Office",
          "Home Office",
          "Home Office",
          "Home Office",
          "Home Office",
          "Home Office",
          "Home Office",
          "Home Office",
          "Home Office",
          "Home Office",
          "Home Office",
          "Home Office",
          "Home Office",
          "Home Office",
          "Home Office",
          "Home Office",
          "Home Office",
          "Home Office",
          "Home Office",
          "Home Office",
          "Home Office",
          "Home Office",
          "Home Office",
          "Home Office",
          "Home Office",
          "Home Office",
          "Home Office",
          "Home Office",
          "Home Office",
          "Home Office",
          "Home Office",
          "Home Office",
          "Home Office",
          "Home Office",
          "Home Office",
          "Home Office",
          "Home Office",
          "Home Office",
          "Home Office",
          "Home Office",
          "Home Office",
          "Home Office",
          "Home Office",
          "Home Office",
          "Home Office",
          "Home Office",
          "Home Office",
          "Home Office",
          "Home Office",
          "Home Office",
          "Home Office"
         ],
         "xaxis": "x",
         "y": [
          32.36,
          99.372,
          1598.806,
          3331.9,
          3161.9919999999997,
          5096.1586,
          5459.3755,
          4722.4220000000005,
          2580.6,
          2408.636,
          6951.3460000000005,
          10111.703,
          4451.291,
          7379.2210000000005,
          3580.69,
          7942.2035000000005,
          2000.692,
          3783.4908,
          2538.883,
          6888.616,
          5390.524,
          1329.368,
          5195.376,
          5202.0599999999995,
          6273.228,
          10644.935,
          7187.818,
          3103.7819999999997,
          10356.522,
          4997.0527999999995,
          30196.1202,
          16865.503999999997,
          4975.0185,
          5132.375,
          2255.883,
          5072.6720000000005,
          6921.711,
          1708.522,
          3158.9320000000002,
          3705.334,
          1797.766,
          7848.126,
          3898.201,
          3720.7732,
          5868.948,
          4750.763,
          19126.068,
          10447.328,
          6431.959,
          1858.042,
          4110.304,
          8674.789,
          3865.7740000000003,
          1550.109,
          7560.211499999999,
          4025.4616,
          6228.813,
          9277.057,
          12941.502999999999,
          8626.416,
          7570.818,
          4127.717,
          5600.64,
          3416.02,
          5251.0796,
          2428.735,
          3399.3689999999997,
          3868.844,
          5968.038,
          3315.456,
          5233.063,
          2578.6775,
          2720.06,
          8375.5932,
          6773.289,
          8742.246000000001,
          5028.084,
          1696.612,
          1328.742,
          5506.4815,
          4234.937,
          3597.49,
          5274.403,
          5864.065,
          1237.35,
          2300.908,
          2664.682,
          5644.555,
          3796.7,
          5378.493,
          1480.862,
          5000,
          292.272,
          6.23,
          1798.184,
          817.226,
          6879.508,
          4687.914,
          3663,
          6139.558,
          3131.522,
          2417.358,
          3927.7312,
          2705.196,
          2285.7754999999997,
          4274.448,
          3372.372,
          1969.4360000000001,
          5821.008,
          3928.5719999999997,
          2440.454,
          1139.836,
          2367.732,
          4332.322,
          1618.76,
          3182.814,
          7111.754,
          12120.442,
          5624.3642,
          4281.4039999999995,
          3668.076,
          1354.472,
          12687.547,
          1015.578,
          1880.689,
          1245.082,
          1210.028,
          5259.31,
          672.654,
          6702.793,
          5542.414,
          2527.4724,
          2464.776,
          3854.346,
          3073.2257999999997,
          584.2950000000001,
          3674.1908,
          3879.113,
          2998.276,
          1480.424,
          1605.0824999999998,
          3238.192,
          2308.096,
          3897.0368,
          2521.372,
          1840.71,
          2925.232,
          3689.966,
          7134.83,
          1861.904,
          2211.2675,
          1459,
          6792.666,
          149.708,
          2101.5699999999997,
          2936.9339999999997,
          3073.496,
          2675.376,
          3407.322,
          3407.066,
          1257.778,
          1034.336,
          2418.767,
          8114.218,
          2935.209,
          1936.8799999999999,
          737.386,
          4630.5,
          4213.1143999999995,
          7091.603,
          2364.596,
          5223.803,
          1891.482,
          1885.3020000000001,
          1153.0612,
          5162.446,
          1870.588,
          1008.98,
          3471.236,
          908.624,
          3376.031,
          2194.346,
          443.146,
          2753.1364999999996,
          1980.676,
          1066.134,
          1689.042,
          462.27,
          907.466,
          1137.696,
          2883.9320000000002,
          1637.8819999999998,
          6598.282,
          470.066,
          4594.044,
          1727.544,
          2099.555,
          1302.9279999999999,
          940.6780000000001,
          4016.176,
          122.8584,
          259.112,
          693.568,
          4476.983,
          1490.842,
          605.197,
          372.15,
          2360.354,
          3620.65,
          52.25,
          1887.8752,
          3066.118,
          10545.9748,
          200.17999999999998,
          1499.0159999999998,
          1063.2530000000002,
          26769.828,
          2319.272,
          1282.158,
          529.6189999999999,
          539.9459999999999,
          1113.626,
          6204.54,
          442.144,
          719.981,
          245.568,
          1036.238,
          2155.117,
          891.4980000000002,
          380.582,
          772.998,
          71.464,
          8879.858,
          1369.674,
          1882.918,
          55.748,
          1465.534,
          2369.538,
          604.984,
          1185.774,
          290.978,
          3801.3665,
          4789.215999999999,
          2306.804,
          971.4146000000001,
          2340.0119999999997,
          3442.712,
          1798.59,
          932.694,
          1633.322,
          882.1520000000002,
          1142.258,
          589.84,
          661.116,
          1575.629,
          4323.744,
          117.69,
          916.864,
          1125.121,
          1656.964,
          707.6980000000001,
          701.5060000000001,
          89.72399999999999,
          569.418,
          611.1999999999999,
          1168.1000000000001,
          2266.732,
          1539.214,
          1392.08,
          2755.938,
          334.768,
          1270.04,
          31.906,
          1754.1019999999999
         ],
         "yaxis": "y"
        },
        {
         "hovertemplate": "county=Nakuru<br>segment=%{x}<br>revenue=%{y}<br>age=%{marker.size}<extra></extra>",
         "legendgroup": "Nakuru",
         "marker": {
          "color": "#EF553B",
          "size": [
           5,
           10,
           11,
           12,
           13,
           14,
           15,
           16,
           17,
           18,
           19,
           20,
           21,
           22,
           23,
           24,
           25,
           26,
           27,
           28,
           29,
           30,
           31,
           32,
           33,
           34,
           35,
           36,
           37,
           38,
           39,
           40,
           41,
           42,
           43,
           44,
           45,
           46,
           47,
           48,
           49,
           50,
           51,
           52,
           53,
           54,
           55,
           56,
           57,
           58,
           59,
           60,
           61,
           62,
           63,
           64,
           65,
           66,
           67,
           68,
           69,
           70,
           71,
           72,
           73,
           74,
           75,
           76,
           77,
           78,
           79,
           80,
           81,
           82,
           83,
           84,
           85,
           86,
           87,
           88,
           89,
           90,
           91,
           92,
           93,
           94,
           95,
           96,
           97,
           98,
           99,
           10,
           11,
           12,
           13,
           14,
           15,
           16,
           17,
           18,
           19,
           20,
           21,
           22,
           23,
           24,
           25,
           26,
           27,
           28,
           29,
           30,
           31,
           32,
           33,
           34,
           35,
           36,
           37,
           38,
           39,
           40,
           41,
           42,
           43,
           44,
           45,
           46,
           47,
           48,
           49,
           50,
           51,
           52,
           53,
           54,
           55,
           56,
           57,
           58,
           59,
           60,
           61,
           62,
           63,
           64,
           65,
           66,
           67,
           68,
           69,
           70,
           71,
           72,
           73,
           74,
           75,
           76,
           77,
           78,
           79,
           80,
           81,
           82,
           83,
           84,
           85,
           86,
           87,
           88,
           89,
           90,
           91,
           92,
           93,
           94,
           95,
           96,
           97,
           98,
           99,
           10,
           11,
           12,
           13,
           14,
           15,
           16,
           17,
           18,
           19,
           20,
           21,
           22,
           23,
           24,
           25,
           26,
           27,
           28,
           29,
           30,
           31,
           32,
           33,
           34,
           35,
           36,
           37,
           38,
           39,
           40,
           41,
           42,
           43,
           44,
           45,
           46,
           47,
           48,
           49,
           50,
           51,
           52,
           53,
           54,
           55,
           56,
           57,
           58,
           59,
           60,
           61,
           62,
           63,
           64,
           65,
           66,
           67,
           68,
           69,
           70,
           71,
           72,
           73,
           74,
           75,
           76,
           77,
           78,
           79,
           80,
           81,
           82,
           83,
           84,
           85,
           86,
           87,
           88,
           89,
           90,
           91,
           92,
           93,
           94,
           95,
           96,
           97,
           98,
           99
          ],
          "sizemode": "area",
          "sizeref": 0.0275,
          "symbol": "circle"
         },
         "mode": "markers",
         "name": "Nakuru",
         "orientation": "v",
         "showlegend": true,
         "type": "scatter",
         "x": [
          "Consumer",
          "Consumer",
          "Consumer",
          "Consumer",
          "Consumer",
          "Consumer",
          "Consumer",
          "Consumer",
          "Consumer",
          "Consumer",
          "Consumer",
          "Consumer",
          "Consumer",
          "Consumer",
          "Consumer",
          "Consumer",
          "Consumer",
          "Consumer",
          "Consumer",
          "Consumer",
          "Consumer",
          "Consumer",
          "Consumer",
          "Consumer",
          "Consumer",
          "Consumer",
          "Consumer",
          "Consumer",
          "Consumer",
          "Consumer",
          "Consumer",
          "Consumer",
          "Consumer",
          "Consumer",
          "Consumer",
          "Consumer",
          "Consumer",
          "Consumer",
          "Consumer",
          "Consumer",
          "Consumer",
          "Consumer",
          "Consumer",
          "Consumer",
          "Consumer",
          "Consumer",
          "Consumer",
          "Consumer",
          "Consumer",
          "Consumer",
          "Consumer",
          "Consumer",
          "Consumer",
          "Consumer",
          "Consumer",
          "Consumer",
          "Consumer",
          "Consumer",
          "Consumer",
          "Consumer",
          "Consumer",
          "Consumer",
          "Consumer",
          "Consumer",
          "Consumer",
          "Consumer",
          "Consumer",
          "Consumer",
          "Consumer",
          "Consumer",
          "Consumer",
          "Consumer",
          "Consumer",
          "Consumer",
          "Consumer",
          "Consumer",
          "Consumer",
          "Consumer",
          "Consumer",
          "Consumer",
          "Consumer",
          "Consumer",
          "Consumer",
          "Consumer",
          "Consumer",
          "Consumer",
          "Consumer",
          "Consumer",
          "Consumer",
          "Consumer",
          "Consumer",
          "Corporate",
          "Corporate",
          "Corporate",
          "Corporate",
          "Corporate",
          "Corporate",
          "Corporate",
          "Corporate",
          "Corporate",
          "Corporate",
          "Corporate",
          "Corporate",
          "Corporate",
          "Corporate",
          "Corporate",
          "Corporate",
          "Corporate",
          "Corporate",
          "Corporate",
          "Corporate",
          "Corporate",
          "Corporate",
          "Corporate",
          "Corporate",
          "Corporate",
          "Corporate",
          "Corporate",
          "Corporate",
          "Corporate",
          "Corporate",
          "Corporate",
          "Corporate",
          "Corporate",
          "Corporate",
          "Corporate",
          "Corporate",
          "Corporate",
          "Corporate",
          "Corporate",
          "Corporate",
          "Corporate",
          "Corporate",
          "Corporate",
          "Corporate",
          "Corporate",
          "Corporate",
          "Corporate",
          "Corporate",
          "Corporate",
          "Corporate",
          "Corporate",
          "Corporate",
          "Corporate",
          "Corporate",
          "Corporate",
          "Corporate",
          "Corporate",
          "Corporate",
          "Corporate",
          "Corporate",
          "Corporate",
          "Corporate",
          "Corporate",
          "Corporate",
          "Corporate",
          "Corporate",
          "Corporate",
          "Corporate",
          "Corporate",
          "Corporate",
          "Corporate",
          "Corporate",
          "Corporate",
          "Corporate",
          "Corporate",
          "Corporate",
          "Corporate",
          "Corporate",
          "Corporate",
          "Corporate",
          "Corporate",
          "Corporate",
          "Corporate",
          "Corporate",
          "Corporate",
          "Corporate",
          "Corporate",
          "Corporate",
          "Corporate",
          "Corporate",
          "Home Office",
          "Home Office",
          "Home Office",
          "Home Office",
          "Home Office",
          "Home Office",
          "Home Office",
          "Home Office",
          "Home Office",
          "Home Office",
          "Home Office",
          "Home Office",
          "Home Office",
          "Home Office",
          "Home Office",
          "Home Office",
          "Home Office",
          "Home Office",
          "Home Office",
          "Home Office",
          "Home Office",
          "Home Office",
          "Home Office",
          "Home Office",
          "Home Office",
          "Home Office",
          "Home Office",
          "Home Office",
          "Home Office",
          "Home Office",
          "Home Office",
          "Home Office",
          "Home Office",
          "Home Office",
          "Home Office",
          "Home Office",
          "Home Office",
          "Home Office",
          "Home Office",
          "Home Office",
          "Home Office",
          "Home Office",
          "Home Office",
          "Home Office",
          "Home Office",
          "Home Office",
          "Home Office",
          "Home Office",
          "Home Office",
          "Home Office",
          "Home Office",
          "Home Office",
          "Home Office",
          "Home Office",
          "Home Office",
          "Home Office",
          "Home Office",
          "Home Office",
          "Home Office",
          "Home Office",
          "Home Office",
          "Home Office",
          "Home Office",
          "Home Office",
          "Home Office",
          "Home Office",
          "Home Office",
          "Home Office",
          "Home Office",
          "Home Office",
          "Home Office",
          "Home Office",
          "Home Office",
          "Home Office",
          "Home Office",
          "Home Office",
          "Home Office",
          "Home Office",
          "Home Office",
          "Home Office",
          "Home Office",
          "Home Office",
          "Home Office",
          "Home Office",
          "Home Office",
          "Home Office",
          "Home Office",
          "Home Office",
          "Home Office",
          "Home Office"
         ],
         "xaxis": "x",
         "y": [
          347.86400000000003,
          2072.287,
          5514.022,
          1734.2320000000002,
          4626.102,
          3539.068,
          575.748,
          1885.326,
          2163.849,
          13586.08,
          4163.649,
          6513.582,
          3308.9809999999998,
          2614.613,
          3653.988,
          896.614,
          2987.3559999999998,
          3598.549,
          4027.076,
          2096.561,
          7361.8859999999995,
          6780.929,
          3965.433,
          3694.378,
          15544.036,
          4539.631,
          9626.09,
          1808.85,
          6614.641,
          25310.353,
          3944.565,
          2150.264,
          7342.9220000000005,
          2012.056,
          5833.8330000000005,
          1820.056,
          1375.9840000000002,
          2648.446,
          3771.88,
          3978.3160000000003,
          2313,
          3390.322,
          1041.866,
          4642.031,
          5802.976,
          6382.143,
          6757.058,
          4884.185,
          1160.16,
          4597.783,
          11377.010000000002,
          1809.974,
          1187.393,
          3122.97,
          5037.614,
          5439.926,
          2978.309,
          4112.714,
          3286.155,
          6658.377,
          2404.9300000000003,
          3240.119,
          1241.324,
          2841.83,
          7696.572,
          3609.64,
          5992.45,
          1421.0339999999999,
          509.802,
          6018.202,
          3535.736,
          4171.7300000000005,
          2129.7580000000003,
          3466.103,
          3332.821,
          2628.394,
          2548.161,
          1385.818,
          8698.706,
          1246.892,
          6465.197,
          2075.942,
          3919.755,
          2358.946,
          2220.891,
          2068.733,
          1839.526,
          5098.784,
          10404.055,
          1378.51,
          1901.15,
          64.25999999999999,
          2367.1020000000003,
          916.374,
          1450.4279999999999,
          855.11,
          2267.14,
          11373.356,
          7963.242,
          123.03800000000001,
          2073.823,
          2726.232,
          2312.119,
          3912.7,
          1894.979,
          2101.196,
          1272.716,
          955.601,
          249.074,
          3029.038,
          8940.187999999998,
          645.218,
          3456.564,
          4518.258,
          7896.4839999999995,
          3059.593,
          3842.324,
          2486.546,
          1186.073,
          8509.243,
          378.478,
          1117.69,
          976.666,
          2156.988,
          1755.976,
          1675.31,
          998.608,
          1527.1680000000001,
          1726.636,
          2349.208,
          1429.464,
          4575.938,
          1352.488,
          2642.738,
          174.62,
          1288.5140000000001,
          832.008,
          1229.759,
          731.4,
          2781.064,
          2262.654,
          914.054,
          27.162,
          3939.56,
          3292.918,
          2557.565,
          2468.472,
          1878.2100000000003,
          1438.864,
          921.422,
          2095.98,
          1231.734,
          805.146,
          4144.938,
          691.9200000000001,
          503.88,
          1682.782,
          1392.282,
          196.01,
          10631.632000000001,
          1302.758,
          4377.524,
          571.853,
          354.798,
          1607.8740000000003,
          2907.974,
          1757.546,
          766.698,
          238.748,
          436.396,
          1324.4560000000001,
          506.42999999999995,
          1780.786,
          1852.248,
          3809.192,
          548.1179999999999,
          899.566,
          3120.374,
          410.472,
          851.944,
          1540.582,
          83.976,
          968.4300000000001,
          748.752,
          1247.916,
          435.914,
          365.63,
          3116.1,
          3.6,
          2442.214,
          101.928,
          1263.452,
          944.312,
          653.49,
          5239.902999999999,
          2726.829,
          3132.672,
          152.24599999999998,
          754.62,
          1536.64,
          1393.924,
          2808.2079999999996,
          936.904,
          2245.475,
          4288.646,
          2060.728,
          350.05999999999995,
          1407.536,
          4173.818,
          7112,
          726.506,
          1337.965,
          374.23,
          477.092,
          1835.175,
          150.56,
          1595.018,
          608.5,
          2875.792,
          181.37,
          108.488,
          190.352,
          93.08,
          917.8140000000001,
          1493.576,
          194.517,
          914.696,
          2826.21,
          23.046,
          922.76,
          1522.7469999999998,
          195.81,
          654.978,
          451.748,
          3033.862,
          4067.653,
          1209.714,
          4415.372,
          3275.422,
          357.038,
          332.796,
          1118.3400000000001,
          1438.1200000000001,
          1723.498,
          1545.834,
          776.218,
          37.586,
          838.104,
          11205.144,
          473.39799999999997,
          124.524,
          1066.47,
          335.52000000000004,
          314.914,
          568.832,
          175.48999999999998,
          73.286,
          382.74,
          859.71,
          1069.83,
          1549.944,
          59.97,
          1197.024,
          3771.3999999999996,
          172.88,
          1281.868,
          3726.552,
          907.854,
          1208.244,
          953.637,
          298.668
         ],
         "yaxis": "y"
        },
        {
         "hovertemplate": "county=Kisumu<br>segment=%{x}<br>revenue=%{y}<br>age=%{marker.size}<extra></extra>",
         "legendgroup": "Kisumu",
         "marker": {
          "color": "#00cc96",
          "size": [
           6,
           10,
           11,
           12,
           13,
           14,
           15,
           16,
           17,
           18,
           19,
           20,
           21,
           22,
           23,
           24,
           25,
           26,
           27,
           28,
           29,
           30,
           31,
           32,
           33,
           34,
           35,
           36,
           37,
           38,
           39,
           40,
           41,
           42,
           43,
           44,
           45,
           46,
           47,
           48,
           49,
           50,
           51,
           52,
           53,
           54,
           55,
           56,
           57,
           58,
           59,
           60,
           61,
           62,
           63,
           64,
           65,
           66,
           67,
           68,
           69,
           70,
           71,
           72,
           73,
           74,
           75,
           76,
           77,
           78,
           79,
           80,
           81,
           82,
           83,
           84,
           85,
           86,
           87,
           88,
           89,
           90,
           91,
           92,
           93,
           94,
           95,
           96,
           97,
           98,
           99,
           5,
           6,
           10,
           11,
           12,
           13,
           14,
           15,
           16,
           17,
           18,
           19,
           20,
           21,
           22,
           23,
           24,
           25,
           26,
           27,
           28,
           29,
           30,
           31,
           32,
           33,
           34,
           35,
           36,
           37,
           38,
           39,
           40,
           41,
           42,
           43,
           44,
           45,
           46,
           47,
           48,
           49,
           50,
           51,
           52,
           53,
           54,
           55,
           56,
           57,
           58,
           59,
           60,
           61,
           62,
           63,
           64,
           65,
           66,
           67,
           68,
           69,
           70,
           71,
           72,
           73,
           74,
           75,
           76,
           77,
           78,
           79,
           80,
           81,
           82,
           83,
           84,
           85,
           86,
           87,
           88,
           89,
           90,
           91,
           92,
           93,
           94,
           95,
           96,
           97,
           99,
           11,
           12,
           13,
           14,
           15,
           16,
           17,
           18,
           19,
           20,
           21,
           22,
           23,
           24,
           25,
           26,
           27,
           28,
           29,
           30,
           31,
           32,
           33,
           34,
           35,
           36,
           37,
           38,
           39,
           40,
           41,
           42,
           43,
           44,
           45,
           46,
           47,
           48,
           49,
           50,
           51,
           52,
           53,
           54,
           55,
           56,
           57,
           58,
           59,
           60,
           61,
           62,
           63,
           64,
           65,
           66,
           67,
           68,
           69,
           70,
           71,
           72,
           73,
           74,
           75,
           76,
           77,
           78,
           79,
           80,
           81,
           82,
           83,
           84,
           85,
           86,
           87,
           88,
           89,
           90,
           91,
           92,
           93,
           94,
           95,
           96,
           97,
           98,
           99
          ],
          "sizemode": "area",
          "sizeref": 0.0275,
          "symbol": "circle"
         },
         "mode": "markers",
         "name": "Kisumu",
         "orientation": "v",
         "showlegend": true,
         "type": "scatter",
         "x": [
          "Consumer",
          "Consumer",
          "Consumer",
          "Consumer",
          "Consumer",
          "Consumer",
          "Consumer",
          "Consumer",
          "Consumer",
          "Consumer",
          "Consumer",
          "Consumer",
          "Consumer",
          "Consumer",
          "Consumer",
          "Consumer",
          "Consumer",
          "Consumer",
          "Consumer",
          "Consumer",
          "Consumer",
          "Consumer",
          "Consumer",
          "Consumer",
          "Consumer",
          "Consumer",
          "Consumer",
          "Consumer",
          "Consumer",
          "Consumer",
          "Consumer",
          "Consumer",
          "Consumer",
          "Consumer",
          "Consumer",
          "Consumer",
          "Consumer",
          "Consumer",
          "Consumer",
          "Consumer",
          "Consumer",
          "Consumer",
          "Consumer",
          "Consumer",
          "Consumer",
          "Consumer",
          "Consumer",
          "Consumer",
          "Consumer",
          "Consumer",
          "Consumer",
          "Consumer",
          "Consumer",
          "Consumer",
          "Consumer",
          "Consumer",
          "Consumer",
          "Consumer",
          "Consumer",
          "Consumer",
          "Consumer",
          "Consumer",
          "Consumer",
          "Consumer",
          "Consumer",
          "Consumer",
          "Consumer",
          "Consumer",
          "Consumer",
          "Consumer",
          "Consumer",
          "Consumer",
          "Consumer",
          "Consumer",
          "Consumer",
          "Consumer",
          "Consumer",
          "Consumer",
          "Consumer",
          "Consumer",
          "Consumer",
          "Consumer",
          "Consumer",
          "Consumer",
          "Consumer",
          "Consumer",
          "Consumer",
          "Consumer",
          "Consumer",
          "Consumer",
          "Consumer",
          "Corporate",
          "Corporate",
          "Corporate",
          "Corporate",
          "Corporate",
          "Corporate",
          "Corporate",
          "Corporate",
          "Corporate",
          "Corporate",
          "Corporate",
          "Corporate",
          "Corporate",
          "Corporate",
          "Corporate",
          "Corporate",
          "Corporate",
          "Corporate",
          "Corporate",
          "Corporate",
          "Corporate",
          "Corporate",
          "Corporate",
          "Corporate",
          "Corporate",
          "Corporate",
          "Corporate",
          "Corporate",
          "Corporate",
          "Corporate",
          "Corporate",
          "Corporate",
          "Corporate",
          "Corporate",
          "Corporate",
          "Corporate",
          "Corporate",
          "Corporate",
          "Corporate",
          "Corporate",
          "Corporate",
          "Corporate",
          "Corporate",
          "Corporate",
          "Corporate",
          "Corporate",
          "Corporate",
          "Corporate",
          "Corporate",
          "Corporate",
          "Corporate",
          "Corporate",
          "Corporate",
          "Corporate",
          "Corporate",
          "Corporate",
          "Corporate",
          "Corporate",
          "Corporate",
          "Corporate",
          "Corporate",
          "Corporate",
          "Corporate",
          "Corporate",
          "Corporate",
          "Corporate",
          "Corporate",
          "Corporate",
          "Corporate",
          "Corporate",
          "Corporate",
          "Corporate",
          "Corporate",
          "Corporate",
          "Corporate",
          "Corporate",
          "Corporate",
          "Corporate",
          "Corporate",
          "Corporate",
          "Corporate",
          "Corporate",
          "Corporate",
          "Corporate",
          "Corporate",
          "Corporate",
          "Corporate",
          "Corporate",
          "Corporate",
          "Corporate",
          "Corporate",
          "Home Office",
          "Home Office",
          "Home Office",
          "Home Office",
          "Home Office",
          "Home Office",
          "Home Office",
          "Home Office",
          "Home Office",
          "Home Office",
          "Home Office",
          "Home Office",
          "Home Office",
          "Home Office",
          "Home Office",
          "Home Office",
          "Home Office",
          "Home Office",
          "Home Office",
          "Home Office",
          "Home Office",
          "Home Office",
          "Home Office",
          "Home Office",
          "Home Office",
          "Home Office",
          "Home Office",
          "Home Office",
          "Home Office",
          "Home Office",
          "Home Office",
          "Home Office",
          "Home Office",
          "Home Office",
          "Home Office",
          "Home Office",
          "Home Office",
          "Home Office",
          "Home Office",
          "Home Office",
          "Home Office",
          "Home Office",
          "Home Office",
          "Home Office",
          "Home Office",
          "Home Office",
          "Home Office",
          "Home Office",
          "Home Office",
          "Home Office",
          "Home Office",
          "Home Office",
          "Home Office",
          "Home Office",
          "Home Office",
          "Home Office",
          "Home Office",
          "Home Office",
          "Home Office",
          "Home Office",
          "Home Office",
          "Home Office",
          "Home Office",
          "Home Office",
          "Home Office",
          "Home Office",
          "Home Office",
          "Home Office",
          "Home Office",
          "Home Office",
          "Home Office",
          "Home Office",
          "Home Office",
          "Home Office",
          "Home Office",
          "Home Office",
          "Home Office",
          "Home Office",
          "Home Office",
          "Home Office",
          "Home Office",
          "Home Office",
          "Home Office",
          "Home Office",
          "Home Office",
          "Home Office",
          "Home Office",
          "Home Office",
          "Home Office"
         ],
         "xaxis": "x",
         "y": [
          242.48,
          582.839,
          499.47299999999996,
          737.319,
          8960.768,
          4679.3460000000005,
          2871.9,
          3043.13,
          7938.476,
          1405.2160000000001,
          5264.668000000001,
          1810.7340000000002,
          1964.496,
          2013.9560000000001,
          5254.259,
          2943.6240000000003,
          4948.968,
          2209.0660000000003,
          2459.834,
          6949.782,
          1517.3919999999998,
          6105.156,
          2826.9719999999998,
          5204.644,
          6689.633,
          3094.804,
          3890.324,
          2144.4159999999997,
          1420.0140000000001,
          13362.789,
          1520.8619999999999,
          2402.054,
          13971.243999999999,
          996.305,
          5158.0599999999995,
          802.6139999999999,
          3797.1,
          1940.708,
          12322.816,
          2129.904,
          1697.932,
          2312.079,
          826.7330000000001,
          4771.746,
          2263.32,
          3604.0420000000004,
          780.98,
          4706.598,
          1738.104,
          1415.568,
          3982.672,
          21240.542,
          1588.828,
          2265.792,
          4585.052,
          3848.6459999999997,
          4485.454,
          857.55,
          1287.438,
          2094.454,
          1462.936,
          818.89,
          400.93399999999997,
          1252.8429999999998,
          532.614,
          254.364,
          1000.866,
          2779.464,
          1941.314,
          1213.824,
          264.96,
          1982.895,
          1064.252,
          1285.156,
          3309.919,
          1629.001,
          373.592,
          1155.845,
          3758.7,
          2457.28,
          1040.4,
          1007.592,
          2061.69,
          4913.428,
          4758.174,
          671.878,
          2211.798,
          1601.5980000000002,
          809.21,
          913.1840000000001,
          4372.578,
          2.97,
          964.674,
          491.558,
          642.797,
          563.68,
          664.4100000000001,
          548.554,
          798.01,
          96.042,
          1962.6360000000002,
          3510.5,
          1717.332,
          3940.5879999999997,
          3587.9700000000003,
          1195.156,
          1342.092,
          5921.706,
          2979.61,
          1506.808,
          2039.1100000000001,
          2930.439,
          2352.3500000000004,
          596.508,
          5262.394,
          3780.598,
          2759.473,
          4159.174,
          853.178,
          1375.23,
          1216.391,
          24444.835,
          768.766,
          715.104,
          808.206,
          289.942,
          474.57199999999995,
          1661.724,
          266.08,
          1782.399,
          48.52,
          2456.338,
          2220.103,
          786.498,
          1266.362,
          6055.511,
          4850.197999999999,
          1142.23,
          292.722,
          1948.56,
          1165.24,
          4805.3,
          172.592,
          21409.756,
          901.774,
          609.73,
          1005.95,
          1015.2719999999999,
          2026.057,
          2977.402,
          2719.5,
          1593.924,
          1203.569,
          245.554,
          264.648,
          921.5139999999999,
          1931.693,
          2026.698,
          2463.936,
          142.16,
          3332.58,
          456.354,
          920.436,
          1355.72,
          2294.148,
          104.97,
          638.556,
          3283.712,
          3851.758,
          4151.97,
          1226.422,
          3553.184,
          2130.286,
          4239.8,
          2675.642,
          2407.735,
          2905.328,
          2924.4880000000003,
          2083.1,
          3731.79,
          2433.608,
          184.29000000000002,
          372.144,
          187.26,
          2559.976,
          130.094,
          705.6959999999999,
          1811.296,
          1406.795,
          1650.6560000000002,
          476.204,
          2359.8360000000002,
          1961.556,
          674.09,
          577.566,
          195.642,
          1231.2340000000002,
          1435.79,
          927.862,
          1269.81,
          4722.266,
          388.795,
          1123.3,
          2983.024,
          2763.026,
          589.34,
          252.13,
          5442.752,
          187.344,
          9717.472,
          994.28,
          1658.852,
          1096.8319999999999,
          11.952,
          1117.1380000000001,
          1429.6640000000002,
          958.2700000000001,
          1178.195,
          2745.284,
          219.64600000000002,
          701.7,
          9.45,
          224.982,
          9479.868,
          2052.7799999999997,
          384.11,
          2039.0600000000002,
          374.357,
          46.872,
          1197.224,
          12.16,
          810.432,
          68.448,
          826.6800000000001,
          3095.509,
          305.22,
          257.98199999999997,
          171.56,
          989.762,
          1145.68,
          3235.895,
          2646.356,
          782.4399999999999,
          826.93,
          80.98,
          324.368,
          945.546,
          2811.5640000000003,
          3057.036,
          584.252,
          376.93,
          577.324,
          1675.7179999999998,
          5768.79,
          721.216,
          973.9540000000001,
          2537.751,
          296.598,
          282.63,
          88.22999999999999,
          2736.648,
          662.23,
          451.86,
          867.75,
          406.212,
          591.636,
          168.414,
          672.644,
          293.64,
          67.8,
          1507.22
         ],
         "yaxis": "y"
        }
       ],
       "layout": {
        "autosize": true,
        "legend": {
         "itemsizing": "constant",
         "title": {
          "text": "county"
         },
         "tracegroupgap": 0
        },
        "margin": {
         "t": 60
        },
        "template": {
         "data": {
          "bar": [
           {
            "error_x": {
             "color": "#2a3f5f"
            },
            "error_y": {
             "color": "#2a3f5f"
            },
            "marker": {
             "line": {
              "color": "#E5ECF6",
              "width": 0.5
             },
             "pattern": {
              "fillmode": "overlay",
              "size": 10,
              "solidity": 0.2
             }
            },
            "type": "bar"
           }
          ],
          "barpolar": [
           {
            "marker": {
             "line": {
              "color": "#E5ECF6",
              "width": 0.5
             },
             "pattern": {
              "fillmode": "overlay",
              "size": 10,
              "solidity": 0.2
             }
            },
            "type": "barpolar"
           }
          ],
          "carpet": [
           {
            "aaxis": {
             "endlinecolor": "#2a3f5f",
             "gridcolor": "white",
             "linecolor": "white",
             "minorgridcolor": "white",
             "startlinecolor": "#2a3f5f"
            },
            "baxis": {
             "endlinecolor": "#2a3f5f",
             "gridcolor": "white",
             "linecolor": "white",
             "minorgridcolor": "white",
             "startlinecolor": "#2a3f5f"
            },
            "type": "carpet"
           }
          ],
          "choropleth": [
           {
            "colorbar": {
             "outlinewidth": 0,
             "ticks": ""
            },
            "type": "choropleth"
           }
          ],
          "contour": [
           {
            "colorbar": {
             "outlinewidth": 0,
             "ticks": ""
            },
            "colorscale": [
             [
              0,
              "#0d0887"
             ],
             [
              0.1111111111111111,
              "#46039f"
             ],
             [
              0.2222222222222222,
              "#7201a8"
             ],
             [
              0.3333333333333333,
              "#9c179e"
             ],
             [
              0.4444444444444444,
              "#bd3786"
             ],
             [
              0.5555555555555556,
              "#d8576b"
             ],
             [
              0.6666666666666666,
              "#ed7953"
             ],
             [
              0.7777777777777778,
              "#fb9f3a"
             ],
             [
              0.8888888888888888,
              "#fdca26"
             ],
             [
              1,
              "#f0f921"
             ]
            ],
            "type": "contour"
           }
          ],
          "contourcarpet": [
           {
            "colorbar": {
             "outlinewidth": 0,
             "ticks": ""
            },
            "type": "contourcarpet"
           }
          ],
          "heatmap": [
           {
            "colorbar": {
             "outlinewidth": 0,
             "ticks": ""
            },
            "colorscale": [
             [
              0,
              "#0d0887"
             ],
             [
              0.1111111111111111,
              "#46039f"
             ],
             [
              0.2222222222222222,
              "#7201a8"
             ],
             [
              0.3333333333333333,
              "#9c179e"
             ],
             [
              0.4444444444444444,
              "#bd3786"
             ],
             [
              0.5555555555555556,
              "#d8576b"
             ],
             [
              0.6666666666666666,
              "#ed7953"
             ],
             [
              0.7777777777777778,
              "#fb9f3a"
             ],
             [
              0.8888888888888888,
              "#fdca26"
             ],
             [
              1,
              "#f0f921"
             ]
            ],
            "type": "heatmap"
           }
          ],
          "heatmapgl": [
           {
            "colorbar": {
             "outlinewidth": 0,
             "ticks": ""
            },
            "colorscale": [
             [
              0,
              "#0d0887"
             ],
             [
              0.1111111111111111,
              "#46039f"
             ],
             [
              0.2222222222222222,
              "#7201a8"
             ],
             [
              0.3333333333333333,
              "#9c179e"
             ],
             [
              0.4444444444444444,
              "#bd3786"
             ],
             [
              0.5555555555555556,
              "#d8576b"
             ],
             [
              0.6666666666666666,
              "#ed7953"
             ],
             [
              0.7777777777777778,
              "#fb9f3a"
             ],
             [
              0.8888888888888888,
              "#fdca26"
             ],
             [
              1,
              "#f0f921"
             ]
            ],
            "type": "heatmapgl"
           }
          ],
          "histogram": [
           {
            "marker": {
             "pattern": {
              "fillmode": "overlay",
              "size": 10,
              "solidity": 0.2
             }
            },
            "type": "histogram"
           }
          ],
          "histogram2d": [
           {
            "colorbar": {
             "outlinewidth": 0,
             "ticks": ""
            },
            "colorscale": [
             [
              0,
              "#0d0887"
             ],
             [
              0.1111111111111111,
              "#46039f"
             ],
             [
              0.2222222222222222,
              "#7201a8"
             ],
             [
              0.3333333333333333,
              "#9c179e"
             ],
             [
              0.4444444444444444,
              "#bd3786"
             ],
             [
              0.5555555555555556,
              "#d8576b"
             ],
             [
              0.6666666666666666,
              "#ed7953"
             ],
             [
              0.7777777777777778,
              "#fb9f3a"
             ],
             [
              0.8888888888888888,
              "#fdca26"
             ],
             [
              1,
              "#f0f921"
             ]
            ],
            "type": "histogram2d"
           }
          ],
          "histogram2dcontour": [
           {
            "colorbar": {
             "outlinewidth": 0,
             "ticks": ""
            },
            "colorscale": [
             [
              0,
              "#0d0887"
             ],
             [
              0.1111111111111111,
              "#46039f"
             ],
             [
              0.2222222222222222,
              "#7201a8"
             ],
             [
              0.3333333333333333,
              "#9c179e"
             ],
             [
              0.4444444444444444,
              "#bd3786"
             ],
             [
              0.5555555555555556,
              "#d8576b"
             ],
             [
              0.6666666666666666,
              "#ed7953"
             ],
             [
              0.7777777777777778,
              "#fb9f3a"
             ],
             [
              0.8888888888888888,
              "#fdca26"
             ],
             [
              1,
              "#f0f921"
             ]
            ],
            "type": "histogram2dcontour"
           }
          ],
          "mesh3d": [
           {
            "colorbar": {
             "outlinewidth": 0,
             "ticks": ""
            },
            "type": "mesh3d"
           }
          ],
          "parcoords": [
           {
            "line": {
             "colorbar": {
              "outlinewidth": 0,
              "ticks": ""
             }
            },
            "type": "parcoords"
           }
          ],
          "pie": [
           {
            "automargin": true,
            "type": "pie"
           }
          ],
          "scatter": [
           {
            "fillpattern": {
             "fillmode": "overlay",
             "size": 10,
             "solidity": 0.2
            },
            "type": "scatter"
           }
          ],
          "scatter3d": [
           {
            "line": {
             "colorbar": {
              "outlinewidth": 0,
              "ticks": ""
             }
            },
            "marker": {
             "colorbar": {
              "outlinewidth": 0,
              "ticks": ""
             }
            },
            "type": "scatter3d"
           }
          ],
          "scattercarpet": [
           {
            "marker": {
             "colorbar": {
              "outlinewidth": 0,
              "ticks": ""
             }
            },
            "type": "scattercarpet"
           }
          ],
          "scattergeo": [
           {
            "marker": {
             "colorbar": {
              "outlinewidth": 0,
              "ticks": ""
             }
            },
            "type": "scattergeo"
           }
          ],
          "scattergl": [
           {
            "marker": {
             "colorbar": {
              "outlinewidth": 0,
              "ticks": ""
             }
            },
            "type": "scattergl"
           }
          ],
          "scattermapbox": [
           {
            "marker": {
             "colorbar": {
              "outlinewidth": 0,
              "ticks": ""
             }
            },
            "type": "scattermapbox"
           }
          ],
          "scatterpolar": [
           {
            "marker": {
             "colorbar": {
              "outlinewidth": 0,
              "ticks": ""
             }
            },
            "type": "scatterpolar"
           }
          ],
          "scatterpolargl": [
           {
            "marker": {
             "colorbar": {
              "outlinewidth": 0,
              "ticks": ""
             }
            },
            "type": "scatterpolargl"
           }
          ],
          "scatterternary": [
           {
            "marker": {
             "colorbar": {
              "outlinewidth": 0,
              "ticks": ""
             }
            },
            "type": "scatterternary"
           }
          ],
          "surface": [
           {
            "colorbar": {
             "outlinewidth": 0,
             "ticks": ""
            },
            "colorscale": [
             [
              0,
              "#0d0887"
             ],
             [
              0.1111111111111111,
              "#46039f"
             ],
             [
              0.2222222222222222,
              "#7201a8"
             ],
             [
              0.3333333333333333,
              "#9c179e"
             ],
             [
              0.4444444444444444,
              "#bd3786"
             ],
             [
              0.5555555555555556,
              "#d8576b"
             ],
             [
              0.6666666666666666,
              "#ed7953"
             ],
             [
              0.7777777777777778,
              "#fb9f3a"
             ],
             [
              0.8888888888888888,
              "#fdca26"
             ],
             [
              1,
              "#f0f921"
             ]
            ],
            "type": "surface"
           }
          ],
          "table": [
           {
            "cells": {
             "fill": {
              "color": "#EBF0F8"
             },
             "line": {
              "color": "white"
             }
            },
            "header": {
             "fill": {
              "color": "#C8D4E3"
             },
             "line": {
              "color": "white"
             }
            },
            "type": "table"
           }
          ]
         },
         "layout": {
          "annotationdefaults": {
           "arrowcolor": "#2a3f5f",
           "arrowhead": 0,
           "arrowwidth": 1
          },
          "autotypenumbers": "strict",
          "coloraxis": {
           "colorbar": {
            "outlinewidth": 0,
            "ticks": ""
           }
          },
          "colorscale": {
           "diverging": [
            [
             0,
             "#8e0152"
            ],
            [
             0.1,
             "#c51b7d"
            ],
            [
             0.2,
             "#de77ae"
            ],
            [
             0.3,
             "#f1b6da"
            ],
            [
             0.4,
             "#fde0ef"
            ],
            [
             0.5,
             "#f7f7f7"
            ],
            [
             0.6,
             "#e6f5d0"
            ],
            [
             0.7,
             "#b8e186"
            ],
            [
             0.8,
             "#7fbc41"
            ],
            [
             0.9,
             "#4d9221"
            ],
            [
             1,
             "#276419"
            ]
           ],
           "sequential": [
            [
             0,
             "#0d0887"
            ],
            [
             0.1111111111111111,
             "#46039f"
            ],
            [
             0.2222222222222222,
             "#7201a8"
            ],
            [
             0.3333333333333333,
             "#9c179e"
            ],
            [
             0.4444444444444444,
             "#bd3786"
            ],
            [
             0.5555555555555556,
             "#d8576b"
            ],
            [
             0.6666666666666666,
             "#ed7953"
            ],
            [
             0.7777777777777778,
             "#fb9f3a"
            ],
            [
             0.8888888888888888,
             "#fdca26"
            ],
            [
             1,
             "#f0f921"
            ]
           ],
           "sequentialminus": [
            [
             0,
             "#0d0887"
            ],
            [
             0.1111111111111111,
             "#46039f"
            ],
            [
             0.2222222222222222,
             "#7201a8"
            ],
            [
             0.3333333333333333,
             "#9c179e"
            ],
            [
             0.4444444444444444,
             "#bd3786"
            ],
            [
             0.5555555555555556,
             "#d8576b"
            ],
            [
             0.6666666666666666,
             "#ed7953"
            ],
            [
             0.7777777777777778,
             "#fb9f3a"
            ],
            [
             0.8888888888888888,
             "#fdca26"
            ],
            [
             1,
             "#f0f921"
            ]
           ]
          },
          "colorway": [
           "#636efa",
           "#EF553B",
           "#00cc96",
           "#ab63fa",
           "#FFA15A",
           "#19d3f3",
           "#FF6692",
           "#B6E880",
           "#FF97FF",
           "#FECB52"
          ],
          "font": {
           "color": "#2a3f5f"
          },
          "geo": {
           "bgcolor": "white",
           "lakecolor": "white",
           "landcolor": "#E5ECF6",
           "showlakes": true,
           "showland": true,
           "subunitcolor": "white"
          },
          "hoverlabel": {
           "align": "left"
          },
          "hovermode": "closest",
          "mapbox": {
           "style": "light"
          },
          "paper_bgcolor": "white",
          "plot_bgcolor": "#E5ECF6",
          "polar": {
           "angularaxis": {
            "gridcolor": "white",
            "linecolor": "white",
            "ticks": ""
           },
           "bgcolor": "#E5ECF6",
           "radialaxis": {
            "gridcolor": "white",
            "linecolor": "white",
            "ticks": ""
           }
          },
          "scene": {
           "xaxis": {
            "backgroundcolor": "#E5ECF6",
            "gridcolor": "white",
            "gridwidth": 2,
            "linecolor": "white",
            "showbackground": true,
            "ticks": "",
            "zerolinecolor": "white"
           },
           "yaxis": {
            "backgroundcolor": "#E5ECF6",
            "gridcolor": "white",
            "gridwidth": 2,
            "linecolor": "white",
            "showbackground": true,
            "ticks": "",
            "zerolinecolor": "white"
           },
           "zaxis": {
            "backgroundcolor": "#E5ECF6",
            "gridcolor": "white",
            "gridwidth": 2,
            "linecolor": "white",
            "showbackground": true,
            "ticks": "",
            "zerolinecolor": "white"
           }
          },
          "shapedefaults": {
           "line": {
            "color": "#2a3f5f"
           }
          },
          "ternary": {
           "aaxis": {
            "gridcolor": "white",
            "linecolor": "white",
            "ticks": ""
           },
           "baxis": {
            "gridcolor": "white",
            "linecolor": "white",
            "ticks": ""
           },
           "bgcolor": "#E5ECF6",
           "caxis": {
            "gridcolor": "white",
            "linecolor": "white",
            "ticks": ""
           }
          },
          "title": {
           "x": 0.05
          },
          "xaxis": {
           "automargin": true,
           "gridcolor": "white",
           "linecolor": "white",
           "ticks": "",
           "title": {
            "standoff": 15
           },
           "zerolinecolor": "white",
           "zerolinewidth": 2
          },
          "yaxis": {
           "automargin": true,
           "gridcolor": "white",
           "linecolor": "white",
           "ticks": "",
           "title": {
            "standoff": 15
           },
           "zerolinecolor": "white",
           "zerolinewidth": 2
          }
         }
        },
        "xaxis": {
         "anchor": "y",
         "autorange": true,
         "domain": [
          0,
          1
         ],
         "range": [
          -1,
          6
         ],
         "title": {
          "text": "segment"
         },
         "type": "log"
        },
        "yaxis": {
         "anchor": "x",
         "autorange": true,
         "domain": [
          0,
          1
         ],
         "range": [
          -14425.352229191016,
          40229.72108795052
         ],
         "title": {
          "text": "revenue"
         },
         "type": "linear"
        }
       }
      },
      "image/png": "[encoded data removed]",
      "text/html": [
       "<div>                            <div id=\"c146ed4f-7269-4c7c-aad4-5e30523fe395\" class=\"plotly-graph-div\" style=\"height:525px; width:100%;\"></div>            <script type=\"text/javascript\">                require([\"plotly\"], function(Plotly) {                    window.PLOTLYENV=window.PLOTLYENV || {};                                    if (document.getElementById(\"c146ed4f-7269-4c7c-aad4-5e30523fe395\")) {                    Plotly.newPlot(                        \"c146ed4f-7269-4c7c-aad4-5e30523fe395\",                        [{\"hovertemplate\":\"county=Nairobi\\u003cbr\\u003esegment=%{x}\\u003cbr\\u003erevenue=%{y}\\u003cbr\\u003eage=%{marker.size}\\u003cextra\\u003e\\u003c\\u002fextra\\u003e\",\"legendgroup\":\"Nairobi\",\"marker\":{\"color\":\"#636efa\",\"size\":[5,6,10,11,12,13,14,15,16,17,18,19,20,21,22,23,24,25,26,27,28,29,30,31,32,33,34,35,36,37,38,39,40,41,42,43,44,45,46,47,48,49,50,51,52,53,54,55,56,57,58,59,60,61,62,63,64,65,66,67,68,69,70,71,72,73,74,75,76,77,78,79,80,81,82,83,84,85,86,87,88,89,90,91,92,93,94,95,96,97,98,99,5,6,10,11,12,13,14,15,16,17,18,19,20,21,22,23,24,25,26,27,28,29,30,31,32,33,34,35,36,37,38,39,40,41,42,43,44,45,46,47,48,49,50,51,52,53,54,55,56,57,58,59,60,61,62,63,64,65,66,67,68,69,70,71,72,73,74,75,76,77,78,79,80,81,82,83,84,85,86,87,88,89,90,91,92,93,94,95,96,97,98,99,10,11,12,13,14,15,16,17,18,19,20,21,22,23,24,25,26,27,28,29,30,31,32,33,34,35,36,37,38,39,40,41,42,43,44,45,46,47,48,49,50,51,52,53,54,55,56,57,58,59,60,61,62,63,64,65,66,67,68,69,70,71,72,73,74,75,76,77,78,79,80,81,82,83,84,85,86,87,88,89,90,91,92,93,94,95,96,97,98,99],\"sizemode\":\"area\",\"sizeref\":0.0275,\"symbol\":\"circle\"},\"mode\":\"markers\",\"name\":\"Nairobi\",\"orientation\":\"v\",\"showlegend\":true,\"x\":[\"Consumer\",\"Consumer\",\"Consumer\",\"Consumer\",\"Consumer\",\"Consumer\",\"Consumer\",\"Consumer\",\"Consumer\",\"Consumer\",\"Consumer\",\"Consumer\",\"Consumer\",\"Consumer\",\"Consumer\",\"Consumer\",\"Consumer\",\"Consumer\",\"Consumer\",\"Consumer\",\"Consumer\",\"Consumer\",\"Consumer\",\"Consumer\",\"Consumer\",\"Consumer\",\"Consumer\",\"Consumer\",\"Consumer\",\"Consumer\",\"Consumer\",\"Consumer\",\"Consumer\",\"Consumer\",\"Consumer\",\"Consumer\",\"Consumer\",\"Consumer\",\"Consumer\",\"Consumer\",\"Consumer\",\"Consumer\",\"Consumer\",\"Consumer\",\"Consumer\",\"Consumer\",\"Consumer\",\"Consumer\",\"Consumer\",\"Consumer\",\"Consumer\",\"Consumer\",\"Consumer\",\"Consumer\",\"Consumer\",\"Consumer\",\"Consumer\",\"Consumer\",\"Consumer\",\"Consumer\",\"Consumer\",\"Consumer\",\"Consumer\",\"Consumer\",\"Consumer\",\"Consumer\",\"Consumer\",\"Consumer\",\"Consumer\",\"Consumer\",\"Consumer\",\"Consumer\",\"Consumer\",\"Consumer\",\"Consumer\",\"Consumer\",\"Consumer\",\"Consumer\",\"Consumer\",\"Consumer\",\"Consumer\",\"Consumer\",\"Consumer\",\"Consumer\",\"Consumer\",\"Consumer\",\"Consumer\",\"Consumer\",\"Consumer\",\"Consumer\",\"Consumer\",\"Consumer\",\"Corporate\",\"Corporate\",\"Corporate\",\"Corporate\",\"Corporate\",\"Corporate\",\"Corporate\",\"Corporate\",\"Corporate\",\"Corporate\",\"Corporate\",\"Corporate\",\"Corporate\",\"Corporate\",\"Corporate\",\"Corporate\",\"Corporate\",\"Corporate\",\"Corporate\",\"Corporate\",\"Corporate\",\"Corporate\",\"Corporate\",\"Corporate\",\"Corporate\",\"Corporate\",\"Corporate\",\"Corporate\",\"Corporate\",\"Corporate\",\"Corporate\",\"Corporate\",\"Corporate\",\"Corporate\",\"Corporate\",\"Corporate\",\"Corporate\",\"Corporate\",\"Corporate\",\"Corporate\",\"Corporate\",\"Corporate\",\"Corporate\",\"Corporate\",\"Corporate\",\"Corporate\",\"Corporate\",\"Corporate\",\"Corporate\",\"Corporate\",\"Corporate\",\"Corporate\",\"Corporate\",\"Corporate\",\"Corporate\",\"Corporate\",\"Corporate\",\"Corporate\",\"Corporate\",\"Corporate\",\"Corporate\",\"Corporate\",\"Corporate\",\"Corporate\",\"Corporate\",\"Corporate\",\"Corporate\",\"Corporate\",\"Corporate\",\"Corporate\",\"Corporate\",\"Corporate\",\"Corporate\",\"Corporate\",\"Corporate\",\"Corporate\",\"Corporate\",\"Corporate\",\"Corporate\",\"Corporate\",\"Corporate\",\"Corporate\",\"Corporate\",\"Corporate\",\"Corporate\",\"Corporate\",\"Corporate\",\"Corporate\",\"Corporate\",\"Corporate\",\"Corporate\",\"Corporate\",\"Home Office\",\"Home Office\",\"Home Office\",\"Home Office\",\"Home Office\",\"Home Office\",\"Home Office\",\"Home Office\",\"Home Office\",\"Home Office\",\"Home Office\",\"Home Office\",\"Home Office\",\"Home Office\",\"Home Office\",\"Home Office\",\"Home Office\",\"Home Office\",\"Home Office\",\"Home Office\",\"Home Office\",\"Home Office\",\"Home Office\",\"Home Office\",\"Home Office\",\"Home Office\",\"Home Office\",\"Home Office\",\"Home Office\",\"Home Office\",\"Home Office\",\"Home Office\",\"Home Office\",\"Home Office\",\"Home Office\",\"Home Office\",\"Home Office\",\"Home Office\",\"Home Office\",\"Home Office\",\"Home Office\",\"Home Office\",\"Home Office\",\"Home Office\",\"Home Office\",\"Home Office\",\"Home Office\",\"Home Office\",\"Home Office\",\"Home Office\",\"Home Office\",\"Home Office\",\"Home Office\",\"Home Office\",\"Home Office\",\"Home Office\",\"Home Office\",\"Home Office\",\"Home Office\",\"Home Office\",\"Home Office\",\"Home Office\",\"Home Office\",\"Home Office\",\"Home Office\",\"Home Office\",\"Home Office\",\"Home Office\",\"Home Office\",\"Home Office\",\"Home Office\",\"Home Office\",\"Home Office\",\"Home Office\",\"Home Office\",\"Home Office\",\"Home Office\",\"Home Office\",\"Home Office\",\"Home Office\",\"Home Office\",\"Home Office\",\"Home Office\",\"Home Office\",\"Home Office\",\"Home Office\",\"Home Office\",\"Home Office\",\"Home Office\",\"Home Office\"],\"xaxis\":\"x\",\"y\":[32.36,99.372,1598.806,3331.9,3161.9919999999997,5096.1586,5459.3755,4722.4220000000005,2580.6,2408.636,6951.3460000000005,10111.703,4451.291,7379.2210000000005,3580.69,7942.2035000000005,2000.692,3783.4908,2538.883,6888.616,5390.524,1329.368,5195.376,5202.0599999999995,6273.228,10644.935,7187.818,3103.7819999999997,10356.522,4997.0527999999995,30196.1202,16865.503999999997,4975.0185,5132.375,2255.883,5072.6720000000005,6921.711,1708.522,3158.9320000000002,3705.334,1797.766,7848.126,3898.201,3720.7732,5868.948,4750.763,19126.068,10447.328,6431.959,1858.042,4110.304,8674.789,3865.7740000000003,1550.109,7560.211499999999,4025.4616,6228.813,9277.057,12941.502999999999,8626.416,7570.818,4127.717,5600.64,3416.02,5251.0796,2428.735,3399.3689999999997,3868.844,5968.038,3315.456,5233.063,2578.6775,2720.06,8375.5932,6773.289,8742.246000000001,5028.084,1696.612,1328.742,5506.4815,4234.937,3597.49,5274.403,5864.065,1237.35,2300.908,2664.682,5644.555,3796.7,5378.493,1480.862,5000.0,292.272,6.23,1798.184,817.226,6879.508,4687.914,3663.0,6139.558,3131.522,2417.358,3927.7312,2705.196,2285.7754999999997,4274.448,3372.372,1969.4360000000001,5821.008,3928.5719999999997,2440.454,1139.836,2367.732,4332.322,1618.76,3182.814,7111.754,12120.442,5624.3642,4281.4039999999995,3668.076,1354.472,12687.547,1015.578,1880.689,1245.082,1210.028,5259.31,672.654,6702.793,5542.414,2527.4724,2464.776,3854.346,3073.2257999999997,584.2950000000001,3674.1908,3879.113,2998.276,1480.424,1605.0824999999998,3238.192,2308.096,3897.0368,2521.372,1840.71,2925.232,3689.966,7134.83,1861.904,2211.2675,1459.0,6792.666,149.708,2101.5699999999997,2936.9339999999997,3073.496,2675.376,3407.322,3407.066,1257.778,1034.336,2418.767,8114.218,2935.209,1936.8799999999999,737.386,4630.5,4213.1143999999995,7091.603,2364.596,5223.803,1891.482,1885.3020000000001,1153.0612,5162.446,1870.588,1008.98,3471.236,908.624,3376.031,2194.346,443.146,2753.1364999999996,1980.676,1066.134,1689.042,462.27,907.466,1137.696,2883.9320000000002,1637.8819999999998,6598.282,470.066,4594.044,1727.544,2099.555,1302.9279999999999,940.6780000000001,4016.176,122.8584,259.112,693.568,4476.983,1490.842,605.197,372.15,2360.354,3620.65,52.25,1887.8752,3066.118,10545.9748,200.17999999999998,1499.0159999999998,1063.2530000000002,26769.828,2319.272,1282.158,529.6189999999999,539.9459999999999,1113.626,6204.54,442.144,719.981,245.568,1036.238,2155.117,891.4980000000002,380.582,772.998,71.464,8879.858,1369.674,1882.918,55.748,1465.534,2369.538,604.984,1185.774,290.978,3801.3665,4789.215999999999,2306.804,971.4146000000001,2340.0119999999997,3442.712,1798.59,932.694,1633.322,882.1520000000002,1142.258,589.84,661.116,1575.629,4323.744,117.69,916.864,1125.121,1656.964,707.6980000000001,701.5060000000001,89.72399999999999,569.418,611.1999999999999,1168.1000000000001,2266.732,1539.214,1392.08,2755.938,334.768,1270.04,31.906,1754.1019999999999],\"yaxis\":\"y\",\"type\":\"scatter\"},{\"hovertemplate\":\"county=Nakuru\\u003cbr\\u003esegment=%{x}\\u003cbr\\u003erevenue=%{y}\\u003cbr\\u003eage=%{marker.size}\\u003cextra\\u003e\\u003c\\u002fextra\\u003e\",\"legendgroup\":\"Nakuru\",\"marker\":{\"color\":\"#EF553B\",\"size\":[5,10,11,12,13,14,15,16,17,18,19,20,21,22,23,24,25,26,27,28,29,30,31,32,33,34,35,36,37,38,39,40,41,42,43,44,45,46,47,48,49,50,51,52,53,54,55,56,57,58,59,60,61,62,63,64,65,66,67,68,69,70,71,72,73,74,75,76,77,78,79,80,81,82,83,84,85,86,87,88,89,90,91,92,93,94,95,96,97,98,99,10,11,12,13,14,15,16,17,18,19,20,21,22,23,24,25,26,27,28,29,30,31,32,33,34,35,36,37,38,39,40,41,42,43,44,45,46,47,48,49,50,51,52,53,54,55,56,57,58,59,60,61,62,63,64,65,66,67,68,69,70,71,72,73,74,75,76,77,78,79,80,81,82,83,84,85,86,87,88,89,90,91,92,93,94,95,96,97,98,99,10,11,12,13,14,15,16,17,18,19,20,21,22,23,24,25,26,27,28,29,30,31,32,33,34,35,36,37,38,39,40,41,42,43,44,45,46,47,48,49,50,51,52,53,54,55,56,57,58,59,60,61,62,63,64,65,66,67,68,69,70,71,72,73,74,75,76,77,78,79,80,81,82,83,84,85,86,87,88,89,90,91,92,93,94,95,96,97,98,99],\"sizemode\":\"area\",\"sizeref\":0.0275,\"symbol\":\"circle\"},\"mode\":\"markers\",\"name\":\"Nakuru\",\"orientation\":\"v\",\"showlegend\":true,\"x\":[\"Consumer\",\"Consumer\",\"Consumer\",\"Consumer\",\"Consumer\",\"Consumer\",\"Consumer\",\"Consumer\",\"Consumer\",\"Consumer\",\"Consumer\",\"Consumer\",\"Consumer\",\"Consumer\",\"Consumer\",\"Consumer\",\"Consumer\",\"Consumer\",\"Consumer\",\"Consumer\",\"Consumer\",\"Consumer\",\"Consumer\",\"Consumer\",\"Consumer\",\"Consumer\",\"Consumer\",\"Consumer\",\"Consumer\",\"Consumer\",\"Consumer\",\"Consumer\",\"Consumer\",\"Consumer\",\"Consumer\",\"Consumer\",\"Consumer\",\"Consumer\",\"Consumer\",\"Consumer\",\"Consumer\",\"Consumer\",\"Consumer\",\"Consumer\",\"Consumer\",\"Consumer\",\"Consumer\",\"Consumer\",\"Consumer\",\"Consumer\",\"Consumer\",\"Consumer\",\"Consumer\",\"Consumer\",\"Consumer\",\"Consumer\",\"Consumer\",\"Consumer\",\"Consumer\",\"Consumer\",\"Consumer\",\"Consumer\",\"Consumer\",\"Consumer\",\"Consumer\",\"Consumer\",\"Consumer\",\"Consumer\",\"Consumer\",\"Consumer\",\"Consumer\",\"Consumer\",\"Consumer\",\"Consumer\",\"Consumer\",\"Consumer\",\"Consumer\",\"Consumer\",\"Consumer\",\"Consumer\",\"Consumer\",\"Consumer\",\"Consumer\",\"Consumer\",\"Consumer\",\"Consumer\",\"Consumer\",\"Consumer\",\"Consumer\",\"Consumer\",\"Consumer\",\"Corporate\",\"Corporate\",\"Corporate\",\"Corporate\",\"Corporate\",\"Corporate\",\"Corporate\",\"Corporate\",\"Corporate\",\"Corporate\",\"Corporate\",\"Corporate\",\"Corporate\",\"Corporate\",\"Corporate\",\"Corporate\",\"Corporate\",\"Corporate\",\"Corporate\",\"Corporate\",\"Corporate\",\"Corporate\",\"Corporate\",\"Corporate\",\"Corporate\",\"Corporate\",\"Corporate\",\"Corporate\",\"Corporate\",\"Corporate\",\"Corporate\",\"Corporate\",\"Corporate\",\"Corporate\",\"Corporate\",\"Corporate\",\"Corporate\",\"Corporate\",\"Corporate\",\"Corporate\",\"Corporate\",\"Corporate\",\"Corporate\",\"Corporate\",\"Corporate\",\"Corporate\",\"Corporate\",\"Corporate\",\"Corporate\",\"Corporate\",\"Corporate\",\"Corporate\",\"Corporate\",\"Corporate\",\"Corporate\",\"Corporate\",\"Corporate\",\"Corporate\",\"Corporate\",\"Corporate\",\"Corporate\",\"Corporate\",\"Corporate\",\"Corporate\",\"Corporate\",\"Corporate\",\"Corporate\",\"Corporate\",\"Corporate\",\"Corporate\",\"Corporate\",\"Corporate\",\"Corporate\",\"Corporate\",\"Corporate\",\"Corporate\",\"Corporate\",\"Corporate\",\"Corporate\",\"Corporate\",\"Corporate\",\"Corporate\",\"Corporate\",\"Corporate\",\"Corporate\",\"Corporate\",\"Corporate\",\"Corporate\",\"Corporate\",\"Corporate\",\"Home Office\",\"Home Office\",\"Home Office\",\"Home Office\",\"Home Office\",\"Home Office\",\"Home Office\",\"Home Office\",\"Home Office\",\"Home Office\",\"Home Office\",\"Home Office\",\"Home Office\",\"Home Office\",\"Home Office\",\"Home Office\",\"Home Office\",\"Home Office\",\"Home Office\",\"Home Office\",\"Home Office\",\"Home Office\",\"Home Office\",\"Home Office\",\"Home Office\",\"Home Office\",\"Home Office\",\"Home Office\",\"Home Office\",\"Home Office\",\"Home Office\",\"Home Office\",\"Home Office\",\"Home Office\",\"Home Office\",\"Home Office\",\"Home Office\",\"Home Office\",\"Home Office\",\"Home Office\",\"Home Office\",\"Home Office\",\"Home Office\",\"Home Office\",\"Home Office\",\"Home Office\",\"Home Office\",\"Home Office\",\"Home Office\",\"Home Office\",\"Home Office\",\"Home Office\",\"Home Office\",\"Home Office\",\"Home Office\",\"Home Office\",\"Home Office\",\"Home Office\",\"Home Office\",\"Home Office\",\"Home Office\",\"Home Office\",\"Home Office\",\"Home Office\",\"Home Office\",\"Home Office\",\"Home Office\",\"Home Office\",\"Home Office\",\"Home Office\",\"Home Office\",\"Home Office\",\"Home Office\",\"Home Office\",\"Home Office\",\"Home Office\",\"Home Office\",\"Home Office\",\"Home Office\",\"Home Office\",\"Home Office\",\"Home Office\",\"Home Office\",\"Home Office\",\"Home Office\",\"Home Office\",\"Home Office\",\"Home Office\",\"Home Office\",\"Home Office\"],\"xaxis\":\"x\",\"y\":[347.86400000000003,2072.287,5514.022,1734.2320000000002,4626.102,3539.068,575.748,1885.326,2163.849,13586.08,4163.649,6513.582,3308.9809999999998,2614.613,3653.988,896.614,2987.3559999999998,3598.549,4027.076,2096.561,7361.8859999999995,6780.929,3965.433,3694.378,15544.036,4539.631,9626.09,1808.85,6614.641,25310.353,3944.565,2150.264,7342.9220000000005,2012.056,5833.8330000000005,1820.056,1375.9840000000002,2648.446,3771.88,3978.3160000000003,2313.0,3390.322,1041.866,4642.031,5802.976,6382.143,6757.058,4884.185,1160.16,4597.783,11377.010000000002,1809.974,1187.393,3122.97,5037.614,5439.926,2978.309,4112.714,3286.155,6658.377,2404.9300000000003,3240.119,1241.324,2841.83,7696.572,3609.64,5992.45,1421.0339999999999,509.802,6018.202,3535.736,4171.7300000000005,2129.7580000000003,3466.103,3332.821,2628.394,2548.161,1385.818,8698.706,1246.892,6465.197,2075.942,3919.755,2358.946,2220.891,2068.733,1839.526,5098.784,10404.055,1378.51,1901.15,64.25999999999999,2367.1020000000003,916.374,1450.4279999999999,855.11,2267.14,11373.356,7963.242,123.03800000000001,2073.823,2726.232,2312.119,3912.7,1894.979,2101.196,1272.716,955.601,249.074,3029.038,8940.187999999998,645.218,3456.564,4518.258,7896.4839999999995,3059.593,3842.324,2486.546,1186.073,8509.243,378.478,1117.69,976.666,2156.988,1755.976,1675.31,998.608,1527.1680000000001,1726.636,2349.208,1429.464,4575.938,1352.488,2642.738,174.62,1288.5140000000001,832.008,1229.759,731.4,2781.064,2262.654,914.054,27.162,3939.56,3292.918,2557.565,2468.472,1878.2100000000003,1438.864,921.422,2095.98,1231.734,805.146,4144.938,691.9200000000001,503.88,1682.782,1392.282,196.01,10631.632000000001,1302.758,4377.524,571.853,354.798,1607.8740000000003,2907.974,1757.546,766.698,238.748,436.396,1324.4560000000001,506.42999999999995,1780.786,1852.248,3809.192,548.1179999999999,899.566,3120.374,410.472,851.944,1540.582,83.976,968.4300000000001,748.752,1247.916,435.914,365.63,3116.1,3.6,2442.214,101.928,1263.452,944.312,653.49,5239.902999999999,2726.829,3132.672,152.24599999999998,754.62,1536.64,1393.924,2808.2079999999996,936.904,2245.475,4288.646,2060.728,350.05999999999995,1407.536,4173.818,7112.0,726.506,1337.965,374.23,477.092,1835.175,150.56,1595.018,608.5,2875.792,181.37,108.488,190.352,93.08,917.8140000000001,1493.576,194.517,914.696,2826.21,23.046,922.76,1522.7469999999998,195.81,654.978,451.748,3033.862,4067.653,1209.714,4415.372,3275.422,357.038,332.796,1118.3400000000001,1438.1200000000001,1723.498,1545.834,776.218,37.586,838.104,11205.144,473.39799999999997,124.524,1066.47,335.52000000000004,314.914,568.832,175.48999999999998,73.286,382.74,859.71,1069.83,1549.944,59.97,1197.024,3771.3999999999996,172.88,1281.868,3726.552,907.854,1208.244,953.637,298.668],\"yaxis\":\"y\",\"type\":\"scatter\"},{\"hovertemplate\":\"county=Kisumu\\u003cbr\\u003esegment=%{x}\\u003cbr\\u003erevenue=%{y}\\u003cbr\\u003eage=%{marker.size}\\u003cextra\\u003e\\u003c\\u002fextra\\u003e\",\"legendgroup\":\"Kisumu\",\"marker\":{\"color\":\"#00cc96\",\"size\":[6,10,11,12,13,14,15,16,17,18,19,20,21,22,23,24,25,26,27,28,29,30,31,32,33,34,35,36,37,38,39,40,41,42,43,44,45,46,47,48,49,50,51,52,53,54,55,56,57,58,59,60,61,62,63,64,65,66,67,68,69,70,71,72,73,74,75,76,77,78,79,80,81,82,83,84,85,86,87,88,89,90,91,92,93,94,95,96,97,98,99,5,6,10,11,12,13,14,15,16,17,18,19,20,21,22,23,24,25,26,27,28,29,30,31,32,33,34,35,36,37,38,39,40,41,42,43,44,45,46,47,48,49,50,51,52,53,54,55,56,57,58,59,60,61,62,63,64,65,66,67,68,69,70,71,72,73,74,75,76,77,78,79,80,81,82,83,84,85,86,87,88,89,90,91,92,93,94,95,96,97,99,11,12,13,14,15,16,17,18,19,20,21,22,23,24,25,26,27,28,29,30,31,32,33,34,35,36,37,38,39,40,41,42,43,44,45,46,47,48,49,50,51,52,53,54,55,56,57,58,59,60,61,62,63,64,65,66,67,68,69,70,71,72,73,74,75,76,77,78,79,80,81,82,83,84,85,86,87,88,89,90,91,92,93,94,95,96,97,98,99],\"sizemode\":\"area\",\"sizeref\":0.0275,\"symbol\":\"circle\"},\"mode\":\"markers\",\"name\":\"Kisumu\",\"orientation\":\"v\",\"showlegend\":true,\"x\":[\"Consumer\",\"Consumer\",\"Consumer\",\"Consumer\",\"Consumer\",\"Consumer\",\"Consumer\",\"Consumer\",\"Consumer\",\"Consumer\",\"Consumer\",\"Consumer\",\"Consumer\",\"Consumer\",\"Consumer\",\"Consumer\",\"Consumer\",\"Consumer\",\"Consumer\",\"Consumer\",\"Consumer\",\"Consumer\",\"Consumer\",\"Consumer\",\"Consumer\",\"Consumer\",\"Consumer\",\"Consumer\",\"Consumer\",\"Consumer\",\"Consumer\",\"Consumer\",\"Consumer\",\"Consumer\",\"Consumer\",\"Consumer\",\"Consumer\",\"Consumer\",\"Consumer\",\"Consumer\",\"Consumer\",\"Consumer\",\"Consumer\",\"Consumer\",\"Consumer\",\"Consumer\",\"Consumer\",\"Consumer\",\"Consumer\",\"Consumer\",\"Consumer\",\"Consumer\",\"Consumer\",\"Consumer\",\"Consumer\",\"Consumer\",\"Consumer\",\"Consumer\",\"Consumer\",\"Consumer\",\"Consumer\",\"Consumer\",\"Consumer\",\"Consumer\",\"Consumer\",\"Consumer\",\"Consumer\",\"Consumer\",\"Consumer\",\"Consumer\",\"Consumer\",\"Consumer\",\"Consumer\",\"Consumer\",\"Consumer\",\"Consumer\",\"Consumer\",\"Consumer\",\"Consumer\",\"Consumer\",\"Consumer\",\"Consumer\",\"Consumer\",\"Consumer\",\"Consumer\",\"Consumer\",\"Consumer\",\"Consumer\",\"Consumer\",\"Consumer\",\"Consumer\",\"Corporate\",\"Corporate\",\"Corporate\",\"Corporate\",\"Corporate\",\"Corporate\",\"Corporate\",\"Corporate\",\"Corporate\",\"Corporate\",\"Corporate\",\"Corporate\",\"Corporate\",\"Corporate\",\"Corporate\",\"Corporate\",\"Corporate\",\"Corporate\",\"Corporate\",\"Corporate\",\"Corporate\",\"Corporate\",\"Corporate\",\"Corporate\",\"Corporate\",\"Corporate\",\"Corporate\",\"Corporate\",\"Corporate\",\"Corporate\",\"Corporate\",\"Corporate\",\"Corporate\",\"Corporate\",\"Corporate\",\"Corporate\",\"Corporate\",\"Corporate\",\"Corporate\",\"Corporate\",\"Corporate\",\"Corporate\",\"Corporate\",\"Corporate\",\"Corporate\",\"Corporate\",\"Corporate\",\"Corporate\",\"Corporate\",\"Corporate\",\"Corporate\",\"Corporate\",\"Corporate\",\"Corporate\",\"Corporate\",\"Corporate\",\"Corporate\",\"Corporate\",\"Corporate\",\"Corporate\",\"Corporate\",\"Corporate\",\"Corporate\",\"Corporate\",\"Corporate\",\"Corporate\",\"Corporate\",\"Corporate\",\"Corporate\",\"Corporate\",\"Corporate\",\"Corporate\",\"Corporate\",\"Corporate\",\"Corporate\",\"Corporate\",\"Corporate\",\"Corporate\",\"Corporate\",\"Corporate\",\"Corporate\",\"Corporate\",\"Corporate\",\"Corporate\",\"Corporate\",\"Corporate\",\"Corporate\",\"Corporate\",\"Corporate\",\"Corporate\",\"Corporate\",\"Home Office\",\"Home Office\",\"Home Office\",\"Home Office\",\"Home Office\",\"Home Office\",\"Home Office\",\"Home Office\",\"Home Office\",\"Home Office\",\"Home Office\",\"Home Office\",\"Home Office\",\"Home Office\",\"Home Office\",\"Home Office\",\"Home Office\",\"Home Office\",\"Home Office\",\"Home Office\",\"Home Office\",\"Home Office\",\"Home Office\",\"Home Office\",\"Home Office\",\"Home Office\",\"Home Office\",\"Home Office\",\"Home Office\",\"Home Office\",\"Home Office\",\"Home Office\",\"Home Office\",\"Home Office\",\"Home Office\",\"Home Office\",\"Home Office\",\"Home Office\",\"Home Office\",\"Home Office\",\"Home Office\",\"Home Office\",\"Home Office\",\"Home Office\",\"Home Office\",\"Home Office\",\"Home Office\",\"Home Office\",\"Home Office\",\"Home Office\",\"Home Office\",\"Home Office\",\"Home Office\",\"Home Office\",\"Home Office\",\"Home Office\",\"Home Office\",\"Home Office\",\"Home Office\",\"Home Office\",\"Home Office\",\"Home Office\",\"Home Office\",\"Home Office\",\"Home Office\",\"Home Office\",\"Home Office\",\"Home Office\",\"Home Office\",\"Home Office\",\"Home Office\",\"Home Office\",\"Home Office\",\"Home Office\",\"Home Office\",\"Home Office\",\"Home Office\",\"Home Office\",\"Home Office\",\"Home Office\",\"Home Office\",\"Home Office\",\"Home Office\",\"Home Office\",\"Home Office\",\"Home Office\",\"Home Office\",\"Home Office\",\"Home Office\"],\"xaxis\":\"x\",\"y\":[242.48,582.839,499.47299999999996,737.319,8960.768,4679.3460000000005,2871.9,3043.13,7938.476,1405.2160000000001,5264.668000000001,1810.7340000000002,1964.496,2013.9560000000001,5254.259,2943.6240000000003,4948.968,2209.0660000000003,2459.834,6949.782,1517.3919999999998,6105.156,2826.9719999999998,5204.644,6689.633,3094.804,3890.324,2144.4159999999997,1420.0140000000001,13362.789,1520.8619999999999,2402.054,13971.243999999999,996.305,5158.0599999999995,802.6139999999999,3797.1,1940.708,12322.816,2129.904,1697.932,2312.079,826.7330000000001,4771.746,2263.32,3604.0420000000004,780.98,4706.598,1738.104,1415.568,3982.672,21240.542,1588.828,2265.792,4585.052,3848.6459999999997,4485.454,857.55,1287.438,2094.454,1462.936,818.89,400.93399999999997,1252.8429999999998,532.614,254.364,1000.866,2779.464,1941.314,1213.824,264.96,1982.895,1064.252,1285.156,3309.919,1629.001,373.592,1155.845,3758.7,2457.28,1040.4,1007.592,2061.69,4913.428,4758.174,671.878,2211.798,1601.5980000000002,809.21,913.1840000000001,4372.578,2.97,964.674,491.558,642.797,563.68,664.4100000000001,548.554,798.01,96.042,1962.6360000000002,3510.5,1717.332,3940.5879999999997,3587.9700000000003,1195.156,1342.092,5921.706,2979.61,1506.808,2039.1100000000001,2930.439,2352.3500000000004,596.508,5262.394,3780.598,2759.473,4159.174,853.178,1375.23,1216.391,24444.835,768.766,715.104,808.206,289.942,474.57199999999995,1661.724,266.08,1782.399,48.52,2456.338,2220.103,786.498,1266.362,6055.511,4850.197999999999,1142.23,292.722,1948.56,1165.24,4805.3,172.592,21409.756,901.774,609.73,1005.95,1015.2719999999999,2026.057,2977.402,2719.5,1593.924,1203.569,245.554,264.648,921.5139999999999,1931.693,2026.698,2463.936,142.16,3332.58,456.354,920.436,1355.72,2294.148,104.97,638.556,3283.712,3851.758,4151.97,1226.422,3553.184,2130.286,4239.8,2675.642,2407.735,2905.328,2924.4880000000003,2083.1,3731.79,2433.608,184.29000000000002,372.144,187.26,2559.976,130.094,705.6959999999999,1811.296,1406.795,1650.6560000000002,476.204,2359.8360000000002,1961.556,674.09,577.566,195.642,1231.2340000000002,1435.79,927.862,1269.81,4722.266,388.795,1123.3,2983.024,2763.026,589.34,252.13,5442.752,187.344,9717.472,994.28,1658.852,1096.8319999999999,11.952,1117.1380000000001,1429.6640000000002,958.2700000000001,1178.195,2745.284,219.64600000000002,701.7,9.45,224.982,9479.868,2052.7799999999997,384.11,2039.0600000000002,374.357,46.872,1197.224,12.16,810.432,68.448,826.6800000000001,3095.509,305.22,257.98199999999997,171.56,989.762,1145.68,3235.895,2646.356,782.4399999999999,826.93,80.98,324.368,945.546,2811.5640000000003,3057.036,584.252,376.93,577.324,1675.7179999999998,5768.79,721.216,973.9540000000001,2537.751,296.598,282.63,88.22999999999999,2736.648,662.23,451.86,867.75,406.212,591.636,168.414,672.644,293.64,67.8,1507.22],\"yaxis\":\"y\",\"type\":\"scatter\"}],                        {\"template\":{\"data\":{\"histogram2dcontour\":[{\"type\":\"histogram2dcontour\",\"colorbar\":{\"outlinewidth\":0,\"ticks\":\"\"},\"colorscale\":[[0.0,\"#0d0887\"],[0.1111111111111111,\"#46039f\"],[0.2222222222222222,\"#7201a8\"],[0.3333333333333333,\"#9c179e\"],[0.4444444444444444,\"#bd3786\"],[0.5555555555555556,\"#d8576b\"],[0.6666666666666666,\"#ed7953\"],[0.7777777777777778,\"#fb9f3a\"],[0.8888888888888888,\"#fdca26\"],[1.0,\"#f0f921\"]]}],\"choropleth\":[{\"type\":\"choropleth\",\"colorbar\":{\"outlinewidth\":0,\"ticks\":\"\"}}],\"histogram2d\":[{\"type\":\"histogram2d\",\"colorbar\":{\"outlinewidth\":0,\"ticks\":\"\"},\"colorscale\":[[0.0,\"#0d0887\"],[0.1111111111111111,\"#46039f\"],[0.2222222222222222,\"#7201a8\"],[0.3333333333333333,\"#9c179e\"],[0.4444444444444444,\"#bd3786\"],[0.5555555555555556,\"#d8576b\"],[0.6666666666666666,\"#ed7953\"],[0.7777777777777778,\"#fb9f3a\"],[0.8888888888888888,\"#fdca26\"],[1.0,\"#f0f921\"]]}],\"heatmap\":[{\"type\":\"heatmap\",\"colorbar\":{\"outlinewidth\":0,\"ticks\":\"\"},\"colorscale\":[[0.0,\"#0d0887\"],[0.1111111111111111,\"#46039f\"],[0.2222222222222222,\"#7201a8\"],[0.3333333333333333,\"#9c179e\"],[0.4444444444444444,\"#bd3786\"],[0.5555555555555556,\"#d8576b\"],[0.6666666666666666,\"#ed7953\"],[0.7777777777777778,\"#fb9f3a\"],[0.8888888888888888,\"#fdca26\"],[1.0,\"#f0f921\"]]}],\"heatmapgl\":[{\"type\":\"heatmapgl\",\"colorbar\":{\"outlinewidth\":0,\"ticks\":\"\"},\"colorscale\":[[0.0,\"#0d0887\"],[0.1111111111111111,\"#46039f\"],[0.2222222222222222,\"#7201a8\"],[0.3333333333333333,\"#9c179e\"],[0.4444444444444444,\"#bd3786\"],[0.5555555555555556,\"#d8576b\"],[0.6666666666666666,\"#ed7953\"],[0.7777777777777778,\"#fb9f3a\"],[0.8888888888888888,\"#fdca26\"],[1.0,\"#f0f921\"]]}],\"contourcarpet\":[{\"type\":\"contourcarpet\",\"colorbar\":{\"outlinewidth\":0,\"ticks\":\"\"}}],\"contour\":[{\"type\":\"contour\",\"colorbar\":{\"outlinewidth\":0,\"ticks\":\"\"},\"colorscale\":[[0.0,\"#0d0887\"],[0.1111111111111111,\"#46039f\"],[0.2222222222222222,\"#7201a8\"],[0.3333333333333333,\"#9c179e\"],[0.4444444444444444,\"#bd3786\"],[0.5555555555555556,\"#d8576b\"],[0.6666666666666666,\"#ed7953\"],[0.7777777777777778,\"#fb9f3a\"],[0.8888888888888888,\"#fdca26\"],[1.0,\"#f0f921\"]]}],\"surface\":[{\"type\":\"surface\",\"colorbar\":{\"outlinewidth\":0,\"ticks\":\"\"},\"colorscale\":[[0.0,\"#0d0887\"],[0.1111111111111111,\"#46039f\"],[0.2222222222222222,\"#7201a8\"],[0.3333333333333333,\"#9c179e\"],[0.4444444444444444,\"#bd3786\"],[0.5555555555555556,\"#d8576b\"],[0.6666666666666666,\"#ed7953\"],[0.7777777777777778,\"#fb9f3a\"],[0.8888888888888888,\"#fdca26\"],[1.0,\"#f0f921\"]]}],\"mesh3d\":[{\"type\":\"mesh3d\",\"colorbar\":{\"outlinewidth\":0,\"ticks\":\"\"}}],\"scatter\":[{\"fillpattern\":{\"fillmode\":\"overlay\",\"size\":10,\"solidity\":0.2},\"type\":\"scatter\"}],\"parcoords\":[{\"type\":\"parcoords\",\"line\":{\"colorbar\":{\"outlinewidth\":0,\"ticks\":\"\"}}}],\"scatterpolargl\":[{\"type\":\"scatterpolargl\",\"marker\":{\"colorbar\":{\"outlinewidth\":0,\"ticks\":\"\"}}}],\"bar\":[{\"error_x\":{\"color\":\"#2a3f5f\"},\"error_y\":{\"color\":\"#2a3f5f\"},\"marker\":{\"line\":{\"color\":\"#E5ECF6\",\"width\":0.5},\"pattern\":{\"fillmode\":\"overlay\",\"size\":10,\"solidity\":0.2}},\"type\":\"bar\"}],\"scattergeo\":[{\"type\":\"scattergeo\",\"marker\":{\"colorbar\":{\"outlinewidth\":0,\"ticks\":\"\"}}}],\"scatterpolar\":[{\"type\":\"scatterpolar\",\"marker\":{\"colorbar\":{\"outlinewidth\":0,\"ticks\":\"\"}}}],\"histogram\":[{\"marker\":{\"pattern\":{\"fillmode\":\"overlay\",\"size\":10,\"solidity\":0.2}},\"type\":\"histogram\"}],\"scattergl\":[{\"type\":\"scattergl\",\"marker\":{\"colorbar\":{\"outlinewidth\":0,\"ticks\":\"\"}}}],\"scatter3d\":[{\"type\":\"scatter3d\",\"line\":{\"colorbar\":{\"outlinewidth\":0,\"ticks\":\"\"}},\"marker\":{\"colorbar\":{\"outlinewidth\":0,\"ticks\":\"\"}}}],\"scattermapbox\":[{\"type\":\"scattermapbox\",\"marker\":{\"colorbar\":{\"outlinewidth\":0,\"ticks\":\"\"}}}],\"scatterternary\":[{\"type\":\"scatterternary\",\"marker\":{\"colorbar\":{\"outlinewidth\":0,\"ticks\":\"\"}}}],\"scattercarpet\":[{\"type\":\"scattercarpet\",\"marker\":{\"colorbar\":{\"outlinewidth\":0,\"ticks\":\"\"}}}],\"carpet\":[{\"aaxis\":{\"endlinecolor\":\"#2a3f5f\",\"gridcolor\":\"white\",\"linecolor\":\"white\",\"minorgridcolor\":\"white\",\"startlinecolor\":\"#2a3f5f\"},\"baxis\":{\"endlinecolor\":\"#2a3f5f\",\"gridcolor\":\"white\",\"linecolor\":\"white\",\"minorgridcolor\":\"white\",\"startlinecolor\":\"#2a3f5f\"},\"type\":\"carpet\"}],\"table\":[{\"cells\":{\"fill\":{\"color\":\"#EBF0F8\"},\"line\":{\"color\":\"white\"}},\"header\":{\"fill\":{\"color\":\"#C8D4E3\"},\"line\":{\"color\":\"white\"}},\"type\":\"table\"}],\"barpolar\":[{\"marker\":{\"line\":{\"color\":\"#E5ECF6\",\"width\":0.5},\"pattern\":{\"fillmode\":\"overlay\",\"size\":10,\"solidity\":0.2}},\"type\":\"barpolar\"}],\"pie\":[{\"automargin\":true,\"type\":\"pie\"}]},\"layout\":{\"autotypenumbers\":\"strict\",\"colorway\":[\"#636efa\",\"#EF553B\",\"#00cc96\",\"#ab63fa\",\"#FFA15A\",\"#19d3f3\",\"#FF6692\",\"#B6E880\",\"#FF97FF\",\"#FECB52\"],\"font\":{\"color\":\"#2a3f5f\"},\"hovermode\":\"closest\",\"hoverlabel\":{\"align\":\"left\"},\"paper_bgcolor\":\"white\",\"plot_bgcolor\":\"#E5ECF6\",\"polar\":{\"bgcolor\":\"#E5ECF6\",\"angularaxis\":{\"gridcolor\":\"white\",\"linecolor\":\"white\",\"ticks\":\"\"},\"radialaxis\":{\"gridcolor\":\"white\",\"linecolor\":\"white\",\"ticks\":\"\"}},\"ternary\":{\"bgcolor\":\"#E5ECF6\",\"aaxis\":{\"gridcolor\":\"white\",\"linecolor\":\"white\",\"ticks\":\"\"},\"baxis\":{\"gridcolor\":\"white\",\"linecolor\":\"white\",\"ticks\":\"\"},\"caxis\":{\"gridcolor\":\"white\",\"linecolor\":\"white\",\"ticks\":\"\"}},\"coloraxis\":{\"colorbar\":{\"outlinewidth\":0,\"ticks\":\"\"}},\"colorscale\":{\"sequential\":[[0.0,\"#0d0887\"],[0.1111111111111111,\"#46039f\"],[0.2222222222222222,\"#7201a8\"],[0.3333333333333333,\"#9c179e\"],[0.4444444444444444,\"#bd3786\"],[0.5555555555555556,\"#d8576b\"],[0.6666666666666666,\"#ed7953\"],[0.7777777777777778,\"#fb9f3a\"],[0.8888888888888888,\"#fdca26\"],[1.0,\"#f0f921\"]],\"sequentialminus\":[[0.0,\"#0d0887\"],[0.1111111111111111,\"#46039f\"],[0.2222222222222222,\"#7201a8\"],[0.3333333333333333,\"#9c179e\"],[0.4444444444444444,\"#bd3786\"],[0.5555555555555556,\"#d8576b\"],[0.6666666666666666,\"#ed7953\"],[0.7777777777777778,\"#fb9f3a\"],[0.8888888888888888,\"#fdca26\"],[1.0,\"#f0f921\"]],\"diverging\":[[0,\"#8e0152\"],[0.1,\"#c51b7d\"],[0.2,\"#de77ae\"],[0.3,\"#f1b6da\"],[0.4,\"#fde0ef\"],[0.5,\"#f7f7f7\"],[0.6,\"#e6f5d0\"],[0.7,\"#b8e186\"],[0.8,\"#7fbc41\"],[0.9,\"#4d9221\"],[1,\"#276419\"]]},\"xaxis\":{\"gridcolor\":\"white\",\"linecolor\":\"white\",\"ticks\":\"\",\"title\":{\"standoff\":15},\"zerolinecolor\":\"white\",\"automargin\":true,\"zerolinewidth\":2},\"yaxis\":{\"gridcolor\":\"white\",\"linecolor\":\"white\",\"ticks\":\"\",\"title\":{\"standoff\":15},\"zerolinecolor\":\"white\",\"automargin\":true,\"zerolinewidth\":2},\"scene\":{\"xaxis\":{\"backgroundcolor\":\"#E5ECF6\",\"gridcolor\":\"white\",\"linecolor\":\"white\",\"showbackground\":true,\"ticks\":\"\",\"zerolinecolor\":\"white\",\"gridwidth\":2},\"yaxis\":{\"backgroundcolor\":\"#E5ECF6\",\"gridcolor\":\"white\",\"linecolor\":\"white\",\"showbackground\":true,\"ticks\":\"\",\"zerolinecolor\":\"white\",\"gridwidth\":2},\"zaxis\":{\"backgroundcolor\":\"#E5ECF6\",\"gridcolor\":\"white\",\"linecolor\":\"white\",\"showbackground\":true,\"ticks\":\"\",\"zerolinecolor\":\"white\",\"gridwidth\":2}},\"shapedefaults\":{\"line\":{\"color\":\"#2a3f5f\"}},\"annotationdefaults\":{\"arrowcolor\":\"#2a3f5f\",\"arrowhead\":0,\"arrowwidth\":1},\"geo\":{\"bgcolor\":\"white\",\"landcolor\":\"#E5ECF6\",\"subunitcolor\":\"white\",\"showland\":true,\"showlakes\":true,\"lakecolor\":\"white\"},\"title\":{\"x\":0.05},\"mapbox\":{\"style\":\"light\"}}},\"xaxis\":{\"anchor\":\"y\",\"domain\":[0.0,1.0],\"title\":{\"text\":\"segment\"},\"type\":\"log\"},\"yaxis\":{\"anchor\":\"x\",\"domain\":[0.0,1.0],\"title\":{\"text\":\"revenue\"}},\"legend\":{\"title\":{\"text\":\"county\"},\"tracegroupgap\":0,\"itemsizing\":\"constant\"},\"margin\":{\"t\":60}},                        {\"responsive\": true}                    ).then(function(){\n",
       "                            \n",
       "var gd = document.getElementById('c146ed4f-7269-4c7c-aad4-5e30523fe395');\n",
       "var x = new MutationObserver(function (mutations, observer) {{\n",
       "        var display = window.getComputedStyle(gd).display;\n",
       "        if (!display || display === 'none') {{\n",
       "            console.log([gd, 'removed!']);\n",
       "            Plotly.purge(gd);\n",
       "            observer.disconnect();\n",
       "        }}\n",
       "}});\n",
       "\n",
       "// Listen for the removal of the full notebook cells\n",
       "var notebookContainer = gd.closest('#notebook-container');\n",
       "if (notebookContainer) {{\n",
       "    x.observe(notebookContainer, {childList: true});\n",
       "}}\n",
       "\n",
       "// Listen for the clearing of the current output cell\n",
       "var outputEl = gd.closest('.output');\n",
       "if (outputEl) {{\n",
       "    x.observe(outputEl, {childList: true});\n",
       "}}\n",
       "\n",
       "                        })                };                });            </script>        </div>"
      ]
     },
     "metadata": {},
     "output_type": "display_data"
    }
   ],
   "source": [
    "customer_info = df.groupby(['segment', 'age', 'county']).agg(revenue=('price','sum')).reset_index()\n",
    "#customer_info = customer_info.join(df[['age']], how='left')\n",
    "customer_info\n",
    "fig = px.scatter(customer_info, x=\"segment\", y=\"revenue\",\n",
    "\t         size=\"age\", color=\"county\",\n",
    "                  log_x=True, size_max=60)\n",
    "fig.show()"
   ]
  },
  {
   "cell_type": "code",
   "execution_count": null,
   "id": "7c93fb53-f595-43e8-8cc2-bf65ef1576d8",
   "metadata": {},
   "outputs": [],
   "source": []
  }
 ],
 "metadata": {
  "kernelspec": {
   "display_name": "Python 3 (ipykernel)",
   "language": "python",
   "name": "python3"
  },
  "language_info": {
   "codemirror_mode": {
    "name": "ipython",
    "version": 3
   },
   "file_extension": ".py",
   "mimetype": "text/x-python",
   "name": "python",
   "nbconvert_exporter": "python",
   "pygments_lexer": "ipython3",
   "version": "3.11.9"
  }
 },
 "nbformat": 4,
 "nbformat_minor": 5
}
